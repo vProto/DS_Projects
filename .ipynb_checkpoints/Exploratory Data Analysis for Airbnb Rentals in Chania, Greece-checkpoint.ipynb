{
 "cells": [
  {
   "cell_type": "markdown",
   "metadata": {},
   "source": [
    "### 1. Business Understanding\n",
    "\n",
    "- Understanding the Airbnb market in Chania, Greece\n",
    "- Seasonality in demand \n",
    "- Characteristics of listings with the highest price\n",
    "- Attributes that correlate with Superhosts"
   ]
  },
  {
   "cell_type": "markdown",
   "metadata": {},
   "source": [
    "### 2. Data Understanding"
   ]
  },
  {
   "cell_type": "markdown",
   "metadata": {},
   "source": [
    "#### i) Packages used"
   ]
  },
  {
   "cell_type": "code",
   "execution_count": 21,
   "metadata": {},
   "outputs": [],
   "source": [
    "import numpy as np\n",
    "import pandas as pd\n",
    "import matplotlib.pyplot as plt\n",
    "from sklearn.linear_model import LinearRegression\n",
    "from sklearn.model_selection import train_test_split\n",
    "from sklearn.metrics import r2_score, mean_squared_error\n",
    "import plotly.graph_objects as go\n",
    "import plotly.express as px\n",
    "from statsmodels.stats.outliers_influence import variance_inflation_factor    \n",
    "\n",
    "\n",
    "%matplotlib inline"
   ]
  },
  {
   "cell_type": "markdown",
   "metadata": {},
   "source": [
    "#### ii) Description of Data\n",
    "\n",
    "The data is sourced from the Inside Airbnb website http://insideairbnb.com/get-the-data.html which hosts publicly available data from the Airbnb site.\n",
    "\n",
    "- Listings:  Detailed listings data. Some of the attributes used in the analysis are price (continuous), property_type (categorical), is_superhost (categorical), neighbourhood_cleansed (categorical), ratings (continuous) among others.\n",
    "\n",
    "\n",
    "- Neighbourhoods: Includes the neighbourhood_group in Crete in both English and Greek\n",
    "    \n",
    "- Reviews:  Detailed reviews given by the guests with 6 attributes. Key attributes include date (datetime), listing_id (discrete), reviewer_id (discrete) and comment (textual)."
   ]
  },
  {
   "cell_type": "code",
   "execution_count": 22,
   "metadata": {},
   "outputs": [],
   "source": [
    "df_listings = pd.read_csv('data/listings.csv')\n",
    "df_neighbourhoods = pd.read_csv('data/neighbourhoods.csv')\n",
    "df_reviews = pd.read_csv('data/reviews.csv')"
   ]
  },
  {
   "cell_type": "markdown",
   "metadata": {},
   "source": [
    "#### iii) Filter in Chania, Region"
   ]
  },
  {
   "cell_type": "code",
   "execution_count": 23,
   "metadata": {},
   "outputs": [],
   "source": [
    "# Merge data with neighbourhoods in Chania (English)\n",
    "df_listings = df_listings.merge(df_neighbourhoods,left_on=\"neighbourhood_cleansed\",right_on=\"neighbourhood\")\n",
    "\n",
    "# Filter by neighbourhoods within chania\n",
    "chania_nbrhds = [\"Chania\",\"Kissamos\",\"Apokoronas\",\"Platanias\",\"Kandanos\",\"Sfakia\",\"Gaudos\"]\n",
    "df_listings = df_listings[df_listings.neighbourhood_group.isin(chania_nbrhds)]\n"
   ]
  },
  {
   "cell_type": "code",
   "execution_count": 24,
   "metadata": {},
   "outputs": [],
   "source": [
    "########################\n",
    "# Listings data\n",
    "########################\n",
    "\n",
    "# Columns to keep by category\n",
    "cols_general = ['id','neighbourhood_group','price',\n",
    "            'room_type','property_type','accommodates','instant_bookable']\n",
    "\n",
    "# cols_general = ['id','name','neighbourhood_group','latitude',\n",
    "#         'longitude','price',\n",
    "#             'bedrooms','room_type','property_type','accommodates','listing_url',\n",
    "#                 'instant_bookable']\n",
    "\n",
    "\n",
    "cols_host = [\n",
    "             'host_acceptance_rate','host_is_superhost']\n",
    "             \n",
    "\n",
    "cols_review = ['number_of_reviews','number_of_reviews_ltm',\n",
    "               'number_of_reviews_l30d','review_scores_rating',\n",
    "               'review_scores_accuracy','review_scores_cleanliness',\n",
    "               'review_scores_checkin','review_scores_communication',\n",
    "               'review_scores_location','review_scores_value',\n",
    "               'reviews_per_month']\n",
    "\n",
    "\n",
    "cols = cols_general + cols_review + cols_host\n",
    "\n",
    "\n",
    "# Start analysis with a subset of data\n",
    "df_listings = df_listings[cols]"
   ]
  },
  {
   "cell_type": "markdown",
   "metadata": {},
   "source": [
    "### 3. Analysis of Data Quality"
   ]
  },
  {
   "cell_type": "markdown",
   "metadata": {},
   "source": [
    "#### i) Missing Values"
   ]
  },
  {
   "cell_type": "code",
   "execution_count": 25,
   "metadata": {},
   "outputs": [
    {
     "data": {
      "application/vnd.plotly.v1+json": {
       "config": {
        "plotlyServerURL": "https://plot.ly"
       },
       "data": [
        {
         "marker": {
          "color": "rgb(158,202,225)",
          "line": {
           "color": "rgb(8,48,107)",
           "width": 1.5
          }
         },
         "opacity": 0.6,
         "type": "bar",
         "x": [
          "review_scores_rating",
          "review_scores_accuracy",
          "review_scores_cleanliness",
          "review_scores_checkin",
          "review_scores_communication",
          "review_scores_location",
          "review_scores_value",
          "reviews_per_month",
          "host_acceptance_rate"
         ],
         "y": [
          30.52706048814998,
          31.21094210588374,
          31.199151043509023,
          31.22273316825846,
          31.21094210588374,
          31.22273316825846,
          31.22273316825846,
          30.52706048814998,
          14.302558660535315
         ]
        }
       ],
       "layout": {
        "paper_bgcolor": "rgba(0,0,0,0)",
        "plot_bgcolor": "rgba(0,0,0,0)",
        "template": {
         "data": {
          "bar": [
           {
            "error_x": {
             "color": "#2a3f5f"
            },
            "error_y": {
             "color": "#2a3f5f"
            },
            "marker": {
             "line": {
              "color": "#E5ECF6",
              "width": 0.5
             },
             "pattern": {
              "fillmode": "overlay",
              "size": 10,
              "solidity": 0.2
             }
            },
            "type": "bar"
           }
          ],
          "barpolar": [
           {
            "marker": {
             "line": {
              "color": "#E5ECF6",
              "width": 0.5
             },
             "pattern": {
              "fillmode": "overlay",
              "size": 10,
              "solidity": 0.2
             }
            },
            "type": "barpolar"
           }
          ],
          "carpet": [
           {
            "aaxis": {
             "endlinecolor": "#2a3f5f",
             "gridcolor": "white",
             "linecolor": "white",
             "minorgridcolor": "white",
             "startlinecolor": "#2a3f5f"
            },
            "baxis": {
             "endlinecolor": "#2a3f5f",
             "gridcolor": "white",
             "linecolor": "white",
             "minorgridcolor": "white",
             "startlinecolor": "#2a3f5f"
            },
            "type": "carpet"
           }
          ],
          "choropleth": [
           {
            "colorbar": {
             "outlinewidth": 0,
             "ticks": ""
            },
            "type": "choropleth"
           }
          ],
          "contour": [
           {
            "colorbar": {
             "outlinewidth": 0,
             "ticks": ""
            },
            "colorscale": [
             [
              0,
              "#0d0887"
             ],
             [
              0.1111111111111111,
              "#46039f"
             ],
             [
              0.2222222222222222,
              "#7201a8"
             ],
             [
              0.3333333333333333,
              "#9c179e"
             ],
             [
              0.4444444444444444,
              "#bd3786"
             ],
             [
              0.5555555555555556,
              "#d8576b"
             ],
             [
              0.6666666666666666,
              "#ed7953"
             ],
             [
              0.7777777777777778,
              "#fb9f3a"
             ],
             [
              0.8888888888888888,
              "#fdca26"
             ],
             [
              1,
              "#f0f921"
             ]
            ],
            "type": "contour"
           }
          ],
          "contourcarpet": [
           {
            "colorbar": {
             "outlinewidth": 0,
             "ticks": ""
            },
            "type": "contourcarpet"
           }
          ],
          "heatmap": [
           {
            "colorbar": {
             "outlinewidth": 0,
             "ticks": ""
            },
            "colorscale": [
             [
              0,
              "#0d0887"
             ],
             [
              0.1111111111111111,
              "#46039f"
             ],
             [
              0.2222222222222222,
              "#7201a8"
             ],
             [
              0.3333333333333333,
              "#9c179e"
             ],
             [
              0.4444444444444444,
              "#bd3786"
             ],
             [
              0.5555555555555556,
              "#d8576b"
             ],
             [
              0.6666666666666666,
              "#ed7953"
             ],
             [
              0.7777777777777778,
              "#fb9f3a"
             ],
             [
              0.8888888888888888,
              "#fdca26"
             ],
             [
              1,
              "#f0f921"
             ]
            ],
            "type": "heatmap"
           }
          ],
          "heatmapgl": [
           {
            "colorbar": {
             "outlinewidth": 0,
             "ticks": ""
            },
            "colorscale": [
             [
              0,
              "#0d0887"
             ],
             [
              0.1111111111111111,
              "#46039f"
             ],
             [
              0.2222222222222222,
              "#7201a8"
             ],
             [
              0.3333333333333333,
              "#9c179e"
             ],
             [
              0.4444444444444444,
              "#bd3786"
             ],
             [
              0.5555555555555556,
              "#d8576b"
             ],
             [
              0.6666666666666666,
              "#ed7953"
             ],
             [
              0.7777777777777778,
              "#fb9f3a"
             ],
             [
              0.8888888888888888,
              "#fdca26"
             ],
             [
              1,
              "#f0f921"
             ]
            ],
            "type": "heatmapgl"
           }
          ],
          "histogram": [
           {
            "marker": {
             "pattern": {
              "fillmode": "overlay",
              "size": 10,
              "solidity": 0.2
             }
            },
            "type": "histogram"
           }
          ],
          "histogram2d": [
           {
            "colorbar": {
             "outlinewidth": 0,
             "ticks": ""
            },
            "colorscale": [
             [
              0,
              "#0d0887"
             ],
             [
              0.1111111111111111,
              "#46039f"
             ],
             [
              0.2222222222222222,
              "#7201a8"
             ],
             [
              0.3333333333333333,
              "#9c179e"
             ],
             [
              0.4444444444444444,
              "#bd3786"
             ],
             [
              0.5555555555555556,
              "#d8576b"
             ],
             [
              0.6666666666666666,
              "#ed7953"
             ],
             [
              0.7777777777777778,
              "#fb9f3a"
             ],
             [
              0.8888888888888888,
              "#fdca26"
             ],
             [
              1,
              "#f0f921"
             ]
            ],
            "type": "histogram2d"
           }
          ],
          "histogram2dcontour": [
           {
            "colorbar": {
             "outlinewidth": 0,
             "ticks": ""
            },
            "colorscale": [
             [
              0,
              "#0d0887"
             ],
             [
              0.1111111111111111,
              "#46039f"
             ],
             [
              0.2222222222222222,
              "#7201a8"
             ],
             [
              0.3333333333333333,
              "#9c179e"
             ],
             [
              0.4444444444444444,
              "#bd3786"
             ],
             [
              0.5555555555555556,
              "#d8576b"
             ],
             [
              0.6666666666666666,
              "#ed7953"
             ],
             [
              0.7777777777777778,
              "#fb9f3a"
             ],
             [
              0.8888888888888888,
              "#fdca26"
             ],
             [
              1,
              "#f0f921"
             ]
            ],
            "type": "histogram2dcontour"
           }
          ],
          "mesh3d": [
           {
            "colorbar": {
             "outlinewidth": 0,
             "ticks": ""
            },
            "type": "mesh3d"
           }
          ],
          "parcoords": [
           {
            "line": {
             "colorbar": {
              "outlinewidth": 0,
              "ticks": ""
             }
            },
            "type": "parcoords"
           }
          ],
          "pie": [
           {
            "automargin": true,
            "type": "pie"
           }
          ],
          "scatter": [
           {
            "marker": {
             "colorbar": {
              "outlinewidth": 0,
              "ticks": ""
             }
            },
            "type": "scatter"
           }
          ],
          "scatter3d": [
           {
            "line": {
             "colorbar": {
              "outlinewidth": 0,
              "ticks": ""
             }
            },
            "marker": {
             "colorbar": {
              "outlinewidth": 0,
              "ticks": ""
             }
            },
            "type": "scatter3d"
           }
          ],
          "scattercarpet": [
           {
            "marker": {
             "colorbar": {
              "outlinewidth": 0,
              "ticks": ""
             }
            },
            "type": "scattercarpet"
           }
          ],
          "scattergeo": [
           {
            "marker": {
             "colorbar": {
              "outlinewidth": 0,
              "ticks": ""
             }
            },
            "type": "scattergeo"
           }
          ],
          "scattergl": [
           {
            "marker": {
             "colorbar": {
              "outlinewidth": 0,
              "ticks": ""
             }
            },
            "type": "scattergl"
           }
          ],
          "scattermapbox": [
           {
            "marker": {
             "colorbar": {
              "outlinewidth": 0,
              "ticks": ""
             }
            },
            "type": "scattermapbox"
           }
          ],
          "scatterpolar": [
           {
            "marker": {
             "colorbar": {
              "outlinewidth": 0,
              "ticks": ""
             }
            },
            "type": "scatterpolar"
           }
          ],
          "scatterpolargl": [
           {
            "marker": {
             "colorbar": {
              "outlinewidth": 0,
              "ticks": ""
             }
            },
            "type": "scatterpolargl"
           }
          ],
          "scatterternary": [
           {
            "marker": {
             "colorbar": {
              "outlinewidth": 0,
              "ticks": ""
             }
            },
            "type": "scatterternary"
           }
          ],
          "surface": [
           {
            "colorbar": {
             "outlinewidth": 0,
             "ticks": ""
            },
            "colorscale": [
             [
              0,
              "#0d0887"
             ],
             [
              0.1111111111111111,
              "#46039f"
             ],
             [
              0.2222222222222222,
              "#7201a8"
             ],
             [
              0.3333333333333333,
              "#9c179e"
             ],
             [
              0.4444444444444444,
              "#bd3786"
             ],
             [
              0.5555555555555556,
              "#d8576b"
             ],
             [
              0.6666666666666666,
              "#ed7953"
             ],
             [
              0.7777777777777778,
              "#fb9f3a"
             ],
             [
              0.8888888888888888,
              "#fdca26"
             ],
             [
              1,
              "#f0f921"
             ]
            ],
            "type": "surface"
           }
          ],
          "table": [
           {
            "cells": {
             "fill": {
              "color": "#EBF0F8"
             },
             "line": {
              "color": "white"
             }
            },
            "header": {
             "fill": {
              "color": "#C8D4E3"
             },
             "line": {
              "color": "white"
             }
            },
            "type": "table"
           }
          ]
         },
         "layout": {
          "annotationdefaults": {
           "arrowcolor": "#2a3f5f",
           "arrowhead": 0,
           "arrowwidth": 1
          },
          "autotypenumbers": "strict",
          "coloraxis": {
           "colorbar": {
            "outlinewidth": 0,
            "ticks": ""
           }
          },
          "colorscale": {
           "diverging": [
            [
             0,
             "#8e0152"
            ],
            [
             0.1,
             "#c51b7d"
            ],
            [
             0.2,
             "#de77ae"
            ],
            [
             0.3,
             "#f1b6da"
            ],
            [
             0.4,
             "#fde0ef"
            ],
            [
             0.5,
             "#f7f7f7"
            ],
            [
             0.6,
             "#e6f5d0"
            ],
            [
             0.7,
             "#b8e186"
            ],
            [
             0.8,
             "#7fbc41"
            ],
            [
             0.9,
             "#4d9221"
            ],
            [
             1,
             "#276419"
            ]
           ],
           "sequential": [
            [
             0,
             "#0d0887"
            ],
            [
             0.1111111111111111,
             "#46039f"
            ],
            [
             0.2222222222222222,
             "#7201a8"
            ],
            [
             0.3333333333333333,
             "#9c179e"
            ],
            [
             0.4444444444444444,
             "#bd3786"
            ],
            [
             0.5555555555555556,
             "#d8576b"
            ],
            [
             0.6666666666666666,
             "#ed7953"
            ],
            [
             0.7777777777777778,
             "#fb9f3a"
            ],
            [
             0.8888888888888888,
             "#fdca26"
            ],
            [
             1,
             "#f0f921"
            ]
           ],
           "sequentialminus": [
            [
             0,
             "#0d0887"
            ],
            [
             0.1111111111111111,
             "#46039f"
            ],
            [
             0.2222222222222222,
             "#7201a8"
            ],
            [
             0.3333333333333333,
             "#9c179e"
            ],
            [
             0.4444444444444444,
             "#bd3786"
            ],
            [
             0.5555555555555556,
             "#d8576b"
            ],
            [
             0.6666666666666666,
             "#ed7953"
            ],
            [
             0.7777777777777778,
             "#fb9f3a"
            ],
            [
             0.8888888888888888,
             "#fdca26"
            ],
            [
             1,
             "#f0f921"
            ]
           ]
          },
          "colorway": [
           "#636efa",
           "#EF553B",
           "#00cc96",
           "#ab63fa",
           "#FFA15A",
           "#19d3f3",
           "#FF6692",
           "#B6E880",
           "#FF97FF",
           "#FECB52"
          ],
          "font": {
           "color": "#2a3f5f"
          },
          "geo": {
           "bgcolor": "white",
           "lakecolor": "white",
           "landcolor": "#E5ECF6",
           "showlakes": true,
           "showland": true,
           "subunitcolor": "white"
          },
          "hoverlabel": {
           "align": "left"
          },
          "hovermode": "closest",
          "mapbox": {
           "style": "light"
          },
          "paper_bgcolor": "white",
          "plot_bgcolor": "#E5ECF6",
          "polar": {
           "angularaxis": {
            "gridcolor": "white",
            "linecolor": "white",
            "ticks": ""
           },
           "bgcolor": "#E5ECF6",
           "radialaxis": {
            "gridcolor": "white",
            "linecolor": "white",
            "ticks": ""
           }
          },
          "scene": {
           "xaxis": {
            "backgroundcolor": "#E5ECF6",
            "gridcolor": "white",
            "gridwidth": 2,
            "linecolor": "white",
            "showbackground": true,
            "ticks": "",
            "zerolinecolor": "white"
           },
           "yaxis": {
            "backgroundcolor": "#E5ECF6",
            "gridcolor": "white",
            "gridwidth": 2,
            "linecolor": "white",
            "showbackground": true,
            "ticks": "",
            "zerolinecolor": "white"
           },
           "zaxis": {
            "backgroundcolor": "#E5ECF6",
            "gridcolor": "white",
            "gridwidth": 2,
            "linecolor": "white",
            "showbackground": true,
            "ticks": "",
            "zerolinecolor": "white"
           }
          },
          "shapedefaults": {
           "line": {
            "color": "#2a3f5f"
           }
          },
          "ternary": {
           "aaxis": {
            "gridcolor": "white",
            "linecolor": "white",
            "ticks": ""
           },
           "baxis": {
            "gridcolor": "white",
            "linecolor": "white",
            "ticks": ""
           },
           "bgcolor": "#E5ECF6",
           "caxis": {
            "gridcolor": "white",
            "linecolor": "white",
            "ticks": ""
           }
          },
          "title": {
           "x": 0.05
          },
          "xaxis": {
           "automargin": true,
           "gridcolor": "white",
           "linecolor": "white",
           "ticks": "",
           "title": {
            "standoff": 15
           },
           "zerolinecolor": "white",
           "zerolinewidth": 2
          },
          "yaxis": {
           "automargin": true,
           "gridcolor": "white",
           "linecolor": "white",
           "ticks": "",
           "title": {
            "standoff": 15
           },
           "zerolinecolor": "white",
           "zerolinewidth": 2
          }
         }
        },
        "title": {
         "text": "Missing Data",
         "x": 0.5,
         "xanchor": "center",
         "y": 0.9,
         "yanchor": "top"
        },
        "xaxis": {
         "title": {
          "text": ""
         }
        },
        "yaxis": {
         "ticksuffix": "%",
         "title": {
          "text": "Percent Missing"
         }
        }
       }
      },
      "text/html": [
       "<div>                            <div id=\"41ab029d-7c8a-498a-ae5e-51241fdea021\" class=\"plotly-graph-div\" style=\"height:525px; width:100%;\"></div>            <script type=\"text/javascript\">                require([\"plotly\"], function(Plotly) {                    window.PLOTLYENV=window.PLOTLYENV || {};                                    if (document.getElementById(\"41ab029d-7c8a-498a-ae5e-51241fdea021\")) {                    Plotly.newPlot(                        \"41ab029d-7c8a-498a-ae5e-51241fdea021\",                        [{\"marker\":{\"color\":\"rgb(158,202,225)\",\"line\":{\"color\":\"rgb(8,48,107)\",\"width\":1.5}},\"opacity\":0.6,\"type\":\"bar\",\"x\":[\"review_scores_rating\",\"review_scores_accuracy\",\"review_scores_cleanliness\",\"review_scores_checkin\",\"review_scores_communication\",\"review_scores_location\",\"review_scores_value\",\"reviews_per_month\",\"host_acceptance_rate\"],\"y\":[30.52706048814998,31.21094210588374,31.199151043509023,31.22273316825846,31.21094210588374,31.22273316825846,31.22273316825846,30.52706048814998,14.302558660535315]}],                        {\"paper_bgcolor\":\"rgba(0,0,0,0)\",\"plot_bgcolor\":\"rgba(0,0,0,0)\",\"template\":{\"data\":{\"bar\":[{\"error_x\":{\"color\":\"#2a3f5f\"},\"error_y\":{\"color\":\"#2a3f5f\"},\"marker\":{\"line\":{\"color\":\"#E5ECF6\",\"width\":0.5},\"pattern\":{\"fillmode\":\"overlay\",\"size\":10,\"solidity\":0.2}},\"type\":\"bar\"}],\"barpolar\":[{\"marker\":{\"line\":{\"color\":\"#E5ECF6\",\"width\":0.5},\"pattern\":{\"fillmode\":\"overlay\",\"size\":10,\"solidity\":0.2}},\"type\":\"barpolar\"}],\"carpet\":[{\"aaxis\":{\"endlinecolor\":\"#2a3f5f\",\"gridcolor\":\"white\",\"linecolor\":\"white\",\"minorgridcolor\":\"white\",\"startlinecolor\":\"#2a3f5f\"},\"baxis\":{\"endlinecolor\":\"#2a3f5f\",\"gridcolor\":\"white\",\"linecolor\":\"white\",\"minorgridcolor\":\"white\",\"startlinecolor\":\"#2a3f5f\"},\"type\":\"carpet\"}],\"choropleth\":[{\"colorbar\":{\"outlinewidth\":0,\"ticks\":\"\"},\"type\":\"choropleth\"}],\"contour\":[{\"colorbar\":{\"outlinewidth\":0,\"ticks\":\"\"},\"colorscale\":[[0.0,\"#0d0887\"],[0.1111111111111111,\"#46039f\"],[0.2222222222222222,\"#7201a8\"],[0.3333333333333333,\"#9c179e\"],[0.4444444444444444,\"#bd3786\"],[0.5555555555555556,\"#d8576b\"],[0.6666666666666666,\"#ed7953\"],[0.7777777777777778,\"#fb9f3a\"],[0.8888888888888888,\"#fdca26\"],[1.0,\"#f0f921\"]],\"type\":\"contour\"}],\"contourcarpet\":[{\"colorbar\":{\"outlinewidth\":0,\"ticks\":\"\"},\"type\":\"contourcarpet\"}],\"heatmap\":[{\"colorbar\":{\"outlinewidth\":0,\"ticks\":\"\"},\"colorscale\":[[0.0,\"#0d0887\"],[0.1111111111111111,\"#46039f\"],[0.2222222222222222,\"#7201a8\"],[0.3333333333333333,\"#9c179e\"],[0.4444444444444444,\"#bd3786\"],[0.5555555555555556,\"#d8576b\"],[0.6666666666666666,\"#ed7953\"],[0.7777777777777778,\"#fb9f3a\"],[0.8888888888888888,\"#fdca26\"],[1.0,\"#f0f921\"]],\"type\":\"heatmap\"}],\"heatmapgl\":[{\"colorbar\":{\"outlinewidth\":0,\"ticks\":\"\"},\"colorscale\":[[0.0,\"#0d0887\"],[0.1111111111111111,\"#46039f\"],[0.2222222222222222,\"#7201a8\"],[0.3333333333333333,\"#9c179e\"],[0.4444444444444444,\"#bd3786\"],[0.5555555555555556,\"#d8576b\"],[0.6666666666666666,\"#ed7953\"],[0.7777777777777778,\"#fb9f3a\"],[0.8888888888888888,\"#fdca26\"],[1.0,\"#f0f921\"]],\"type\":\"heatmapgl\"}],\"histogram\":[{\"marker\":{\"pattern\":{\"fillmode\":\"overlay\",\"size\":10,\"solidity\":0.2}},\"type\":\"histogram\"}],\"histogram2d\":[{\"colorbar\":{\"outlinewidth\":0,\"ticks\":\"\"},\"colorscale\":[[0.0,\"#0d0887\"],[0.1111111111111111,\"#46039f\"],[0.2222222222222222,\"#7201a8\"],[0.3333333333333333,\"#9c179e\"],[0.4444444444444444,\"#bd3786\"],[0.5555555555555556,\"#d8576b\"],[0.6666666666666666,\"#ed7953\"],[0.7777777777777778,\"#fb9f3a\"],[0.8888888888888888,\"#fdca26\"],[1.0,\"#f0f921\"]],\"type\":\"histogram2d\"}],\"histogram2dcontour\":[{\"colorbar\":{\"outlinewidth\":0,\"ticks\":\"\"},\"colorscale\":[[0.0,\"#0d0887\"],[0.1111111111111111,\"#46039f\"],[0.2222222222222222,\"#7201a8\"],[0.3333333333333333,\"#9c179e\"],[0.4444444444444444,\"#bd3786\"],[0.5555555555555556,\"#d8576b\"],[0.6666666666666666,\"#ed7953\"],[0.7777777777777778,\"#fb9f3a\"],[0.8888888888888888,\"#fdca26\"],[1.0,\"#f0f921\"]],\"type\":\"histogram2dcontour\"}],\"mesh3d\":[{\"colorbar\":{\"outlinewidth\":0,\"ticks\":\"\"},\"type\":\"mesh3d\"}],\"parcoords\":[{\"line\":{\"colorbar\":{\"outlinewidth\":0,\"ticks\":\"\"}},\"type\":\"parcoords\"}],\"pie\":[{\"automargin\":true,\"type\":\"pie\"}],\"scatter\":[{\"marker\":{\"colorbar\":{\"outlinewidth\":0,\"ticks\":\"\"}},\"type\":\"scatter\"}],\"scatter3d\":[{\"line\":{\"colorbar\":{\"outlinewidth\":0,\"ticks\":\"\"}},\"marker\":{\"colorbar\":{\"outlinewidth\":0,\"ticks\":\"\"}},\"type\":\"scatter3d\"}],\"scattercarpet\":[{\"marker\":{\"colorbar\":{\"outlinewidth\":0,\"ticks\":\"\"}},\"type\":\"scattercarpet\"}],\"scattergeo\":[{\"marker\":{\"colorbar\":{\"outlinewidth\":0,\"ticks\":\"\"}},\"type\":\"scattergeo\"}],\"scattergl\":[{\"marker\":{\"colorbar\":{\"outlinewidth\":0,\"ticks\":\"\"}},\"type\":\"scattergl\"}],\"scattermapbox\":[{\"marker\":{\"colorbar\":{\"outlinewidth\":0,\"ticks\":\"\"}},\"type\":\"scattermapbox\"}],\"scatterpolar\":[{\"marker\":{\"colorbar\":{\"outlinewidth\":0,\"ticks\":\"\"}},\"type\":\"scatterpolar\"}],\"scatterpolargl\":[{\"marker\":{\"colorbar\":{\"outlinewidth\":0,\"ticks\":\"\"}},\"type\":\"scatterpolargl\"}],\"scatterternary\":[{\"marker\":{\"colorbar\":{\"outlinewidth\":0,\"ticks\":\"\"}},\"type\":\"scatterternary\"}],\"surface\":[{\"colorbar\":{\"outlinewidth\":0,\"ticks\":\"\"},\"colorscale\":[[0.0,\"#0d0887\"],[0.1111111111111111,\"#46039f\"],[0.2222222222222222,\"#7201a8\"],[0.3333333333333333,\"#9c179e\"],[0.4444444444444444,\"#bd3786\"],[0.5555555555555556,\"#d8576b\"],[0.6666666666666666,\"#ed7953\"],[0.7777777777777778,\"#fb9f3a\"],[0.8888888888888888,\"#fdca26\"],[1.0,\"#f0f921\"]],\"type\":\"surface\"}],\"table\":[{\"cells\":{\"fill\":{\"color\":\"#EBF0F8\"},\"line\":{\"color\":\"white\"}},\"header\":{\"fill\":{\"color\":\"#C8D4E3\"},\"line\":{\"color\":\"white\"}},\"type\":\"table\"}]},\"layout\":{\"annotationdefaults\":{\"arrowcolor\":\"#2a3f5f\",\"arrowhead\":0,\"arrowwidth\":1},\"autotypenumbers\":\"strict\",\"coloraxis\":{\"colorbar\":{\"outlinewidth\":0,\"ticks\":\"\"}},\"colorscale\":{\"diverging\":[[0,\"#8e0152\"],[0.1,\"#c51b7d\"],[0.2,\"#de77ae\"],[0.3,\"#f1b6da\"],[0.4,\"#fde0ef\"],[0.5,\"#f7f7f7\"],[0.6,\"#e6f5d0\"],[0.7,\"#b8e186\"],[0.8,\"#7fbc41\"],[0.9,\"#4d9221\"],[1,\"#276419\"]],\"sequential\":[[0.0,\"#0d0887\"],[0.1111111111111111,\"#46039f\"],[0.2222222222222222,\"#7201a8\"],[0.3333333333333333,\"#9c179e\"],[0.4444444444444444,\"#bd3786\"],[0.5555555555555556,\"#d8576b\"],[0.6666666666666666,\"#ed7953\"],[0.7777777777777778,\"#fb9f3a\"],[0.8888888888888888,\"#fdca26\"],[1.0,\"#f0f921\"]],\"sequentialminus\":[[0.0,\"#0d0887\"],[0.1111111111111111,\"#46039f\"],[0.2222222222222222,\"#7201a8\"],[0.3333333333333333,\"#9c179e\"],[0.4444444444444444,\"#bd3786\"],[0.5555555555555556,\"#d8576b\"],[0.6666666666666666,\"#ed7953\"],[0.7777777777777778,\"#fb9f3a\"],[0.8888888888888888,\"#fdca26\"],[1.0,\"#f0f921\"]]},\"colorway\":[\"#636efa\",\"#EF553B\",\"#00cc96\",\"#ab63fa\",\"#FFA15A\",\"#19d3f3\",\"#FF6692\",\"#B6E880\",\"#FF97FF\",\"#FECB52\"],\"font\":{\"color\":\"#2a3f5f\"},\"geo\":{\"bgcolor\":\"white\",\"lakecolor\":\"white\",\"landcolor\":\"#E5ECF6\",\"showlakes\":true,\"showland\":true,\"subunitcolor\":\"white\"},\"hoverlabel\":{\"align\":\"left\"},\"hovermode\":\"closest\",\"mapbox\":{\"style\":\"light\"},\"paper_bgcolor\":\"white\",\"plot_bgcolor\":\"#E5ECF6\",\"polar\":{\"angularaxis\":{\"gridcolor\":\"white\",\"linecolor\":\"white\",\"ticks\":\"\"},\"bgcolor\":\"#E5ECF6\",\"radialaxis\":{\"gridcolor\":\"white\",\"linecolor\":\"white\",\"ticks\":\"\"}},\"scene\":{\"xaxis\":{\"backgroundcolor\":\"#E5ECF6\",\"gridcolor\":\"white\",\"gridwidth\":2,\"linecolor\":\"white\",\"showbackground\":true,\"ticks\":\"\",\"zerolinecolor\":\"white\"},\"yaxis\":{\"backgroundcolor\":\"#E5ECF6\",\"gridcolor\":\"white\",\"gridwidth\":2,\"linecolor\":\"white\",\"showbackground\":true,\"ticks\":\"\",\"zerolinecolor\":\"white\"},\"zaxis\":{\"backgroundcolor\":\"#E5ECF6\",\"gridcolor\":\"white\",\"gridwidth\":2,\"linecolor\":\"white\",\"showbackground\":true,\"ticks\":\"\",\"zerolinecolor\":\"white\"}},\"shapedefaults\":{\"line\":{\"color\":\"#2a3f5f\"}},\"ternary\":{\"aaxis\":{\"gridcolor\":\"white\",\"linecolor\":\"white\",\"ticks\":\"\"},\"baxis\":{\"gridcolor\":\"white\",\"linecolor\":\"white\",\"ticks\":\"\"},\"bgcolor\":\"#E5ECF6\",\"caxis\":{\"gridcolor\":\"white\",\"linecolor\":\"white\",\"ticks\":\"\"}},\"title\":{\"x\":0.05},\"xaxis\":{\"automargin\":true,\"gridcolor\":\"white\",\"linecolor\":\"white\",\"ticks\":\"\",\"title\":{\"standoff\":15},\"zerolinecolor\":\"white\",\"zerolinewidth\":2},\"yaxis\":{\"automargin\":true,\"gridcolor\":\"white\",\"linecolor\":\"white\",\"ticks\":\"\",\"title\":{\"standoff\":15},\"zerolinecolor\":\"white\",\"zerolinewidth\":2}}},\"title\":{\"text\":\"Missing Data\",\"x\":0.5,\"xanchor\":\"center\",\"y\":0.9,\"yanchor\":\"top\"},\"xaxis\":{\"title\":{\"text\":\"\"}},\"yaxis\":{\"ticksuffix\":\"%\",\"title\":{\"text\":\"Percent Missing\"}}},                        {\"responsive\": true}                    ).then(function(){\n",
       "                            \n",
       "var gd = document.getElementById('41ab029d-7c8a-498a-ae5e-51241fdea021');\n",
       "var x = new MutationObserver(function (mutations, observer) {{\n",
       "        var display = window.getComputedStyle(gd).display;\n",
       "        if (!display || display === 'none') {{\n",
       "            console.log([gd, 'removed!']);\n",
       "            Plotly.purge(gd);\n",
       "            observer.disconnect();\n",
       "        }}\n",
       "}});\n",
       "\n",
       "// Listen for the removal of the full notebook cells\n",
       "var notebookContainer = gd.closest('#notebook-container');\n",
       "if (notebookContainer) {{\n",
       "    x.observe(notebookContainer, {childList: true});\n",
       "}}\n",
       "\n",
       "// Listen for the clearing of the current output cell\n",
       "var outputEl = gd.closest('.output');\n",
       "if (outputEl) {{\n",
       "    x.observe(outputEl, {childList: true});\n",
       "}}\n",
       "\n",
       "                        })                };                });            </script>        </div>"
      ]
     },
     "metadata": {},
     "output_type": "display_data"
    }
   ],
   "source": [
    "\n",
    "def plot_missing_values (df_listings):\n",
    "    '''\n",
    "    Input: df with listings\n",
    "    Output: chart with missing values\n",
    "    '''\n",
    "    \n",
    "    df_na= pd.DataFrame({\"Pct_Missing\":df_listings.isnull().mean()})\n",
    "    df_na = df_na[df_na.Pct_Missing!=0]\n",
    "\n",
    "    x = list(df_na.index)\n",
    "    y = df_na.Pct_Missing*100\n",
    "    fig= go.Figure(data=go.Bar(x=x,y=y))\n",
    "    fig.update_traces(marker_color='rgb(158,202,225)', marker_line_color='rgb(8,48,107)',\n",
    "                      marker_line_width=1.5, opacity=0.6)\n",
    "    # Update Layout\n",
    "    fig.update_layout(\n",
    "        title={'text':'Missing Data',\n",
    "               'y':0.9,\n",
    "            'x':0.5,\n",
    "              'xanchor': 'center',\n",
    "                 'yanchor': 'top' },\n",
    "        xaxis=dict(\n",
    "            title='',\n",
    "        ),\n",
    "        yaxis=dict(\n",
    "            title='Percent Missing',\n",
    "             ticksuffix=\"%\"\n",
    "        ),\n",
    "\n",
    "\n",
    "        paper_bgcolor='rgba(0,0,0,0)',\n",
    "        plot_bgcolor='rgba(0,0,0,0)',\n",
    "    )\n",
    "\n",
    "    return(fig)\n",
    "\n",
    "plot_missing_values (df_listings)"
   ]
  },
  {
   "cell_type": "code",
   "execution_count": 26,
   "metadata": {},
   "outputs": [
    {
     "name": "stdout",
     "output_type": "stream",
     "text": [
      "Shape before preprocessing: (8481, 20)\n",
      "Shape after preprocessing: (8481, 20)\n"
     ]
    }
   ],
   "source": [
    "# Remove columns with all values missing\n",
    "\n",
    "print(\"Shape before preprocessing:\",df_listings.shape)\n",
    "df_listings = df_listings.dropna(axis=1,how=\"all\")\n",
    "\n",
    "# Remove listings that do not have any bookings or haven't received any reviews\n",
    "mask = (df_listings.host_acceptance_rate!=0) | (df_listings.reviews_per_month>0)\n",
    "df_listings = df_listings[mask]\n",
    "\n",
    "\n",
    "print(\"Shape after preprocessing:\",df_listings.shape)"
   ]
  },
  {
   "cell_type": "markdown",
   "metadata": {},
   "source": [
    "For review columns it won't be accurate to impute values.\n",
    "So we will remove the rows that don't have review ratings."
   ]
  },
  {
   "cell_type": "code",
   "execution_count": 27,
   "metadata": {},
   "outputs": [
    {
     "name": "stdout",
     "output_type": "stream",
     "text": [
      "Shape before preprocessing: (8481, 20)\n",
      "Shape after preprocessing: (5833, 20)\n"
     ]
    },
    {
     "data": {
      "application/vnd.plotly.v1+json": {
       "config": {
        "plotlyServerURL": "https://plot.ly"
       },
       "data": [
        {
         "marker": {
          "color": "rgb(158,202,225)",
          "line": {
           "color": "rgb(8,48,107)",
           "width": 1.5
          }
         },
         "opacity": 0.6,
         "type": "bar",
         "x": [
          "host_acceptance_rate"
         ],
         "y": [
          10.063432196125493
         ]
        }
       ],
       "layout": {
        "paper_bgcolor": "rgba(0,0,0,0)",
        "plot_bgcolor": "rgba(0,0,0,0)",
        "template": {
         "data": {
          "bar": [
           {
            "error_x": {
             "color": "#2a3f5f"
            },
            "error_y": {
             "color": "#2a3f5f"
            },
            "marker": {
             "line": {
              "color": "#E5ECF6",
              "width": 0.5
             },
             "pattern": {
              "fillmode": "overlay",
              "size": 10,
              "solidity": 0.2
             }
            },
            "type": "bar"
           }
          ],
          "barpolar": [
           {
            "marker": {
             "line": {
              "color": "#E5ECF6",
              "width": 0.5
             },
             "pattern": {
              "fillmode": "overlay",
              "size": 10,
              "solidity": 0.2
             }
            },
            "type": "barpolar"
           }
          ],
          "carpet": [
           {
            "aaxis": {
             "endlinecolor": "#2a3f5f",
             "gridcolor": "white",
             "linecolor": "white",
             "minorgridcolor": "white",
             "startlinecolor": "#2a3f5f"
            },
            "baxis": {
             "endlinecolor": "#2a3f5f",
             "gridcolor": "white",
             "linecolor": "white",
             "minorgridcolor": "white",
             "startlinecolor": "#2a3f5f"
            },
            "type": "carpet"
           }
          ],
          "choropleth": [
           {
            "colorbar": {
             "outlinewidth": 0,
             "ticks": ""
            },
            "type": "choropleth"
           }
          ],
          "contour": [
           {
            "colorbar": {
             "outlinewidth": 0,
             "ticks": ""
            },
            "colorscale": [
             [
              0,
              "#0d0887"
             ],
             [
              0.1111111111111111,
              "#46039f"
             ],
             [
              0.2222222222222222,
              "#7201a8"
             ],
             [
              0.3333333333333333,
              "#9c179e"
             ],
             [
              0.4444444444444444,
              "#bd3786"
             ],
             [
              0.5555555555555556,
              "#d8576b"
             ],
             [
              0.6666666666666666,
              "#ed7953"
             ],
             [
              0.7777777777777778,
              "#fb9f3a"
             ],
             [
              0.8888888888888888,
              "#fdca26"
             ],
             [
              1,
              "#f0f921"
             ]
            ],
            "type": "contour"
           }
          ],
          "contourcarpet": [
           {
            "colorbar": {
             "outlinewidth": 0,
             "ticks": ""
            },
            "type": "contourcarpet"
           }
          ],
          "heatmap": [
           {
            "colorbar": {
             "outlinewidth": 0,
             "ticks": ""
            },
            "colorscale": [
             [
              0,
              "#0d0887"
             ],
             [
              0.1111111111111111,
              "#46039f"
             ],
             [
              0.2222222222222222,
              "#7201a8"
             ],
             [
              0.3333333333333333,
              "#9c179e"
             ],
             [
              0.4444444444444444,
              "#bd3786"
             ],
             [
              0.5555555555555556,
              "#d8576b"
             ],
             [
              0.6666666666666666,
              "#ed7953"
             ],
             [
              0.7777777777777778,
              "#fb9f3a"
             ],
             [
              0.8888888888888888,
              "#fdca26"
             ],
             [
              1,
              "#f0f921"
             ]
            ],
            "type": "heatmap"
           }
          ],
          "heatmapgl": [
           {
            "colorbar": {
             "outlinewidth": 0,
             "ticks": ""
            },
            "colorscale": [
             [
              0,
              "#0d0887"
             ],
             [
              0.1111111111111111,
              "#46039f"
             ],
             [
              0.2222222222222222,
              "#7201a8"
             ],
             [
              0.3333333333333333,
              "#9c179e"
             ],
             [
              0.4444444444444444,
              "#bd3786"
             ],
             [
              0.5555555555555556,
              "#d8576b"
             ],
             [
              0.6666666666666666,
              "#ed7953"
             ],
             [
              0.7777777777777778,
              "#fb9f3a"
             ],
             [
              0.8888888888888888,
              "#fdca26"
             ],
             [
              1,
              "#f0f921"
             ]
            ],
            "type": "heatmapgl"
           }
          ],
          "histogram": [
           {
            "marker": {
             "pattern": {
              "fillmode": "overlay",
              "size": 10,
              "solidity": 0.2
             }
            },
            "type": "histogram"
           }
          ],
          "histogram2d": [
           {
            "colorbar": {
             "outlinewidth": 0,
             "ticks": ""
            },
            "colorscale": [
             [
              0,
              "#0d0887"
             ],
             [
              0.1111111111111111,
              "#46039f"
             ],
             [
              0.2222222222222222,
              "#7201a8"
             ],
             [
              0.3333333333333333,
              "#9c179e"
             ],
             [
              0.4444444444444444,
              "#bd3786"
             ],
             [
              0.5555555555555556,
              "#d8576b"
             ],
             [
              0.6666666666666666,
              "#ed7953"
             ],
             [
              0.7777777777777778,
              "#fb9f3a"
             ],
             [
              0.8888888888888888,
              "#fdca26"
             ],
             [
              1,
              "#f0f921"
             ]
            ],
            "type": "histogram2d"
           }
          ],
          "histogram2dcontour": [
           {
            "colorbar": {
             "outlinewidth": 0,
             "ticks": ""
            },
            "colorscale": [
             [
              0,
              "#0d0887"
             ],
             [
              0.1111111111111111,
              "#46039f"
             ],
             [
              0.2222222222222222,
              "#7201a8"
             ],
             [
              0.3333333333333333,
              "#9c179e"
             ],
             [
              0.4444444444444444,
              "#bd3786"
             ],
             [
              0.5555555555555556,
              "#d8576b"
             ],
             [
              0.6666666666666666,
              "#ed7953"
             ],
             [
              0.7777777777777778,
              "#fb9f3a"
             ],
             [
              0.8888888888888888,
              "#fdca26"
             ],
             [
              1,
              "#f0f921"
             ]
            ],
            "type": "histogram2dcontour"
           }
          ],
          "mesh3d": [
           {
            "colorbar": {
             "outlinewidth": 0,
             "ticks": ""
            },
            "type": "mesh3d"
           }
          ],
          "parcoords": [
           {
            "line": {
             "colorbar": {
              "outlinewidth": 0,
              "ticks": ""
             }
            },
            "type": "parcoords"
           }
          ],
          "pie": [
           {
            "automargin": true,
            "type": "pie"
           }
          ],
          "scatter": [
           {
            "marker": {
             "colorbar": {
              "outlinewidth": 0,
              "ticks": ""
             }
            },
            "type": "scatter"
           }
          ],
          "scatter3d": [
           {
            "line": {
             "colorbar": {
              "outlinewidth": 0,
              "ticks": ""
             }
            },
            "marker": {
             "colorbar": {
              "outlinewidth": 0,
              "ticks": ""
             }
            },
            "type": "scatter3d"
           }
          ],
          "scattercarpet": [
           {
            "marker": {
             "colorbar": {
              "outlinewidth": 0,
              "ticks": ""
             }
            },
            "type": "scattercarpet"
           }
          ],
          "scattergeo": [
           {
            "marker": {
             "colorbar": {
              "outlinewidth": 0,
              "ticks": ""
             }
            },
            "type": "scattergeo"
           }
          ],
          "scattergl": [
           {
            "marker": {
             "colorbar": {
              "outlinewidth": 0,
              "ticks": ""
             }
            },
            "type": "scattergl"
           }
          ],
          "scattermapbox": [
           {
            "marker": {
             "colorbar": {
              "outlinewidth": 0,
              "ticks": ""
             }
            },
            "type": "scattermapbox"
           }
          ],
          "scatterpolar": [
           {
            "marker": {
             "colorbar": {
              "outlinewidth": 0,
              "ticks": ""
             }
            },
            "type": "scatterpolar"
           }
          ],
          "scatterpolargl": [
           {
            "marker": {
             "colorbar": {
              "outlinewidth": 0,
              "ticks": ""
             }
            },
            "type": "scatterpolargl"
           }
          ],
          "scatterternary": [
           {
            "marker": {
             "colorbar": {
              "outlinewidth": 0,
              "ticks": ""
             }
            },
            "type": "scatterternary"
           }
          ],
          "surface": [
           {
            "colorbar": {
             "outlinewidth": 0,
             "ticks": ""
            },
            "colorscale": [
             [
              0,
              "#0d0887"
             ],
             [
              0.1111111111111111,
              "#46039f"
             ],
             [
              0.2222222222222222,
              "#7201a8"
             ],
             [
              0.3333333333333333,
              "#9c179e"
             ],
             [
              0.4444444444444444,
              "#bd3786"
             ],
             [
              0.5555555555555556,
              "#d8576b"
             ],
             [
              0.6666666666666666,
              "#ed7953"
             ],
             [
              0.7777777777777778,
              "#fb9f3a"
             ],
             [
              0.8888888888888888,
              "#fdca26"
             ],
             [
              1,
              "#f0f921"
             ]
            ],
            "type": "surface"
           }
          ],
          "table": [
           {
            "cells": {
             "fill": {
              "color": "#EBF0F8"
             },
             "line": {
              "color": "white"
             }
            },
            "header": {
             "fill": {
              "color": "#C8D4E3"
             },
             "line": {
              "color": "white"
             }
            },
            "type": "table"
           }
          ]
         },
         "layout": {
          "annotationdefaults": {
           "arrowcolor": "#2a3f5f",
           "arrowhead": 0,
           "arrowwidth": 1
          },
          "autotypenumbers": "strict",
          "coloraxis": {
           "colorbar": {
            "outlinewidth": 0,
            "ticks": ""
           }
          },
          "colorscale": {
           "diverging": [
            [
             0,
             "#8e0152"
            ],
            [
             0.1,
             "#c51b7d"
            ],
            [
             0.2,
             "#de77ae"
            ],
            [
             0.3,
             "#f1b6da"
            ],
            [
             0.4,
             "#fde0ef"
            ],
            [
             0.5,
             "#f7f7f7"
            ],
            [
             0.6,
             "#e6f5d0"
            ],
            [
             0.7,
             "#b8e186"
            ],
            [
             0.8,
             "#7fbc41"
            ],
            [
             0.9,
             "#4d9221"
            ],
            [
             1,
             "#276419"
            ]
           ],
           "sequential": [
            [
             0,
             "#0d0887"
            ],
            [
             0.1111111111111111,
             "#46039f"
            ],
            [
             0.2222222222222222,
             "#7201a8"
            ],
            [
             0.3333333333333333,
             "#9c179e"
            ],
            [
             0.4444444444444444,
             "#bd3786"
            ],
            [
             0.5555555555555556,
             "#d8576b"
            ],
            [
             0.6666666666666666,
             "#ed7953"
            ],
            [
             0.7777777777777778,
             "#fb9f3a"
            ],
            [
             0.8888888888888888,
             "#fdca26"
            ],
            [
             1,
             "#f0f921"
            ]
           ],
           "sequentialminus": [
            [
             0,
             "#0d0887"
            ],
            [
             0.1111111111111111,
             "#46039f"
            ],
            [
             0.2222222222222222,
             "#7201a8"
            ],
            [
             0.3333333333333333,
             "#9c179e"
            ],
            [
             0.4444444444444444,
             "#bd3786"
            ],
            [
             0.5555555555555556,
             "#d8576b"
            ],
            [
             0.6666666666666666,
             "#ed7953"
            ],
            [
             0.7777777777777778,
             "#fb9f3a"
            ],
            [
             0.8888888888888888,
             "#fdca26"
            ],
            [
             1,
             "#f0f921"
            ]
           ]
          },
          "colorway": [
           "#636efa",
           "#EF553B",
           "#00cc96",
           "#ab63fa",
           "#FFA15A",
           "#19d3f3",
           "#FF6692",
           "#B6E880",
           "#FF97FF",
           "#FECB52"
          ],
          "font": {
           "color": "#2a3f5f"
          },
          "geo": {
           "bgcolor": "white",
           "lakecolor": "white",
           "landcolor": "#E5ECF6",
           "showlakes": true,
           "showland": true,
           "subunitcolor": "white"
          },
          "hoverlabel": {
           "align": "left"
          },
          "hovermode": "closest",
          "mapbox": {
           "style": "light"
          },
          "paper_bgcolor": "white",
          "plot_bgcolor": "#E5ECF6",
          "polar": {
           "angularaxis": {
            "gridcolor": "white",
            "linecolor": "white",
            "ticks": ""
           },
           "bgcolor": "#E5ECF6",
           "radialaxis": {
            "gridcolor": "white",
            "linecolor": "white",
            "ticks": ""
           }
          },
          "scene": {
           "xaxis": {
            "backgroundcolor": "#E5ECF6",
            "gridcolor": "white",
            "gridwidth": 2,
            "linecolor": "white",
            "showbackground": true,
            "ticks": "",
            "zerolinecolor": "white"
           },
           "yaxis": {
            "backgroundcolor": "#E5ECF6",
            "gridcolor": "white",
            "gridwidth": 2,
            "linecolor": "white",
            "showbackground": true,
            "ticks": "",
            "zerolinecolor": "white"
           },
           "zaxis": {
            "backgroundcolor": "#E5ECF6",
            "gridcolor": "white",
            "gridwidth": 2,
            "linecolor": "white",
            "showbackground": true,
            "ticks": "",
            "zerolinecolor": "white"
           }
          },
          "shapedefaults": {
           "line": {
            "color": "#2a3f5f"
           }
          },
          "ternary": {
           "aaxis": {
            "gridcolor": "white",
            "linecolor": "white",
            "ticks": ""
           },
           "baxis": {
            "gridcolor": "white",
            "linecolor": "white",
            "ticks": ""
           },
           "bgcolor": "#E5ECF6",
           "caxis": {
            "gridcolor": "white",
            "linecolor": "white",
            "ticks": ""
           }
          },
          "title": {
           "x": 0.05
          },
          "xaxis": {
           "automargin": true,
           "gridcolor": "white",
           "linecolor": "white",
           "ticks": "",
           "title": {
            "standoff": 15
           },
           "zerolinecolor": "white",
           "zerolinewidth": 2
          },
          "yaxis": {
           "automargin": true,
           "gridcolor": "white",
           "linecolor": "white",
           "ticks": "",
           "title": {
            "standoff": 15
           },
           "zerolinecolor": "white",
           "zerolinewidth": 2
          }
         }
        },
        "title": {
         "text": "Missing Data",
         "x": 0.5,
         "xanchor": "center",
         "y": 0.9,
         "yanchor": "top"
        },
        "xaxis": {
         "title": {
          "text": ""
         }
        },
        "yaxis": {
         "ticksuffix": "%",
         "title": {
          "text": "Percent Missing"
         }
        }
       }
      },
      "text/html": [
       "<div>                            <div id=\"59ad1c11-2c57-4492-99b3-749676bf99fc\" class=\"plotly-graph-div\" style=\"height:525px; width:100%;\"></div>            <script type=\"text/javascript\">                require([\"plotly\"], function(Plotly) {                    window.PLOTLYENV=window.PLOTLYENV || {};                                    if (document.getElementById(\"59ad1c11-2c57-4492-99b3-749676bf99fc\")) {                    Plotly.newPlot(                        \"59ad1c11-2c57-4492-99b3-749676bf99fc\",                        [{\"marker\":{\"color\":\"rgb(158,202,225)\",\"line\":{\"color\":\"rgb(8,48,107)\",\"width\":1.5}},\"opacity\":0.6,\"type\":\"bar\",\"x\":[\"host_acceptance_rate\"],\"y\":[10.063432196125493]}],                        {\"paper_bgcolor\":\"rgba(0,0,0,0)\",\"plot_bgcolor\":\"rgba(0,0,0,0)\",\"template\":{\"data\":{\"bar\":[{\"error_x\":{\"color\":\"#2a3f5f\"},\"error_y\":{\"color\":\"#2a3f5f\"},\"marker\":{\"line\":{\"color\":\"#E5ECF6\",\"width\":0.5},\"pattern\":{\"fillmode\":\"overlay\",\"size\":10,\"solidity\":0.2}},\"type\":\"bar\"}],\"barpolar\":[{\"marker\":{\"line\":{\"color\":\"#E5ECF6\",\"width\":0.5},\"pattern\":{\"fillmode\":\"overlay\",\"size\":10,\"solidity\":0.2}},\"type\":\"barpolar\"}],\"carpet\":[{\"aaxis\":{\"endlinecolor\":\"#2a3f5f\",\"gridcolor\":\"white\",\"linecolor\":\"white\",\"minorgridcolor\":\"white\",\"startlinecolor\":\"#2a3f5f\"},\"baxis\":{\"endlinecolor\":\"#2a3f5f\",\"gridcolor\":\"white\",\"linecolor\":\"white\",\"minorgridcolor\":\"white\",\"startlinecolor\":\"#2a3f5f\"},\"type\":\"carpet\"}],\"choropleth\":[{\"colorbar\":{\"outlinewidth\":0,\"ticks\":\"\"},\"type\":\"choropleth\"}],\"contour\":[{\"colorbar\":{\"outlinewidth\":0,\"ticks\":\"\"},\"colorscale\":[[0.0,\"#0d0887\"],[0.1111111111111111,\"#46039f\"],[0.2222222222222222,\"#7201a8\"],[0.3333333333333333,\"#9c179e\"],[0.4444444444444444,\"#bd3786\"],[0.5555555555555556,\"#d8576b\"],[0.6666666666666666,\"#ed7953\"],[0.7777777777777778,\"#fb9f3a\"],[0.8888888888888888,\"#fdca26\"],[1.0,\"#f0f921\"]],\"type\":\"contour\"}],\"contourcarpet\":[{\"colorbar\":{\"outlinewidth\":0,\"ticks\":\"\"},\"type\":\"contourcarpet\"}],\"heatmap\":[{\"colorbar\":{\"outlinewidth\":0,\"ticks\":\"\"},\"colorscale\":[[0.0,\"#0d0887\"],[0.1111111111111111,\"#46039f\"],[0.2222222222222222,\"#7201a8\"],[0.3333333333333333,\"#9c179e\"],[0.4444444444444444,\"#bd3786\"],[0.5555555555555556,\"#d8576b\"],[0.6666666666666666,\"#ed7953\"],[0.7777777777777778,\"#fb9f3a\"],[0.8888888888888888,\"#fdca26\"],[1.0,\"#f0f921\"]],\"type\":\"heatmap\"}],\"heatmapgl\":[{\"colorbar\":{\"outlinewidth\":0,\"ticks\":\"\"},\"colorscale\":[[0.0,\"#0d0887\"],[0.1111111111111111,\"#46039f\"],[0.2222222222222222,\"#7201a8\"],[0.3333333333333333,\"#9c179e\"],[0.4444444444444444,\"#bd3786\"],[0.5555555555555556,\"#d8576b\"],[0.6666666666666666,\"#ed7953\"],[0.7777777777777778,\"#fb9f3a\"],[0.8888888888888888,\"#fdca26\"],[1.0,\"#f0f921\"]],\"type\":\"heatmapgl\"}],\"histogram\":[{\"marker\":{\"pattern\":{\"fillmode\":\"overlay\",\"size\":10,\"solidity\":0.2}},\"type\":\"histogram\"}],\"histogram2d\":[{\"colorbar\":{\"outlinewidth\":0,\"ticks\":\"\"},\"colorscale\":[[0.0,\"#0d0887\"],[0.1111111111111111,\"#46039f\"],[0.2222222222222222,\"#7201a8\"],[0.3333333333333333,\"#9c179e\"],[0.4444444444444444,\"#bd3786\"],[0.5555555555555556,\"#d8576b\"],[0.6666666666666666,\"#ed7953\"],[0.7777777777777778,\"#fb9f3a\"],[0.8888888888888888,\"#fdca26\"],[1.0,\"#f0f921\"]],\"type\":\"histogram2d\"}],\"histogram2dcontour\":[{\"colorbar\":{\"outlinewidth\":0,\"ticks\":\"\"},\"colorscale\":[[0.0,\"#0d0887\"],[0.1111111111111111,\"#46039f\"],[0.2222222222222222,\"#7201a8\"],[0.3333333333333333,\"#9c179e\"],[0.4444444444444444,\"#bd3786\"],[0.5555555555555556,\"#d8576b\"],[0.6666666666666666,\"#ed7953\"],[0.7777777777777778,\"#fb9f3a\"],[0.8888888888888888,\"#fdca26\"],[1.0,\"#f0f921\"]],\"type\":\"histogram2dcontour\"}],\"mesh3d\":[{\"colorbar\":{\"outlinewidth\":0,\"ticks\":\"\"},\"type\":\"mesh3d\"}],\"parcoords\":[{\"line\":{\"colorbar\":{\"outlinewidth\":0,\"ticks\":\"\"}},\"type\":\"parcoords\"}],\"pie\":[{\"automargin\":true,\"type\":\"pie\"}],\"scatter\":[{\"marker\":{\"colorbar\":{\"outlinewidth\":0,\"ticks\":\"\"}},\"type\":\"scatter\"}],\"scatter3d\":[{\"line\":{\"colorbar\":{\"outlinewidth\":0,\"ticks\":\"\"}},\"marker\":{\"colorbar\":{\"outlinewidth\":0,\"ticks\":\"\"}},\"type\":\"scatter3d\"}],\"scattercarpet\":[{\"marker\":{\"colorbar\":{\"outlinewidth\":0,\"ticks\":\"\"}},\"type\":\"scattercarpet\"}],\"scattergeo\":[{\"marker\":{\"colorbar\":{\"outlinewidth\":0,\"ticks\":\"\"}},\"type\":\"scattergeo\"}],\"scattergl\":[{\"marker\":{\"colorbar\":{\"outlinewidth\":0,\"ticks\":\"\"}},\"type\":\"scattergl\"}],\"scattermapbox\":[{\"marker\":{\"colorbar\":{\"outlinewidth\":0,\"ticks\":\"\"}},\"type\":\"scattermapbox\"}],\"scatterpolar\":[{\"marker\":{\"colorbar\":{\"outlinewidth\":0,\"ticks\":\"\"}},\"type\":\"scatterpolar\"}],\"scatterpolargl\":[{\"marker\":{\"colorbar\":{\"outlinewidth\":0,\"ticks\":\"\"}},\"type\":\"scatterpolargl\"}],\"scatterternary\":[{\"marker\":{\"colorbar\":{\"outlinewidth\":0,\"ticks\":\"\"}},\"type\":\"scatterternary\"}],\"surface\":[{\"colorbar\":{\"outlinewidth\":0,\"ticks\":\"\"},\"colorscale\":[[0.0,\"#0d0887\"],[0.1111111111111111,\"#46039f\"],[0.2222222222222222,\"#7201a8\"],[0.3333333333333333,\"#9c179e\"],[0.4444444444444444,\"#bd3786\"],[0.5555555555555556,\"#d8576b\"],[0.6666666666666666,\"#ed7953\"],[0.7777777777777778,\"#fb9f3a\"],[0.8888888888888888,\"#fdca26\"],[1.0,\"#f0f921\"]],\"type\":\"surface\"}],\"table\":[{\"cells\":{\"fill\":{\"color\":\"#EBF0F8\"},\"line\":{\"color\":\"white\"}},\"header\":{\"fill\":{\"color\":\"#C8D4E3\"},\"line\":{\"color\":\"white\"}},\"type\":\"table\"}]},\"layout\":{\"annotationdefaults\":{\"arrowcolor\":\"#2a3f5f\",\"arrowhead\":0,\"arrowwidth\":1},\"autotypenumbers\":\"strict\",\"coloraxis\":{\"colorbar\":{\"outlinewidth\":0,\"ticks\":\"\"}},\"colorscale\":{\"diverging\":[[0,\"#8e0152\"],[0.1,\"#c51b7d\"],[0.2,\"#de77ae\"],[0.3,\"#f1b6da\"],[0.4,\"#fde0ef\"],[0.5,\"#f7f7f7\"],[0.6,\"#e6f5d0\"],[0.7,\"#b8e186\"],[0.8,\"#7fbc41\"],[0.9,\"#4d9221\"],[1,\"#276419\"]],\"sequential\":[[0.0,\"#0d0887\"],[0.1111111111111111,\"#46039f\"],[0.2222222222222222,\"#7201a8\"],[0.3333333333333333,\"#9c179e\"],[0.4444444444444444,\"#bd3786\"],[0.5555555555555556,\"#d8576b\"],[0.6666666666666666,\"#ed7953\"],[0.7777777777777778,\"#fb9f3a\"],[0.8888888888888888,\"#fdca26\"],[1.0,\"#f0f921\"]],\"sequentialminus\":[[0.0,\"#0d0887\"],[0.1111111111111111,\"#46039f\"],[0.2222222222222222,\"#7201a8\"],[0.3333333333333333,\"#9c179e\"],[0.4444444444444444,\"#bd3786\"],[0.5555555555555556,\"#d8576b\"],[0.6666666666666666,\"#ed7953\"],[0.7777777777777778,\"#fb9f3a\"],[0.8888888888888888,\"#fdca26\"],[1.0,\"#f0f921\"]]},\"colorway\":[\"#636efa\",\"#EF553B\",\"#00cc96\",\"#ab63fa\",\"#FFA15A\",\"#19d3f3\",\"#FF6692\",\"#B6E880\",\"#FF97FF\",\"#FECB52\"],\"font\":{\"color\":\"#2a3f5f\"},\"geo\":{\"bgcolor\":\"white\",\"lakecolor\":\"white\",\"landcolor\":\"#E5ECF6\",\"showlakes\":true,\"showland\":true,\"subunitcolor\":\"white\"},\"hoverlabel\":{\"align\":\"left\"},\"hovermode\":\"closest\",\"mapbox\":{\"style\":\"light\"},\"paper_bgcolor\":\"white\",\"plot_bgcolor\":\"#E5ECF6\",\"polar\":{\"angularaxis\":{\"gridcolor\":\"white\",\"linecolor\":\"white\",\"ticks\":\"\"},\"bgcolor\":\"#E5ECF6\",\"radialaxis\":{\"gridcolor\":\"white\",\"linecolor\":\"white\",\"ticks\":\"\"}},\"scene\":{\"xaxis\":{\"backgroundcolor\":\"#E5ECF6\",\"gridcolor\":\"white\",\"gridwidth\":2,\"linecolor\":\"white\",\"showbackground\":true,\"ticks\":\"\",\"zerolinecolor\":\"white\"},\"yaxis\":{\"backgroundcolor\":\"#E5ECF6\",\"gridcolor\":\"white\",\"gridwidth\":2,\"linecolor\":\"white\",\"showbackground\":true,\"ticks\":\"\",\"zerolinecolor\":\"white\"},\"zaxis\":{\"backgroundcolor\":\"#E5ECF6\",\"gridcolor\":\"white\",\"gridwidth\":2,\"linecolor\":\"white\",\"showbackground\":true,\"ticks\":\"\",\"zerolinecolor\":\"white\"}},\"shapedefaults\":{\"line\":{\"color\":\"#2a3f5f\"}},\"ternary\":{\"aaxis\":{\"gridcolor\":\"white\",\"linecolor\":\"white\",\"ticks\":\"\"},\"baxis\":{\"gridcolor\":\"white\",\"linecolor\":\"white\",\"ticks\":\"\"},\"bgcolor\":\"#E5ECF6\",\"caxis\":{\"gridcolor\":\"white\",\"linecolor\":\"white\",\"ticks\":\"\"}},\"title\":{\"x\":0.05},\"xaxis\":{\"automargin\":true,\"gridcolor\":\"white\",\"linecolor\":\"white\",\"ticks\":\"\",\"title\":{\"standoff\":15},\"zerolinecolor\":\"white\",\"zerolinewidth\":2},\"yaxis\":{\"automargin\":true,\"gridcolor\":\"white\",\"linecolor\":\"white\",\"ticks\":\"\",\"title\":{\"standoff\":15},\"zerolinecolor\":\"white\",\"zerolinewidth\":2}}},\"title\":{\"text\":\"Missing Data\",\"x\":0.5,\"xanchor\":\"center\",\"y\":0.9,\"yanchor\":\"top\"},\"xaxis\":{\"title\":{\"text\":\"\"}},\"yaxis\":{\"ticksuffix\":\"%\",\"title\":{\"text\":\"Percent Missing\"}}},                        {\"responsive\": true}                    ).then(function(){\n",
       "                            \n",
       "var gd = document.getElementById('59ad1c11-2c57-4492-99b3-749676bf99fc');\n",
       "var x = new MutationObserver(function (mutations, observer) {{\n",
       "        var display = window.getComputedStyle(gd).display;\n",
       "        if (!display || display === 'none') {{\n",
       "            console.log([gd, 'removed!']);\n",
       "            Plotly.purge(gd);\n",
       "            observer.disconnect();\n",
       "        }}\n",
       "}});\n",
       "\n",
       "// Listen for the removal of the full notebook cells\n",
       "var notebookContainer = gd.closest('#notebook-container');\n",
       "if (notebookContainer) {{\n",
       "    x.observe(notebookContainer, {childList: true});\n",
       "}}\n",
       "\n",
       "// Listen for the clearing of the current output cell\n",
       "var outputEl = gd.closest('.output');\n",
       "if (outputEl) {{\n",
       "    x.observe(outputEl, {childList: true});\n",
       "}}\n",
       "\n",
       "                        })                };                });            </script>        </div>"
      ]
     },
     "metadata": {},
     "output_type": "display_data"
    }
   ],
   "source": [
    "cols_review = ['number_of_reviews','review_scores_rating',\n",
    "               'review_scores_accuracy','review_scores_cleanliness',\n",
    "               'review_scores_checkin','review_scores_communication',\n",
    "               'review_scores_location','review_scores_value']\n",
    "\n",
    "\n",
    "# Remove rows with missing review columns \n",
    "print(\"Shape before preprocessing:\",df_listings.shape)\n",
    "df_listings = df_listings.dropna(subset=cols_review)\n",
    "\n",
    "print(\"Shape after preprocessing:\",df_listings.shape)\n",
    "plot_missing_values (df_listings)"
   ]
  },
  {
   "cell_type": "code",
   "execution_count": 28,
   "metadata": {},
   "outputs": [],
   "source": [
    "# Convert object columns to float\n",
    "cols_to_float = ['price',\"host_acceptance_rate\"]\n",
    "\n",
    "for col in cols_to_float:\n",
    "    df_listings[col] = df_listings[col].str.replace(\"$\",\"\")\n",
    "    df_listings[col] = df_listings[col].str.replace(\"%\",\"\")\n",
    "    df_listings[col] = df_listings[col].str.replace(\",\",\"\")\n",
    "    df_listings[col] = df_listings[col].astype(float)\n",
    "\n",
    "\n",
    "# Convert categorical to numeric\n",
    "df_listings['host_is_superhost'] = np.where(df_listings.host_is_superhost=='t',1,0)  \n",
    "df_listings['instant_bookable'] = np.where(df_listings.instant_bookable=='t',1,0)  \n",
    "\n",
    "\n"
   ]
  },
  {
   "cell_type": "markdown",
   "metadata": {},
   "source": [
    "Some of the data are extreme (26 listings) which are mostly due to incorrect data (we found apartments with 8000euros/night per person)\n",
    "\n",
    "To remove outliers we will calculate the price/person by using the Price of the listing divided by how many guests the listing accommodates\n",
    "\n"
   ]
  },
  {
   "cell_type": "code",
   "execution_count": 29,
   "metadata": {},
   "outputs": [
    {
     "name": "stdout",
     "output_type": "stream",
     "text": [
      "Shape after preprocessing: (5807, 22)\n"
     ]
    }
   ],
   "source": [
    "# Remove outliers by city \n",
    "\n",
    "# Find price per person\n",
    "df_listings['price_per_person'] = df_listings.price/df_listings.accommodates\n",
    "\n",
    "\n",
    "# Calculate z-score\n",
    "zscore = lambda x:(x-x.mean())/x.std()\n",
    "df_listings['price_z-score'] = df_listings.groupby(\"neighbourhood_group\")['price_per_person'].apply(zscore)\n",
    "\n",
    "# Remove everything above 4 std from the mean\n",
    "mask = df_listings['price_z-score'].abs()<4\n",
    "df_listings = df_listings[mask]\n",
    "\n",
    "print(\"Shape after preprocessing:\",df_listings.shape)"
   ]
  },
  {
   "cell_type": "markdown",
   "metadata": {},
   "source": [
    "### 4. Exploratory Data Analysis"
   ]
  },
  {
   "cell_type": "markdown",
   "metadata": {},
   "source": [
    "#### i) Property types distribution"
   ]
  },
  {
   "cell_type": "code",
   "execution_count": 30,
   "metadata": {},
   "outputs": [
    {
     "data": {
      "application/vnd.plotly.v1+json": {
       "config": {
        "plotlyServerURL": "https://plot.ly"
       },
       "data": [
        {
         "domain": {
          "x": [
           0,
           1
          ],
          "y": [
           0,
           1
          ]
         },
         "hovertemplate": "index=%{label}<br>property_type=%{value}<extra></extra>",
         "labels": [
          "Entire apartment",
          "Entire villa",
          "Entire house",
          "Entire condominium",
          "Other"
         ],
         "legendgroup": "",
         "name": "",
         "showlegend": true,
         "type": "pie",
         "values": [
          0.3156535216118478,
          0.2283451007404856,
          0.20561391424143274,
          0.052695023247804375,
          0.19769244015842946
         ]
        }
       ],
       "layout": {
        "legend": {
         "tracegroupgap": 0
        },
        "piecolorway": [
         "#ddbea9",
         "#ffe8d6",
         "#b7b7a4",
         "#6b705c"
        ],
        "template": {
         "data": {
          "bar": [
           {
            "error_x": {
             "color": "#2a3f5f"
            },
            "error_y": {
             "color": "#2a3f5f"
            },
            "marker": {
             "line": {
              "color": "#E5ECF6",
              "width": 0.5
             },
             "pattern": {
              "fillmode": "overlay",
              "size": 10,
              "solidity": 0.2
             }
            },
            "type": "bar"
           }
          ],
          "barpolar": [
           {
            "marker": {
             "line": {
              "color": "#E5ECF6",
              "width": 0.5
             },
             "pattern": {
              "fillmode": "overlay",
              "size": 10,
              "solidity": 0.2
             }
            },
            "type": "barpolar"
           }
          ],
          "carpet": [
           {
            "aaxis": {
             "endlinecolor": "#2a3f5f",
             "gridcolor": "white",
             "linecolor": "white",
             "minorgridcolor": "white",
             "startlinecolor": "#2a3f5f"
            },
            "baxis": {
             "endlinecolor": "#2a3f5f",
             "gridcolor": "white",
             "linecolor": "white",
             "minorgridcolor": "white",
             "startlinecolor": "#2a3f5f"
            },
            "type": "carpet"
           }
          ],
          "choropleth": [
           {
            "colorbar": {
             "outlinewidth": 0,
             "ticks": ""
            },
            "type": "choropleth"
           }
          ],
          "contour": [
           {
            "colorbar": {
             "outlinewidth": 0,
             "ticks": ""
            },
            "colorscale": [
             [
              0,
              "#0d0887"
             ],
             [
              0.1111111111111111,
              "#46039f"
             ],
             [
              0.2222222222222222,
              "#7201a8"
             ],
             [
              0.3333333333333333,
              "#9c179e"
             ],
             [
              0.4444444444444444,
              "#bd3786"
             ],
             [
              0.5555555555555556,
              "#d8576b"
             ],
             [
              0.6666666666666666,
              "#ed7953"
             ],
             [
              0.7777777777777778,
              "#fb9f3a"
             ],
             [
              0.8888888888888888,
              "#fdca26"
             ],
             [
              1,
              "#f0f921"
             ]
            ],
            "type": "contour"
           }
          ],
          "contourcarpet": [
           {
            "colorbar": {
             "outlinewidth": 0,
             "ticks": ""
            },
            "type": "contourcarpet"
           }
          ],
          "heatmap": [
           {
            "colorbar": {
             "outlinewidth": 0,
             "ticks": ""
            },
            "colorscale": [
             [
              0,
              "#0d0887"
             ],
             [
              0.1111111111111111,
              "#46039f"
             ],
             [
              0.2222222222222222,
              "#7201a8"
             ],
             [
              0.3333333333333333,
              "#9c179e"
             ],
             [
              0.4444444444444444,
              "#bd3786"
             ],
             [
              0.5555555555555556,
              "#d8576b"
             ],
             [
              0.6666666666666666,
              "#ed7953"
             ],
             [
              0.7777777777777778,
              "#fb9f3a"
             ],
             [
              0.8888888888888888,
              "#fdca26"
             ],
             [
              1,
              "#f0f921"
             ]
            ],
            "type": "heatmap"
           }
          ],
          "heatmapgl": [
           {
            "colorbar": {
             "outlinewidth": 0,
             "ticks": ""
            },
            "colorscale": [
             [
              0,
              "#0d0887"
             ],
             [
              0.1111111111111111,
              "#46039f"
             ],
             [
              0.2222222222222222,
              "#7201a8"
             ],
             [
              0.3333333333333333,
              "#9c179e"
             ],
             [
              0.4444444444444444,
              "#bd3786"
             ],
             [
              0.5555555555555556,
              "#d8576b"
             ],
             [
              0.6666666666666666,
              "#ed7953"
             ],
             [
              0.7777777777777778,
              "#fb9f3a"
             ],
             [
              0.8888888888888888,
              "#fdca26"
             ],
             [
              1,
              "#f0f921"
             ]
            ],
            "type": "heatmapgl"
           }
          ],
          "histogram": [
           {
            "marker": {
             "pattern": {
              "fillmode": "overlay",
              "size": 10,
              "solidity": 0.2
             }
            },
            "type": "histogram"
           }
          ],
          "histogram2d": [
           {
            "colorbar": {
             "outlinewidth": 0,
             "ticks": ""
            },
            "colorscale": [
             [
              0,
              "#0d0887"
             ],
             [
              0.1111111111111111,
              "#46039f"
             ],
             [
              0.2222222222222222,
              "#7201a8"
             ],
             [
              0.3333333333333333,
              "#9c179e"
             ],
             [
              0.4444444444444444,
              "#bd3786"
             ],
             [
              0.5555555555555556,
              "#d8576b"
             ],
             [
              0.6666666666666666,
              "#ed7953"
             ],
             [
              0.7777777777777778,
              "#fb9f3a"
             ],
             [
              0.8888888888888888,
              "#fdca26"
             ],
             [
              1,
              "#f0f921"
             ]
            ],
            "type": "histogram2d"
           }
          ],
          "histogram2dcontour": [
           {
            "colorbar": {
             "outlinewidth": 0,
             "ticks": ""
            },
            "colorscale": [
             [
              0,
              "#0d0887"
             ],
             [
              0.1111111111111111,
              "#46039f"
             ],
             [
              0.2222222222222222,
              "#7201a8"
             ],
             [
              0.3333333333333333,
              "#9c179e"
             ],
             [
              0.4444444444444444,
              "#bd3786"
             ],
             [
              0.5555555555555556,
              "#d8576b"
             ],
             [
              0.6666666666666666,
              "#ed7953"
             ],
             [
              0.7777777777777778,
              "#fb9f3a"
             ],
             [
              0.8888888888888888,
              "#fdca26"
             ],
             [
              1,
              "#f0f921"
             ]
            ],
            "type": "histogram2dcontour"
           }
          ],
          "mesh3d": [
           {
            "colorbar": {
             "outlinewidth": 0,
             "ticks": ""
            },
            "type": "mesh3d"
           }
          ],
          "parcoords": [
           {
            "line": {
             "colorbar": {
              "outlinewidth": 0,
              "ticks": ""
             }
            },
            "type": "parcoords"
           }
          ],
          "pie": [
           {
            "automargin": true,
            "type": "pie"
           }
          ],
          "scatter": [
           {
            "marker": {
             "colorbar": {
              "outlinewidth": 0,
              "ticks": ""
             }
            },
            "type": "scatter"
           }
          ],
          "scatter3d": [
           {
            "line": {
             "colorbar": {
              "outlinewidth": 0,
              "ticks": ""
             }
            },
            "marker": {
             "colorbar": {
              "outlinewidth": 0,
              "ticks": ""
             }
            },
            "type": "scatter3d"
           }
          ],
          "scattercarpet": [
           {
            "marker": {
             "colorbar": {
              "outlinewidth": 0,
              "ticks": ""
             }
            },
            "type": "scattercarpet"
           }
          ],
          "scattergeo": [
           {
            "marker": {
             "colorbar": {
              "outlinewidth": 0,
              "ticks": ""
             }
            },
            "type": "scattergeo"
           }
          ],
          "scattergl": [
           {
            "marker": {
             "colorbar": {
              "outlinewidth": 0,
              "ticks": ""
             }
            },
            "type": "scattergl"
           }
          ],
          "scattermapbox": [
           {
            "marker": {
             "colorbar": {
              "outlinewidth": 0,
              "ticks": ""
             }
            },
            "type": "scattermapbox"
           }
          ],
          "scatterpolar": [
           {
            "marker": {
             "colorbar": {
              "outlinewidth": 0,
              "ticks": ""
             }
            },
            "type": "scatterpolar"
           }
          ],
          "scatterpolargl": [
           {
            "marker": {
             "colorbar": {
              "outlinewidth": 0,
              "ticks": ""
             }
            },
            "type": "scatterpolargl"
           }
          ],
          "scatterternary": [
           {
            "marker": {
             "colorbar": {
              "outlinewidth": 0,
              "ticks": ""
             }
            },
            "type": "scatterternary"
           }
          ],
          "surface": [
           {
            "colorbar": {
             "outlinewidth": 0,
             "ticks": ""
            },
            "colorscale": [
             [
              0,
              "#0d0887"
             ],
             [
              0.1111111111111111,
              "#46039f"
             ],
             [
              0.2222222222222222,
              "#7201a8"
             ],
             [
              0.3333333333333333,
              "#9c179e"
             ],
             [
              0.4444444444444444,
              "#bd3786"
             ],
             [
              0.5555555555555556,
              "#d8576b"
             ],
             [
              0.6666666666666666,
              "#ed7953"
             ],
             [
              0.7777777777777778,
              "#fb9f3a"
             ],
             [
              0.8888888888888888,
              "#fdca26"
             ],
             [
              1,
              "#f0f921"
             ]
            ],
            "type": "surface"
           }
          ],
          "table": [
           {
            "cells": {
             "fill": {
              "color": "#EBF0F8"
             },
             "line": {
              "color": "white"
             }
            },
            "header": {
             "fill": {
              "color": "#C8D4E3"
             },
             "line": {
              "color": "white"
             }
            },
            "type": "table"
           }
          ]
         },
         "layout": {
          "annotationdefaults": {
           "arrowcolor": "#2a3f5f",
           "arrowhead": 0,
           "arrowwidth": 1
          },
          "autotypenumbers": "strict",
          "coloraxis": {
           "colorbar": {
            "outlinewidth": 0,
            "ticks": ""
           }
          },
          "colorscale": {
           "diverging": [
            [
             0,
             "#8e0152"
            ],
            [
             0.1,
             "#c51b7d"
            ],
            [
             0.2,
             "#de77ae"
            ],
            [
             0.3,
             "#f1b6da"
            ],
            [
             0.4,
             "#fde0ef"
            ],
            [
             0.5,
             "#f7f7f7"
            ],
            [
             0.6,
             "#e6f5d0"
            ],
            [
             0.7,
             "#b8e186"
            ],
            [
             0.8,
             "#7fbc41"
            ],
            [
             0.9,
             "#4d9221"
            ],
            [
             1,
             "#276419"
            ]
           ],
           "sequential": [
            [
             0,
             "#0d0887"
            ],
            [
             0.1111111111111111,
             "#46039f"
            ],
            [
             0.2222222222222222,
             "#7201a8"
            ],
            [
             0.3333333333333333,
             "#9c179e"
            ],
            [
             0.4444444444444444,
             "#bd3786"
            ],
            [
             0.5555555555555556,
             "#d8576b"
            ],
            [
             0.6666666666666666,
             "#ed7953"
            ],
            [
             0.7777777777777778,
             "#fb9f3a"
            ],
            [
             0.8888888888888888,
             "#fdca26"
            ],
            [
             1,
             "#f0f921"
            ]
           ],
           "sequentialminus": [
            [
             0,
             "#0d0887"
            ],
            [
             0.1111111111111111,
             "#46039f"
            ],
            [
             0.2222222222222222,
             "#7201a8"
            ],
            [
             0.3333333333333333,
             "#9c179e"
            ],
            [
             0.4444444444444444,
             "#bd3786"
            ],
            [
             0.5555555555555556,
             "#d8576b"
            ],
            [
             0.6666666666666666,
             "#ed7953"
            ],
            [
             0.7777777777777778,
             "#fb9f3a"
            ],
            [
             0.8888888888888888,
             "#fdca26"
            ],
            [
             1,
             "#f0f921"
            ]
           ]
          },
          "colorway": [
           "#636efa",
           "#EF553B",
           "#00cc96",
           "#ab63fa",
           "#FFA15A",
           "#19d3f3",
           "#FF6692",
           "#B6E880",
           "#FF97FF",
           "#FECB52"
          ],
          "font": {
           "color": "#2a3f5f"
          },
          "geo": {
           "bgcolor": "white",
           "lakecolor": "white",
           "landcolor": "#E5ECF6",
           "showlakes": true,
           "showland": true,
           "subunitcolor": "white"
          },
          "hoverlabel": {
           "align": "left"
          },
          "hovermode": "closest",
          "mapbox": {
           "style": "light"
          },
          "paper_bgcolor": "white",
          "plot_bgcolor": "#E5ECF6",
          "polar": {
           "angularaxis": {
            "gridcolor": "white",
            "linecolor": "white",
            "ticks": ""
           },
           "bgcolor": "#E5ECF6",
           "radialaxis": {
            "gridcolor": "white",
            "linecolor": "white",
            "ticks": ""
           }
          },
          "scene": {
           "xaxis": {
            "backgroundcolor": "#E5ECF6",
            "gridcolor": "white",
            "gridwidth": 2,
            "linecolor": "white",
            "showbackground": true,
            "ticks": "",
            "zerolinecolor": "white"
           },
           "yaxis": {
            "backgroundcolor": "#E5ECF6",
            "gridcolor": "white",
            "gridwidth": 2,
            "linecolor": "white",
            "showbackground": true,
            "ticks": "",
            "zerolinecolor": "white"
           },
           "zaxis": {
            "backgroundcolor": "#E5ECF6",
            "gridcolor": "white",
            "gridwidth": 2,
            "linecolor": "white",
            "showbackground": true,
            "ticks": "",
            "zerolinecolor": "white"
           }
          },
          "shapedefaults": {
           "line": {
            "color": "#2a3f5f"
           }
          },
          "ternary": {
           "aaxis": {
            "gridcolor": "white",
            "linecolor": "white",
            "ticks": ""
           },
           "baxis": {
            "gridcolor": "white",
            "linecolor": "white",
            "ticks": ""
           },
           "bgcolor": "#E5ECF6",
           "caxis": {
            "gridcolor": "white",
            "linecolor": "white",
            "ticks": ""
           }
          },
          "title": {
           "x": 0.05
          },
          "xaxis": {
           "automargin": true,
           "gridcolor": "white",
           "linecolor": "white",
           "ticks": "",
           "title": {
            "standoff": 15
           },
           "zerolinecolor": "white",
           "zerolinewidth": 2
          },
          "yaxis": {
           "automargin": true,
           "gridcolor": "white",
           "linecolor": "white",
           "ticks": "",
           "title": {
            "standoff": 15
           },
           "zerolinecolor": "white",
           "zerolinewidth": 2
          }
         }
        },
        "title": {
         "text": "Property Types in Chania Region"
        }
       }
      },
      "text/html": [
       "<div>                            <div id=\"12150a39-6b40-40df-9085-0784e0eb54a8\" class=\"plotly-graph-div\" style=\"height:525px; width:100%;\"></div>            <script type=\"text/javascript\">                require([\"plotly\"], function(Plotly) {                    window.PLOTLYENV=window.PLOTLYENV || {};                                    if (document.getElementById(\"12150a39-6b40-40df-9085-0784e0eb54a8\")) {                    Plotly.newPlot(                        \"12150a39-6b40-40df-9085-0784e0eb54a8\",                        [{\"domain\":{\"x\":[0.0,1.0],\"y\":[0.0,1.0]},\"hovertemplate\":\"index=%{label}<br>property_type=%{value}<extra></extra>\",\"labels\":[\"Entire apartment\",\"Entire villa\",\"Entire house\",\"Entire condominium\",\"Other\"],\"legendgroup\":\"\",\"name\":\"\",\"showlegend\":true,\"type\":\"pie\",\"values\":[0.3156535216118478,0.2283451007404856,0.20561391424143274,0.052695023247804375,0.19769244015842946]}],                        {\"legend\":{\"tracegroupgap\":0},\"piecolorway\":[\"#ddbea9\",\"#ffe8d6\",\"#b7b7a4\",\"#6b705c\"],\"template\":{\"data\":{\"bar\":[{\"error_x\":{\"color\":\"#2a3f5f\"},\"error_y\":{\"color\":\"#2a3f5f\"},\"marker\":{\"line\":{\"color\":\"#E5ECF6\",\"width\":0.5},\"pattern\":{\"fillmode\":\"overlay\",\"size\":10,\"solidity\":0.2}},\"type\":\"bar\"}],\"barpolar\":[{\"marker\":{\"line\":{\"color\":\"#E5ECF6\",\"width\":0.5},\"pattern\":{\"fillmode\":\"overlay\",\"size\":10,\"solidity\":0.2}},\"type\":\"barpolar\"}],\"carpet\":[{\"aaxis\":{\"endlinecolor\":\"#2a3f5f\",\"gridcolor\":\"white\",\"linecolor\":\"white\",\"minorgridcolor\":\"white\",\"startlinecolor\":\"#2a3f5f\"},\"baxis\":{\"endlinecolor\":\"#2a3f5f\",\"gridcolor\":\"white\",\"linecolor\":\"white\",\"minorgridcolor\":\"white\",\"startlinecolor\":\"#2a3f5f\"},\"type\":\"carpet\"}],\"choropleth\":[{\"colorbar\":{\"outlinewidth\":0,\"ticks\":\"\"},\"type\":\"choropleth\"}],\"contour\":[{\"colorbar\":{\"outlinewidth\":0,\"ticks\":\"\"},\"colorscale\":[[0.0,\"#0d0887\"],[0.1111111111111111,\"#46039f\"],[0.2222222222222222,\"#7201a8\"],[0.3333333333333333,\"#9c179e\"],[0.4444444444444444,\"#bd3786\"],[0.5555555555555556,\"#d8576b\"],[0.6666666666666666,\"#ed7953\"],[0.7777777777777778,\"#fb9f3a\"],[0.8888888888888888,\"#fdca26\"],[1.0,\"#f0f921\"]],\"type\":\"contour\"}],\"contourcarpet\":[{\"colorbar\":{\"outlinewidth\":0,\"ticks\":\"\"},\"type\":\"contourcarpet\"}],\"heatmap\":[{\"colorbar\":{\"outlinewidth\":0,\"ticks\":\"\"},\"colorscale\":[[0.0,\"#0d0887\"],[0.1111111111111111,\"#46039f\"],[0.2222222222222222,\"#7201a8\"],[0.3333333333333333,\"#9c179e\"],[0.4444444444444444,\"#bd3786\"],[0.5555555555555556,\"#d8576b\"],[0.6666666666666666,\"#ed7953\"],[0.7777777777777778,\"#fb9f3a\"],[0.8888888888888888,\"#fdca26\"],[1.0,\"#f0f921\"]],\"type\":\"heatmap\"}],\"heatmapgl\":[{\"colorbar\":{\"outlinewidth\":0,\"ticks\":\"\"},\"colorscale\":[[0.0,\"#0d0887\"],[0.1111111111111111,\"#46039f\"],[0.2222222222222222,\"#7201a8\"],[0.3333333333333333,\"#9c179e\"],[0.4444444444444444,\"#bd3786\"],[0.5555555555555556,\"#d8576b\"],[0.6666666666666666,\"#ed7953\"],[0.7777777777777778,\"#fb9f3a\"],[0.8888888888888888,\"#fdca26\"],[1.0,\"#f0f921\"]],\"type\":\"heatmapgl\"}],\"histogram\":[{\"marker\":{\"pattern\":{\"fillmode\":\"overlay\",\"size\":10,\"solidity\":0.2}},\"type\":\"histogram\"}],\"histogram2d\":[{\"colorbar\":{\"outlinewidth\":0,\"ticks\":\"\"},\"colorscale\":[[0.0,\"#0d0887\"],[0.1111111111111111,\"#46039f\"],[0.2222222222222222,\"#7201a8\"],[0.3333333333333333,\"#9c179e\"],[0.4444444444444444,\"#bd3786\"],[0.5555555555555556,\"#d8576b\"],[0.6666666666666666,\"#ed7953\"],[0.7777777777777778,\"#fb9f3a\"],[0.8888888888888888,\"#fdca26\"],[1.0,\"#f0f921\"]],\"type\":\"histogram2d\"}],\"histogram2dcontour\":[{\"colorbar\":{\"outlinewidth\":0,\"ticks\":\"\"},\"colorscale\":[[0.0,\"#0d0887\"],[0.1111111111111111,\"#46039f\"],[0.2222222222222222,\"#7201a8\"],[0.3333333333333333,\"#9c179e\"],[0.4444444444444444,\"#bd3786\"],[0.5555555555555556,\"#d8576b\"],[0.6666666666666666,\"#ed7953\"],[0.7777777777777778,\"#fb9f3a\"],[0.8888888888888888,\"#fdca26\"],[1.0,\"#f0f921\"]],\"type\":\"histogram2dcontour\"}],\"mesh3d\":[{\"colorbar\":{\"outlinewidth\":0,\"ticks\":\"\"},\"type\":\"mesh3d\"}],\"parcoords\":[{\"line\":{\"colorbar\":{\"outlinewidth\":0,\"ticks\":\"\"}},\"type\":\"parcoords\"}],\"pie\":[{\"automargin\":true,\"type\":\"pie\"}],\"scatter\":[{\"marker\":{\"colorbar\":{\"outlinewidth\":0,\"ticks\":\"\"}},\"type\":\"scatter\"}],\"scatter3d\":[{\"line\":{\"colorbar\":{\"outlinewidth\":0,\"ticks\":\"\"}},\"marker\":{\"colorbar\":{\"outlinewidth\":0,\"ticks\":\"\"}},\"type\":\"scatter3d\"}],\"scattercarpet\":[{\"marker\":{\"colorbar\":{\"outlinewidth\":0,\"ticks\":\"\"}},\"type\":\"scattercarpet\"}],\"scattergeo\":[{\"marker\":{\"colorbar\":{\"outlinewidth\":0,\"ticks\":\"\"}},\"type\":\"scattergeo\"}],\"scattergl\":[{\"marker\":{\"colorbar\":{\"outlinewidth\":0,\"ticks\":\"\"}},\"type\":\"scattergl\"}],\"scattermapbox\":[{\"marker\":{\"colorbar\":{\"outlinewidth\":0,\"ticks\":\"\"}},\"type\":\"scattermapbox\"}],\"scatterpolar\":[{\"marker\":{\"colorbar\":{\"outlinewidth\":0,\"ticks\":\"\"}},\"type\":\"scatterpolar\"}],\"scatterpolargl\":[{\"marker\":{\"colorbar\":{\"outlinewidth\":0,\"ticks\":\"\"}},\"type\":\"scatterpolargl\"}],\"scatterternary\":[{\"marker\":{\"colorbar\":{\"outlinewidth\":0,\"ticks\":\"\"}},\"type\":\"scatterternary\"}],\"surface\":[{\"colorbar\":{\"outlinewidth\":0,\"ticks\":\"\"},\"colorscale\":[[0.0,\"#0d0887\"],[0.1111111111111111,\"#46039f\"],[0.2222222222222222,\"#7201a8\"],[0.3333333333333333,\"#9c179e\"],[0.4444444444444444,\"#bd3786\"],[0.5555555555555556,\"#d8576b\"],[0.6666666666666666,\"#ed7953\"],[0.7777777777777778,\"#fb9f3a\"],[0.8888888888888888,\"#fdca26\"],[1.0,\"#f0f921\"]],\"type\":\"surface\"}],\"table\":[{\"cells\":{\"fill\":{\"color\":\"#EBF0F8\"},\"line\":{\"color\":\"white\"}},\"header\":{\"fill\":{\"color\":\"#C8D4E3\"},\"line\":{\"color\":\"white\"}},\"type\":\"table\"}]},\"layout\":{\"annotationdefaults\":{\"arrowcolor\":\"#2a3f5f\",\"arrowhead\":0,\"arrowwidth\":1},\"autotypenumbers\":\"strict\",\"coloraxis\":{\"colorbar\":{\"outlinewidth\":0,\"ticks\":\"\"}},\"colorscale\":{\"diverging\":[[0,\"#8e0152\"],[0.1,\"#c51b7d\"],[0.2,\"#de77ae\"],[0.3,\"#f1b6da\"],[0.4,\"#fde0ef\"],[0.5,\"#f7f7f7\"],[0.6,\"#e6f5d0\"],[0.7,\"#b8e186\"],[0.8,\"#7fbc41\"],[0.9,\"#4d9221\"],[1,\"#276419\"]],\"sequential\":[[0.0,\"#0d0887\"],[0.1111111111111111,\"#46039f\"],[0.2222222222222222,\"#7201a8\"],[0.3333333333333333,\"#9c179e\"],[0.4444444444444444,\"#bd3786\"],[0.5555555555555556,\"#d8576b\"],[0.6666666666666666,\"#ed7953\"],[0.7777777777777778,\"#fb9f3a\"],[0.8888888888888888,\"#fdca26\"],[1.0,\"#f0f921\"]],\"sequentialminus\":[[0.0,\"#0d0887\"],[0.1111111111111111,\"#46039f\"],[0.2222222222222222,\"#7201a8\"],[0.3333333333333333,\"#9c179e\"],[0.4444444444444444,\"#bd3786\"],[0.5555555555555556,\"#d8576b\"],[0.6666666666666666,\"#ed7953\"],[0.7777777777777778,\"#fb9f3a\"],[0.8888888888888888,\"#fdca26\"],[1.0,\"#f0f921\"]]},\"colorway\":[\"#636efa\",\"#EF553B\",\"#00cc96\",\"#ab63fa\",\"#FFA15A\",\"#19d3f3\",\"#FF6692\",\"#B6E880\",\"#FF97FF\",\"#FECB52\"],\"font\":{\"color\":\"#2a3f5f\"},\"geo\":{\"bgcolor\":\"white\",\"lakecolor\":\"white\",\"landcolor\":\"#E5ECF6\",\"showlakes\":true,\"showland\":true,\"subunitcolor\":\"white\"},\"hoverlabel\":{\"align\":\"left\"},\"hovermode\":\"closest\",\"mapbox\":{\"style\":\"light\"},\"paper_bgcolor\":\"white\",\"plot_bgcolor\":\"#E5ECF6\",\"polar\":{\"angularaxis\":{\"gridcolor\":\"white\",\"linecolor\":\"white\",\"ticks\":\"\"},\"bgcolor\":\"#E5ECF6\",\"radialaxis\":{\"gridcolor\":\"white\",\"linecolor\":\"white\",\"ticks\":\"\"}},\"scene\":{\"xaxis\":{\"backgroundcolor\":\"#E5ECF6\",\"gridcolor\":\"white\",\"gridwidth\":2,\"linecolor\":\"white\",\"showbackground\":true,\"ticks\":\"\",\"zerolinecolor\":\"white\"},\"yaxis\":{\"backgroundcolor\":\"#E5ECF6\",\"gridcolor\":\"white\",\"gridwidth\":2,\"linecolor\":\"white\",\"showbackground\":true,\"ticks\":\"\",\"zerolinecolor\":\"white\"},\"zaxis\":{\"backgroundcolor\":\"#E5ECF6\",\"gridcolor\":\"white\",\"gridwidth\":2,\"linecolor\":\"white\",\"showbackground\":true,\"ticks\":\"\",\"zerolinecolor\":\"white\"}},\"shapedefaults\":{\"line\":{\"color\":\"#2a3f5f\"}},\"ternary\":{\"aaxis\":{\"gridcolor\":\"white\",\"linecolor\":\"white\",\"ticks\":\"\"},\"baxis\":{\"gridcolor\":\"white\",\"linecolor\":\"white\",\"ticks\":\"\"},\"bgcolor\":\"#E5ECF6\",\"caxis\":{\"gridcolor\":\"white\",\"linecolor\":\"white\",\"ticks\":\"\"}},\"title\":{\"x\":0.05},\"xaxis\":{\"automargin\":true,\"gridcolor\":\"white\",\"linecolor\":\"white\",\"ticks\":\"\",\"title\":{\"standoff\":15},\"zerolinecolor\":\"white\",\"zerolinewidth\":2},\"yaxis\":{\"automargin\":true,\"gridcolor\":\"white\",\"linecolor\":\"white\",\"ticks\":\"\",\"title\":{\"standoff\":15},\"zerolinecolor\":\"white\",\"zerolinewidth\":2}}},\"title\":{\"text\":\"Property Types in Chania Region\"}},                        {\"responsive\": true}                    ).then(function(){\n",
       "                            \n",
       "var gd = document.getElementById('12150a39-6b40-40df-9085-0784e0eb54a8');\n",
       "var x = new MutationObserver(function (mutations, observer) {{\n",
       "        var display = window.getComputedStyle(gd).display;\n",
       "        if (!display || display === 'none') {{\n",
       "            console.log([gd, 'removed!']);\n",
       "            Plotly.purge(gd);\n",
       "            observer.disconnect();\n",
       "        }}\n",
       "}});\n",
       "\n",
       "// Listen for the removal of the full notebook cells\n",
       "var notebookContainer = gd.closest('#notebook-container');\n",
       "if (notebookContainer) {{\n",
       "    x.observe(notebookContainer, {childList: true});\n",
       "}}\n",
       "\n",
       "// Listen for the clearing of the current output cell\n",
       "var outputEl = gd.closest('.output');\n",
       "if (outputEl) {{\n",
       "    x.observe(outputEl, {childList: true});\n",
       "}}\n",
       "\n",
       "                        })                };                });            </script>        </div>"
      ]
     },
     "metadata": {},
     "output_type": "display_data"
    }
   ],
   "source": [
    "# Show distribution of property types\n",
    "df_p_types = pd.DataFrame(df_listings.property_type.value_counts()/df_listings.shape[0])\n",
    "\n",
    "# Assign properties that are <4% to Other category\n",
    "threshold = 0.04\n",
    "\n",
    "# First take the properties that are >threshold to the dataframe that we will use for charting\n",
    "df_p_types_chart = df_p_types[df_p_types.property_type>=threshold]\n",
    "\n",
    "# Create Other bucket by summing all the values with <threshold\n",
    "df_other = pd.DataFrame(df_p_types.loc[df_p_types.property_type<threshold,\"property_type\"].sum(), columns=['property_type'], index=['Other'])\n",
    "\n",
    "# Add to dataframe\n",
    "df_p_types_chart= df_p_types_chart.append(df_other)\n",
    "\n",
    "# Plot using Plotly\n",
    "fig = px.pie(df_p_types_chart, values='property_type', names=df_p_types_chart.index, title='Property Types in Chania Region' ,\n",
    "             color_discrete_sequence= ['#ddbea9', '#ffe8d6', '#b7b7a4',\n",
    "                '#6b705c'])\n",
    "\n",
    "fig"
   ]
  },
  {
   "cell_type": "markdown",
   "metadata": {},
   "source": [
    "#### ii) Rental by City "
   ]
  },
  {
   "cell_type": "code",
   "execution_count": 31,
   "metadata": {
    "scrolled": false
   },
   "outputs": [
    {
     "data": {
      "application/vnd.plotly.v1+json": {
       "config": {
        "plotlyServerURL": "https://plot.ly"
       },
       "data": [
        {
         "domain": {
          "x": [
           0,
           1
          ],
          "y": [
           0,
           1
          ]
         },
         "hovertemplate": "index=%{label}<br>neighbourhood_group=%{value}<extra></extra>",
         "labels": [
          "Chania",
          "Apokoronas",
          "Kissamos",
          "Platanias",
          "Kandanos",
          "Sfakia",
          "Gaudos"
         ],
         "legendgroup": "",
         "name": "",
         "showlegend": true,
         "type": "pie",
         "values": [
          0.5142069915619081,
          0.1598071293266747,
          0.14293094541071122,
          0.12261064232822455,
          0.038918546581711726,
          0.02066471499913897,
          0.0008610297916307905
         ]
        }
       ],
       "layout": {
        "legend": {
         "tracegroupgap": 0
        },
        "piecolorway": [
         "#ddbea9",
         "#ffe8d6",
         "#b7b7a4",
         "#6b705c",
         "#1d3557",
         "#8ecae6"
        ],
        "template": {
         "data": {
          "bar": [
           {
            "error_x": {
             "color": "#2a3f5f"
            },
            "error_y": {
             "color": "#2a3f5f"
            },
            "marker": {
             "line": {
              "color": "#E5ECF6",
              "width": 0.5
             },
             "pattern": {
              "fillmode": "overlay",
              "size": 10,
              "solidity": 0.2
             }
            },
            "type": "bar"
           }
          ],
          "barpolar": [
           {
            "marker": {
             "line": {
              "color": "#E5ECF6",
              "width": 0.5
             },
             "pattern": {
              "fillmode": "overlay",
              "size": 10,
              "solidity": 0.2
             }
            },
            "type": "barpolar"
           }
          ],
          "carpet": [
           {
            "aaxis": {
             "endlinecolor": "#2a3f5f",
             "gridcolor": "white",
             "linecolor": "white",
             "minorgridcolor": "white",
             "startlinecolor": "#2a3f5f"
            },
            "baxis": {
             "endlinecolor": "#2a3f5f",
             "gridcolor": "white",
             "linecolor": "white",
             "minorgridcolor": "white",
             "startlinecolor": "#2a3f5f"
            },
            "type": "carpet"
           }
          ],
          "choropleth": [
           {
            "colorbar": {
             "outlinewidth": 0,
             "ticks": ""
            },
            "type": "choropleth"
           }
          ],
          "contour": [
           {
            "colorbar": {
             "outlinewidth": 0,
             "ticks": ""
            },
            "colorscale": [
             [
              0,
              "#0d0887"
             ],
             [
              0.1111111111111111,
              "#46039f"
             ],
             [
              0.2222222222222222,
              "#7201a8"
             ],
             [
              0.3333333333333333,
              "#9c179e"
             ],
             [
              0.4444444444444444,
              "#bd3786"
             ],
             [
              0.5555555555555556,
              "#d8576b"
             ],
             [
              0.6666666666666666,
              "#ed7953"
             ],
             [
              0.7777777777777778,
              "#fb9f3a"
             ],
             [
              0.8888888888888888,
              "#fdca26"
             ],
             [
              1,
              "#f0f921"
             ]
            ],
            "type": "contour"
           }
          ],
          "contourcarpet": [
           {
            "colorbar": {
             "outlinewidth": 0,
             "ticks": ""
            },
            "type": "contourcarpet"
           }
          ],
          "heatmap": [
           {
            "colorbar": {
             "outlinewidth": 0,
             "ticks": ""
            },
            "colorscale": [
             [
              0,
              "#0d0887"
             ],
             [
              0.1111111111111111,
              "#46039f"
             ],
             [
              0.2222222222222222,
              "#7201a8"
             ],
             [
              0.3333333333333333,
              "#9c179e"
             ],
             [
              0.4444444444444444,
              "#bd3786"
             ],
             [
              0.5555555555555556,
              "#d8576b"
             ],
             [
              0.6666666666666666,
              "#ed7953"
             ],
             [
              0.7777777777777778,
              "#fb9f3a"
             ],
             [
              0.8888888888888888,
              "#fdca26"
             ],
             [
              1,
              "#f0f921"
             ]
            ],
            "type": "heatmap"
           }
          ],
          "heatmapgl": [
           {
            "colorbar": {
             "outlinewidth": 0,
             "ticks": ""
            },
            "colorscale": [
             [
              0,
              "#0d0887"
             ],
             [
              0.1111111111111111,
              "#46039f"
             ],
             [
              0.2222222222222222,
              "#7201a8"
             ],
             [
              0.3333333333333333,
              "#9c179e"
             ],
             [
              0.4444444444444444,
              "#bd3786"
             ],
             [
              0.5555555555555556,
              "#d8576b"
             ],
             [
              0.6666666666666666,
              "#ed7953"
             ],
             [
              0.7777777777777778,
              "#fb9f3a"
             ],
             [
              0.8888888888888888,
              "#fdca26"
             ],
             [
              1,
              "#f0f921"
             ]
            ],
            "type": "heatmapgl"
           }
          ],
          "histogram": [
           {
            "marker": {
             "pattern": {
              "fillmode": "overlay",
              "size": 10,
              "solidity": 0.2
             }
            },
            "type": "histogram"
           }
          ],
          "histogram2d": [
           {
            "colorbar": {
             "outlinewidth": 0,
             "ticks": ""
            },
            "colorscale": [
             [
              0,
              "#0d0887"
             ],
             [
              0.1111111111111111,
              "#46039f"
             ],
             [
              0.2222222222222222,
              "#7201a8"
             ],
             [
              0.3333333333333333,
              "#9c179e"
             ],
             [
              0.4444444444444444,
              "#bd3786"
             ],
             [
              0.5555555555555556,
              "#d8576b"
             ],
             [
              0.6666666666666666,
              "#ed7953"
             ],
             [
              0.7777777777777778,
              "#fb9f3a"
             ],
             [
              0.8888888888888888,
              "#fdca26"
             ],
             [
              1,
              "#f0f921"
             ]
            ],
            "type": "histogram2d"
           }
          ],
          "histogram2dcontour": [
           {
            "colorbar": {
             "outlinewidth": 0,
             "ticks": ""
            },
            "colorscale": [
             [
              0,
              "#0d0887"
             ],
             [
              0.1111111111111111,
              "#46039f"
             ],
             [
              0.2222222222222222,
              "#7201a8"
             ],
             [
              0.3333333333333333,
              "#9c179e"
             ],
             [
              0.4444444444444444,
              "#bd3786"
             ],
             [
              0.5555555555555556,
              "#d8576b"
             ],
             [
              0.6666666666666666,
              "#ed7953"
             ],
             [
              0.7777777777777778,
              "#fb9f3a"
             ],
             [
              0.8888888888888888,
              "#fdca26"
             ],
             [
              1,
              "#f0f921"
             ]
            ],
            "type": "histogram2dcontour"
           }
          ],
          "mesh3d": [
           {
            "colorbar": {
             "outlinewidth": 0,
             "ticks": ""
            },
            "type": "mesh3d"
           }
          ],
          "parcoords": [
           {
            "line": {
             "colorbar": {
              "outlinewidth": 0,
              "ticks": ""
             }
            },
            "type": "parcoords"
           }
          ],
          "pie": [
           {
            "automargin": true,
            "type": "pie"
           }
          ],
          "scatter": [
           {
            "marker": {
             "colorbar": {
              "outlinewidth": 0,
              "ticks": ""
             }
            },
            "type": "scatter"
           }
          ],
          "scatter3d": [
           {
            "line": {
             "colorbar": {
              "outlinewidth": 0,
              "ticks": ""
             }
            },
            "marker": {
             "colorbar": {
              "outlinewidth": 0,
              "ticks": ""
             }
            },
            "type": "scatter3d"
           }
          ],
          "scattercarpet": [
           {
            "marker": {
             "colorbar": {
              "outlinewidth": 0,
              "ticks": ""
             }
            },
            "type": "scattercarpet"
           }
          ],
          "scattergeo": [
           {
            "marker": {
             "colorbar": {
              "outlinewidth": 0,
              "ticks": ""
             }
            },
            "type": "scattergeo"
           }
          ],
          "scattergl": [
           {
            "marker": {
             "colorbar": {
              "outlinewidth": 0,
              "ticks": ""
             }
            },
            "type": "scattergl"
           }
          ],
          "scattermapbox": [
           {
            "marker": {
             "colorbar": {
              "outlinewidth": 0,
              "ticks": ""
             }
            },
            "type": "scattermapbox"
           }
          ],
          "scatterpolar": [
           {
            "marker": {
             "colorbar": {
              "outlinewidth": 0,
              "ticks": ""
             }
            },
            "type": "scatterpolar"
           }
          ],
          "scatterpolargl": [
           {
            "marker": {
             "colorbar": {
              "outlinewidth": 0,
              "ticks": ""
             }
            },
            "type": "scatterpolargl"
           }
          ],
          "scatterternary": [
           {
            "marker": {
             "colorbar": {
              "outlinewidth": 0,
              "ticks": ""
             }
            },
            "type": "scatterternary"
           }
          ],
          "surface": [
           {
            "colorbar": {
             "outlinewidth": 0,
             "ticks": ""
            },
            "colorscale": [
             [
              0,
              "#0d0887"
             ],
             [
              0.1111111111111111,
              "#46039f"
             ],
             [
              0.2222222222222222,
              "#7201a8"
             ],
             [
              0.3333333333333333,
              "#9c179e"
             ],
             [
              0.4444444444444444,
              "#bd3786"
             ],
             [
              0.5555555555555556,
              "#d8576b"
             ],
             [
              0.6666666666666666,
              "#ed7953"
             ],
             [
              0.7777777777777778,
              "#fb9f3a"
             ],
             [
              0.8888888888888888,
              "#fdca26"
             ],
             [
              1,
              "#f0f921"
             ]
            ],
            "type": "surface"
           }
          ],
          "table": [
           {
            "cells": {
             "fill": {
              "color": "#EBF0F8"
             },
             "line": {
              "color": "white"
             }
            },
            "header": {
             "fill": {
              "color": "#C8D4E3"
             },
             "line": {
              "color": "white"
             }
            },
            "type": "table"
           }
          ]
         },
         "layout": {
          "annotationdefaults": {
           "arrowcolor": "#2a3f5f",
           "arrowhead": 0,
           "arrowwidth": 1
          },
          "autotypenumbers": "strict",
          "coloraxis": {
           "colorbar": {
            "outlinewidth": 0,
            "ticks": ""
           }
          },
          "colorscale": {
           "diverging": [
            [
             0,
             "#8e0152"
            ],
            [
             0.1,
             "#c51b7d"
            ],
            [
             0.2,
             "#de77ae"
            ],
            [
             0.3,
             "#f1b6da"
            ],
            [
             0.4,
             "#fde0ef"
            ],
            [
             0.5,
             "#f7f7f7"
            ],
            [
             0.6,
             "#e6f5d0"
            ],
            [
             0.7,
             "#b8e186"
            ],
            [
             0.8,
             "#7fbc41"
            ],
            [
             0.9,
             "#4d9221"
            ],
            [
             1,
             "#276419"
            ]
           ],
           "sequential": [
            [
             0,
             "#0d0887"
            ],
            [
             0.1111111111111111,
             "#46039f"
            ],
            [
             0.2222222222222222,
             "#7201a8"
            ],
            [
             0.3333333333333333,
             "#9c179e"
            ],
            [
             0.4444444444444444,
             "#bd3786"
            ],
            [
             0.5555555555555556,
             "#d8576b"
            ],
            [
             0.6666666666666666,
             "#ed7953"
            ],
            [
             0.7777777777777778,
             "#fb9f3a"
            ],
            [
             0.8888888888888888,
             "#fdca26"
            ],
            [
             1,
             "#f0f921"
            ]
           ],
           "sequentialminus": [
            [
             0,
             "#0d0887"
            ],
            [
             0.1111111111111111,
             "#46039f"
            ],
            [
             0.2222222222222222,
             "#7201a8"
            ],
            [
             0.3333333333333333,
             "#9c179e"
            ],
            [
             0.4444444444444444,
             "#bd3786"
            ],
            [
             0.5555555555555556,
             "#d8576b"
            ],
            [
             0.6666666666666666,
             "#ed7953"
            ],
            [
             0.7777777777777778,
             "#fb9f3a"
            ],
            [
             0.8888888888888888,
             "#fdca26"
            ],
            [
             1,
             "#f0f921"
            ]
           ]
          },
          "colorway": [
           "#636efa",
           "#EF553B",
           "#00cc96",
           "#ab63fa",
           "#FFA15A",
           "#19d3f3",
           "#FF6692",
           "#B6E880",
           "#FF97FF",
           "#FECB52"
          ],
          "font": {
           "color": "#2a3f5f"
          },
          "geo": {
           "bgcolor": "white",
           "lakecolor": "white",
           "landcolor": "#E5ECF6",
           "showlakes": true,
           "showland": true,
           "subunitcolor": "white"
          },
          "hoverlabel": {
           "align": "left"
          },
          "hovermode": "closest",
          "mapbox": {
           "style": "light"
          },
          "paper_bgcolor": "white",
          "plot_bgcolor": "#E5ECF6",
          "polar": {
           "angularaxis": {
            "gridcolor": "white",
            "linecolor": "white",
            "ticks": ""
           },
           "bgcolor": "#E5ECF6",
           "radialaxis": {
            "gridcolor": "white",
            "linecolor": "white",
            "ticks": ""
           }
          },
          "scene": {
           "xaxis": {
            "backgroundcolor": "#E5ECF6",
            "gridcolor": "white",
            "gridwidth": 2,
            "linecolor": "white",
            "showbackground": true,
            "ticks": "",
            "zerolinecolor": "white"
           },
           "yaxis": {
            "backgroundcolor": "#E5ECF6",
            "gridcolor": "white",
            "gridwidth": 2,
            "linecolor": "white",
            "showbackground": true,
            "ticks": "",
            "zerolinecolor": "white"
           },
           "zaxis": {
            "backgroundcolor": "#E5ECF6",
            "gridcolor": "white",
            "gridwidth": 2,
            "linecolor": "white",
            "showbackground": true,
            "ticks": "",
            "zerolinecolor": "white"
           }
          },
          "shapedefaults": {
           "line": {
            "color": "#2a3f5f"
           }
          },
          "ternary": {
           "aaxis": {
            "gridcolor": "white",
            "linecolor": "white",
            "ticks": ""
           },
           "baxis": {
            "gridcolor": "white",
            "linecolor": "white",
            "ticks": ""
           },
           "bgcolor": "#E5ECF6",
           "caxis": {
            "gridcolor": "white",
            "linecolor": "white",
            "ticks": ""
           }
          },
          "title": {
           "x": 0.05
          },
          "xaxis": {
           "automargin": true,
           "gridcolor": "white",
           "linecolor": "white",
           "ticks": "",
           "title": {
            "standoff": 15
           },
           "zerolinecolor": "white",
           "zerolinewidth": 2
          },
          "yaxis": {
           "automargin": true,
           "gridcolor": "white",
           "linecolor": "white",
           "ticks": "",
           "title": {
            "standoff": 15
           },
           "zerolinecolor": "white",
           "zerolinewidth": 2
          }
         }
        },
        "title": {
         "text": "Rentals by City"
        }
       }
      },
      "text/html": [
       "<div>                            <div id=\"01f306af-0709-48bf-9282-dece59fe0f6d\" class=\"plotly-graph-div\" style=\"height:525px; width:100%;\"></div>            <script type=\"text/javascript\">                require([\"plotly\"], function(Plotly) {                    window.PLOTLYENV=window.PLOTLYENV || {};                                    if (document.getElementById(\"01f306af-0709-48bf-9282-dece59fe0f6d\")) {                    Plotly.newPlot(                        \"01f306af-0709-48bf-9282-dece59fe0f6d\",                        [{\"domain\":{\"x\":[0.0,1.0],\"y\":[0.0,1.0]},\"hovertemplate\":\"index=%{label}<br>neighbourhood_group=%{value}<extra></extra>\",\"labels\":[\"Chania\",\"Apokoronas\",\"Kissamos\",\"Platanias\",\"Kandanos\",\"Sfakia\",\"Gaudos\"],\"legendgroup\":\"\",\"name\":\"\",\"showlegend\":true,\"type\":\"pie\",\"values\":[0.5142069915619081,0.1598071293266747,0.14293094541071122,0.12261064232822455,0.038918546581711726,0.02066471499913897,0.0008610297916307905]}],                        {\"legend\":{\"tracegroupgap\":0},\"piecolorway\":[\"#ddbea9\",\"#ffe8d6\",\"#b7b7a4\",\"#6b705c\",\"#1d3557\",\"#8ecae6\"],\"template\":{\"data\":{\"bar\":[{\"error_x\":{\"color\":\"#2a3f5f\"},\"error_y\":{\"color\":\"#2a3f5f\"},\"marker\":{\"line\":{\"color\":\"#E5ECF6\",\"width\":0.5},\"pattern\":{\"fillmode\":\"overlay\",\"size\":10,\"solidity\":0.2}},\"type\":\"bar\"}],\"barpolar\":[{\"marker\":{\"line\":{\"color\":\"#E5ECF6\",\"width\":0.5},\"pattern\":{\"fillmode\":\"overlay\",\"size\":10,\"solidity\":0.2}},\"type\":\"barpolar\"}],\"carpet\":[{\"aaxis\":{\"endlinecolor\":\"#2a3f5f\",\"gridcolor\":\"white\",\"linecolor\":\"white\",\"minorgridcolor\":\"white\",\"startlinecolor\":\"#2a3f5f\"},\"baxis\":{\"endlinecolor\":\"#2a3f5f\",\"gridcolor\":\"white\",\"linecolor\":\"white\",\"minorgridcolor\":\"white\",\"startlinecolor\":\"#2a3f5f\"},\"type\":\"carpet\"}],\"choropleth\":[{\"colorbar\":{\"outlinewidth\":0,\"ticks\":\"\"},\"type\":\"choropleth\"}],\"contour\":[{\"colorbar\":{\"outlinewidth\":0,\"ticks\":\"\"},\"colorscale\":[[0.0,\"#0d0887\"],[0.1111111111111111,\"#46039f\"],[0.2222222222222222,\"#7201a8\"],[0.3333333333333333,\"#9c179e\"],[0.4444444444444444,\"#bd3786\"],[0.5555555555555556,\"#d8576b\"],[0.6666666666666666,\"#ed7953\"],[0.7777777777777778,\"#fb9f3a\"],[0.8888888888888888,\"#fdca26\"],[1.0,\"#f0f921\"]],\"type\":\"contour\"}],\"contourcarpet\":[{\"colorbar\":{\"outlinewidth\":0,\"ticks\":\"\"},\"type\":\"contourcarpet\"}],\"heatmap\":[{\"colorbar\":{\"outlinewidth\":0,\"ticks\":\"\"},\"colorscale\":[[0.0,\"#0d0887\"],[0.1111111111111111,\"#46039f\"],[0.2222222222222222,\"#7201a8\"],[0.3333333333333333,\"#9c179e\"],[0.4444444444444444,\"#bd3786\"],[0.5555555555555556,\"#d8576b\"],[0.6666666666666666,\"#ed7953\"],[0.7777777777777778,\"#fb9f3a\"],[0.8888888888888888,\"#fdca26\"],[1.0,\"#f0f921\"]],\"type\":\"heatmap\"}],\"heatmapgl\":[{\"colorbar\":{\"outlinewidth\":0,\"ticks\":\"\"},\"colorscale\":[[0.0,\"#0d0887\"],[0.1111111111111111,\"#46039f\"],[0.2222222222222222,\"#7201a8\"],[0.3333333333333333,\"#9c179e\"],[0.4444444444444444,\"#bd3786\"],[0.5555555555555556,\"#d8576b\"],[0.6666666666666666,\"#ed7953\"],[0.7777777777777778,\"#fb9f3a\"],[0.8888888888888888,\"#fdca26\"],[1.0,\"#f0f921\"]],\"type\":\"heatmapgl\"}],\"histogram\":[{\"marker\":{\"pattern\":{\"fillmode\":\"overlay\",\"size\":10,\"solidity\":0.2}},\"type\":\"histogram\"}],\"histogram2d\":[{\"colorbar\":{\"outlinewidth\":0,\"ticks\":\"\"},\"colorscale\":[[0.0,\"#0d0887\"],[0.1111111111111111,\"#46039f\"],[0.2222222222222222,\"#7201a8\"],[0.3333333333333333,\"#9c179e\"],[0.4444444444444444,\"#bd3786\"],[0.5555555555555556,\"#d8576b\"],[0.6666666666666666,\"#ed7953\"],[0.7777777777777778,\"#fb9f3a\"],[0.8888888888888888,\"#fdca26\"],[1.0,\"#f0f921\"]],\"type\":\"histogram2d\"}],\"histogram2dcontour\":[{\"colorbar\":{\"outlinewidth\":0,\"ticks\":\"\"},\"colorscale\":[[0.0,\"#0d0887\"],[0.1111111111111111,\"#46039f\"],[0.2222222222222222,\"#7201a8\"],[0.3333333333333333,\"#9c179e\"],[0.4444444444444444,\"#bd3786\"],[0.5555555555555556,\"#d8576b\"],[0.6666666666666666,\"#ed7953\"],[0.7777777777777778,\"#fb9f3a\"],[0.8888888888888888,\"#fdca26\"],[1.0,\"#f0f921\"]],\"type\":\"histogram2dcontour\"}],\"mesh3d\":[{\"colorbar\":{\"outlinewidth\":0,\"ticks\":\"\"},\"type\":\"mesh3d\"}],\"parcoords\":[{\"line\":{\"colorbar\":{\"outlinewidth\":0,\"ticks\":\"\"}},\"type\":\"parcoords\"}],\"pie\":[{\"automargin\":true,\"type\":\"pie\"}],\"scatter\":[{\"marker\":{\"colorbar\":{\"outlinewidth\":0,\"ticks\":\"\"}},\"type\":\"scatter\"}],\"scatter3d\":[{\"line\":{\"colorbar\":{\"outlinewidth\":0,\"ticks\":\"\"}},\"marker\":{\"colorbar\":{\"outlinewidth\":0,\"ticks\":\"\"}},\"type\":\"scatter3d\"}],\"scattercarpet\":[{\"marker\":{\"colorbar\":{\"outlinewidth\":0,\"ticks\":\"\"}},\"type\":\"scattercarpet\"}],\"scattergeo\":[{\"marker\":{\"colorbar\":{\"outlinewidth\":0,\"ticks\":\"\"}},\"type\":\"scattergeo\"}],\"scattergl\":[{\"marker\":{\"colorbar\":{\"outlinewidth\":0,\"ticks\":\"\"}},\"type\":\"scattergl\"}],\"scattermapbox\":[{\"marker\":{\"colorbar\":{\"outlinewidth\":0,\"ticks\":\"\"}},\"type\":\"scattermapbox\"}],\"scatterpolar\":[{\"marker\":{\"colorbar\":{\"outlinewidth\":0,\"ticks\":\"\"}},\"type\":\"scatterpolar\"}],\"scatterpolargl\":[{\"marker\":{\"colorbar\":{\"outlinewidth\":0,\"ticks\":\"\"}},\"type\":\"scatterpolargl\"}],\"scatterternary\":[{\"marker\":{\"colorbar\":{\"outlinewidth\":0,\"ticks\":\"\"}},\"type\":\"scatterternary\"}],\"surface\":[{\"colorbar\":{\"outlinewidth\":0,\"ticks\":\"\"},\"colorscale\":[[0.0,\"#0d0887\"],[0.1111111111111111,\"#46039f\"],[0.2222222222222222,\"#7201a8\"],[0.3333333333333333,\"#9c179e\"],[0.4444444444444444,\"#bd3786\"],[0.5555555555555556,\"#d8576b\"],[0.6666666666666666,\"#ed7953\"],[0.7777777777777778,\"#fb9f3a\"],[0.8888888888888888,\"#fdca26\"],[1.0,\"#f0f921\"]],\"type\":\"surface\"}],\"table\":[{\"cells\":{\"fill\":{\"color\":\"#EBF0F8\"},\"line\":{\"color\":\"white\"}},\"header\":{\"fill\":{\"color\":\"#C8D4E3\"},\"line\":{\"color\":\"white\"}},\"type\":\"table\"}]},\"layout\":{\"annotationdefaults\":{\"arrowcolor\":\"#2a3f5f\",\"arrowhead\":0,\"arrowwidth\":1},\"autotypenumbers\":\"strict\",\"coloraxis\":{\"colorbar\":{\"outlinewidth\":0,\"ticks\":\"\"}},\"colorscale\":{\"diverging\":[[0,\"#8e0152\"],[0.1,\"#c51b7d\"],[0.2,\"#de77ae\"],[0.3,\"#f1b6da\"],[0.4,\"#fde0ef\"],[0.5,\"#f7f7f7\"],[0.6,\"#e6f5d0\"],[0.7,\"#b8e186\"],[0.8,\"#7fbc41\"],[0.9,\"#4d9221\"],[1,\"#276419\"]],\"sequential\":[[0.0,\"#0d0887\"],[0.1111111111111111,\"#46039f\"],[0.2222222222222222,\"#7201a8\"],[0.3333333333333333,\"#9c179e\"],[0.4444444444444444,\"#bd3786\"],[0.5555555555555556,\"#d8576b\"],[0.6666666666666666,\"#ed7953\"],[0.7777777777777778,\"#fb9f3a\"],[0.8888888888888888,\"#fdca26\"],[1.0,\"#f0f921\"]],\"sequentialminus\":[[0.0,\"#0d0887\"],[0.1111111111111111,\"#46039f\"],[0.2222222222222222,\"#7201a8\"],[0.3333333333333333,\"#9c179e\"],[0.4444444444444444,\"#bd3786\"],[0.5555555555555556,\"#d8576b\"],[0.6666666666666666,\"#ed7953\"],[0.7777777777777778,\"#fb9f3a\"],[0.8888888888888888,\"#fdca26\"],[1.0,\"#f0f921\"]]},\"colorway\":[\"#636efa\",\"#EF553B\",\"#00cc96\",\"#ab63fa\",\"#FFA15A\",\"#19d3f3\",\"#FF6692\",\"#B6E880\",\"#FF97FF\",\"#FECB52\"],\"font\":{\"color\":\"#2a3f5f\"},\"geo\":{\"bgcolor\":\"white\",\"lakecolor\":\"white\",\"landcolor\":\"#E5ECF6\",\"showlakes\":true,\"showland\":true,\"subunitcolor\":\"white\"},\"hoverlabel\":{\"align\":\"left\"},\"hovermode\":\"closest\",\"mapbox\":{\"style\":\"light\"},\"paper_bgcolor\":\"white\",\"plot_bgcolor\":\"#E5ECF6\",\"polar\":{\"angularaxis\":{\"gridcolor\":\"white\",\"linecolor\":\"white\",\"ticks\":\"\"},\"bgcolor\":\"#E5ECF6\",\"radialaxis\":{\"gridcolor\":\"white\",\"linecolor\":\"white\",\"ticks\":\"\"}},\"scene\":{\"xaxis\":{\"backgroundcolor\":\"#E5ECF6\",\"gridcolor\":\"white\",\"gridwidth\":2,\"linecolor\":\"white\",\"showbackground\":true,\"ticks\":\"\",\"zerolinecolor\":\"white\"},\"yaxis\":{\"backgroundcolor\":\"#E5ECF6\",\"gridcolor\":\"white\",\"gridwidth\":2,\"linecolor\":\"white\",\"showbackground\":true,\"ticks\":\"\",\"zerolinecolor\":\"white\"},\"zaxis\":{\"backgroundcolor\":\"#E5ECF6\",\"gridcolor\":\"white\",\"gridwidth\":2,\"linecolor\":\"white\",\"showbackground\":true,\"ticks\":\"\",\"zerolinecolor\":\"white\"}},\"shapedefaults\":{\"line\":{\"color\":\"#2a3f5f\"}},\"ternary\":{\"aaxis\":{\"gridcolor\":\"white\",\"linecolor\":\"white\",\"ticks\":\"\"},\"baxis\":{\"gridcolor\":\"white\",\"linecolor\":\"white\",\"ticks\":\"\"},\"bgcolor\":\"#E5ECF6\",\"caxis\":{\"gridcolor\":\"white\",\"linecolor\":\"white\",\"ticks\":\"\"}},\"title\":{\"x\":0.05},\"xaxis\":{\"automargin\":true,\"gridcolor\":\"white\",\"linecolor\":\"white\",\"ticks\":\"\",\"title\":{\"standoff\":15},\"zerolinecolor\":\"white\",\"zerolinewidth\":2},\"yaxis\":{\"automargin\":true,\"gridcolor\":\"white\",\"linecolor\":\"white\",\"ticks\":\"\",\"title\":{\"standoff\":15},\"zerolinecolor\":\"white\",\"zerolinewidth\":2}}},\"title\":{\"text\":\"Rentals by City\"}},                        {\"responsive\": true}                    ).then(function(){\n",
       "                            \n",
       "var gd = document.getElementById('01f306af-0709-48bf-9282-dece59fe0f6d');\n",
       "var x = new MutationObserver(function (mutations, observer) {{\n",
       "        var display = window.getComputedStyle(gd).display;\n",
       "        if (!display || display === 'none') {{\n",
       "            console.log([gd, 'removed!']);\n",
       "            Plotly.purge(gd);\n",
       "            observer.disconnect();\n",
       "        }}\n",
       "}});\n",
       "\n",
       "// Listen for the removal of the full notebook cells\n",
       "var notebookContainer = gd.closest('#notebook-container');\n",
       "if (notebookContainer) {{\n",
       "    x.observe(notebookContainer, {childList: true});\n",
       "}}\n",
       "\n",
       "// Listen for the clearing of the current output cell\n",
       "var outputEl = gd.closest('.output');\n",
       "if (outputEl) {{\n",
       "    x.observe(outputEl, {childList: true});\n",
       "}}\n",
       "\n",
       "                        })                };                });            </script>        </div>"
      ]
     },
     "metadata": {},
     "output_type": "display_data"
    }
   ],
   "source": [
    "# Rentals by City\n",
    "df_count_neig = pd.DataFrame(df_listings.neighbourhood_group.value_counts()/df_listings.shape[0])\n",
    "\n",
    "fig = px.pie(df_count_neig, values='neighbourhood_group', names=df_count_neig.index,color_discrete_sequence=['#ddbea9', '#ffe8d6', '#b7b7a4',\n",
    "                '#6b705c','#1d3557','#8ecae6'], title='Rentals by City')\n",
    "fig"
   ]
  },
  {
   "cell_type": "markdown",
   "metadata": {},
   "source": [
    "#### iii) Distribution of prices by City"
   ]
  },
  {
   "cell_type": "code",
   "execution_count": 32,
   "metadata": {},
   "outputs": [
    {
     "data": {
      "application/vnd.plotly.v1+json": {
       "config": {
        "plotlyServerURL": "https://plot.ly"
       },
       "data": [
        {
         "alignmentgroup": "True",
         "hovertemplate": "City=%{x}<br>Price/Person=%{y}<extra></extra>",
         "legendgroup": "",
         "marker": {
          "color": "#00509d"
         },
         "name": "",
         "notched": false,
         "offsetgroup": "",
         "orientation": "v",
         "showlegend": false,
         "type": "box",
         "x": [
          "Chania",
          "Chania",
          "Chania",
          "Chania",
          "Chania",
          "Chania",
          "Chania",
          "Chania",
          "Chania",
          "Chania",
          "Chania",
          "Chania",
          "Chania",
          "Chania",
          "Chania",
          "Chania",
          "Chania",
          "Chania",
          "Chania",
          "Chania",
          "Chania",
          "Chania",
          "Chania",
          "Chania",
          "Chania",
          "Chania",
          "Chania",
          "Chania",
          "Chania",
          "Chania",
          "Chania",
          "Chania",
          "Chania",
          "Chania",
          "Chania",
          "Chania",
          "Chania",
          "Chania",
          "Chania",
          "Chania",
          "Chania",
          "Chania",
          "Chania",
          "Chania",
          "Chania",
          "Chania",
          "Chania",
          "Chania",
          "Chania",
          "Chania",
          "Chania",
          "Chania",
          "Chania",
          "Chania",
          "Chania",
          "Chania",
          "Chania",
          "Chania",
          "Chania",
          "Chania",
          "Chania",
          "Chania",
          "Chania",
          "Chania",
          "Chania",
          "Chania",
          "Chania",
          "Chania",
          "Chania",
          "Chania",
          "Chania",
          "Chania",
          "Chania",
          "Chania",
          "Chania",
          "Chania",
          "Chania",
          "Chania",
          "Chania",
          "Chania",
          "Chania",
          "Chania",
          "Chania",
          "Chania",
          "Chania",
          "Chania",
          "Chania",
          "Chania",
          "Chania",
          "Chania",
          "Chania",
          "Chania",
          "Chania",
          "Chania",
          "Chania",
          "Chania",
          "Chania",
          "Chania",
          "Chania",
          "Chania",
          "Chania",
          "Chania",
          "Chania",
          "Chania",
          "Chania",
          "Chania",
          "Chania",
          "Chania",
          "Chania",
          "Chania",
          "Chania",
          "Chania",
          "Chania",
          "Chania",
          "Chania",
          "Chania",
          "Chania",
          "Chania",
          "Chania",
          "Chania",
          "Chania",
          "Chania",
          "Chania",
          "Chania",
          "Chania",
          "Chania",
          "Chania",
          "Chania",
          "Chania",
          "Chania",
          "Chania",
          "Chania",
          "Chania",
          "Chania",
          "Chania",
          "Chania",
          "Chania",
          "Chania",
          "Chania",
          "Chania",
          "Chania",
          "Chania",
          "Chania",
          "Chania",
          "Chania",
          "Chania",
          "Chania",
          "Chania",
          "Chania",
          "Chania",
          "Chania",
          "Chania",
          "Chania",
          "Chania",
          "Chania",
          "Chania",
          "Chania",
          "Chania",
          "Chania",
          "Chania",
          "Chania",
          "Chania",
          "Chania",
          "Chania",
          "Chania",
          "Chania",
          "Chania",
          "Chania",
          "Chania",
          "Chania",
          "Chania",
          "Chania",
          "Chania",
          "Chania",
          "Chania",
          "Chania",
          "Chania",
          "Chania",
          "Chania",
          "Chania",
          "Chania",
          "Chania",
          "Chania",
          "Chania",
          "Chania",
          "Chania",
          "Chania",
          "Chania",
          "Chania",
          "Chania",
          "Chania",
          "Chania",
          "Chania",
          "Chania",
          "Chania",
          "Chania",
          "Chania",
          "Chania",
          "Chania",
          "Chania",
          "Chania",
          "Chania",
          "Chania",
          "Chania",
          "Chania",
          "Chania",
          "Chania",
          "Chania",
          "Chania",
          "Chania",
          "Chania",
          "Chania",
          "Chania",
          "Chania",
          "Chania",
          "Chania",
          "Chania",
          "Chania",
          "Chania",
          "Chania",
          "Chania",
          "Chania",
          "Chania",
          "Chania",
          "Chania",
          "Chania",
          "Chania",
          "Chania",
          "Chania",
          "Chania",
          "Chania",
          "Chania",
          "Chania",
          "Chania",
          "Chania",
          "Chania",
          "Chania",
          "Chania",
          "Chania",
          "Chania",
          "Chania",
          "Chania",
          "Chania",
          "Chania",
          "Chania",
          "Chania",
          "Chania",
          "Chania",
          "Chania",
          "Chania",
          "Chania",
          "Chania",
          "Chania",
          "Chania",
          "Chania",
          "Chania",
          "Chania",
          "Chania",
          "Chania",
          "Chania",
          "Chania",
          "Chania",
          "Chania",
          "Chania",
          "Chania",
          "Chania",
          "Chania",
          "Chania",
          "Chania",
          "Chania",
          "Chania",
          "Chania",
          "Chania",
          "Chania",
          "Chania",
          "Chania",
          "Chania",
          "Chania",
          "Chania",
          "Chania",
          "Chania",
          "Chania",
          "Chania",
          "Chania",
          "Chania",
          "Chania",
          "Chania",
          "Chania",
          "Chania",
          "Chania",
          "Chania",
          "Chania",
          "Chania",
          "Chania",
          "Chania",
          "Chania",
          "Chania",
          "Chania",
          "Chania",
          "Chania",
          "Chania",
          "Chania",
          "Chania",
          "Chania",
          "Chania",
          "Chania",
          "Chania",
          "Chania",
          "Chania",
          "Chania",
          "Chania",
          "Chania",
          "Chania",
          "Chania",
          "Chania",
          "Chania",
          "Chania",
          "Chania",
          "Chania",
          "Chania",
          "Chania",
          "Chania",
          "Chania",
          "Chania",
          "Chania",
          "Chania",
          "Chania",
          "Chania",
          "Chania",
          "Chania",
          "Chania",
          "Chania",
          "Chania",
          "Chania",
          "Chania",
          "Chania",
          "Chania",
          "Chania",
          "Chania",
          "Chania",
          "Chania",
          "Chania",
          "Chania",
          "Chania",
          "Chania",
          "Chania",
          "Chania",
          "Chania",
          "Chania",
          "Chania",
          "Chania",
          "Chania",
          "Chania",
          "Chania",
          "Chania",
          "Chania",
          "Chania",
          "Chania",
          "Chania",
          "Chania",
          "Chania",
          "Chania",
          "Chania",
          "Chania",
          "Chania",
          "Chania",
          "Chania",
          "Chania",
          "Chania",
          "Chania",
          "Chania",
          "Chania",
          "Chania",
          "Chania",
          "Chania",
          "Chania",
          "Chania",
          "Chania",
          "Chania",
          "Chania",
          "Chania",
          "Chania",
          "Chania",
          "Chania",
          "Chania",
          "Chania",
          "Chania",
          "Chania",
          "Chania",
          "Chania",
          "Chania",
          "Chania",
          "Chania",
          "Chania",
          "Chania",
          "Chania",
          "Chania",
          "Chania",
          "Chania",
          "Chania",
          "Chania",
          "Chania",
          "Chania",
          "Chania",
          "Chania",
          "Chania",
          "Chania",
          "Chania",
          "Chania",
          "Chania",
          "Chania",
          "Chania",
          "Chania",
          "Chania",
          "Chania",
          "Chania",
          "Chania",
          "Chania",
          "Chania",
          "Chania",
          "Chania",
          "Chania",
          "Chania",
          "Chania",
          "Chania",
          "Chania",
          "Chania",
          "Chania",
          "Chania",
          "Chania",
          "Chania",
          "Chania",
          "Chania",
          "Chania",
          "Chania",
          "Chania",
          "Chania",
          "Chania",
          "Chania",
          "Chania",
          "Chania",
          "Chania",
          "Chania",
          "Chania",
          "Chania",
          "Chania",
          "Chania",
          "Chania",
          "Chania",
          "Chania",
          "Chania",
          "Chania",
          "Chania",
          "Chania",
          "Chania",
          "Chania",
          "Chania",
          "Chania",
          "Chania",
          "Chania",
          "Chania",
          "Chania",
          "Chania",
          "Chania",
          "Chania",
          "Chania",
          "Chania",
          "Chania",
          "Chania",
          "Chania",
          "Chania",
          "Chania",
          "Chania",
          "Chania",
          "Chania",
          "Chania",
          "Chania",
          "Chania",
          "Chania",
          "Chania",
          "Chania",
          "Chania",
          "Chania",
          "Chania",
          "Chania",
          "Chania",
          "Chania",
          "Chania",
          "Chania",
          "Chania",
          "Chania",
          "Chania",
          "Chania",
          "Chania",
          "Chania",
          "Chania",
          "Chania",
          "Chania",
          "Chania",
          "Chania",
          "Chania",
          "Chania",
          "Chania",
          "Chania",
          "Chania",
          "Chania",
          "Chania",
          "Chania",
          "Chania",
          "Chania",
          "Chania",
          "Chania",
          "Chania",
          "Chania",
          "Chania",
          "Chania",
          "Chania",
          "Chania",
          "Chania",
          "Chania",
          "Chania",
          "Chania",
          "Chania",
          "Chania",
          "Chania",
          "Chania",
          "Chania",
          "Chania",
          "Chania",
          "Chania",
          "Chania",
          "Chania",
          "Chania",
          "Chania",
          "Chania",
          "Chania",
          "Chania",
          "Chania",
          "Chania",
          "Chania",
          "Chania",
          "Chania",
          "Chania",
          "Chania",
          "Chania",
          "Chania",
          "Chania",
          "Chania",
          "Chania",
          "Chania",
          "Chania",
          "Chania",
          "Chania",
          "Chania",
          "Chania",
          "Chania",
          "Chania",
          "Chania",
          "Chania",
          "Chania",
          "Chania",
          "Chania",
          "Chania",
          "Chania",
          "Chania",
          "Chania",
          "Chania",
          "Chania",
          "Chania",
          "Chania",
          "Chania",
          "Chania",
          "Chania",
          "Chania",
          "Chania",
          "Chania",
          "Chania",
          "Chania",
          "Chania",
          "Chania",
          "Chania",
          "Chania",
          "Chania",
          "Chania",
          "Chania",
          "Chania",
          "Chania",
          "Chania",
          "Chania",
          "Chania",
          "Chania",
          "Chania",
          "Chania",
          "Chania",
          "Chania",
          "Chania",
          "Chania",
          "Chania",
          "Chania",
          "Chania",
          "Chania",
          "Chania",
          "Chania",
          "Chania",
          "Chania",
          "Chania",
          "Chania",
          "Chania",
          "Chania",
          "Chania",
          "Chania",
          "Chania",
          "Chania",
          "Chania",
          "Chania",
          "Chania",
          "Chania",
          "Chania",
          "Chania",
          "Chania",
          "Chania",
          "Chania",
          "Chania",
          "Chania",
          "Chania",
          "Chania",
          "Chania",
          "Chania",
          "Chania",
          "Chania",
          "Chania",
          "Chania",
          "Chania",
          "Chania",
          "Chania",
          "Chania",
          "Chania",
          "Chania",
          "Chania",
          "Chania",
          "Chania",
          "Chania",
          "Chania",
          "Chania",
          "Chania",
          "Chania",
          "Chania",
          "Chania",
          "Chania",
          "Chania",
          "Chania",
          "Chania",
          "Chania",
          "Chania",
          "Chania",
          "Chania",
          "Chania",
          "Chania",
          "Chania",
          "Chania",
          "Chania",
          "Chania",
          "Chania",
          "Chania",
          "Chania",
          "Chania",
          "Chania",
          "Chania",
          "Chania",
          "Chania",
          "Chania",
          "Chania",
          "Chania",
          "Chania",
          "Chania",
          "Chania",
          "Chania",
          "Chania",
          "Chania",
          "Chania",
          "Chania",
          "Chania",
          "Chania",
          "Chania",
          "Chania",
          "Chania",
          "Chania",
          "Chania",
          "Chania",
          "Chania",
          "Chania",
          "Chania",
          "Chania",
          "Chania",
          "Chania",
          "Chania",
          "Chania",
          "Chania",
          "Chania",
          "Chania",
          "Chania",
          "Chania",
          "Chania",
          "Chania",
          "Chania",
          "Chania",
          "Chania",
          "Chania",
          "Chania",
          "Chania",
          "Chania",
          "Chania",
          "Chania",
          "Chania",
          "Chania",
          "Chania",
          "Chania",
          "Chania",
          "Chania",
          "Chania",
          "Chania",
          "Chania",
          "Chania",
          "Chania",
          "Chania",
          "Chania",
          "Chania",
          "Chania",
          "Chania",
          "Chania",
          "Chania",
          "Chania",
          "Chania",
          "Chania",
          "Chania",
          "Chania",
          "Chania",
          "Chania",
          "Chania",
          "Chania",
          "Chania",
          "Chania",
          "Chania",
          "Chania",
          "Chania",
          "Chania",
          "Chania",
          "Chania",
          "Chania",
          "Chania",
          "Chania",
          "Chania",
          "Chania",
          "Chania",
          "Chania",
          "Chania",
          "Chania",
          "Chania",
          "Chania",
          "Chania",
          "Chania",
          "Chania",
          "Chania",
          "Chania",
          "Chania",
          "Chania",
          "Chania",
          "Chania",
          "Chania",
          "Chania",
          "Chania",
          "Chania",
          "Chania",
          "Chania",
          "Chania",
          "Chania",
          "Chania",
          "Chania",
          "Chania",
          "Chania",
          "Chania",
          "Chania",
          "Chania",
          "Chania",
          "Chania",
          "Chania",
          "Chania",
          "Chania",
          "Chania",
          "Chania",
          "Chania",
          "Chania",
          "Chania",
          "Chania",
          "Chania",
          "Chania",
          "Chania",
          "Chania",
          "Chania",
          "Chania",
          "Chania",
          "Chania",
          "Chania",
          "Chania",
          "Chania",
          "Chania",
          "Chania",
          "Chania",
          "Chania",
          "Chania",
          "Chania",
          "Chania",
          "Chania",
          "Chania",
          "Chania",
          "Chania",
          "Chania",
          "Chania",
          "Chania",
          "Chania",
          "Chania",
          "Chania",
          "Chania",
          "Chania",
          "Chania",
          "Chania",
          "Chania",
          "Chania",
          "Chania",
          "Chania",
          "Chania",
          "Chania",
          "Chania",
          "Chania",
          "Chania",
          "Chania",
          "Chania",
          "Chania",
          "Chania",
          "Chania",
          "Chania",
          "Chania",
          "Chania",
          "Chania",
          "Chania",
          "Chania",
          "Chania",
          "Chania",
          "Chania",
          "Chania",
          "Chania",
          "Chania",
          "Chania",
          "Chania",
          "Chania",
          "Chania",
          "Chania",
          "Chania",
          "Chania",
          "Chania",
          "Chania",
          "Chania",
          "Chania",
          "Chania",
          "Chania",
          "Chania",
          "Chania",
          "Chania",
          "Chania",
          "Chania",
          "Chania",
          "Chania",
          "Chania",
          "Chania",
          "Chania",
          "Chania",
          "Chania",
          "Chania",
          "Chania",
          "Chania",
          "Chania",
          "Chania",
          "Chania",
          "Chania",
          "Chania",
          "Chania",
          "Chania",
          "Chania",
          "Chania",
          "Chania",
          "Chania",
          "Chania",
          "Chania",
          "Chania",
          "Chania",
          "Chania",
          "Chania",
          "Chania",
          "Chania",
          "Chania",
          "Chania",
          "Chania",
          "Chania",
          "Chania",
          "Chania",
          "Chania",
          "Chania",
          "Chania",
          "Chania",
          "Chania",
          "Chania",
          "Chania",
          "Chania",
          "Chania",
          "Chania",
          "Chania",
          "Chania",
          "Chania",
          "Chania",
          "Chania",
          "Chania",
          "Chania",
          "Chania",
          "Chania",
          "Chania",
          "Chania",
          "Chania",
          "Chania",
          "Chania",
          "Chania",
          "Chania",
          "Chania",
          "Chania",
          "Chania",
          "Chania",
          "Chania",
          "Chania",
          "Chania",
          "Chania",
          "Chania",
          "Chania",
          "Chania",
          "Chania",
          "Chania",
          "Chania",
          "Chania",
          "Chania",
          "Chania",
          "Chania",
          "Chania",
          "Chania",
          "Chania",
          "Chania",
          "Chania",
          "Chania",
          "Chania",
          "Chania",
          "Chania",
          "Chania",
          "Chania",
          "Chania",
          "Chania",
          "Chania",
          "Chania",
          "Chania",
          "Chania",
          "Chania",
          "Chania",
          "Chania",
          "Chania",
          "Chania",
          "Chania",
          "Chania",
          "Chania",
          "Chania",
          "Chania",
          "Chania",
          "Chania",
          "Chania",
          "Chania",
          "Chania",
          "Chania",
          "Chania",
          "Chania",
          "Chania",
          "Chania",
          "Chania",
          "Chania",
          "Chania",
          "Chania",
          "Chania",
          "Chania",
          "Chania",
          "Chania",
          "Chania",
          "Chania",
          "Chania",
          "Chania",
          "Chania",
          "Chania",
          "Chania",
          "Chania",
          "Chania",
          "Chania",
          "Chania",
          "Chania",
          "Chania",
          "Chania",
          "Chania",
          "Chania",
          "Chania",
          "Chania",
          "Chania",
          "Chania",
          "Chania",
          "Chania",
          "Chania",
          "Chania",
          "Chania",
          "Chania",
          "Chania",
          "Chania",
          "Chania",
          "Chania",
          "Chania",
          "Chania",
          "Chania",
          "Chania",
          "Chania",
          "Chania",
          "Chania",
          "Chania",
          "Chania",
          "Chania",
          "Chania",
          "Chania",
          "Chania",
          "Chania",
          "Chania",
          "Chania",
          "Chania",
          "Chania",
          "Chania",
          "Chania",
          "Chania",
          "Chania",
          "Chania",
          "Chania",
          "Chania",
          "Chania",
          "Chania",
          "Chania",
          "Chania",
          "Chania",
          "Chania",
          "Chania",
          "Chania",
          "Chania",
          "Chania",
          "Chania",
          "Chania",
          "Chania",
          "Chania",
          "Chania",
          "Chania",
          "Chania",
          "Chania",
          "Chania",
          "Chania",
          "Chania",
          "Chania",
          "Chania",
          "Chania",
          "Chania",
          "Chania",
          "Chania",
          "Chania",
          "Chania",
          "Chania",
          "Chania",
          "Chania",
          "Chania",
          "Chania",
          "Chania",
          "Chania",
          "Chania",
          "Chania",
          "Chania",
          "Chania",
          "Chania",
          "Chania",
          "Chania",
          "Chania",
          "Chania",
          "Chania",
          "Chania",
          "Chania",
          "Chania",
          "Chania",
          "Chania",
          "Chania",
          "Chania",
          "Chania",
          "Chania",
          "Chania",
          "Chania",
          "Chania",
          "Chania",
          "Chania",
          "Chania",
          "Chania",
          "Chania",
          "Chania",
          "Chania",
          "Chania",
          "Chania",
          "Chania",
          "Chania",
          "Chania",
          "Chania",
          "Chania",
          "Chania",
          "Chania",
          "Chania",
          "Chania",
          "Chania",
          "Chania",
          "Chania",
          "Chania",
          "Chania",
          "Chania",
          "Chania",
          "Chania",
          "Chania",
          "Chania",
          "Chania",
          "Chania",
          "Chania",
          "Chania",
          "Chania",
          "Chania",
          "Chania",
          "Chania",
          "Chania",
          "Chania",
          "Chania",
          "Chania",
          "Chania",
          "Chania",
          "Chania",
          "Chania",
          "Chania",
          "Chania",
          "Chania",
          "Chania",
          "Chania",
          "Chania",
          "Chania",
          "Chania",
          "Chania",
          "Chania",
          "Chania",
          "Chania",
          "Chania",
          "Chania",
          "Chania",
          "Chania",
          "Chania",
          "Chania",
          "Chania",
          "Chania",
          "Chania",
          "Chania",
          "Chania",
          "Chania",
          "Chania",
          "Chania",
          "Chania",
          "Chania",
          "Chania",
          "Chania",
          "Chania",
          "Chania",
          "Chania",
          "Chania",
          "Chania",
          "Chania",
          "Chania",
          "Chania",
          "Chania",
          "Chania",
          "Chania",
          "Chania",
          "Chania",
          "Chania",
          "Chania",
          "Chania",
          "Chania",
          "Chania",
          "Chania",
          "Chania",
          "Chania",
          "Chania",
          "Chania",
          "Chania",
          "Chania",
          "Chania",
          "Chania",
          "Chania",
          "Chania",
          "Chania",
          "Chania",
          "Chania",
          "Chania",
          "Chania",
          "Chania",
          "Chania",
          "Chania",
          "Chania",
          "Chania",
          "Chania",
          "Chania",
          "Chania",
          "Chania",
          "Chania",
          "Chania",
          "Chania",
          "Chania",
          "Chania",
          "Chania",
          "Chania",
          "Chania",
          "Chania",
          "Chania",
          "Chania",
          "Chania",
          "Chania",
          "Chania",
          "Chania",
          "Chania",
          "Chania",
          "Chania",
          "Chania",
          "Chania",
          "Chania",
          "Chania",
          "Chania",
          "Chania",
          "Chania",
          "Chania",
          "Chania",
          "Chania",
          "Chania",
          "Chania",
          "Chania",
          "Chania",
          "Chania",
          "Chania",
          "Chania",
          "Chania",
          "Chania",
          "Chania",
          "Chania",
          "Chania",
          "Chania",
          "Chania",
          "Chania",
          "Chania",
          "Chania",
          "Chania",
          "Chania",
          "Chania",
          "Chania",
          "Chania",
          "Chania",
          "Chania",
          "Chania",
          "Chania",
          "Chania",
          "Chania",
          "Chania",
          "Chania",
          "Chania",
          "Chania",
          "Chania",
          "Chania",
          "Chania",
          "Chania",
          "Chania",
          "Chania",
          "Chania",
          "Chania",
          "Chania",
          "Chania",
          "Chania",
          "Chania",
          "Chania",
          "Chania",
          "Chania",
          "Chania",
          "Chania",
          "Chania",
          "Chania",
          "Chania",
          "Chania",
          "Chania",
          "Chania",
          "Chania",
          "Chania",
          "Chania",
          "Chania",
          "Chania",
          "Chania",
          "Chania",
          "Chania",
          "Chania",
          "Chania",
          "Chania",
          "Chania",
          "Chania",
          "Chania",
          "Chania",
          "Chania",
          "Chania",
          "Chania",
          "Chania",
          "Chania",
          "Chania",
          "Chania",
          "Chania",
          "Chania",
          "Chania",
          "Chania",
          "Chania",
          "Chania",
          "Chania",
          "Chania",
          "Chania",
          "Chania",
          "Chania",
          "Chania",
          "Chania",
          "Chania",
          "Chania",
          "Chania",
          "Chania",
          "Chania",
          "Chania",
          "Chania",
          "Chania",
          "Chania",
          "Chania",
          "Chania",
          "Chania",
          "Chania",
          "Chania",
          "Chania",
          "Chania",
          "Chania",
          "Chania",
          "Chania",
          "Chania",
          "Chania",
          "Chania",
          "Chania",
          "Chania",
          "Chania",
          "Chania",
          "Chania",
          "Chania",
          "Chania",
          "Chania",
          "Chania",
          "Chania",
          "Chania",
          "Chania",
          "Chania",
          "Chania",
          "Chania",
          "Chania",
          "Chania",
          "Chania",
          "Chania",
          "Chania",
          "Chania",
          "Chania",
          "Chania",
          "Chania",
          "Chania",
          "Chania",
          "Chania",
          "Chania",
          "Chania",
          "Chania",
          "Chania",
          "Chania",
          "Chania",
          "Chania",
          "Chania",
          "Chania",
          "Chania",
          "Chania",
          "Chania",
          "Chania",
          "Chania",
          "Chania",
          "Chania",
          "Chania",
          "Chania",
          "Chania",
          "Chania",
          "Chania",
          "Chania",
          "Chania",
          "Chania",
          "Chania",
          "Chania",
          "Chania",
          "Chania",
          "Chania",
          "Chania",
          "Chania",
          "Chania",
          "Chania",
          "Chania",
          "Chania",
          "Chania",
          "Chania",
          "Chania",
          "Chania",
          "Chania",
          "Chania",
          "Chania",
          "Chania",
          "Chania",
          "Chania",
          "Chania",
          "Chania",
          "Chania",
          "Chania",
          "Chania",
          "Chania",
          "Chania",
          "Chania",
          "Chania",
          "Chania",
          "Chania",
          "Chania",
          "Chania",
          "Chania",
          "Chania",
          "Chania",
          "Chania",
          "Chania",
          "Chania",
          "Chania",
          "Chania",
          "Chania",
          "Chania",
          "Chania",
          "Chania",
          "Chania",
          "Chania",
          "Chania",
          "Chania",
          "Chania",
          "Chania",
          "Chania",
          "Chania",
          "Chania",
          "Chania",
          "Chania",
          "Chania",
          "Chania",
          "Chania",
          "Chania",
          "Chania",
          "Chania",
          "Chania",
          "Chania",
          "Chania",
          "Chania",
          "Chania",
          "Chania",
          "Chania",
          "Chania",
          "Chania",
          "Chania",
          "Chania",
          "Chania",
          "Chania",
          "Chania",
          "Chania",
          "Chania",
          "Chania",
          "Chania",
          "Chania",
          "Chania",
          "Chania",
          "Chania",
          "Chania",
          "Chania",
          "Chania",
          "Chania",
          "Chania",
          "Chania",
          "Chania",
          "Chania",
          "Chania",
          "Chania",
          "Chania",
          "Chania",
          "Chania",
          "Chania",
          "Chania",
          "Chania",
          "Chania",
          "Chania",
          "Chania",
          "Chania",
          "Chania",
          "Chania",
          "Chania",
          "Chania",
          "Chania",
          "Chania",
          "Chania",
          "Chania",
          "Chania",
          "Chania",
          "Chania",
          "Chania",
          "Chania",
          "Chania",
          "Chania",
          "Chania",
          "Chania",
          "Chania",
          "Chania",
          "Chania",
          "Chania",
          "Chania",
          "Chania",
          "Chania",
          "Chania",
          "Chania",
          "Chania",
          "Chania",
          "Chania",
          "Chania",
          "Chania",
          "Chania",
          "Chania",
          "Chania",
          "Chania",
          "Chania",
          "Chania",
          "Chania",
          "Chania",
          "Chania",
          "Chania",
          "Chania",
          "Chania",
          "Chania",
          "Chania",
          "Chania",
          "Chania",
          "Chania",
          "Chania",
          "Chania",
          "Chania",
          "Chania",
          "Chania",
          "Chania",
          "Chania",
          "Chania",
          "Chania",
          "Chania",
          "Chania",
          "Chania",
          "Chania",
          "Chania",
          "Chania",
          "Chania",
          "Chania",
          "Chania",
          "Chania",
          "Chania",
          "Chania",
          "Chania",
          "Chania",
          "Chania",
          "Chania",
          "Chania",
          "Chania",
          "Chania",
          "Chania",
          "Chania",
          "Chania",
          "Chania",
          "Chania",
          "Chania",
          "Chania",
          "Chania",
          "Chania",
          "Chania",
          "Chania",
          "Chania",
          "Chania",
          "Chania",
          "Chania",
          "Chania",
          "Chania",
          "Chania",
          "Chania",
          "Chania",
          "Chania",
          "Chania",
          "Chania",
          "Chania",
          "Chania",
          "Chania",
          "Chania",
          "Chania",
          "Chania",
          "Chania",
          "Chania",
          "Chania",
          "Chania",
          "Chania",
          "Chania",
          "Chania",
          "Chania",
          "Chania",
          "Chania",
          "Chania",
          "Chania",
          "Chania",
          "Chania",
          "Chania",
          "Chania",
          "Chania",
          "Chania",
          "Chania",
          "Chania",
          "Chania",
          "Chania",
          "Chania",
          "Chania",
          "Chania",
          "Chania",
          "Chania",
          "Chania",
          "Chania",
          "Chania",
          "Chania",
          "Chania",
          "Chania",
          "Chania",
          "Chania",
          "Chania",
          "Chania",
          "Chania",
          "Chania",
          "Chania",
          "Chania",
          "Chania",
          "Chania",
          "Chania",
          "Chania",
          "Chania",
          "Chania",
          "Chania",
          "Chania",
          "Chania",
          "Chania",
          "Chania",
          "Chania",
          "Chania",
          "Chania",
          "Chania",
          "Chania",
          "Chania",
          "Chania",
          "Chania",
          "Chania",
          "Chania",
          "Chania",
          "Chania",
          "Chania",
          "Chania",
          "Chania",
          "Chania",
          "Chania",
          "Chania",
          "Chania",
          "Chania",
          "Chania",
          "Chania",
          "Chania",
          "Chania",
          "Chania",
          "Chania",
          "Chania",
          "Chania",
          "Chania",
          "Chania",
          "Chania",
          "Chania",
          "Chania",
          "Chania",
          "Chania",
          "Chania",
          "Chania",
          "Chania",
          "Chania",
          "Chania",
          "Chania",
          "Chania",
          "Chania",
          "Chania",
          "Chania",
          "Chania",
          "Chania",
          "Chania",
          "Chania",
          "Chania",
          "Chania",
          "Chania",
          "Chania",
          "Chania",
          "Chania",
          "Chania",
          "Chania",
          "Chania",
          "Chania",
          "Chania",
          "Chania",
          "Chania",
          "Chania",
          "Chania",
          "Chania",
          "Chania",
          "Chania",
          "Chania",
          "Chania",
          "Chania",
          "Chania",
          "Chania",
          "Chania",
          "Chania",
          "Chania",
          "Chania",
          "Chania",
          "Chania",
          "Chania",
          "Chania",
          "Chania",
          "Chania",
          "Chania",
          "Chania",
          "Chania",
          "Chania",
          "Chania",
          "Chania",
          "Chania",
          "Chania",
          "Chania",
          "Chania",
          "Chania",
          "Chania",
          "Chania",
          "Chania",
          "Chania",
          "Chania",
          "Chania",
          "Chania",
          "Chania",
          "Chania",
          "Chania",
          "Chania",
          "Chania",
          "Chania",
          "Chania",
          "Chania",
          "Chania",
          "Chania",
          "Chania",
          "Chania",
          "Chania",
          "Chania",
          "Chania",
          "Chania",
          "Chania",
          "Chania",
          "Chania",
          "Chania",
          "Chania",
          "Chania",
          "Chania",
          "Chania",
          "Chania",
          "Chania",
          "Chania",
          "Chania",
          "Chania",
          "Chania",
          "Chania",
          "Chania",
          "Chania",
          "Chania",
          "Chania",
          "Chania",
          "Chania",
          "Chania",
          "Chania",
          "Chania",
          "Chania",
          "Chania",
          "Chania",
          "Chania",
          "Chania",
          "Chania",
          "Chania",
          "Chania",
          "Chania",
          "Chania",
          "Chania",
          "Chania",
          "Chania",
          "Chania",
          "Chania",
          "Chania",
          "Chania",
          "Chania",
          "Chania",
          "Chania",
          "Chania",
          "Chania",
          "Chania",
          "Chania",
          "Chania",
          "Chania",
          "Chania",
          "Chania",
          "Chania",
          "Chania",
          "Chania",
          "Chania",
          "Chania",
          "Chania",
          "Chania",
          "Chania",
          "Chania",
          "Chania",
          "Chania",
          "Chania",
          "Chania",
          "Chania",
          "Chania",
          "Chania",
          "Chania",
          "Chania",
          "Chania",
          "Chania",
          "Chania",
          "Chania",
          "Chania",
          "Chania",
          "Chania",
          "Chania",
          "Chania",
          "Chania",
          "Chania",
          "Chania",
          "Chania",
          "Chania",
          "Chania",
          "Chania",
          "Chania",
          "Chania",
          "Chania",
          "Chania",
          "Chania",
          "Chania",
          "Chania",
          "Chania",
          "Chania",
          "Chania",
          "Chania",
          "Chania",
          "Chania",
          "Chania",
          "Chania",
          "Chania",
          "Chania",
          "Chania",
          "Chania",
          "Chania",
          "Chania",
          "Chania",
          "Chania",
          "Chania",
          "Chania",
          "Chania",
          "Chania",
          "Chania",
          "Chania",
          "Chania",
          "Chania",
          "Chania",
          "Chania",
          "Chania",
          "Chania",
          "Chania",
          "Chania",
          "Chania",
          "Chania",
          "Chania",
          "Chania",
          "Chania",
          "Chania",
          "Chania",
          "Chania",
          "Chania",
          "Chania",
          "Chania",
          "Chania",
          "Chania",
          "Chania",
          "Chania",
          "Chania",
          "Chania",
          "Chania",
          "Chania",
          "Chania",
          "Chania",
          "Chania",
          "Chania",
          "Chania",
          "Chania",
          "Chania",
          "Chania",
          "Chania",
          "Chania",
          "Chania",
          "Chania",
          "Chania",
          "Chania",
          "Chania",
          "Chania",
          "Chania",
          "Chania",
          "Chania",
          "Chania",
          "Chania",
          "Chania",
          "Chania",
          "Chania",
          "Chania",
          "Chania",
          "Chania",
          "Chania",
          "Chania",
          "Chania",
          "Chania",
          "Chania",
          "Chania",
          "Chania",
          "Chania",
          "Chania",
          "Chania",
          "Chania",
          "Chania",
          "Chania",
          "Chania",
          "Chania",
          "Chania",
          "Chania",
          "Chania",
          "Chania",
          "Chania",
          "Chania",
          "Chania",
          "Chania",
          "Chania",
          "Chania",
          "Chania",
          "Chania",
          "Chania",
          "Chania",
          "Chania",
          "Chania",
          "Chania",
          "Chania",
          "Chania",
          "Chania",
          "Chania",
          "Chania",
          "Chania",
          "Chania",
          "Chania",
          "Chania",
          "Chania",
          "Chania",
          "Chania",
          "Chania",
          "Chania",
          "Chania",
          "Chania",
          "Chania",
          "Chania",
          "Chania",
          "Chania",
          "Chania",
          "Chania",
          "Chania",
          "Chania",
          "Chania",
          "Chania",
          "Chania",
          "Chania",
          "Chania",
          "Chania",
          "Chania",
          "Chania",
          "Chania",
          "Chania",
          "Chania",
          "Chania",
          "Chania",
          "Chania",
          "Chania",
          "Chania",
          "Chania",
          "Chania",
          "Chania",
          "Chania",
          "Chania",
          "Chania",
          "Chania",
          "Chania",
          "Chania",
          "Chania",
          "Chania",
          "Chania",
          "Chania",
          "Chania",
          "Chania",
          "Chania",
          "Chania",
          "Chania",
          "Chania",
          "Chania",
          "Chania",
          "Chania",
          "Chania",
          "Chania",
          "Chania",
          "Chania",
          "Chania",
          "Chania",
          "Chania",
          "Chania",
          "Chania",
          "Chania",
          "Chania",
          "Chania",
          "Chania",
          "Chania",
          "Chania",
          "Chania",
          "Chania",
          "Chania",
          "Chania",
          "Chania",
          "Chania",
          "Chania",
          "Chania",
          "Chania",
          "Chania",
          "Chania",
          "Chania",
          "Chania",
          "Chania",
          "Chania",
          "Chania",
          "Chania",
          "Chania",
          "Chania",
          "Chania",
          "Chania",
          "Chania",
          "Chania",
          "Chania",
          "Chania",
          "Chania",
          "Chania",
          "Chania",
          "Chania",
          "Chania",
          "Chania",
          "Chania",
          "Chania",
          "Chania",
          "Chania",
          "Chania",
          "Chania",
          "Chania",
          "Chania",
          "Chania",
          "Chania",
          "Chania",
          "Chania",
          "Chania",
          "Chania",
          "Chania",
          "Chania",
          "Chania",
          "Chania",
          "Chania",
          "Chania",
          "Chania",
          "Chania",
          "Chania",
          "Chania",
          "Chania",
          "Chania",
          "Chania",
          "Chania",
          "Chania",
          "Chania",
          "Chania",
          "Chania",
          "Chania",
          "Chania",
          "Chania",
          "Chania",
          "Chania",
          "Chania",
          "Chania",
          "Chania",
          "Chania",
          "Chania",
          "Chania",
          "Chania",
          "Chania",
          "Chania",
          "Chania",
          "Chania",
          "Chania",
          "Chania",
          "Chania",
          "Chania",
          "Chania",
          "Chania",
          "Chania",
          "Chania",
          "Chania",
          "Chania",
          "Chania",
          "Chania",
          "Chania",
          "Chania",
          "Chania",
          "Chania",
          "Chania",
          "Chania",
          "Chania",
          "Chania",
          "Chania",
          "Chania",
          "Chania",
          "Chania",
          "Chania",
          "Chania",
          "Chania",
          "Chania",
          "Chania",
          "Chania",
          "Chania",
          "Chania",
          "Chania",
          "Chania",
          "Chania",
          "Chania",
          "Chania",
          "Chania",
          "Chania",
          "Chania",
          "Chania",
          "Chania",
          "Chania",
          "Chania",
          "Chania",
          "Chania",
          "Chania",
          "Chania",
          "Chania",
          "Chania",
          "Chania",
          "Chania",
          "Chania",
          "Chania",
          "Chania",
          "Chania",
          "Chania",
          "Chania",
          "Chania",
          "Chania",
          "Chania",
          "Chania",
          "Chania",
          "Chania",
          "Chania",
          "Chania",
          "Chania",
          "Chania",
          "Chania",
          "Chania",
          "Chania",
          "Chania",
          "Chania",
          "Chania",
          "Chania",
          "Chania",
          "Chania",
          "Chania",
          "Chania",
          "Chania",
          "Chania",
          "Chania",
          "Chania",
          "Chania",
          "Chania",
          "Chania",
          "Chania",
          "Chania",
          "Chania",
          "Chania",
          "Chania",
          "Chania",
          "Chania",
          "Chania",
          "Chania",
          "Chania",
          "Chania",
          "Chania",
          "Chania",
          "Chania",
          "Chania",
          "Chania",
          "Chania",
          "Chania",
          "Chania",
          "Chania",
          "Chania",
          "Chania",
          "Chania",
          "Chania",
          "Chania",
          "Chania",
          "Chania",
          "Chania",
          "Chania",
          "Chania",
          "Chania",
          "Chania",
          "Chania",
          "Chania",
          "Chania",
          "Chania",
          "Chania",
          "Chania",
          "Chania",
          "Chania",
          "Chania",
          "Chania",
          "Chania",
          "Chania",
          "Chania",
          "Chania",
          "Chania",
          "Chania",
          "Chania",
          "Chania",
          "Chania",
          "Chania",
          "Chania",
          "Chania",
          "Chania",
          "Chania",
          "Chania",
          "Chania",
          "Chania",
          "Chania",
          "Chania",
          "Chania",
          "Chania",
          "Chania",
          "Chania",
          "Chania",
          "Chania",
          "Chania",
          "Chania",
          "Chania",
          "Chania",
          "Chania",
          "Chania",
          "Chania",
          "Chania",
          "Chania",
          "Chania",
          "Chania",
          "Chania",
          "Chania",
          "Chania",
          "Chania",
          "Chania",
          "Chania",
          "Chania",
          "Chania",
          "Chania",
          "Chania",
          "Chania",
          "Chania",
          "Chania",
          "Chania",
          "Chania",
          "Chania",
          "Chania",
          "Chania",
          "Chania",
          "Chania",
          "Chania",
          "Chania",
          "Chania",
          "Chania",
          "Chania",
          "Chania",
          "Chania",
          "Chania",
          "Chania",
          "Chania",
          "Chania",
          "Chania",
          "Chania",
          "Chania",
          "Chania",
          "Chania",
          "Chania",
          "Chania",
          "Chania",
          "Chania",
          "Chania",
          "Chania",
          "Chania",
          "Chania",
          "Chania",
          "Chania",
          "Chania",
          "Chania",
          "Chania",
          "Chania",
          "Chania",
          "Chania",
          "Chania",
          "Chania",
          "Chania",
          "Chania",
          "Chania",
          "Chania",
          "Chania",
          "Chania",
          "Chania",
          "Chania",
          "Chania",
          "Chania",
          "Chania",
          "Chania",
          "Chania",
          "Chania",
          "Chania",
          "Chania",
          "Chania",
          "Chania",
          "Chania",
          "Chania",
          "Chania",
          "Chania",
          "Chania",
          "Chania",
          "Chania",
          "Chania",
          "Chania",
          "Chania",
          "Chania",
          "Chania",
          "Chania",
          "Chania",
          "Chania",
          "Chania",
          "Chania",
          "Chania",
          "Chania",
          "Chania",
          "Chania",
          "Chania",
          "Chania",
          "Chania",
          "Chania",
          "Chania",
          "Chania",
          "Chania",
          "Chania",
          "Chania",
          "Chania",
          "Chania",
          "Chania",
          "Chania",
          "Chania",
          "Chania",
          "Chania",
          "Chania",
          "Chania",
          "Chania",
          "Chania",
          "Chania",
          "Chania",
          "Chania",
          "Chania",
          "Chania",
          "Chania",
          "Chania",
          "Chania",
          "Chania",
          "Chania",
          "Chania",
          "Chania",
          "Chania",
          "Chania",
          "Chania",
          "Chania",
          "Chania",
          "Chania",
          "Chania",
          "Chania",
          "Chania",
          "Chania",
          "Chania",
          "Chania",
          "Chania",
          "Chania",
          "Chania",
          "Chania",
          "Chania",
          "Chania",
          "Chania",
          "Chania",
          "Chania",
          "Chania",
          "Chania",
          "Chania",
          "Chania",
          "Chania",
          "Chania",
          "Chania",
          "Chania",
          "Chania",
          "Chania",
          "Chania",
          "Chania",
          "Chania",
          "Chania",
          "Chania",
          "Chania",
          "Chania",
          "Chania",
          "Chania",
          "Chania",
          "Chania",
          "Chania",
          "Chania",
          "Chania",
          "Chania",
          "Chania",
          "Chania",
          "Chania",
          "Chania",
          "Chania",
          "Chania",
          "Chania",
          "Chania",
          "Chania",
          "Chania",
          "Chania",
          "Chania",
          "Chania",
          "Chania",
          "Chania",
          "Chania",
          "Chania",
          "Chania",
          "Chania",
          "Chania",
          "Chania",
          "Chania",
          "Chania",
          "Chania",
          "Chania",
          "Chania",
          "Chania",
          "Chania",
          "Chania",
          "Chania",
          "Chania",
          "Chania",
          "Chania",
          "Chania",
          "Chania",
          "Chania",
          "Chania",
          "Chania",
          "Chania",
          "Chania",
          "Chania",
          "Chania",
          "Chania",
          "Chania",
          "Chania",
          "Chania",
          "Chania",
          "Chania",
          "Chania",
          "Chania",
          "Chania",
          "Chania",
          "Chania",
          "Chania",
          "Chania",
          "Chania",
          "Chania",
          "Chania",
          "Chania",
          "Chania",
          "Chania",
          "Chania",
          "Chania",
          "Chania",
          "Chania",
          "Chania",
          "Chania",
          "Chania",
          "Chania",
          "Chania",
          "Chania",
          "Chania",
          "Chania",
          "Chania",
          "Chania",
          "Chania",
          "Chania",
          "Chania",
          "Chania",
          "Chania",
          "Chania",
          "Chania",
          "Chania",
          "Chania",
          "Chania",
          "Chania",
          "Chania",
          "Chania",
          "Chania",
          "Chania",
          "Chania",
          "Chania",
          "Chania",
          "Chania",
          "Chania",
          "Chania",
          "Chania",
          "Chania",
          "Chania",
          "Chania",
          "Chania",
          "Chania",
          "Chania",
          "Chania",
          "Chania",
          "Chania",
          "Chania",
          "Chania",
          "Chania",
          "Chania",
          "Chania",
          "Chania",
          "Chania",
          "Chania",
          "Chania",
          "Chania",
          "Chania",
          "Chania",
          "Chania",
          "Chania",
          "Chania",
          "Chania",
          "Chania",
          "Chania",
          "Chania",
          "Chania",
          "Chania",
          "Chania",
          "Chania",
          "Chania",
          "Chania",
          "Chania",
          "Chania",
          "Chania",
          "Chania",
          "Chania",
          "Chania",
          "Chania",
          "Chania",
          "Chania",
          "Chania",
          "Chania",
          "Chania",
          "Chania",
          "Chania",
          "Chania",
          "Chania",
          "Chania",
          "Chania",
          "Chania",
          "Chania",
          "Chania",
          "Chania",
          "Chania",
          "Chania",
          "Chania",
          "Chania",
          "Chania",
          "Chania",
          "Chania",
          "Chania",
          "Chania",
          "Chania",
          "Chania",
          "Chania",
          "Chania",
          "Chania",
          "Chania",
          "Chania",
          "Chania",
          "Chania",
          "Chania",
          "Chania",
          "Chania",
          "Chania",
          "Chania",
          "Chania",
          "Chania",
          "Chania",
          "Chania",
          "Chania",
          "Chania",
          "Chania",
          "Chania",
          "Chania",
          "Chania",
          "Chania",
          "Chania",
          "Chania",
          "Chania",
          "Chania",
          "Chania",
          "Chania",
          "Chania",
          "Chania",
          "Chania",
          "Chania",
          "Chania",
          "Chania",
          "Chania",
          "Chania",
          "Chania",
          "Chania",
          "Chania",
          "Chania",
          "Chania",
          "Chania",
          "Chania",
          "Chania",
          "Chania",
          "Chania",
          "Chania",
          "Chania",
          "Chania",
          "Chania",
          "Chania",
          "Chania",
          "Chania",
          "Chania",
          "Chania",
          "Chania",
          "Chania",
          "Chania",
          "Chania",
          "Chania",
          "Chania",
          "Chania",
          "Chania",
          "Chania",
          "Chania",
          "Chania",
          "Chania",
          "Chania",
          "Chania",
          "Chania",
          "Chania",
          "Chania",
          "Chania",
          "Chania",
          "Chania",
          "Chania",
          "Chania",
          "Chania",
          "Chania",
          "Chania",
          "Chania",
          "Chania",
          "Chania",
          "Chania",
          "Chania",
          "Chania",
          "Chania",
          "Chania",
          "Chania",
          "Chania",
          "Chania",
          "Chania",
          "Chania",
          "Chania",
          "Chania",
          "Chania",
          "Chania",
          "Chania",
          "Chania",
          "Chania",
          "Chania",
          "Chania",
          "Chania",
          "Chania",
          "Chania",
          "Chania",
          "Chania",
          "Chania",
          "Chania",
          "Chania",
          "Chania",
          "Chania",
          "Chania",
          "Chania",
          "Chania",
          "Chania",
          "Chania",
          "Chania",
          "Chania",
          "Chania",
          "Chania",
          "Chania",
          "Chania",
          "Chania",
          "Chania",
          "Chania",
          "Chania",
          "Chania",
          "Chania",
          "Chania",
          "Chania",
          "Chania",
          "Chania",
          "Chania",
          "Chania",
          "Chania",
          "Chania",
          "Chania",
          "Chania",
          "Chania",
          "Chania",
          "Chania",
          "Chania",
          "Chania",
          "Chania",
          "Chania",
          "Chania",
          "Chania",
          "Chania",
          "Chania",
          "Chania",
          "Chania",
          "Chania",
          "Chania",
          "Chania",
          "Chania",
          "Chania",
          "Chania",
          "Chania",
          "Chania",
          "Chania",
          "Chania",
          "Chania",
          "Chania",
          "Chania",
          "Chania",
          "Chania",
          "Chania",
          "Chania",
          "Chania",
          "Chania",
          "Chania",
          "Chania",
          "Chania",
          "Chania",
          "Chania",
          "Chania",
          "Chania",
          "Chania",
          "Chania",
          "Chania",
          "Chania",
          "Chania",
          "Chania",
          "Chania",
          "Chania",
          "Chania",
          "Chania",
          "Chania",
          "Chania",
          "Chania",
          "Chania",
          "Chania",
          "Chania",
          "Chania",
          "Chania",
          "Chania",
          "Chania",
          "Chania",
          "Chania",
          "Chania",
          "Chania",
          "Chania",
          "Chania",
          "Chania",
          "Chania",
          "Chania",
          "Chania",
          "Chania",
          "Chania",
          "Chania",
          "Chania",
          "Chania",
          "Chania",
          "Chania",
          "Chania",
          "Chania",
          "Chania",
          "Chania",
          "Chania",
          "Chania",
          "Chania",
          "Chania",
          "Chania",
          "Chania",
          "Chania",
          "Chania",
          "Chania",
          "Chania",
          "Chania",
          "Chania",
          "Chania",
          "Chania",
          "Chania",
          "Chania",
          "Chania",
          "Chania",
          "Chania",
          "Chania",
          "Chania",
          "Chania",
          "Chania",
          "Chania",
          "Chania",
          "Chania",
          "Chania",
          "Chania",
          "Chania",
          "Chania",
          "Chania",
          "Chania",
          "Chania",
          "Chania",
          "Chania",
          "Chania",
          "Chania",
          "Chania",
          "Chania",
          "Chania",
          "Chania",
          "Chania",
          "Chania",
          "Chania",
          "Chania",
          "Chania",
          "Chania",
          "Chania",
          "Chania",
          "Chania",
          "Chania",
          "Chania",
          "Chania",
          "Chania",
          "Chania",
          "Chania",
          "Chania",
          "Chania",
          "Chania",
          "Chania",
          "Chania",
          "Chania",
          "Chania",
          "Chania",
          "Chania",
          "Chania",
          "Chania",
          "Chania",
          "Chania",
          "Chania",
          "Chania",
          "Chania",
          "Chania",
          "Chania",
          "Chania",
          "Chania",
          "Chania",
          "Chania",
          "Chania",
          "Chania",
          "Chania",
          "Chania",
          "Chania",
          "Chania",
          "Chania",
          "Chania",
          "Chania",
          "Chania",
          "Chania",
          "Chania",
          "Chania",
          "Chania",
          "Chania",
          "Chania",
          "Chania",
          "Chania",
          "Chania",
          "Chania",
          "Chania",
          "Chania",
          "Chania",
          "Chania",
          "Chania",
          "Chania",
          "Chania",
          "Chania",
          "Chania",
          "Chania",
          "Chania",
          "Chania",
          "Chania",
          "Chania",
          "Chania",
          "Chania",
          "Chania",
          "Chania",
          "Chania",
          "Kissamos",
          "Kissamos",
          "Kissamos",
          "Kissamos",
          "Kissamos",
          "Kissamos",
          "Kissamos",
          "Kissamos",
          "Kissamos",
          "Kissamos",
          "Kissamos",
          "Kissamos",
          "Kissamos",
          "Kissamos",
          "Kissamos",
          "Kissamos",
          "Kissamos",
          "Kissamos",
          "Kissamos",
          "Kissamos",
          "Kissamos",
          "Kissamos",
          "Kissamos",
          "Kissamos",
          "Kissamos",
          "Kissamos",
          "Kissamos",
          "Kissamos",
          "Kissamos",
          "Kissamos",
          "Kissamos",
          "Kissamos",
          "Kissamos",
          "Kissamos",
          "Kissamos",
          "Kissamos",
          "Kissamos",
          "Kissamos",
          "Kissamos",
          "Kissamos",
          "Kissamos",
          "Kissamos",
          "Kissamos",
          "Kissamos",
          "Kissamos",
          "Kissamos",
          "Kissamos",
          "Kissamos",
          "Kissamos",
          "Kissamos",
          "Kissamos",
          "Kissamos",
          "Kissamos",
          "Kissamos",
          "Kissamos",
          "Kissamos",
          "Kissamos",
          "Kissamos",
          "Kissamos",
          "Kissamos",
          "Kissamos",
          "Kissamos",
          "Kissamos",
          "Kissamos",
          "Kissamos",
          "Kissamos",
          "Kissamos",
          "Kissamos",
          "Kissamos",
          "Kissamos",
          "Kissamos",
          "Kissamos",
          "Kissamos",
          "Kissamos",
          "Kissamos",
          "Kissamos",
          "Kissamos",
          "Kissamos",
          "Kissamos",
          "Kissamos",
          "Kissamos",
          "Kissamos",
          "Kissamos",
          "Kissamos",
          "Kissamos",
          "Kissamos",
          "Kissamos",
          "Kissamos",
          "Kissamos",
          "Kissamos",
          "Kissamos",
          "Kissamos",
          "Kissamos",
          "Kissamos",
          "Kissamos",
          "Kissamos",
          "Kissamos",
          "Kissamos",
          "Kissamos",
          "Kissamos",
          "Kissamos",
          "Kissamos",
          "Kissamos",
          "Kissamos",
          "Kissamos",
          "Kissamos",
          "Kissamos",
          "Kissamos",
          "Kissamos",
          "Kissamos",
          "Kissamos",
          "Kissamos",
          "Kissamos",
          "Kissamos",
          "Kissamos",
          "Kissamos",
          "Kissamos",
          "Kissamos",
          "Kissamos",
          "Kissamos",
          "Kissamos",
          "Kissamos",
          "Kissamos",
          "Kissamos",
          "Kissamos",
          "Kissamos",
          "Kissamos",
          "Kissamos",
          "Kissamos",
          "Kissamos",
          "Kissamos",
          "Kissamos",
          "Kissamos",
          "Kissamos",
          "Kissamos",
          "Kissamos",
          "Kissamos",
          "Kissamos",
          "Kissamos",
          "Kissamos",
          "Kissamos",
          "Kissamos",
          "Kissamos",
          "Kissamos",
          "Kissamos",
          "Kissamos",
          "Kissamos",
          "Kissamos",
          "Kissamos",
          "Kissamos",
          "Kissamos",
          "Kissamos",
          "Kissamos",
          "Kissamos",
          "Kissamos",
          "Kissamos",
          "Kissamos",
          "Kissamos",
          "Kissamos",
          "Kissamos",
          "Kissamos",
          "Kissamos",
          "Kissamos",
          "Kissamos",
          "Kissamos",
          "Kissamos",
          "Kissamos",
          "Kissamos",
          "Kissamos",
          "Kissamos",
          "Kissamos",
          "Kissamos",
          "Kissamos",
          "Kissamos",
          "Kissamos",
          "Kissamos",
          "Kissamos",
          "Kissamos",
          "Kissamos",
          "Kissamos",
          "Kissamos",
          "Kissamos",
          "Kissamos",
          "Kissamos",
          "Kissamos",
          "Kissamos",
          "Kissamos",
          "Kissamos",
          "Kissamos",
          "Kissamos",
          "Kissamos",
          "Kissamos",
          "Kissamos",
          "Kissamos",
          "Kissamos",
          "Kissamos",
          "Kissamos",
          "Kissamos",
          "Kissamos",
          "Kissamos",
          "Kissamos",
          "Kissamos",
          "Kissamos",
          "Kissamos",
          "Kissamos",
          "Kissamos",
          "Kissamos",
          "Kissamos",
          "Kissamos",
          "Kissamos",
          "Kissamos",
          "Kissamos",
          "Kissamos",
          "Kissamos",
          "Kissamos",
          "Kissamos",
          "Kissamos",
          "Kissamos",
          "Kissamos",
          "Kissamos",
          "Kissamos",
          "Kissamos",
          "Kissamos",
          "Kissamos",
          "Kissamos",
          "Kissamos",
          "Kissamos",
          "Kissamos",
          "Kissamos",
          "Kissamos",
          "Kissamos",
          "Kissamos",
          "Kissamos",
          "Kissamos",
          "Kissamos",
          "Kissamos",
          "Kissamos",
          "Kissamos",
          "Kissamos",
          "Kissamos",
          "Kissamos",
          "Kissamos",
          "Kissamos",
          "Kissamos",
          "Kissamos",
          "Kissamos",
          "Kissamos",
          "Kissamos",
          "Kissamos",
          "Kissamos",
          "Kissamos",
          "Kissamos",
          "Kissamos",
          "Kissamos",
          "Kissamos",
          "Kissamos",
          "Kissamos",
          "Kissamos",
          "Kissamos",
          "Kissamos",
          "Kissamos",
          "Kissamos",
          "Kissamos",
          "Kissamos",
          "Kissamos",
          "Kissamos",
          "Kissamos",
          "Kissamos",
          "Kissamos",
          "Kissamos",
          "Kissamos",
          "Kissamos",
          "Kissamos",
          "Kissamos",
          "Kissamos",
          "Kissamos",
          "Kissamos",
          "Kissamos",
          "Kissamos",
          "Kissamos",
          "Kissamos",
          "Kissamos",
          "Kissamos",
          "Kissamos",
          "Kissamos",
          "Kissamos",
          "Kissamos",
          "Kissamos",
          "Kissamos",
          "Kissamos",
          "Kissamos",
          "Kissamos",
          "Kissamos",
          "Kissamos",
          "Kissamos",
          "Kissamos",
          "Kissamos",
          "Kissamos",
          "Kissamos",
          "Kissamos",
          "Kissamos",
          "Kissamos",
          "Kissamos",
          "Kissamos",
          "Kissamos",
          "Kissamos",
          "Kissamos",
          "Kissamos",
          "Kissamos",
          "Kissamos",
          "Kissamos",
          "Kissamos",
          "Kissamos",
          "Kissamos",
          "Kissamos",
          "Kissamos",
          "Kissamos",
          "Kissamos",
          "Kissamos",
          "Kissamos",
          "Kissamos",
          "Kissamos",
          "Kissamos",
          "Kissamos",
          "Kissamos",
          "Kissamos",
          "Kissamos",
          "Kissamos",
          "Kissamos",
          "Kissamos",
          "Kissamos",
          "Kissamos",
          "Kissamos",
          "Kissamos",
          "Kissamos",
          "Kissamos",
          "Kissamos",
          "Kissamos",
          "Kissamos",
          "Kissamos",
          "Kissamos",
          "Kissamos",
          "Kissamos",
          "Kissamos",
          "Kissamos",
          "Kissamos",
          "Kissamos",
          "Kissamos",
          "Kissamos",
          "Kissamos",
          "Kissamos",
          "Kissamos",
          "Kissamos",
          "Kissamos",
          "Kissamos",
          "Kissamos",
          "Kissamos",
          "Kissamos",
          "Kissamos",
          "Kissamos",
          "Kissamos",
          "Kissamos",
          "Kissamos",
          "Kissamos",
          "Kissamos",
          "Kissamos",
          "Kissamos",
          "Kissamos",
          "Kissamos",
          "Kissamos",
          "Kissamos",
          "Kissamos",
          "Kissamos",
          "Kissamos",
          "Kissamos",
          "Kissamos",
          "Kissamos",
          "Kissamos",
          "Kissamos",
          "Kissamos",
          "Kissamos",
          "Kissamos",
          "Kissamos",
          "Kissamos",
          "Kissamos",
          "Kissamos",
          "Kissamos",
          "Kissamos",
          "Kissamos",
          "Kissamos",
          "Kissamos",
          "Kissamos",
          "Kissamos",
          "Kissamos",
          "Kissamos",
          "Kissamos",
          "Kissamos",
          "Kissamos",
          "Kissamos",
          "Kissamos",
          "Kissamos",
          "Kissamos",
          "Kissamos",
          "Kissamos",
          "Kissamos",
          "Kissamos",
          "Kissamos",
          "Kissamos",
          "Kissamos",
          "Kissamos",
          "Kissamos",
          "Kissamos",
          "Kissamos",
          "Kissamos",
          "Kissamos",
          "Kissamos",
          "Kissamos",
          "Kissamos",
          "Kissamos",
          "Kissamos",
          "Kissamos",
          "Kissamos",
          "Kissamos",
          "Kissamos",
          "Kissamos",
          "Kissamos",
          "Kissamos",
          "Kissamos",
          "Kissamos",
          "Kissamos",
          "Kissamos",
          "Kissamos",
          "Kissamos",
          "Kissamos",
          "Kissamos",
          "Kissamos",
          "Kissamos",
          "Kissamos",
          "Kissamos",
          "Kissamos",
          "Kissamos",
          "Kissamos",
          "Kissamos",
          "Kissamos",
          "Kissamos",
          "Kissamos",
          "Kissamos",
          "Kissamos",
          "Kissamos",
          "Kissamos",
          "Kissamos",
          "Kissamos",
          "Kissamos",
          "Kissamos",
          "Kissamos",
          "Kissamos",
          "Kissamos",
          "Kissamos",
          "Kissamos",
          "Kissamos",
          "Kissamos",
          "Kissamos",
          "Kissamos",
          "Kissamos",
          "Kissamos",
          "Kissamos",
          "Kissamos",
          "Kissamos",
          "Kissamos",
          "Kissamos",
          "Kissamos",
          "Kissamos",
          "Kissamos",
          "Kissamos",
          "Kissamos",
          "Kissamos",
          "Kissamos",
          "Kissamos",
          "Kissamos",
          "Kissamos",
          "Kissamos",
          "Kissamos",
          "Kissamos",
          "Kissamos",
          "Kissamos",
          "Kissamos",
          "Kissamos",
          "Kissamos",
          "Kissamos",
          "Kissamos",
          "Kissamos",
          "Kissamos",
          "Kissamos",
          "Kissamos",
          "Kissamos",
          "Kissamos",
          "Kissamos",
          "Kissamos",
          "Kissamos",
          "Kissamos",
          "Kissamos",
          "Kissamos",
          "Kissamos",
          "Kissamos",
          "Kissamos",
          "Kissamos",
          "Kissamos",
          "Kissamos",
          "Kissamos",
          "Kissamos",
          "Kissamos",
          "Kissamos",
          "Kissamos",
          "Kissamos",
          "Kissamos",
          "Kissamos",
          "Kissamos",
          "Kissamos",
          "Kissamos",
          "Kissamos",
          "Kissamos",
          "Kissamos",
          "Kissamos",
          "Kissamos",
          "Kissamos",
          "Kissamos",
          "Kissamos",
          "Kissamos",
          "Kissamos",
          "Kissamos",
          "Kissamos",
          "Kissamos",
          "Kissamos",
          "Kissamos",
          "Kissamos",
          "Kissamos",
          "Kissamos",
          "Kissamos",
          "Kissamos",
          "Kissamos",
          "Kissamos",
          "Kissamos",
          "Kissamos",
          "Kissamos",
          "Kissamos",
          "Kissamos",
          "Kissamos",
          "Kissamos",
          "Kissamos",
          "Kissamos",
          "Kissamos",
          "Kissamos",
          "Kissamos",
          "Kissamos",
          "Kissamos",
          "Kissamos",
          "Kissamos",
          "Kissamos",
          "Kissamos",
          "Kissamos",
          "Kissamos",
          "Kissamos",
          "Kissamos",
          "Kissamos",
          "Kissamos",
          "Kissamos",
          "Kissamos",
          "Kissamos",
          "Kissamos",
          "Kissamos",
          "Kissamos",
          "Kissamos",
          "Kissamos",
          "Kissamos",
          "Kissamos",
          "Kissamos",
          "Kissamos",
          "Kissamos",
          "Kissamos",
          "Kissamos",
          "Kissamos",
          "Kissamos",
          "Kissamos",
          "Kissamos",
          "Kissamos",
          "Kissamos",
          "Kissamos",
          "Kissamos",
          "Kissamos",
          "Kissamos",
          "Kissamos",
          "Kissamos",
          "Kissamos",
          "Kissamos",
          "Kissamos",
          "Kissamos",
          "Kissamos",
          "Kissamos",
          "Kissamos",
          "Kissamos",
          "Kissamos",
          "Kissamos",
          "Kissamos",
          "Kissamos",
          "Kissamos",
          "Kissamos",
          "Kissamos",
          "Kissamos",
          "Kissamos",
          "Kissamos",
          "Kissamos",
          "Kissamos",
          "Kissamos",
          "Kissamos",
          "Kissamos",
          "Kissamos",
          "Kissamos",
          "Kissamos",
          "Kissamos",
          "Kissamos",
          "Kissamos",
          "Kissamos",
          "Kissamos",
          "Kissamos",
          "Kissamos",
          "Kissamos",
          "Kissamos",
          "Kissamos",
          "Kissamos",
          "Kissamos",
          "Kissamos",
          "Kissamos",
          "Kissamos",
          "Kissamos",
          "Kissamos",
          "Kissamos",
          "Kissamos",
          "Kissamos",
          "Kissamos",
          "Kissamos",
          "Kissamos",
          "Kissamos",
          "Kissamos",
          "Kissamos",
          "Kissamos",
          "Kissamos",
          "Kissamos",
          "Kissamos",
          "Kissamos",
          "Kissamos",
          "Kissamos",
          "Kissamos",
          "Kissamos",
          "Kissamos",
          "Kissamos",
          "Kissamos",
          "Kissamos",
          "Kissamos",
          "Kissamos",
          "Kissamos",
          "Kissamos",
          "Kissamos",
          "Kissamos",
          "Kissamos",
          "Kissamos",
          "Kissamos",
          "Kissamos",
          "Kissamos",
          "Kissamos",
          "Kissamos",
          "Kissamos",
          "Kissamos",
          "Kissamos",
          "Kissamos",
          "Kissamos",
          "Kissamos",
          "Kissamos",
          "Kissamos",
          "Kissamos",
          "Kissamos",
          "Kissamos",
          "Kissamos",
          "Kissamos",
          "Kissamos",
          "Kissamos",
          "Kissamos",
          "Kissamos",
          "Kissamos",
          "Kissamos",
          "Kissamos",
          "Kissamos",
          "Kissamos",
          "Kissamos",
          "Kissamos",
          "Kissamos",
          "Kissamos",
          "Kissamos",
          "Kissamos",
          "Kissamos",
          "Kissamos",
          "Kissamos",
          "Kissamos",
          "Kissamos",
          "Kissamos",
          "Kissamos",
          "Kissamos",
          "Kissamos",
          "Kissamos",
          "Kissamos",
          "Kissamos",
          "Kissamos",
          "Kissamos",
          "Kissamos",
          "Kissamos",
          "Kissamos",
          "Kissamos",
          "Kissamos",
          "Kissamos",
          "Kissamos",
          "Kissamos",
          "Kissamos",
          "Kissamos",
          "Kissamos",
          "Kissamos",
          "Kissamos",
          "Kissamos",
          "Kissamos",
          "Kissamos",
          "Kissamos",
          "Kissamos",
          "Kissamos",
          "Kissamos",
          "Kissamos",
          "Kissamos",
          "Kissamos",
          "Kissamos",
          "Kissamos",
          "Kissamos",
          "Kissamos",
          "Kissamos",
          "Kissamos",
          "Kissamos",
          "Kissamos",
          "Kissamos",
          "Kissamos",
          "Kissamos",
          "Kissamos",
          "Kissamos",
          "Kissamos",
          "Kissamos",
          "Kissamos",
          "Kissamos",
          "Kissamos",
          "Kissamos",
          "Kissamos",
          "Kissamos",
          "Kissamos",
          "Kissamos",
          "Kissamos",
          "Kissamos",
          "Kissamos",
          "Kissamos",
          "Kissamos",
          "Kissamos",
          "Kissamos",
          "Kissamos",
          "Kissamos",
          "Kissamos",
          "Kissamos",
          "Kissamos",
          "Kissamos",
          "Kissamos",
          "Kissamos",
          "Kissamos",
          "Kissamos",
          "Kissamos",
          "Kissamos",
          "Kissamos",
          "Kissamos",
          "Kissamos",
          "Kissamos",
          "Kissamos",
          "Kissamos",
          "Kissamos",
          "Kissamos",
          "Kissamos",
          "Kissamos",
          "Kissamos",
          "Kissamos",
          "Kissamos",
          "Kissamos",
          "Kissamos",
          "Kissamos",
          "Kissamos",
          "Kissamos",
          "Kissamos",
          "Kissamos",
          "Kissamos",
          "Kissamos",
          "Kissamos",
          "Kissamos",
          "Kissamos",
          "Kissamos",
          "Kissamos",
          "Kissamos",
          "Kissamos",
          "Kissamos",
          "Kissamos",
          "Kissamos",
          "Kissamos",
          "Kissamos",
          "Kissamos",
          "Kissamos",
          "Kissamos",
          "Kissamos",
          "Kissamos",
          "Kissamos",
          "Kissamos",
          "Kissamos",
          "Kissamos",
          "Kissamos",
          "Kissamos",
          "Kissamos",
          "Kissamos",
          "Kissamos",
          "Kissamos",
          "Kissamos",
          "Kissamos",
          "Kissamos",
          "Kissamos",
          "Apokoronas",
          "Apokoronas",
          "Apokoronas",
          "Apokoronas",
          "Apokoronas",
          "Apokoronas",
          "Apokoronas",
          "Apokoronas",
          "Apokoronas",
          "Apokoronas",
          "Apokoronas",
          "Apokoronas",
          "Apokoronas",
          "Apokoronas",
          "Apokoronas",
          "Apokoronas",
          "Apokoronas",
          "Apokoronas",
          "Apokoronas",
          "Apokoronas",
          "Apokoronas",
          "Apokoronas",
          "Apokoronas",
          "Apokoronas",
          "Apokoronas",
          "Apokoronas",
          "Apokoronas",
          "Apokoronas",
          "Apokoronas",
          "Apokoronas",
          "Apokoronas",
          "Apokoronas",
          "Apokoronas",
          "Apokoronas",
          "Apokoronas",
          "Apokoronas",
          "Apokoronas",
          "Apokoronas",
          "Apokoronas",
          "Apokoronas",
          "Apokoronas",
          "Apokoronas",
          "Apokoronas",
          "Apokoronas",
          "Apokoronas",
          "Apokoronas",
          "Apokoronas",
          "Apokoronas",
          "Apokoronas",
          "Apokoronas",
          "Apokoronas",
          "Apokoronas",
          "Apokoronas",
          "Apokoronas",
          "Apokoronas",
          "Apokoronas",
          "Apokoronas",
          "Apokoronas",
          "Apokoronas",
          "Apokoronas",
          "Apokoronas",
          "Apokoronas",
          "Apokoronas",
          "Apokoronas",
          "Apokoronas",
          "Apokoronas",
          "Apokoronas",
          "Apokoronas",
          "Apokoronas",
          "Apokoronas",
          "Apokoronas",
          "Apokoronas",
          "Apokoronas",
          "Apokoronas",
          "Apokoronas",
          "Apokoronas",
          "Apokoronas",
          "Apokoronas",
          "Apokoronas",
          "Apokoronas",
          "Apokoronas",
          "Apokoronas",
          "Apokoronas",
          "Apokoronas",
          "Apokoronas",
          "Apokoronas",
          "Apokoronas",
          "Apokoronas",
          "Apokoronas",
          "Apokoronas",
          "Apokoronas",
          "Apokoronas",
          "Apokoronas",
          "Apokoronas",
          "Apokoronas",
          "Apokoronas",
          "Apokoronas",
          "Apokoronas",
          "Apokoronas",
          "Apokoronas",
          "Apokoronas",
          "Apokoronas",
          "Apokoronas",
          "Apokoronas",
          "Apokoronas",
          "Apokoronas",
          "Apokoronas",
          "Apokoronas",
          "Apokoronas",
          "Apokoronas",
          "Apokoronas",
          "Apokoronas",
          "Apokoronas",
          "Apokoronas",
          "Apokoronas",
          "Apokoronas",
          "Apokoronas",
          "Apokoronas",
          "Apokoronas",
          "Apokoronas",
          "Apokoronas",
          "Apokoronas",
          "Apokoronas",
          "Apokoronas",
          "Apokoronas",
          "Apokoronas",
          "Apokoronas",
          "Apokoronas",
          "Apokoronas",
          "Apokoronas",
          "Apokoronas",
          "Apokoronas",
          "Apokoronas",
          "Apokoronas",
          "Apokoronas",
          "Apokoronas",
          "Apokoronas",
          "Apokoronas",
          "Apokoronas",
          "Apokoronas",
          "Apokoronas",
          "Apokoronas",
          "Apokoronas",
          "Apokoronas",
          "Apokoronas",
          "Apokoronas",
          "Apokoronas",
          "Apokoronas",
          "Apokoronas",
          "Apokoronas",
          "Apokoronas",
          "Apokoronas",
          "Apokoronas",
          "Apokoronas",
          "Apokoronas",
          "Apokoronas",
          "Apokoronas",
          "Apokoronas",
          "Apokoronas",
          "Apokoronas",
          "Apokoronas",
          "Apokoronas",
          "Apokoronas",
          "Apokoronas",
          "Apokoronas",
          "Apokoronas",
          "Apokoronas",
          "Apokoronas",
          "Apokoronas",
          "Apokoronas",
          "Apokoronas",
          "Apokoronas",
          "Apokoronas",
          "Apokoronas",
          "Apokoronas",
          "Apokoronas",
          "Apokoronas",
          "Apokoronas",
          "Apokoronas",
          "Apokoronas",
          "Apokoronas",
          "Apokoronas",
          "Apokoronas",
          "Apokoronas",
          "Apokoronas",
          "Apokoronas",
          "Apokoronas",
          "Apokoronas",
          "Apokoronas",
          "Apokoronas",
          "Apokoronas",
          "Apokoronas",
          "Apokoronas",
          "Apokoronas",
          "Apokoronas",
          "Apokoronas",
          "Apokoronas",
          "Apokoronas",
          "Apokoronas",
          "Apokoronas",
          "Apokoronas",
          "Apokoronas",
          "Apokoronas",
          "Apokoronas",
          "Apokoronas",
          "Apokoronas",
          "Apokoronas",
          "Apokoronas",
          "Apokoronas",
          "Apokoronas",
          "Apokoronas",
          "Apokoronas",
          "Apokoronas",
          "Apokoronas",
          "Apokoronas",
          "Apokoronas",
          "Apokoronas",
          "Apokoronas",
          "Apokoronas",
          "Apokoronas",
          "Apokoronas",
          "Apokoronas",
          "Apokoronas",
          "Apokoronas",
          "Apokoronas",
          "Apokoronas",
          "Apokoronas",
          "Apokoronas",
          "Apokoronas",
          "Apokoronas",
          "Apokoronas",
          "Apokoronas",
          "Apokoronas",
          "Apokoronas",
          "Apokoronas",
          "Apokoronas",
          "Apokoronas",
          "Apokoronas",
          "Apokoronas",
          "Apokoronas",
          "Apokoronas",
          "Apokoronas",
          "Apokoronas",
          "Apokoronas",
          "Apokoronas",
          "Apokoronas",
          "Apokoronas",
          "Apokoronas",
          "Apokoronas",
          "Apokoronas",
          "Apokoronas",
          "Apokoronas",
          "Apokoronas",
          "Apokoronas",
          "Apokoronas",
          "Apokoronas",
          "Apokoronas",
          "Apokoronas",
          "Apokoronas",
          "Apokoronas",
          "Apokoronas",
          "Apokoronas",
          "Apokoronas",
          "Apokoronas",
          "Apokoronas",
          "Apokoronas",
          "Apokoronas",
          "Apokoronas",
          "Apokoronas",
          "Apokoronas",
          "Apokoronas",
          "Apokoronas",
          "Apokoronas",
          "Apokoronas",
          "Apokoronas",
          "Apokoronas",
          "Apokoronas",
          "Apokoronas",
          "Apokoronas",
          "Apokoronas",
          "Apokoronas",
          "Apokoronas",
          "Apokoronas",
          "Apokoronas",
          "Apokoronas",
          "Apokoronas",
          "Apokoronas",
          "Apokoronas",
          "Apokoronas",
          "Apokoronas",
          "Apokoronas",
          "Apokoronas",
          "Apokoronas",
          "Apokoronas",
          "Apokoronas",
          "Apokoronas",
          "Apokoronas",
          "Apokoronas",
          "Apokoronas",
          "Apokoronas",
          "Apokoronas",
          "Apokoronas",
          "Apokoronas",
          "Apokoronas",
          "Apokoronas",
          "Apokoronas",
          "Apokoronas",
          "Apokoronas",
          "Apokoronas",
          "Apokoronas",
          "Apokoronas",
          "Apokoronas",
          "Apokoronas",
          "Apokoronas",
          "Apokoronas",
          "Apokoronas",
          "Apokoronas",
          "Apokoronas",
          "Apokoronas",
          "Apokoronas",
          "Apokoronas",
          "Apokoronas",
          "Apokoronas",
          "Apokoronas",
          "Apokoronas",
          "Apokoronas",
          "Apokoronas",
          "Apokoronas",
          "Apokoronas",
          "Apokoronas",
          "Apokoronas",
          "Apokoronas",
          "Apokoronas",
          "Apokoronas",
          "Apokoronas",
          "Apokoronas",
          "Apokoronas",
          "Apokoronas",
          "Apokoronas",
          "Apokoronas",
          "Apokoronas",
          "Apokoronas",
          "Apokoronas",
          "Apokoronas",
          "Apokoronas",
          "Apokoronas",
          "Apokoronas",
          "Apokoronas",
          "Apokoronas",
          "Apokoronas",
          "Apokoronas",
          "Apokoronas",
          "Apokoronas",
          "Apokoronas",
          "Apokoronas",
          "Apokoronas",
          "Apokoronas",
          "Apokoronas",
          "Apokoronas",
          "Apokoronas",
          "Apokoronas",
          "Apokoronas",
          "Apokoronas",
          "Apokoronas",
          "Apokoronas",
          "Apokoronas",
          "Apokoronas",
          "Apokoronas",
          "Apokoronas",
          "Apokoronas",
          "Apokoronas",
          "Apokoronas",
          "Apokoronas",
          "Apokoronas",
          "Apokoronas",
          "Apokoronas",
          "Apokoronas",
          "Apokoronas",
          "Apokoronas",
          "Apokoronas",
          "Apokoronas",
          "Apokoronas",
          "Apokoronas",
          "Apokoronas",
          "Apokoronas",
          "Apokoronas",
          "Apokoronas",
          "Apokoronas",
          "Apokoronas",
          "Apokoronas",
          "Apokoronas",
          "Apokoronas",
          "Apokoronas",
          "Apokoronas",
          "Apokoronas",
          "Apokoronas",
          "Apokoronas",
          "Apokoronas",
          "Apokoronas",
          "Apokoronas",
          "Apokoronas",
          "Apokoronas",
          "Apokoronas",
          "Apokoronas",
          "Apokoronas",
          "Apokoronas",
          "Apokoronas",
          "Apokoronas",
          "Apokoronas",
          "Apokoronas",
          "Apokoronas",
          "Apokoronas",
          "Apokoronas",
          "Apokoronas",
          "Apokoronas",
          "Apokoronas",
          "Apokoronas",
          "Apokoronas",
          "Apokoronas",
          "Apokoronas",
          "Apokoronas",
          "Apokoronas",
          "Apokoronas",
          "Apokoronas",
          "Apokoronas",
          "Apokoronas",
          "Apokoronas",
          "Apokoronas",
          "Apokoronas",
          "Apokoronas",
          "Apokoronas",
          "Apokoronas",
          "Apokoronas",
          "Apokoronas",
          "Apokoronas",
          "Apokoronas",
          "Apokoronas",
          "Apokoronas",
          "Apokoronas",
          "Apokoronas",
          "Apokoronas",
          "Apokoronas",
          "Apokoronas",
          "Apokoronas",
          "Apokoronas",
          "Apokoronas",
          "Apokoronas",
          "Apokoronas",
          "Apokoronas",
          "Apokoronas",
          "Apokoronas",
          "Apokoronas",
          "Apokoronas",
          "Apokoronas",
          "Apokoronas",
          "Apokoronas",
          "Apokoronas",
          "Apokoronas",
          "Apokoronas",
          "Apokoronas",
          "Apokoronas",
          "Apokoronas",
          "Apokoronas",
          "Apokoronas",
          "Apokoronas",
          "Apokoronas",
          "Apokoronas",
          "Apokoronas",
          "Apokoronas",
          "Apokoronas",
          "Apokoronas",
          "Apokoronas",
          "Apokoronas",
          "Apokoronas",
          "Apokoronas",
          "Apokoronas",
          "Apokoronas",
          "Apokoronas",
          "Apokoronas",
          "Apokoronas",
          "Apokoronas",
          "Apokoronas",
          "Apokoronas",
          "Apokoronas",
          "Apokoronas",
          "Apokoronas",
          "Apokoronas",
          "Apokoronas",
          "Apokoronas",
          "Apokoronas",
          "Apokoronas",
          "Apokoronas",
          "Apokoronas",
          "Apokoronas",
          "Apokoronas",
          "Apokoronas",
          "Apokoronas",
          "Apokoronas",
          "Apokoronas",
          "Apokoronas",
          "Apokoronas",
          "Apokoronas",
          "Apokoronas",
          "Apokoronas",
          "Apokoronas",
          "Apokoronas",
          "Apokoronas",
          "Apokoronas",
          "Apokoronas",
          "Apokoronas",
          "Apokoronas",
          "Apokoronas",
          "Apokoronas",
          "Apokoronas",
          "Apokoronas",
          "Apokoronas",
          "Apokoronas",
          "Apokoronas",
          "Apokoronas",
          "Apokoronas",
          "Apokoronas",
          "Apokoronas",
          "Apokoronas",
          "Apokoronas",
          "Apokoronas",
          "Apokoronas",
          "Apokoronas",
          "Apokoronas",
          "Apokoronas",
          "Apokoronas",
          "Apokoronas",
          "Apokoronas",
          "Apokoronas",
          "Apokoronas",
          "Apokoronas",
          "Apokoronas",
          "Apokoronas",
          "Apokoronas",
          "Apokoronas",
          "Apokoronas",
          "Apokoronas",
          "Apokoronas",
          "Apokoronas",
          "Apokoronas",
          "Apokoronas",
          "Apokoronas",
          "Apokoronas",
          "Apokoronas",
          "Apokoronas",
          "Apokoronas",
          "Apokoronas",
          "Apokoronas",
          "Apokoronas",
          "Apokoronas",
          "Apokoronas",
          "Apokoronas",
          "Apokoronas",
          "Apokoronas",
          "Apokoronas",
          "Apokoronas",
          "Apokoronas",
          "Apokoronas",
          "Apokoronas",
          "Apokoronas",
          "Apokoronas",
          "Apokoronas",
          "Apokoronas",
          "Apokoronas",
          "Apokoronas",
          "Apokoronas",
          "Apokoronas",
          "Apokoronas",
          "Apokoronas",
          "Apokoronas",
          "Apokoronas",
          "Apokoronas",
          "Apokoronas",
          "Apokoronas",
          "Apokoronas",
          "Apokoronas",
          "Apokoronas",
          "Apokoronas",
          "Apokoronas",
          "Apokoronas",
          "Apokoronas",
          "Apokoronas",
          "Apokoronas",
          "Apokoronas",
          "Apokoronas",
          "Apokoronas",
          "Apokoronas",
          "Apokoronas",
          "Apokoronas",
          "Apokoronas",
          "Apokoronas",
          "Apokoronas",
          "Apokoronas",
          "Apokoronas",
          "Apokoronas",
          "Apokoronas",
          "Apokoronas",
          "Apokoronas",
          "Apokoronas",
          "Apokoronas",
          "Apokoronas",
          "Apokoronas",
          "Apokoronas",
          "Apokoronas",
          "Apokoronas",
          "Apokoronas",
          "Apokoronas",
          "Apokoronas",
          "Apokoronas",
          "Apokoronas",
          "Apokoronas",
          "Apokoronas",
          "Apokoronas",
          "Apokoronas",
          "Apokoronas",
          "Apokoronas",
          "Apokoronas",
          "Apokoronas",
          "Apokoronas",
          "Apokoronas",
          "Apokoronas",
          "Apokoronas",
          "Apokoronas",
          "Apokoronas",
          "Apokoronas",
          "Apokoronas",
          "Apokoronas",
          "Apokoronas",
          "Apokoronas",
          "Apokoronas",
          "Apokoronas",
          "Apokoronas",
          "Apokoronas",
          "Apokoronas",
          "Apokoronas",
          "Apokoronas",
          "Apokoronas",
          "Apokoronas",
          "Apokoronas",
          "Apokoronas",
          "Apokoronas",
          "Apokoronas",
          "Apokoronas",
          "Apokoronas",
          "Apokoronas",
          "Apokoronas",
          "Apokoronas",
          "Apokoronas",
          "Apokoronas",
          "Apokoronas",
          "Apokoronas",
          "Apokoronas",
          "Apokoronas",
          "Apokoronas",
          "Apokoronas",
          "Apokoronas",
          "Apokoronas",
          "Apokoronas",
          "Apokoronas",
          "Apokoronas",
          "Apokoronas",
          "Apokoronas",
          "Apokoronas",
          "Apokoronas",
          "Apokoronas",
          "Apokoronas",
          "Apokoronas",
          "Apokoronas",
          "Apokoronas",
          "Apokoronas",
          "Apokoronas",
          "Apokoronas",
          "Apokoronas",
          "Apokoronas",
          "Apokoronas",
          "Apokoronas",
          "Apokoronas",
          "Apokoronas",
          "Apokoronas",
          "Apokoronas",
          "Apokoronas",
          "Apokoronas",
          "Apokoronas",
          "Apokoronas",
          "Apokoronas",
          "Apokoronas",
          "Apokoronas",
          "Apokoronas",
          "Apokoronas",
          "Apokoronas",
          "Apokoronas",
          "Apokoronas",
          "Apokoronas",
          "Apokoronas",
          "Apokoronas",
          "Apokoronas",
          "Apokoronas",
          "Apokoronas",
          "Apokoronas",
          "Apokoronas",
          "Apokoronas",
          "Apokoronas",
          "Apokoronas",
          "Apokoronas",
          "Apokoronas",
          "Apokoronas",
          "Apokoronas",
          "Apokoronas",
          "Apokoronas",
          "Apokoronas",
          "Apokoronas",
          "Apokoronas",
          "Apokoronas",
          "Apokoronas",
          "Apokoronas",
          "Apokoronas",
          "Apokoronas",
          "Apokoronas",
          "Apokoronas",
          "Apokoronas",
          "Apokoronas",
          "Apokoronas",
          "Apokoronas",
          "Apokoronas",
          "Apokoronas",
          "Apokoronas",
          "Apokoronas",
          "Apokoronas",
          "Apokoronas",
          "Apokoronas",
          "Apokoronas",
          "Apokoronas",
          "Apokoronas",
          "Apokoronas",
          "Apokoronas",
          "Apokoronas",
          "Apokoronas",
          "Apokoronas",
          "Apokoronas",
          "Apokoronas",
          "Apokoronas",
          "Apokoronas",
          "Apokoronas",
          "Apokoronas",
          "Apokoronas",
          "Apokoronas",
          "Apokoronas",
          "Apokoronas",
          "Apokoronas",
          "Apokoronas",
          "Apokoronas",
          "Apokoronas",
          "Apokoronas",
          "Apokoronas",
          "Apokoronas",
          "Apokoronas",
          "Apokoronas",
          "Apokoronas",
          "Apokoronas",
          "Apokoronas",
          "Apokoronas",
          "Apokoronas",
          "Apokoronas",
          "Apokoronas",
          "Apokoronas",
          "Apokoronas",
          "Apokoronas",
          "Apokoronas",
          "Apokoronas",
          "Apokoronas",
          "Apokoronas",
          "Apokoronas",
          "Apokoronas",
          "Apokoronas",
          "Apokoronas",
          "Apokoronas",
          "Apokoronas",
          "Apokoronas",
          "Apokoronas",
          "Apokoronas",
          "Apokoronas",
          "Apokoronas",
          "Apokoronas",
          "Apokoronas",
          "Apokoronas",
          "Apokoronas",
          "Apokoronas",
          "Apokoronas",
          "Apokoronas",
          "Apokoronas",
          "Apokoronas",
          "Apokoronas",
          "Apokoronas",
          "Apokoronas",
          "Apokoronas",
          "Apokoronas",
          "Apokoronas",
          "Apokoronas",
          "Apokoronas",
          "Apokoronas",
          "Apokoronas",
          "Apokoronas",
          "Apokoronas",
          "Apokoronas",
          "Apokoronas",
          "Apokoronas",
          "Apokoronas",
          "Apokoronas",
          "Apokoronas",
          "Apokoronas",
          "Apokoronas",
          "Apokoronas",
          "Apokoronas",
          "Apokoronas",
          "Apokoronas",
          "Apokoronas",
          "Apokoronas",
          "Apokoronas",
          "Apokoronas",
          "Apokoronas",
          "Apokoronas",
          "Apokoronas",
          "Apokoronas",
          "Apokoronas",
          "Apokoronas",
          "Apokoronas",
          "Apokoronas",
          "Apokoronas",
          "Apokoronas",
          "Apokoronas",
          "Apokoronas",
          "Apokoronas",
          "Apokoronas",
          "Apokoronas",
          "Apokoronas",
          "Apokoronas",
          "Apokoronas",
          "Apokoronas",
          "Apokoronas",
          "Apokoronas",
          "Apokoronas",
          "Apokoronas",
          "Apokoronas",
          "Apokoronas",
          "Apokoronas",
          "Apokoronas",
          "Apokoronas",
          "Apokoronas",
          "Apokoronas",
          "Apokoronas",
          "Apokoronas",
          "Apokoronas",
          "Apokoronas",
          "Apokoronas",
          "Apokoronas",
          "Apokoronas",
          "Apokoronas",
          "Apokoronas",
          "Apokoronas",
          "Apokoronas",
          "Apokoronas",
          "Apokoronas",
          "Apokoronas",
          "Apokoronas",
          "Apokoronas",
          "Apokoronas",
          "Apokoronas",
          "Apokoronas",
          "Apokoronas",
          "Apokoronas",
          "Apokoronas",
          "Apokoronas",
          "Apokoronas",
          "Apokoronas",
          "Apokoronas",
          "Apokoronas",
          "Apokoronas",
          "Apokoronas",
          "Apokoronas",
          "Apokoronas",
          "Apokoronas",
          "Apokoronas",
          "Apokoronas",
          "Apokoronas",
          "Apokoronas",
          "Apokoronas",
          "Apokoronas",
          "Apokoronas",
          "Apokoronas",
          "Apokoronas",
          "Apokoronas",
          "Apokoronas",
          "Apokoronas",
          "Apokoronas",
          "Apokoronas",
          "Apokoronas",
          "Apokoronas",
          "Apokoronas",
          "Apokoronas",
          "Apokoronas",
          "Apokoronas",
          "Apokoronas",
          "Apokoronas",
          "Apokoronas",
          "Apokoronas",
          "Apokoronas",
          "Apokoronas",
          "Apokoronas",
          "Apokoronas",
          "Apokoronas",
          "Apokoronas",
          "Apokoronas",
          "Apokoronas",
          "Apokoronas",
          "Apokoronas",
          "Apokoronas",
          "Apokoronas",
          "Apokoronas",
          "Apokoronas",
          "Apokoronas",
          "Apokoronas",
          "Apokoronas",
          "Apokoronas",
          "Apokoronas",
          "Platanias",
          "Platanias",
          "Platanias",
          "Platanias",
          "Platanias",
          "Platanias",
          "Platanias",
          "Platanias",
          "Platanias",
          "Platanias",
          "Platanias",
          "Platanias",
          "Platanias",
          "Platanias",
          "Platanias",
          "Platanias",
          "Platanias",
          "Platanias",
          "Platanias",
          "Platanias",
          "Platanias",
          "Platanias",
          "Platanias",
          "Platanias",
          "Platanias",
          "Platanias",
          "Platanias",
          "Platanias",
          "Platanias",
          "Platanias",
          "Platanias",
          "Platanias",
          "Platanias",
          "Platanias",
          "Platanias",
          "Platanias",
          "Platanias",
          "Platanias",
          "Platanias",
          "Platanias",
          "Platanias",
          "Platanias",
          "Platanias",
          "Platanias",
          "Platanias",
          "Platanias",
          "Platanias",
          "Platanias",
          "Platanias",
          "Platanias",
          "Platanias",
          "Platanias",
          "Platanias",
          "Platanias",
          "Platanias",
          "Platanias",
          "Platanias",
          "Platanias",
          "Platanias",
          "Platanias",
          "Platanias",
          "Platanias",
          "Platanias",
          "Platanias",
          "Platanias",
          "Platanias",
          "Platanias",
          "Platanias",
          "Platanias",
          "Platanias",
          "Platanias",
          "Platanias",
          "Platanias",
          "Platanias",
          "Platanias",
          "Platanias",
          "Platanias",
          "Platanias",
          "Platanias",
          "Platanias",
          "Platanias",
          "Platanias",
          "Platanias",
          "Platanias",
          "Platanias",
          "Platanias",
          "Platanias",
          "Platanias",
          "Platanias",
          "Platanias",
          "Platanias",
          "Platanias",
          "Platanias",
          "Platanias",
          "Platanias",
          "Platanias",
          "Platanias",
          "Platanias",
          "Platanias",
          "Platanias",
          "Platanias",
          "Platanias",
          "Platanias",
          "Platanias",
          "Platanias",
          "Platanias",
          "Platanias",
          "Platanias",
          "Platanias",
          "Platanias",
          "Platanias",
          "Platanias",
          "Platanias",
          "Platanias",
          "Platanias",
          "Platanias",
          "Platanias",
          "Platanias",
          "Platanias",
          "Platanias",
          "Platanias",
          "Platanias",
          "Platanias",
          "Platanias",
          "Platanias",
          "Platanias",
          "Platanias",
          "Platanias",
          "Platanias",
          "Platanias",
          "Platanias",
          "Platanias",
          "Platanias",
          "Platanias",
          "Platanias",
          "Platanias",
          "Platanias",
          "Platanias",
          "Platanias",
          "Platanias",
          "Platanias",
          "Platanias",
          "Platanias",
          "Platanias",
          "Platanias",
          "Platanias",
          "Platanias",
          "Platanias",
          "Platanias",
          "Platanias",
          "Platanias",
          "Platanias",
          "Platanias",
          "Platanias",
          "Platanias",
          "Platanias",
          "Platanias",
          "Platanias",
          "Platanias",
          "Platanias",
          "Platanias",
          "Platanias",
          "Platanias",
          "Platanias",
          "Platanias",
          "Platanias",
          "Platanias",
          "Platanias",
          "Platanias",
          "Platanias",
          "Platanias",
          "Platanias",
          "Platanias",
          "Platanias",
          "Platanias",
          "Platanias",
          "Platanias",
          "Platanias",
          "Platanias",
          "Platanias",
          "Platanias",
          "Platanias",
          "Platanias",
          "Platanias",
          "Platanias",
          "Platanias",
          "Platanias",
          "Platanias",
          "Platanias",
          "Platanias",
          "Platanias",
          "Platanias",
          "Platanias",
          "Platanias",
          "Platanias",
          "Platanias",
          "Platanias",
          "Platanias",
          "Platanias",
          "Platanias",
          "Platanias",
          "Platanias",
          "Platanias",
          "Platanias",
          "Platanias",
          "Platanias",
          "Platanias",
          "Platanias",
          "Platanias",
          "Platanias",
          "Platanias",
          "Platanias",
          "Platanias",
          "Platanias",
          "Platanias",
          "Platanias",
          "Platanias",
          "Platanias",
          "Platanias",
          "Platanias",
          "Platanias",
          "Platanias",
          "Platanias",
          "Platanias",
          "Platanias",
          "Platanias",
          "Platanias",
          "Platanias",
          "Platanias",
          "Platanias",
          "Platanias",
          "Platanias",
          "Platanias",
          "Platanias",
          "Platanias",
          "Platanias",
          "Platanias",
          "Platanias",
          "Platanias",
          "Platanias",
          "Platanias",
          "Platanias",
          "Platanias",
          "Platanias",
          "Platanias",
          "Platanias",
          "Platanias",
          "Platanias",
          "Platanias",
          "Platanias",
          "Platanias",
          "Platanias",
          "Platanias",
          "Platanias",
          "Platanias",
          "Platanias",
          "Platanias",
          "Platanias",
          "Platanias",
          "Platanias",
          "Platanias",
          "Platanias",
          "Platanias",
          "Platanias",
          "Platanias",
          "Platanias",
          "Platanias",
          "Platanias",
          "Platanias",
          "Platanias",
          "Platanias",
          "Platanias",
          "Platanias",
          "Platanias",
          "Platanias",
          "Platanias",
          "Platanias",
          "Platanias",
          "Platanias",
          "Platanias",
          "Platanias",
          "Platanias",
          "Platanias",
          "Platanias",
          "Platanias",
          "Platanias",
          "Platanias",
          "Platanias",
          "Platanias",
          "Platanias",
          "Platanias",
          "Platanias",
          "Platanias",
          "Platanias",
          "Platanias",
          "Platanias",
          "Platanias",
          "Platanias",
          "Platanias",
          "Platanias",
          "Platanias",
          "Platanias",
          "Platanias",
          "Platanias",
          "Platanias",
          "Platanias",
          "Platanias",
          "Platanias",
          "Platanias",
          "Platanias",
          "Platanias",
          "Platanias",
          "Platanias",
          "Platanias",
          "Platanias",
          "Platanias",
          "Platanias",
          "Platanias",
          "Platanias",
          "Platanias",
          "Platanias",
          "Platanias",
          "Platanias",
          "Platanias",
          "Platanias",
          "Platanias",
          "Platanias",
          "Platanias",
          "Platanias",
          "Platanias",
          "Platanias",
          "Platanias",
          "Platanias",
          "Platanias",
          "Platanias",
          "Platanias",
          "Platanias",
          "Platanias",
          "Platanias",
          "Platanias",
          "Platanias",
          "Platanias",
          "Platanias",
          "Platanias",
          "Platanias",
          "Platanias",
          "Platanias",
          "Platanias",
          "Platanias",
          "Platanias",
          "Platanias",
          "Platanias",
          "Platanias",
          "Platanias",
          "Platanias",
          "Platanias",
          "Platanias",
          "Platanias",
          "Platanias",
          "Platanias",
          "Platanias",
          "Platanias",
          "Platanias",
          "Platanias",
          "Platanias",
          "Platanias",
          "Platanias",
          "Platanias",
          "Platanias",
          "Platanias",
          "Platanias",
          "Platanias",
          "Platanias",
          "Platanias",
          "Platanias",
          "Platanias",
          "Platanias",
          "Platanias",
          "Platanias",
          "Platanias",
          "Platanias",
          "Platanias",
          "Platanias",
          "Platanias",
          "Platanias",
          "Platanias",
          "Platanias",
          "Platanias",
          "Platanias",
          "Platanias",
          "Platanias",
          "Platanias",
          "Platanias",
          "Platanias",
          "Platanias",
          "Platanias",
          "Platanias",
          "Platanias",
          "Platanias",
          "Platanias",
          "Platanias",
          "Platanias",
          "Platanias",
          "Platanias",
          "Platanias",
          "Platanias",
          "Platanias",
          "Platanias",
          "Platanias",
          "Platanias",
          "Platanias",
          "Platanias",
          "Platanias",
          "Platanias",
          "Platanias",
          "Platanias",
          "Platanias",
          "Platanias",
          "Platanias",
          "Platanias",
          "Platanias",
          "Platanias",
          "Platanias",
          "Platanias",
          "Platanias",
          "Platanias",
          "Platanias",
          "Platanias",
          "Platanias",
          "Platanias",
          "Platanias",
          "Platanias",
          "Platanias",
          "Platanias",
          "Platanias",
          "Platanias",
          "Platanias",
          "Platanias",
          "Platanias",
          "Platanias",
          "Platanias",
          "Platanias",
          "Platanias",
          "Platanias",
          "Platanias",
          "Platanias",
          "Platanias",
          "Platanias",
          "Platanias",
          "Platanias",
          "Platanias",
          "Platanias",
          "Platanias",
          "Platanias",
          "Platanias",
          "Platanias",
          "Platanias",
          "Platanias",
          "Platanias",
          "Platanias",
          "Platanias",
          "Platanias",
          "Platanias",
          "Platanias",
          "Platanias",
          "Platanias",
          "Platanias",
          "Platanias",
          "Platanias",
          "Platanias",
          "Platanias",
          "Platanias",
          "Platanias",
          "Platanias",
          "Platanias",
          "Platanias",
          "Platanias",
          "Platanias",
          "Platanias",
          "Platanias",
          "Platanias",
          "Platanias",
          "Platanias",
          "Platanias",
          "Platanias",
          "Platanias",
          "Platanias",
          "Platanias",
          "Platanias",
          "Platanias",
          "Platanias",
          "Platanias",
          "Platanias",
          "Platanias",
          "Platanias",
          "Platanias",
          "Platanias",
          "Platanias",
          "Platanias",
          "Platanias",
          "Platanias",
          "Platanias",
          "Platanias",
          "Platanias",
          "Platanias",
          "Platanias",
          "Platanias",
          "Platanias",
          "Platanias",
          "Platanias",
          "Platanias",
          "Platanias",
          "Platanias",
          "Platanias",
          "Platanias",
          "Platanias",
          "Platanias",
          "Platanias",
          "Platanias",
          "Platanias",
          "Platanias",
          "Platanias",
          "Platanias",
          "Platanias",
          "Platanias",
          "Platanias",
          "Platanias",
          "Platanias",
          "Platanias",
          "Platanias",
          "Platanias",
          "Platanias",
          "Platanias",
          "Platanias",
          "Platanias",
          "Platanias",
          "Platanias",
          "Platanias",
          "Platanias",
          "Platanias",
          "Platanias",
          "Platanias",
          "Platanias",
          "Platanias",
          "Platanias",
          "Platanias",
          "Platanias",
          "Platanias",
          "Platanias",
          "Platanias",
          "Platanias",
          "Platanias",
          "Platanias",
          "Platanias",
          "Platanias",
          "Platanias",
          "Platanias",
          "Platanias",
          "Platanias",
          "Platanias",
          "Platanias",
          "Platanias",
          "Platanias",
          "Platanias",
          "Platanias",
          "Platanias",
          "Platanias",
          "Platanias",
          "Platanias",
          "Platanias",
          "Platanias",
          "Platanias",
          "Platanias",
          "Platanias",
          "Platanias",
          "Platanias",
          "Platanias",
          "Platanias",
          "Platanias",
          "Platanias",
          "Platanias",
          "Platanias",
          "Platanias",
          "Platanias",
          "Platanias",
          "Platanias",
          "Platanias",
          "Platanias",
          "Platanias",
          "Platanias",
          "Platanias",
          "Platanias",
          "Platanias",
          "Platanias",
          "Platanias",
          "Platanias",
          "Platanias",
          "Platanias",
          "Platanias",
          "Platanias",
          "Platanias",
          "Platanias",
          "Platanias",
          "Platanias",
          "Platanias",
          "Platanias",
          "Platanias",
          "Platanias",
          "Platanias",
          "Platanias",
          "Platanias",
          "Platanias",
          "Platanias",
          "Platanias",
          "Platanias",
          "Platanias",
          "Platanias",
          "Platanias",
          "Platanias",
          "Platanias",
          "Platanias",
          "Platanias",
          "Platanias",
          "Platanias",
          "Platanias",
          "Platanias",
          "Platanias",
          "Platanias",
          "Platanias",
          "Platanias",
          "Platanias",
          "Platanias",
          "Platanias",
          "Platanias",
          "Platanias",
          "Platanias",
          "Platanias",
          "Platanias",
          "Platanias",
          "Platanias",
          "Platanias",
          "Platanias",
          "Platanias",
          "Platanias",
          "Platanias",
          "Platanias",
          "Platanias",
          "Platanias",
          "Platanias",
          "Platanias",
          "Platanias",
          "Platanias",
          "Platanias",
          "Platanias",
          "Platanias",
          "Platanias",
          "Platanias",
          "Platanias",
          "Platanias",
          "Platanias",
          "Platanias",
          "Platanias",
          "Platanias",
          "Platanias",
          "Platanias",
          "Platanias",
          "Platanias",
          "Platanias",
          "Platanias",
          "Platanias",
          "Platanias",
          "Platanias",
          "Platanias",
          "Platanias",
          "Platanias",
          "Platanias",
          "Platanias",
          "Platanias",
          "Platanias",
          "Platanias",
          "Platanias",
          "Platanias",
          "Platanias",
          "Platanias",
          "Platanias",
          "Platanias",
          "Platanias",
          "Platanias",
          "Platanias",
          "Platanias",
          "Platanias",
          "Platanias",
          "Platanias",
          "Platanias",
          "Platanias",
          "Platanias",
          "Platanias",
          "Platanias",
          "Platanias",
          "Platanias",
          "Platanias",
          "Platanias",
          "Platanias",
          "Platanias",
          "Platanias",
          "Platanias",
          "Platanias",
          "Platanias",
          "Platanias",
          "Platanias",
          "Platanias",
          "Platanias",
          "Kandanos",
          "Kandanos",
          "Kandanos",
          "Kandanos",
          "Kandanos",
          "Kandanos",
          "Kandanos",
          "Kandanos",
          "Kandanos",
          "Kandanos",
          "Kandanos",
          "Kandanos",
          "Kandanos",
          "Kandanos",
          "Kandanos",
          "Kandanos",
          "Kandanos",
          "Kandanos",
          "Kandanos",
          "Kandanos",
          "Kandanos",
          "Kandanos",
          "Kandanos",
          "Kandanos",
          "Kandanos",
          "Kandanos",
          "Kandanos",
          "Kandanos",
          "Kandanos",
          "Kandanos",
          "Kandanos",
          "Kandanos",
          "Kandanos",
          "Kandanos",
          "Kandanos",
          "Kandanos",
          "Kandanos",
          "Kandanos",
          "Kandanos",
          "Kandanos",
          "Kandanos",
          "Kandanos",
          "Kandanos",
          "Kandanos",
          "Kandanos",
          "Kandanos",
          "Kandanos",
          "Kandanos",
          "Kandanos",
          "Kandanos",
          "Kandanos",
          "Kandanos",
          "Kandanos",
          "Kandanos",
          "Kandanos",
          "Kandanos",
          "Kandanos",
          "Kandanos",
          "Kandanos",
          "Kandanos",
          "Kandanos",
          "Kandanos",
          "Kandanos",
          "Kandanos",
          "Kandanos",
          "Kandanos",
          "Kandanos",
          "Kandanos",
          "Kandanos",
          "Kandanos",
          "Kandanos",
          "Kandanos",
          "Kandanos",
          "Kandanos",
          "Kandanos",
          "Kandanos",
          "Kandanos",
          "Kandanos",
          "Kandanos",
          "Kandanos",
          "Kandanos",
          "Kandanos",
          "Kandanos",
          "Kandanos",
          "Kandanos",
          "Kandanos",
          "Kandanos",
          "Kandanos",
          "Kandanos",
          "Kandanos",
          "Kandanos",
          "Kandanos",
          "Kandanos",
          "Kandanos",
          "Kandanos",
          "Kandanos",
          "Kandanos",
          "Kandanos",
          "Kandanos",
          "Kandanos",
          "Kandanos",
          "Kandanos",
          "Kandanos",
          "Kandanos",
          "Kandanos",
          "Kandanos",
          "Kandanos",
          "Kandanos",
          "Kandanos",
          "Kandanos",
          "Kandanos",
          "Kandanos",
          "Kandanos",
          "Kandanos",
          "Kandanos",
          "Kandanos",
          "Kandanos",
          "Kandanos",
          "Kandanos",
          "Kandanos",
          "Kandanos",
          "Kandanos",
          "Kandanos",
          "Kandanos",
          "Kandanos",
          "Kandanos",
          "Kandanos",
          "Kandanos",
          "Kandanos",
          "Kandanos",
          "Kandanos",
          "Kandanos",
          "Kandanos",
          "Kandanos",
          "Kandanos",
          "Kandanos",
          "Kandanos",
          "Kandanos",
          "Kandanos",
          "Kandanos",
          "Kandanos",
          "Kandanos",
          "Kandanos",
          "Kandanos",
          "Kandanos",
          "Kandanos",
          "Kandanos",
          "Kandanos",
          "Kandanos",
          "Kandanos",
          "Kandanos",
          "Kandanos",
          "Kandanos",
          "Kandanos",
          "Kandanos",
          "Kandanos",
          "Kandanos",
          "Kandanos",
          "Kandanos",
          "Kandanos",
          "Kandanos",
          "Kandanos",
          "Kandanos",
          "Kandanos",
          "Kandanos",
          "Kandanos",
          "Kandanos",
          "Kandanos",
          "Kandanos",
          "Kandanos",
          "Kandanos",
          "Kandanos",
          "Kandanos",
          "Kandanos",
          "Kandanos",
          "Kandanos",
          "Kandanos",
          "Kandanos",
          "Kandanos",
          "Kandanos",
          "Kandanos",
          "Kandanos",
          "Kandanos",
          "Kandanos",
          "Kandanos",
          "Kandanos",
          "Kandanos",
          "Kandanos",
          "Kandanos",
          "Kandanos",
          "Kandanos",
          "Kandanos",
          "Kandanos",
          "Kandanos",
          "Kandanos",
          "Kandanos",
          "Kandanos",
          "Kandanos",
          "Kandanos",
          "Kandanos",
          "Kandanos",
          "Kandanos",
          "Kandanos",
          "Kandanos",
          "Kandanos",
          "Kandanos",
          "Kandanos",
          "Kandanos",
          "Kandanos",
          "Kandanos",
          "Kandanos",
          "Kandanos",
          "Kandanos",
          "Kandanos",
          "Kandanos",
          "Kandanos",
          "Kandanos",
          "Kandanos",
          "Kandanos",
          "Kandanos",
          "Kandanos",
          "Kandanos",
          "Kandanos",
          "Kandanos",
          "Kandanos",
          "Kandanos",
          "Sfakia",
          "Sfakia",
          "Sfakia",
          "Sfakia",
          "Sfakia",
          "Sfakia",
          "Sfakia",
          "Sfakia",
          "Sfakia",
          "Sfakia",
          "Sfakia",
          "Sfakia",
          "Sfakia",
          "Sfakia",
          "Sfakia",
          "Sfakia",
          "Sfakia",
          "Sfakia",
          "Sfakia",
          "Sfakia",
          "Sfakia",
          "Sfakia",
          "Sfakia",
          "Sfakia",
          "Sfakia",
          "Sfakia",
          "Sfakia",
          "Sfakia",
          "Sfakia",
          "Sfakia",
          "Sfakia",
          "Sfakia",
          "Sfakia",
          "Sfakia",
          "Sfakia",
          "Sfakia",
          "Sfakia",
          "Sfakia",
          "Sfakia",
          "Sfakia",
          "Sfakia",
          "Sfakia",
          "Sfakia",
          "Sfakia",
          "Sfakia",
          "Sfakia",
          "Sfakia",
          "Sfakia",
          "Sfakia",
          "Sfakia",
          "Sfakia",
          "Sfakia",
          "Sfakia",
          "Sfakia",
          "Sfakia",
          "Sfakia",
          "Sfakia",
          "Sfakia",
          "Sfakia",
          "Sfakia",
          "Sfakia",
          "Sfakia",
          "Sfakia",
          "Sfakia",
          "Sfakia",
          "Sfakia",
          "Sfakia",
          "Sfakia",
          "Sfakia",
          "Sfakia",
          "Sfakia",
          "Sfakia",
          "Sfakia",
          "Sfakia",
          "Sfakia",
          "Sfakia",
          "Sfakia",
          "Sfakia",
          "Sfakia",
          "Sfakia",
          "Sfakia",
          "Sfakia",
          "Sfakia",
          "Sfakia",
          "Sfakia",
          "Sfakia",
          "Sfakia",
          "Sfakia",
          "Sfakia",
          "Sfakia",
          "Sfakia",
          "Sfakia",
          "Sfakia",
          "Sfakia",
          "Sfakia",
          "Sfakia",
          "Sfakia",
          "Sfakia",
          "Sfakia",
          "Sfakia",
          "Sfakia",
          "Sfakia",
          "Sfakia",
          "Sfakia",
          "Sfakia",
          "Sfakia",
          "Sfakia",
          "Sfakia",
          "Sfakia",
          "Sfakia",
          "Sfakia",
          "Sfakia",
          "Sfakia",
          "Sfakia",
          "Sfakia",
          "Sfakia",
          "Sfakia",
          "Sfakia",
          "Sfakia",
          "Sfakia",
          "Gaudos",
          "Gaudos",
          "Gaudos",
          "Gaudos",
          "Gaudos"
         ],
         "x0": " ",
         "xaxis": "x",
         "y": [
          23.5,
          34.333333333333336,
          13.125,
          21.5,
          52.083333333333336,
          21.25,
          21.25,
          25,
          30,
          24,
          12.5,
          47,
          23.5,
          40,
          20,
          17.25,
          40.84615384615385,
          16.285714285714285,
          87.5,
          64.28571428571429,
          15.666666666666666,
          15.75,
          19.75,
          32.5,
          35,
          40,
          37.5,
          35,
          42.5,
          25.5,
          23.5,
          20,
          30.5,
          24,
          25.5,
          32.5,
          26.666666666666668,
          12.714285714285714,
          45,
          29.5,
          31,
          20,
          56.25,
          16.666666666666668,
          19.8,
          24,
          26.25,
          26.666666666666668,
          21.2,
          26.125,
          20,
          22.5,
          14.8,
          29,
          29,
          18.75,
          34.2,
          26.428571428571427,
          17.25,
          15.666666666666666,
          15.666666666666666,
          44.666666666666664,
          45.888888888888886,
          17.25,
          43.333333333333336,
          17.25,
          14.75,
          17.25,
          17.25,
          17.25,
          21,
          85,
          21.25,
          25,
          43.25,
          66,
          26,
          33.333333333333336,
          16.5,
          17.25,
          17.25,
          17.4,
          19.666666666666668,
          24,
          21.666666666666668,
          20,
          54.666666666666664,
          53.5,
          24.714285714285715,
          27.142857142857142,
          24.714285714285715,
          52,
          24.5,
          30.333333333333332,
          53.75,
          40,
          27,
          28.75,
          25,
          19.75,
          29.5,
          29.5,
          19.75,
          39.5,
          20,
          19.75,
          28.75,
          46.15384615384615,
          29.5,
          21,
          21.666666666666668,
          12.5,
          14.375,
          40,
          38.833333333333336,
          19.25,
          34.5,
          38,
          37.5,
          31.5,
          44,
          26,
          42,
          12.75,
          39.166666666666664,
          45,
          30.5,
          15.666666666666666,
          18.5,
          22.5,
          21.5,
          18.666666666666668,
          51.42857142857143,
          54,
          16.5,
          23,
          44,
          28.5,
          25,
          47.25,
          19.5,
          45,
          56.75,
          104,
          39.5,
          20,
          20,
          41.4,
          25,
          48.125,
          23.333333333333332,
          52.5,
          35.5,
          26.333333333333332,
          23.833333333333332,
          15,
          21.666666666666668,
          15,
          20,
          23.333333333333332,
          61,
          24,
          17.5,
          16.25,
          32.5,
          18.75,
          22,
          36.666666666666664,
          17,
          14.333333333333334,
          42.666666666666664,
          26.666666666666668,
          21.666666666666668,
          25.76923076923077,
          56.666666666666664,
          17.142857142857142,
          13.75,
          22.6,
          18.75,
          24.5,
          31.5,
          19,
          30.333333333333332,
          15.666666666666666,
          14.166666666666666,
          27,
          17.5,
          24.5,
          16.25,
          26,
          18.5,
          13.333333333333334,
          55.8,
          24.4,
          33,
          35,
          17,
          24,
          33.6,
          23.333333333333332,
          47.4,
          26.25,
          35,
          10.6,
          20,
          72,
          14.6,
          17.25,
          27.5,
          50,
          15,
          34.5,
          121.25,
          27.5,
          21.8,
          20,
          28.5,
          21.5,
          17.5,
          28,
          25,
          24,
          71.25,
          15,
          29,
          47.5,
          17,
          43.75,
          58.333333333333336,
          26.25,
          18,
          25,
          18.75,
          32,
          28.75,
          20.666666666666668,
          32.4,
          20,
          16.666666666666668,
          16.25,
          16.666666666666668,
          31.666666666666668,
          30.4,
          31.5,
          23.5,
          50,
          15.8,
          18,
          28,
          17.5,
          23.833333333333332,
          23.5,
          35,
          27.5,
          47.5,
          18.333333333333332,
          47.5,
          20.444444444444443,
          35.5,
          20,
          31.666666666666668,
          70,
          36.666666666666664,
          38.333333333333336,
          20,
          22,
          44.44444444444444,
          18.333333333333332,
          18.75,
          19.8,
          12.833333333333334,
          15,
          25,
          11.75,
          44.5,
          41,
          28.6,
          24,
          12.2,
          35.5,
          14.5,
          30,
          16.75,
          17.5,
          23.833333333333332,
          54.5,
          15.5,
          19.5,
          27,
          54.1,
          32.75,
          25,
          26.666666666666668,
          42.142857142857146,
          20.666666666666668,
          23,
          12,
          34.5,
          54,
          48.333333333333336,
          40,
          18,
          42.5,
          45,
          77.2,
          19,
          42,
          42,
          19.88888888888889,
          25,
          18.666666666666668,
          24.5,
          21.5,
          44.375,
          37.5,
          19.75,
          26.666666666666668,
          26.666666666666668,
          30,
          17.5,
          56.666666666666664,
          17,
          17.5,
          34.333333333333336,
          45,
          8,
          37.5,
          37.5,
          63,
          33,
          17.333333333333332,
          19.666666666666668,
          18,
          22,
          31.125,
          16.666666666666668,
          19,
          23,
          33.57142857142857,
          45.69230769230769,
          37.5,
          14.5,
          40,
          40,
          140,
          16,
          26.666666666666668,
          20,
          26.666666666666668,
          35,
          22,
          21,
          31.8,
          8.285714285714286,
          49.4,
          27,
          43.625,
          30.875,
          40,
          42,
          19.5,
          46,
          37.5,
          22,
          19,
          52,
          49.375,
          33.5,
          13.333333333333334,
          25,
          23.2,
          21.4,
          65,
          20,
          41,
          43,
          37,
          31,
          30,
          44,
          23.666666666666668,
          28,
          17.333333333333332,
          9.166666666666666,
          50,
          35,
          11.25,
          17,
          31.428571428571427,
          26,
          68.33333333333333,
          51.25,
          46,
          66.4,
          36.5,
          24,
          26.125,
          25,
          21.4,
          24,
          17.2,
          72.5,
          58.57142857142857,
          25,
          25,
          30,
          30,
          47.5,
          33.333333333333336,
          32.5,
          30,
          28.75,
          36.25,
          25,
          33,
          27,
          43.833333333333336,
          56.25,
          22.5,
          43.666666666666664,
          66.66666666666667,
          77.91666666666667,
          22.5,
          43.666666666666664,
          19.25,
          18.8,
          24,
          53.5,
          21.333333333333332,
          17.75,
          23,
          34.5,
          25,
          25,
          19.75,
          91.375,
          25.2,
          28,
          21.5,
          15.166666666666666,
          100,
          46.25,
          18.333333333333332,
          25,
          74.7,
          23.5,
          30,
          80,
          12.5,
          16.666666666666668,
          15,
          41.6,
          63.92857142857143,
          26,
          18.75,
          17.8,
          20,
          30,
          26.428571428571427,
          73.75,
          31.25,
          23.75,
          16.25,
          32.5,
          47.5,
          47.666666666666664,
          33.57142857142857,
          32,
          11,
          29,
          25.5,
          25.5,
          20,
          17.5,
          14,
          23.4,
          32,
          92.85714285714286,
          22.5,
          49.5,
          24,
          45.142857142857146,
          63.5,
          50,
          21.166666666666668,
          33,
          27.571428571428573,
          26.625,
          42.083333333333336,
          33.8,
          15,
          45,
          41.6,
          26.666666666666668,
          9,
          171.2,
          45.333333333333336,
          23.333333333333332,
          28.333333333333332,
          32.5,
          17.142857142857142,
          78,
          15,
          50,
          26,
          18.5,
          30.857142857142858,
          55.5,
          10,
          47.666666666666664,
          66.58333333333333,
          60,
          21.875,
          30,
          14,
          26.666666666666668,
          38.333333333333336,
          13,
          28.5,
          19,
          69.16666666666667,
          25.5,
          18.333333333333332,
          28,
          10,
          25.4,
          9.75,
          22.166666666666668,
          11,
          34,
          34.5,
          25,
          22.25,
          30,
          41.25,
          20,
          20.875,
          40,
          40,
          14.375,
          6.5,
          44,
          49.166666666666664,
          16.2,
          30,
          30,
          21,
          17.142857142857142,
          54.166666666666664,
          75,
          33,
          27.5,
          27,
          33.333333333333336,
          49.333333333333336,
          23.333333333333332,
          43.8,
          15.833333333333334,
          31.8,
          16.666666666666668,
          16.2,
          22.333333333333332,
          18,
          30,
          49.666666666666664,
          9.166666666666666,
          30,
          55.6,
          33.75,
          17,
          35,
          18,
          29.6,
          47.5,
          27.5,
          28,
          40.666666666666664,
          27.692307692307693,
          25,
          15,
          28.375,
          40,
          54.5,
          38,
          15.4,
          46,
          12.8,
          15,
          26.4,
          15,
          22.833333333333332,
          20.8,
          42.5,
          30.25,
          20.625,
          15,
          17.142857142857142,
          20,
          21,
          16.666666666666668,
          33.333333333333336,
          15,
          21.25,
          66.75,
          17,
          17,
          27.5,
          24.5,
          23.5,
          17,
          30,
          30,
          37.5,
          46.2,
          11.25,
          25,
          25,
          33,
          37,
          33.75,
          16.25,
          11.666666666666666,
          23.5,
          22.88888888888889,
          25,
          23.333333333333332,
          13.2,
          31.11111111111111,
          37.5,
          26.25,
          14,
          31,
          35.9,
          10,
          27,
          16.666666666666668,
          27.8,
          28.5,
          30,
          42.5,
          41.25,
          27.5,
          22.5,
          17.5,
          20,
          56.25,
          25,
          31.25,
          43,
          20,
          22.666666666666668,
          25,
          26.25,
          27.5,
          15.625,
          26,
          25,
          27,
          18.75,
          39.5,
          39.5,
          41.857142857142854,
          18.75,
          30,
          26.666666666666668,
          46.666666666666664,
          41.25,
          17,
          47.57142857142857,
          37.5,
          15,
          20,
          20.5,
          17.5,
          20,
          47.666666666666664,
          23.333333333333332,
          26.666666666666668,
          32,
          28.333333333333332,
          27.5,
          18.333333333333332,
          29.5,
          20,
          37.5,
          32,
          65,
          15.666666666666666,
          20,
          15,
          27,
          33.25,
          23.333333333333332,
          26.666666666666668,
          42.5,
          19.75,
          29,
          25,
          28.333333333333332,
          20,
          10,
          51.5,
          20,
          18,
          43.5,
          50,
          18,
          24,
          13.4,
          23.333333333333332,
          31.666666666666668,
          17.5,
          31.666666666666668,
          11.666666666666666,
          13.857142857142858,
          23.333333333333332,
          13.4,
          18,
          11.5,
          32.22222222222222,
          103,
          53.3,
          38,
          26.666666666666668,
          26,
          22.5,
          18.666666666666668,
          18.75,
          21,
          14,
          31,
          28.333333333333332,
          23,
          17,
          12.75,
          66.4,
          36,
          25,
          32.5,
          33.8,
          37.5,
          15,
          12.142857142857142,
          20,
          30,
          36.666666666666664,
          34,
          62.5,
          20,
          31,
          17.75,
          26,
          39.75,
          13,
          186,
          30,
          24,
          26,
          24.6,
          24,
          19.5,
          20,
          20,
          28.5,
          46.63636363636363,
          57.833333333333336,
          14.8,
          93,
          11,
          21.25,
          35,
          42.5,
          28,
          15.5,
          22,
          17.5,
          14,
          31.666666666666668,
          50,
          21.25,
          55.714285714285715,
          31.22222222222222,
          17.5,
          33.75,
          26.833333333333332,
          30.5,
          28.5,
          15,
          42.5,
          31,
          22.25,
          38.333333333333336,
          17.142857142857142,
          16.333333333333332,
          42,
          56.666666666666664,
          56.666666666666664,
          56.666666666666664,
          34.142857142857146,
          51.4,
          24,
          20,
          30,
          36,
          19.8,
          59,
          19.555555555555557,
          8.75,
          14.4,
          14.4,
          40.375,
          43.125,
          44.625,
          20,
          30,
          5.5,
          23.5,
          24,
          22.5,
          28,
          12,
          18.75,
          25,
          20,
          19.5,
          19,
          56,
          4.285714285714286,
          32.5,
          25,
          65.71428571428571,
          47.142857142857146,
          21.25,
          14.166666666666666,
          18.333333333333332,
          20,
          10,
          17.333333333333332,
          16.75,
          25.5,
          14.833333333333334,
          30.5,
          49,
          55,
          34.5,
          35.285714285714285,
          32,
          31.5,
          50,
          32.857142857142854,
          11.25,
          50,
          24,
          16.666666666666668,
          50,
          22,
          39.8,
          54.666666666666664,
          20.375,
          25,
          22.5,
          30,
          3.3333333333333335,
          40.3,
          11.666666666666666,
          10,
          35,
          20.2,
          29.2,
          53.5,
          38.25,
          49,
          39.5,
          59.214285714285715,
          67.5,
          47.5,
          17.2,
          17.2,
          11.11111111111111,
          15.75,
          15,
          46.666666666666664,
          33.75,
          22.666666666666668,
          40,
          13.5,
          45.7,
          41,
          35.1,
          26,
          11.5,
          21.333333333333332,
          65.92307692307692,
          45.166666666666664,
          33.333333333333336,
          24,
          46.25,
          48.714285714285715,
          69,
          71.16666666666667,
          36,
          25,
          16.666666666666668,
          30,
          22.5,
          28.75,
          26.5,
          18,
          32.5,
          23.333333333333332,
          20,
          25,
          70.57142857142857,
          31.5,
          40,
          18.75,
          27.5,
          26.5,
          10,
          15,
          46,
          18.2,
          27.75,
          36,
          18.75,
          22.5,
          20.666666666666668,
          14.428571428571429,
          68.5,
          66.66666666666667,
          41.5,
          48.888888888888886,
          11.75,
          12,
          8.75,
          37.666666666666664,
          15.2,
          23.75,
          4,
          12.333333333333334,
          12,
          10.833333333333334,
          26.666666666666668,
          34.5,
          30.5,
          17,
          13.4,
          15,
          13.4,
          15,
          14,
          18.333333333333332,
          53.4,
          47.76923076923077,
          12,
          18,
          25,
          25,
          24.25,
          24.25,
          26.75,
          44.5,
          41.666666666666664,
          40,
          14,
          9,
          11.5,
          23.5,
          14.666666666666666,
          15.666666666666666,
          46.4375,
          30,
          18.875,
          25.714285714285715,
          42.666666666666664,
          33.75,
          33,
          21.333333333333332,
          48.75,
          45.75,
          39.5,
          119.6,
          14,
          97.25,
          14.833333333333334,
          25,
          9,
          94.44444444444444,
          16.25,
          35.5,
          22,
          40,
          30,
          17.25,
          6.25,
          16.666666666666668,
          15,
          25,
          18.428571428571427,
          33.333333333333336,
          26.166666666666668,
          11,
          24,
          20,
          16,
          10.75,
          23.5,
          20,
          33.333333333333336,
          18.166666666666668,
          20,
          16.8,
          22.666666666666668,
          16.666666666666668,
          32.875,
          2.5,
          24,
          20,
          21.666666666666668,
          19.666666666666668,
          30,
          22.5,
          20,
          39,
          26.5,
          123.75,
          37.5,
          30.5,
          35,
          16.666666666666668,
          20,
          24.5,
          20.2,
          22.5,
          13.666666666666666,
          12.5,
          31.333333333333332,
          54,
          12.428571428571429,
          25,
          30,
          23.333333333333332,
          9,
          22.5,
          16.666666666666668,
          15,
          25,
          18,
          16,
          23.666666666666668,
          25,
          15.714285714285714,
          14.75,
          20.8,
          23,
          12,
          17.333333333333332,
          16.333333333333332,
          17.125,
          43.75,
          37.5,
          16.666666666666668,
          12.5,
          24.75,
          20.857142857142858,
          16.666666666666668,
          17.5,
          21,
          32.22222222222222,
          16.666666666666668,
          225,
          47.25,
          15,
          31.125,
          16,
          23,
          12.5,
          20.8,
          37.5,
          15.4,
          26.333333333333332,
          25,
          23.333333333333332,
          13.666666666666666,
          33,
          25,
          12.5,
          10,
          21,
          13.333333333333334,
          15.333333333333334,
          23.333333333333332,
          17.5,
          57.5,
          36.333333333333336,
          12.5,
          12.5,
          19.666666666666668,
          11.88888888888889,
          38,
          40,
          7.571428571428571,
          37.5,
          15.666666666666666,
          24,
          20,
          11.666666666666666,
          14.75,
          22.5,
          15,
          12.142857142857142,
          14.75,
          85.71428571428571,
          77.77777777777777,
          83.33333333333333,
          42.5,
          42.5,
          15.333333333333334,
          21.666666666666668,
          18.75,
          19.333333333333332,
          21,
          20.666666666666668,
          12.5,
          26.5,
          61.111111111111114,
          14.75,
          10.833333333333334,
          56.333333333333336,
          33.333333333333336,
          21,
          23.5,
          56.666666666666664,
          38.5,
          75.5,
          7.5,
          53.5,
          30,
          10.857142857142858,
          15,
          7.5,
          20.333333333333332,
          9.545454545454545,
          20,
          33.333333333333336,
          23.75,
          18.333333333333332,
          14.75,
          16.666666666666668,
          18.333333333333332,
          18,
          19.5,
          28,
          11.75,
          63,
          62.166666666666664,
          79.16666666666667,
          12,
          33,
          33,
          37.5,
          33,
          30,
          13.75,
          24.5,
          13,
          33,
          33,
          15.833333333333334,
          37.333333333333336,
          14,
          20.75,
          29,
          16.666666666666668,
          79.16666666666667,
          79.16666666666667,
          28,
          18,
          18.25,
          47.2,
          13,
          26,
          30,
          35,
          27.666666666666668,
          90,
          22.5,
          20.333333333333332,
          12.857142857142858,
          15,
          14.166666666666666,
          22.75,
          10,
          21,
          13.75,
          86.875,
          37.5,
          14,
          21.666666666666668,
          17.5,
          59,
          40,
          38,
          17.333333333333332,
          26.666666666666668,
          30.25,
          33,
          23.166666666666668,
          40,
          25,
          32,
          21.75,
          10.5,
          31.666666666666668,
          20.333333333333332,
          12,
          23.166666666666668,
          14,
          24.5,
          23.75,
          30.25,
          53.2,
          26.333333333333332,
          13.333333333333334,
          24.333333333333332,
          43,
          41.833333333333336,
          27.5,
          24,
          35,
          22.5,
          20.5,
          17.5,
          10,
          42.5,
          20,
          13.333333333333334,
          24.75,
          25.5,
          14,
          33,
          42.5,
          19.5,
          21.5,
          38.333333333333336,
          19.5,
          70.66666666666667,
          25,
          23.75,
          9.5,
          23.333333333333332,
          14.75,
          21.25,
          73.33333333333333,
          59.57142857142857,
          14,
          27.5,
          16.5,
          19.5,
          73.66666666666667,
          23,
          22.75,
          20,
          50,
          38.18181818181818,
          23.75,
          20,
          43,
          25,
          46.25,
          25,
          16.666666666666668,
          55,
          11.5,
          48.666666666666664,
          41.25,
          32.5,
          15.4,
          28.333333333333332,
          45.5,
          100,
          48.25,
          35.666666666666664,
          22.5,
          32.666666666666664,
          14,
          38.5,
          20,
          77.77777777777777,
          20,
          60,
          32.81818181818182,
          14.75,
          15,
          14.833333333333334,
          14.166666666666666,
          30,
          14.5,
          35.6,
          74.375,
          10.5,
          22.5,
          24,
          40.2,
          15.333333333333334,
          29.625,
          99.85714285714286,
          32,
          45,
          12.5,
          11.666666666666666,
          61,
          9,
          17,
          61.666666666666664,
          14.833333333333334,
          59.166666666666664,
          16.333333333333332,
          45.55555555555556,
          16.666666666666668,
          12.666666666666666,
          12.6,
          62.27272727272727,
          50,
          18,
          21.5,
          24.75,
          48,
          24.666666666666668,
          18,
          75.83333333333333,
          25,
          21.666666666666668,
          24.75,
          22,
          66.58333333333333,
          32.5,
          14,
          19.333333333333332,
          22.5,
          19.333333333333332,
          41,
          21.333333333333332,
          66.58333333333333,
          12.666666666666666,
          36.666666666666664,
          21,
          22.25,
          65,
          11.5,
          13.333333333333334,
          16,
          58.42857142857143,
          22,
          27.5,
          227.6,
          14.166666666666666,
          77.75,
          31.666666666666668,
          12.833333333333334,
          15.2,
          22.875,
          12.5,
          19,
          41.42857142857143,
          32.333333333333336,
          29.666666666666668,
          19,
          16.5,
          24.6,
          46.666666666666664,
          49.375,
          57.142857142857146,
          58.333333333333336,
          33.333333333333336,
          30,
          119.16666666666667,
          99.16666666666667,
          43.2,
          54.333333333333336,
          42,
          37.5,
          12.833333333333334,
          40,
          16.6,
          8,
          27.5,
          32,
          30,
          20,
          30.6,
          12.5,
          14.5,
          18,
          18.666666666666668,
          30,
          37.5,
          41.333333333333336,
          73.33333333333333,
          19.8,
          26.666666666666668,
          38.333333333333336,
          51.666666666666664,
          50.25,
          23.333333333333332,
          24,
          29,
          28.333333333333332,
          21.666666666666668,
          31,
          42.5,
          19,
          27.6,
          29,
          11,
          17.5,
          71,
          23.75,
          32.75,
          11.285714285714286,
          21.666666666666668,
          15.5,
          32.5,
          18,
          8.666666666666666,
          18.333333333333332,
          15.666666666666666,
          8.875,
          26.166666666666668,
          10,
          22.5,
          35.714285714285715,
          40.54545454545455,
          20,
          13.75,
          20.8,
          109,
          16.25,
          20,
          18.5,
          10,
          17.4,
          21.5,
          32,
          24.5,
          41.75,
          26.666666666666668,
          22,
          37.25,
          20,
          22,
          24,
          43,
          22.25,
          40,
          18,
          47.5,
          27.5,
          11.8,
          21,
          13.8,
          16,
          86.66666666666667,
          25,
          30,
          23.333333333333332,
          13.333333333333334,
          21.666666666666668,
          17.333333333333332,
          26.25,
          14.666666666666666,
          21.666666666666668,
          19.125,
          35,
          19.75,
          15.666666666666666,
          86.25,
          11.75,
          23,
          17.166666666666668,
          13.333333333333334,
          18.75,
          19,
          39.8,
          15,
          31.555555555555557,
          36,
          13.333333333333334,
          11.11111111111111,
          26.25,
          20,
          31,
          36,
          16.25,
          13.8,
          14,
          37,
          12.75,
          33.75,
          26,
          27,
          30.571428571428573,
          40,
          15.4,
          25,
          13.666666666666666,
          16,
          24,
          30.5,
          13,
          21.666666666666668,
          11.2,
          17.25,
          17.5,
          21,
          32.5,
          23.75,
          18.5,
          12.5,
          23,
          20,
          34,
          15,
          14.166666666666666,
          9.75,
          39.5,
          16,
          30,
          31,
          19.75,
          22.5,
          15.5,
          23.5,
          16.666666666666668,
          28.666666666666668,
          21,
          20.5,
          13.8,
          22.8,
          14.4,
          16.25,
          13.75,
          15,
          15,
          28.8,
          16.2,
          17.333333333333332,
          40,
          14.166666666666666,
          14,
          22,
          50,
          32,
          42.166666666666664,
          21.666666666666668,
          13,
          16.666666666666668,
          17.25,
          11.666666666666666,
          20,
          13.75,
          17.75,
          14.75,
          15,
          19,
          15.857142857142858,
          17.333333333333332,
          30,
          19.8,
          25,
          20,
          20,
          119.16666666666667,
          27.5,
          25,
          21.5,
          15.25,
          15,
          25,
          18,
          21.5,
          20.5,
          26.666666666666668,
          10,
          9.75,
          19.666666666666668,
          15,
          42.857142857142854,
          25,
          12,
          79,
          20,
          538.4615384615385,
          6.5,
          10,
          22.5,
          11.25,
          22.25,
          21.666666666666668,
          8,
          27.5,
          19,
          18.333333333333332,
          35,
          41.333333333333336,
          52.333333333333336,
          47.333333333333336,
          44.333333333333336,
          12.5,
          15,
          7.5,
          11.25,
          37.5,
          23.333333333333332,
          11,
          11.25,
          15,
          17.666666666666668,
          13.75,
          35.166666666666664,
          33.6,
          17,
          27.5,
          12,
          59.81818181818182,
          16.666666666666668,
          18,
          17.5,
          25.5,
          23.333333333333332,
          19.75,
          15,
          13.75,
          65,
          40,
          19.75,
          19.75,
          19.75,
          37.666666666666664,
          25.714285714285715,
          18,
          20,
          25,
          14.166666666666666,
          14.5,
          10.25,
          13.75,
          36.666666666666664,
          12.5,
          19,
          22.5,
          11.25,
          57,
          8,
          85,
          14,
          32.5,
          12.875,
          50,
          12.5,
          60,
          14,
          33.333333333333336,
          15,
          26.384615384615383,
          21.5,
          20.333333333333332,
          23.333333333333332,
          13.875,
          20.75,
          26.25,
          22.5,
          17.5,
          13,
          14.833333333333334,
          61.5,
          16.666666666666668,
          32,
          24,
          56,
          38,
          8.75,
          30.6,
          30.6,
          25.8,
          12.5,
          11,
          68,
          27.375,
          61,
          19.5,
          12.75,
          18,
          25,
          24,
          13.75,
          35,
          45.714285714285715,
          17.5,
          13.75,
          25,
          25,
          18.5,
          16.6,
          30.75,
          25,
          15.75,
          12.5,
          63.333333333333336,
          45.25,
          65.66666666666667,
          16.25,
          30,
          41.5,
          18,
          20,
          49.2,
          32.5,
          33.166666666666664,
          27,
          19,
          37.5,
          46,
          50,
          20,
          11.25,
          12.333333333333334,
          28.333333333333332,
          23.571428571428573,
          32.166666666666664,
          18.75,
          20,
          20,
          17.5,
          18.166666666666668,
          88,
          40,
          27.75,
          25,
          32.5,
          22.5,
          12.25,
          30,
          52,
          43,
          48,
          11.5,
          14.5,
          24.5,
          25.333333333333332,
          33.333333333333336,
          15.5,
          10.5,
          19.5,
          25,
          12.5,
          17.5,
          13.75,
          31.5,
          17,
          9,
          70,
          61.5,
          54.8,
          44,
          17.5,
          25,
          88.18181818181819,
          14,
          32.5,
          83,
          37.5,
          27.5,
          25,
          28.5,
          17.5,
          20,
          20,
          10,
          30,
          11.666666666666666,
          34.333333333333336,
          23.333333333333332,
          20,
          12.5,
          20,
          142.6875,
          20,
          62.5,
          18,
          29.5,
          41.5,
          17,
          22.8,
          14,
          16,
          12.75,
          16,
          25,
          15,
          29.5,
          30,
          17.142857142857142,
          45.57142857142857,
          21,
          22.8,
          18.75,
          25,
          34.8,
          20,
          19,
          16.333333333333332,
          24.5,
          22.8,
          14.125,
          97.75,
          70.875,
          30.4,
          16.666666666666668,
          15,
          13.333333333333334,
          13.75,
          12.5,
          14.75,
          15,
          15,
          15,
          22,
          16.25,
          28.25,
          21.333333333333332,
          27.5,
          19.5,
          26.666666666666668,
          16.333333333333332,
          9,
          15,
          12,
          11.666666666666666,
          20,
          20,
          21.25,
          20.333333333333332,
          27.5,
          17.5,
          10.833333333333334,
          42.5,
          82.33333333333333,
          13.333333333333334,
          21,
          15.5,
          47.5,
          19.25,
          22.75,
          25.5,
          21.75,
          43.75,
          20,
          21.5,
          17,
          15.333333333333334,
          10,
          21.75,
          14.5,
          27,
          57.44444444444444,
          33.75,
          33.75,
          20,
          41.8,
          89.33333333333333,
          31.666666666666668,
          50.166666666666664,
          25,
          20,
          75,
          11.666666666666666,
          21.5,
          14.5,
          27.25,
          23.428571428571427,
          19.428571428571427,
          36.333333333333336,
          52.5,
          40.5,
          15.8,
          12.5,
          82.14285714285714,
          41.42857142857143,
          44.125,
          76.11111111111111,
          55,
          18.8,
          18.8,
          12.5,
          19.25,
          67.16666666666667,
          16,
          31,
          48.2,
          28,
          24.8,
          21,
          19,
          26.666666666666668,
          26,
          65,
          10.75,
          11.666666666666666,
          61,
          17.8,
          60.5,
          53.125,
          17.5,
          16.333333333333332,
          14.25,
          51,
          22.333333333333332,
          13.333333333333334,
          16.25,
          19.75,
          54.833333333333336,
          43.5,
          44.5,
          16,
          33.333333333333336,
          26.25,
          62.833333333333336,
          62.833333333333336,
          74.25,
          12,
          32.5,
          24.333333333333332,
          24,
          25,
          25.5,
          25,
          25,
          25,
          27,
          15,
          18.666666666666668,
          24.5,
          27,
          11.833333333333334,
          23,
          35.875,
          20.6,
          32.5,
          11.166666666666666,
          25.666666666666668,
          56,
          41,
          17.2,
          18.333333333333332,
          16.25,
          16.25,
          15,
          34.2,
          34,
          11.428571428571429,
          39,
          23.333333333333332,
          18,
          51.666666666666664,
          32.5,
          18.714285714285715,
          40,
          31,
          31.875,
          28.625,
          28.25,
          20,
          30,
          22.5,
          26,
          86,
          91,
          20,
          17.5,
          12.166666666666666,
          15,
          18,
          22.5,
          28.25,
          20,
          23.25,
          19.125,
          17.6,
          25,
          17.5,
          31.25,
          25,
          24,
          40,
          22.5,
          18.75,
          12,
          35,
          35,
          35,
          35,
          25,
          35,
          30,
          25,
          34,
          18.666666666666668,
          27.5,
          58.333333333333336,
          11.666666666666666,
          34.285714285714285,
          22.333333333333332,
          18.75,
          24.833333333333332,
          24,
          22.5,
          15,
          51.5,
          16.25,
          24.333333333333332,
          32,
          29,
          60,
          37,
          19.75,
          16.666666666666668,
          28.333333333333332,
          23.333333333333332,
          16.666666666666668,
          25,
          30,
          68,
          63.22222222222222,
          25,
          25,
          20,
          20,
          20,
          40,
          12,
          43.75,
          32.5,
          30,
          15,
          25,
          18.666666666666668,
          25,
          18,
          16.666666666666668,
          25,
          22,
          14.2,
          11.666666666666666,
          22.5,
          25,
          57,
          60,
          12.666666666666666,
          21.5,
          43.333333333333336,
          20,
          23.333333333333332,
          25,
          33.5,
          75,
          12.5,
          12.25,
          14.25,
          20,
          79.83333333333333,
          100.4,
          31.5,
          25,
          20,
          10.833333333333334,
          42,
          17.5,
          86,
          12.4,
          27,
          16.666666666666668,
          82.5,
          25,
          32.5,
          34,
          18.75,
          12.5,
          33.333333333333336,
          24.6,
          44.166666666666664,
          31,
          31.5,
          24.333333333333332,
          29,
          22.333333333333332,
          28,
          22,
          17.5,
          21.428571428571427,
          20,
          19.25,
          23.75,
          8.666666666666666,
          15.75,
          20,
          20,
          22,
          19.5,
          19.5,
          18.75,
          21,
          90.33333333333333,
          18.25,
          27.875,
          25.75,
          17.5,
          11.25,
          27.666666666666668,
          13.166666666666666,
          76.6,
          56.111111111111114,
          27.1,
          15,
          31.666666666666668,
          44,
          21.25,
          28.333333333333332,
          15,
          19,
          15,
          21.666666666666668,
          50,
          49.888888888888886,
          61.833333333333336,
          23.666666666666668,
          11.5,
          52.6875,
          18,
          38.75,
          43.333333333333336,
          21,
          80,
          14.666666666666666,
          19.5,
          10,
          13.333333333333334,
          10,
          10,
          13.333333333333334,
          10.75,
          23.166666666666668,
          12.666666666666666,
          19.5,
          24.833333333333332,
          23.75,
          40,
          23.5,
          14.666666666666666,
          40,
          30.5,
          35,
          15,
          18.5,
          24.25,
          23.5,
          25.5,
          30,
          16.666666666666668,
          25,
          10,
          82.5,
          22.666666666666668,
          20,
          24.3,
          72.5,
          25,
          44.5,
          66.5,
          23,
          54.285714285714285,
          23,
          30,
          23.75,
          32.5,
          39.333333333333336,
          23.333333333333332,
          60,
          25,
          27.5,
          39.5,
          25,
          10,
          16,
          18.333333333333332,
          19.4,
          16,
          16.666666666666668,
          30,
          13.25,
          30,
          11.666666666666666,
          10.5,
          16.25,
          14,
          48.2,
          30,
          19,
          15,
          15,
          19.5,
          13,
          12.5,
          18.333333333333332,
          14,
          13.75,
          17.8,
          17.5,
          25.666666666666668,
          16.333333333333332,
          16.75,
          29,
          26.666666666666668,
          15,
          19.5,
          15,
          16.666666666666668,
          25,
          26.333333333333332,
          17.75,
          13.75,
          14,
          46,
          10,
          11.6,
          30,
          28.8,
          13.75,
          17.5,
          18.166666666666668,
          13.75,
          13.75,
          9.75,
          21.375,
          40,
          36.4,
          24.25,
          10.333333333333334,
          14.333333333333334,
          16.25,
          21.666666666666668,
          9,
          14.75,
          19,
          48.75,
          34.5,
          13.5,
          23.333333333333332,
          25,
          36,
          43.333333333333336,
          24,
          13.25,
          23.75,
          35,
          11,
          17.25,
          34.5,
          56,
          11.428571428571429,
          24.5,
          13,
          15.75,
          11.25,
          30,
          29.166666666666668,
          20.166666666666668,
          25,
          15,
          25,
          40.75,
          17.8,
          36.125,
          31.555555555555557,
          70.6,
          35,
          14,
          21.666666666666668,
          20,
          89.1,
          25.714285714285715,
          21,
          100.5,
          10.75,
          28,
          21,
          19.5,
          21.5,
          27,
          13.571428571428571,
          22.333333333333332,
          16.75,
          27.5,
          66.66666666666667,
          36.75,
          17.5,
          18.833333333333332,
          15.142857142857142,
          19.666666666666668,
          10,
          15,
          21,
          20,
          41.666666666666664,
          14.285714285714286,
          86.2,
          22.666666666666668,
          30,
          18.333333333333332,
          32,
          16.333333333333332,
          18,
          30,
          29,
          34,
          16.25,
          12.333333333333334,
          29,
          15,
          24,
          27.5,
          27.5,
          28,
          37,
          15.5,
          19.2,
          85.5,
          16.25,
          18.5,
          23.25,
          11.25,
          15.666666666666666,
          16.666666666666668,
          24,
          15.75,
          25,
          24,
          22.25,
          12.75,
          12,
          16.25,
          24,
          30,
          30,
          25,
          48,
          16.25,
          13.5,
          26.6,
          36,
          28,
          33.333333333333336,
          16,
          96.28571428571429,
          30.2,
          27.666666666666668,
          52,
          34,
          14.333333333333334,
          10,
          15,
          24.333333333333332,
          24.142857142857142,
          27.5,
          18.5,
          115,
          21.25,
          37.5,
          33.333333333333336,
          13.333333333333334,
          22.5,
          24,
          16,
          22,
          14,
          12,
          22.5,
          16,
          29.666666666666668,
          30,
          39,
          17.5,
          67,
          31.833333333333332,
          26.25,
          18.333333333333332,
          17.5,
          37,
          27.5,
          13,
          15.5,
          11.428571428571429,
          18.333333333333332,
          27.5,
          35.7,
          31.666666666666668,
          22,
          20,
          33.333333333333336,
          38.888888888888886,
          38,
          16.666666666666668,
          22,
          25,
          11.4,
          54.333333333333336,
          38.333333333333336,
          16,
          18.666666666666668,
          31.75,
          21.25,
          12,
          15,
          20,
          53.125,
          26.666666666666668,
          11.666666666666666,
          20,
          21,
          32.5,
          33.5,
          27.5,
          22.8,
          8.333333333333334,
          26.5,
          16.666666666666668,
          25,
          37.5,
          28.6,
          15.833333333333334,
          12.25,
          37.5,
          50,
          17.5,
          18.666666666666668,
          15,
          13.333333333333334,
          21,
          72,
          15,
          80.5,
          19.5,
          130.625,
          12,
          21.25,
          24.75,
          27.5,
          27,
          15.666666666666666,
          90,
          14.333333333333334,
          11.666666666666666,
          16.25,
          25,
          15.5,
          12.5,
          11.25,
          17.25,
          14.8,
          50,
          17.5,
          20,
          19.5,
          12.222222222222221,
          18.75,
          41.666666666666664,
          16.5,
          15.666666666666666,
          24.5,
          15,
          53.166666666666664,
          13.8,
          18.333333333333332,
          23.25,
          23.333333333333332,
          14.166666666666666,
          40.5,
          22.2,
          35,
          16.666666666666668,
          39.75,
          21.25,
          30.857142857142858,
          27.5,
          28.333333333333332,
          20.666666666666668,
          20.6,
          23.75,
          30,
          35.5,
          38,
          14.6,
          40,
          11.666666666666666,
          25,
          16.666666666666668,
          29.5,
          33.333333333333336,
          45.7,
          16.666666666666668,
          13,
          16.666666666666668,
          15,
          59.55555555555556,
          43.333333333333336,
          18,
          25,
          36,
          65.16666666666667,
          35,
          25.75,
          16.25,
          31.25,
          18.666666666666668,
          50.142857142857146,
          46.357142857142854,
          39.142857142857146,
          22.75,
          47.583333333333336,
          10,
          15,
          12.714285714285714,
          28,
          7.375,
          20.5,
          22.5,
          25,
          34.375,
          9.375,
          26.25,
          21,
          25,
          15,
          35,
          17,
          32,
          14.5,
          13.333333333333334,
          11.25,
          9,
          21,
          16,
          40.666666666666664,
          14.75,
          16,
          40,
          97.5,
          56.125,
          17,
          30,
          24,
          21.8,
          27,
          25,
          43.5,
          18.333333333333332,
          12.5,
          25.333333333333332,
          31,
          34,
          32.5,
          27.5,
          16.666666666666668,
          30,
          35.75,
          12.5,
          15.8,
          15,
          30.666666666666668,
          26,
          38.75,
          27,
          50.875,
          16.333333333333332,
          14.8,
          22.5,
          30.6,
          20,
          38.333333333333336,
          58.22222222222222,
          23,
          36,
          42,
          55.5,
          43.333333333333336,
          30,
          33,
          15,
          49.8,
          25,
          25.8,
          15,
          15,
          33.333333333333336,
          16.25,
          18,
          18,
          20,
          46.285714285714285,
          20,
          41.333333333333336,
          31.5,
          47,
          29,
          20,
          23.333333333333332,
          23.333333333333332,
          25,
          24,
          30,
          27.666666666666668,
          30,
          30,
          50,
          50,
          54.25,
          17.5,
          13.2,
          22.5,
          63.875,
          9.5,
          30,
          46,
          36.125,
          15.166666666666666,
          12,
          35.7,
          22.5,
          27.5,
          21.333333333333332,
          31.833333333333332,
          36.25,
          31,
          18.333333333333332,
          67.16666666666667,
          16.75,
          31.5,
          57.2,
          23.75,
          21.5,
          19.75,
          17.666666666666668,
          31.333333333333332,
          18.666666666666668,
          28,
          14,
          18.666666666666668,
          13.333333333333334,
          34.5,
          39.5,
          14.25,
          10.75,
          14,
          30,
          36,
          31.5,
          26.5,
          70.4,
          43.2,
          20,
          18.75,
          32,
          15.333333333333334,
          27.5,
          38,
          17.6,
          11.8,
          37,
          37,
          62.27272727272727,
          26.666666666666668,
          17.5,
          10,
          11.142857142857142,
          34.333333333333336,
          33,
          20.4,
          38,
          39.333333333333336,
          23.333333333333332,
          15,
          69.75,
          39.75,
          58,
          18.75,
          15,
          26.166666666666668,
          52.75,
          13.75,
          57.142857142857146,
          36.666666666666664,
          27.5,
          14.5,
          11.4,
          9.333333333333334,
          47.1,
          13.5,
          13.75,
          30.5,
          31.75,
          35.75,
          24.666666666666668,
          20,
          16.666666666666668,
          20,
          17,
          26.5,
          16,
          20,
          9.4,
          32,
          38,
          21,
          31.5,
          31.5,
          31.5,
          21,
          31.5,
          29.833333333333332,
          24.333333333333332,
          25,
          14.8,
          18.75,
          15,
          30,
          27.5,
          20,
          17.833333333333332,
          11.666666666666666,
          26.5,
          95.16666666666667,
          50.666666666666664,
          55,
          37.25,
          12.25,
          33.333333333333336,
          60,
          10.666666666666666,
          46.25,
          16.25,
          23,
          14.5,
          12,
          17.5,
          29.5,
          21.428571428571427,
          28,
          45,
          228.3,
          17.5,
          24.5,
          22.5,
          28,
          46,
          30.666666666666668,
          28,
          26,
          22.333333333333332,
          29,
          31.5,
          29,
          29,
          65,
          35.5,
          35,
          17.142857142857142,
          16.666666666666668,
          29,
          36.666666666666664,
          23.166666666666668,
          33.5,
          31.5,
          11,
          26,
          17.666666666666668,
          12,
          21,
          19.2,
          41.666666666666664,
          62.25,
          105.5,
          23.833333333333332,
          18,
          52,
          11.666666666666666,
          28,
          27,
          19.8,
          36.5,
          51,
          27,
          57.5,
          23.5,
          50.333333333333336,
          61.75,
          61.75,
          19.5,
          24.5,
          62.857142857142854,
          34.75,
          13.8,
          56.9,
          35,
          20.125,
          15,
          34,
          19.666666666666668,
          11.8,
          29.5,
          30.714285714285715,
          28.8,
          28.8,
          19.5,
          51,
          20,
          5,
          50.25,
          13.75,
          34.75,
          17.5,
          77.5,
          21.25,
          17.8,
          26.666666666666668,
          21.666666666666668,
          29.5,
          10.714285714285714,
          23.333333333333332,
          18.818181818181817,
          23.333333333333332,
          54.75,
          22,
          12.5,
          15.333333333333334,
          17.25,
          37.5,
          27.5,
          23.333333333333332,
          40.625,
          8.666666666666666,
          28.333333333333332,
          32,
          76.66666666666667,
          46.666666666666664,
          36.5,
          18,
          21.25,
          54.333333333333336,
          38.5,
          17,
          12.5,
          15,
          32.5,
          20.5,
          29,
          32,
          14.75,
          22.5,
          27.8,
          14.75,
          27.4,
          11.25,
          15,
          16,
          20,
          27,
          14,
          35,
          51.875,
          22.75,
          13.75,
          17.5,
          17.142857142857142,
          50.333333333333336,
          11.75,
          48.2,
          37.166666666666664,
          27.333333333333332,
          24.75,
          18,
          26.5,
          21.214285714285715,
          73.5,
          23.75,
          24,
          23.333333333333332,
          20.5,
          30,
          19.8,
          23,
          20,
          17.5,
          15.333333333333334,
          32,
          24.5,
          27.5,
          18.333333333333332,
          32,
          15,
          15,
          15,
          14.666666666666666,
          14.666666666666666,
          14.666666666666666,
          14.666666666666666,
          27.5,
          17.5,
          23.75,
          19,
          28,
          27.5,
          20,
          25,
          24.666666666666668,
          15,
          27,
          25,
          29,
          25.2,
          25,
          15.25,
          25,
          11.666666666666666,
          14,
          53.333333333333336,
          16.25,
          100,
          8.75,
          34.5,
          47.5,
          38.5,
          49.5,
          15,
          22.5,
          24.666666666666668,
          23.545454545454547,
          25,
          34.5,
          14.25,
          18.75,
          26,
          42,
          25,
          16.25,
          26,
          25,
          25,
          24.5,
          60,
          10,
          22.5,
          32,
          15,
          16.8,
          16.25,
          21.8,
          22,
          29.166666666666668,
          64.1,
          45,
          24,
          22.25,
          13.333333333333334,
          35.2,
          19.25,
          13.75,
          35,
          25,
          20,
          13.5,
          35,
          14,
          17.25,
          19.5,
          22,
          19.2,
          33.333333333333336,
          22.5,
          8.75,
          80,
          45.3,
          30,
          30,
          35,
          30,
          17.666666666666668,
          33.333333333333336,
          48,
          23.333333333333332,
          17,
          16.8,
          14.333333333333334,
          31.5,
          20,
          23,
          31.666666666666668,
          13.571428571428571,
          11.8,
          44.4,
          61.666666666666664,
          22.428571428571427,
          37.142857142857146,
          37.142857142857146,
          37.142857142857146,
          17.5,
          13.75,
          18,
          15.4,
          13.333333333333334,
          17.5,
          10,
          80,
          38.333333333333336,
          33.333333333333336,
          17.142857142857142,
          29,
          17,
          14,
          50,
          18,
          14.75,
          18.666666666666668,
          28.5,
          18,
          14,
          11.857142857142858,
          11.2,
          11.666666666666666,
          83.25,
          23.75,
          25,
          30,
          60.714285714285715,
          13.333333333333334,
          23.333333333333332,
          20,
          26.5,
          21.75,
          11.2,
          24,
          11,
          37.5,
          21.25,
          29,
          17,
          12.5,
          18.75,
          13.166666666666666,
          10,
          25.142857142857142,
          15,
          24,
          39.25,
          20,
          30,
          19.75,
          26,
          13.5,
          26.666666666666668,
          41,
          28.333333333333332,
          42,
          22.6,
          24,
          27,
          35,
          24.5,
          40.875,
          11.4,
          33,
          31.666666666666668,
          48.75,
          68.75,
          17.8,
          23.8,
          22.5,
          26.8,
          21.5,
          13.333333333333334,
          21.5,
          31.666666666666668,
          27.25,
          45,
          22.5,
          27.8,
          20.666666666666668,
          28.75,
          16.666666666666668,
          34,
          27.25,
          17.2,
          18.22222222222222,
          20,
          23.333333333333332,
          25.5,
          11.25,
          17.8,
          25.5,
          27.5,
          13.75,
          48.75,
          25,
          11.75,
          15.5,
          87.5,
          24.25,
          30.375,
          58.5,
          20.555555555555557,
          32.5,
          21.25,
          18.75,
          33,
          19.5,
          12.5,
          24.25,
          15,
          17.333333333333332,
          17.666666666666668,
          16.666666666666668,
          12.2,
          16,
          7.75,
          53.333333333333336,
          42.5,
          12,
          14.75,
          16.6,
          35,
          23.5,
          14.4,
          29.6,
          17.5,
          40,
          25,
          16.6,
          33,
          20,
          57.166666666666664,
          50,
          52.42857142857143,
          6.666666666666667,
          30.833333333333332,
          12.5,
          21.5,
          57.5,
          28.5,
          23.75,
          12,
          13,
          15,
          48.625,
          24.75,
          25,
          13.285714285714286,
          14,
          25.5,
          16.666666666666668,
          23.25,
          68.75,
          11.75,
          20,
          22.5,
          21.666666666666668,
          21.333333333333332,
          30.5,
          13,
          10.571428571428571,
          13.75,
          18.5,
          22,
          22.5,
          22.5,
          17,
          19.5,
          17.5,
          22.5,
          16.666666666666668,
          13.75,
          34.5,
          20,
          15,
          38.75,
          38.75,
          15,
          8.25,
          52,
          11.5,
          9,
          27.5,
          20,
          10,
          17.5,
          18.75,
          13.6,
          86.2,
          17.5,
          18.333333333333332,
          10.25,
          13.571428571428571,
          21.5,
          16.5,
          109.66666666666667,
          16.5,
          15,
          30,
          21.666666666666668,
          16,
          26.666666666666668,
          92,
          7.5,
          20,
          27.5,
          16,
          35.714285714285715,
          22.5,
          6,
          21,
          82.2,
          60.3,
          67,
          27.5,
          82.2,
          70,
          70,
          58.5,
          61,
          36.75,
          15.833333333333334,
          16.666666666666668,
          36.75,
          93.75,
          17.5,
          12.25,
          44,
          46.666666666666664,
          44.5,
          17.5,
          19.25,
          21.666666666666668,
          27.5,
          14,
          27.5,
          20,
          22.5,
          33,
          21,
          28.5,
          91.66666666666667,
          23,
          17.5,
          19.25,
          23,
          12,
          13.75,
          70,
          73.33333333333333,
          53.333333333333336,
          25,
          25.714285714285715,
          41.666666666666664,
          10,
          16.25,
          50,
          12.5,
          16.666666666666668,
          61.166666666666664,
          26.666666666666668,
          14.25,
          40,
          20.714285714285715,
          22.5,
          30,
          10.25,
          28.333333333333332,
          10,
          50,
          69.83333333333333,
          17.666666666666668,
          22,
          14.375,
          14,
          22,
          41.666666666666664,
          10.166666666666666,
          11,
          20,
          17,
          14.5,
          13.125,
          25.5,
          39.666666666666664,
          14,
          20,
          30,
          16,
          11.166666666666666,
          10,
          51.25,
          23.666666666666668,
          22.333333333333332,
          15.666666666666666,
          29.5,
          71.58333333333333,
          17,
          32,
          25,
          28.4,
          17.6,
          23.5,
          24.5,
          16,
          19.5,
          47.5,
          36.666666666666664,
          20,
          11.4,
          16.666666666666668,
          21.75,
          30.75,
          19,
          16.666666666666668,
          18.333333333333332,
          75,
          16.333333333333332,
          20.2,
          11.25,
          32,
          5.25,
          13.25,
          12.4,
          19.285714285714285,
          26,
          9.6,
          11,
          36,
          58,
          20,
          20,
          14,
          50.5,
          17.75,
          28.571428571428573,
          19.666666666666668,
          38.57142857142857,
          24.5,
          17.25,
          66,
          35,
          21.428571428571427,
          12.5,
          9.5,
          20,
          12.833333333333334,
          9.75,
          18.333333333333332,
          16.75,
          15.75,
          18.666666666666668,
          50,
          70,
          25,
          30,
          104.4375,
          24.8,
          19.5,
          14.5,
          9.375,
          13.333333333333334,
          17.5,
          62.5,
          14.8,
          21.666666666666668,
          9.833333333333334,
          11.5,
          20,
          37.666666666666664,
          21.666666666666668,
          18.4,
          7.833333333333333,
          42.285714285714285,
          60.6,
          10.75,
          17.5,
          69,
          18.75,
          16.75,
          25.4,
          12.125,
          12.5,
          25,
          16.333333333333332,
          11,
          50,
          93.6,
          13.833333333333334,
          13.166666666666666,
          15,
          18.333333333333332,
          11.25,
          13.75,
          15,
          16,
          6.333333333333333,
          39.5,
          38,
          36.333333333333336,
          44.5,
          47.5,
          44.5,
          68.2,
          16.666666666666668,
          16.5,
          30.833333333333332,
          26,
          22.75,
          13,
          15.833333333333334,
          22,
          16.833333333333332,
          17.5,
          16,
          21.25,
          15,
          11.5,
          14.75,
          14.5,
          23.75,
          14,
          28,
          13,
          32.5,
          36,
          17.5,
          15,
          15.666666666666666,
          67.66666666666667,
          15.333333333333334,
          14,
          22.666666666666668,
          10.833333333333334,
          22.5,
          80.18181818181819,
          28.333333333333332,
          13.4,
          19.5,
          12.2,
          15.75,
          23.8,
          14.8,
          14.5,
          22.5,
          11.285714285714286,
          14.25,
          15.8,
          10.333333333333334,
          15,
          21.5,
          15,
          52.5,
          26.666666666666668,
          30,
          9.5,
          11.666666666666666,
          30,
          32.5,
          25,
          21,
          22.5,
          10.833333333333334,
          36,
          16,
          9.666666666666666,
          15.75,
          12.5,
          18,
          15.8,
          14.75,
          50,
          40,
          20,
          13.6,
          19,
          10,
          16.8,
          10,
          16,
          25,
          13,
          25.6,
          28.285714285714285,
          9,
          68.75,
          74.42857142857143,
          50,
          23.333333333333332,
          16.125,
          26.666666666666668,
          80.875,
          19.25,
          12,
          17,
          13.333333333333334,
          17.5,
          15,
          17.5,
          13.333333333333334,
          25,
          13.4,
          40,
          50,
          15,
          20,
          46.875,
          16.666666666666668,
          11,
          34,
          20,
          32.5,
          4.666666666666667,
          13.333333333333334,
          33.333333333333336,
          23,
          29,
          22,
          26.666666666666668,
          37.5,
          11.25,
          8.75,
          25,
          31,
          35,
          18,
          18,
          22.5,
          27.5,
          17,
          20,
          30,
          32.5,
          21.25,
          18.4,
          17,
          12,
          36.25,
          27.875,
          17,
          26.666666666666668,
          37.5,
          26.666666666666668,
          25,
          18,
          40,
          14,
          92,
          12,
          53.875,
          31.7,
          32.5,
          20,
          14.5,
          14.2,
          30.375,
          18,
          16.666666666666668,
          28.5,
          20,
          48.75,
          10,
          24.666666666666668,
          32.5,
          12.5,
          20.5,
          16.333333333333332,
          11.75,
          15.333333333333334,
          25.5,
          17.333333333333332,
          10,
          22.5,
          15,
          14.666666666666666,
          21,
          10.875,
          25.5,
          16.333333333333332,
          41.666666666666664,
          20.166666666666668,
          33,
          26.333333333333332,
          27.333333333333332,
          15.5,
          19.666666666666668,
          21.666666666666668,
          94,
          21.666666666666668,
          24,
          18.333333333333332,
          13,
          17.75,
          12.166666666666666,
          45.5,
          37.5,
          19.75,
          15,
          27.5,
          16.666666666666668,
          40,
          23.333333333333332,
          25.666666666666668,
          20,
          25.25,
          29.166666666666668,
          17,
          10.8,
          62.5,
          45.666666666666664,
          80.875,
          11.833333333333334,
          31.25,
          16,
          29,
          15,
          32.5,
          24.666666666666668,
          30,
          78.57142857142857,
          78.57142857142857,
          13.333333333333334,
          17.333333333333332,
          13.333333333333334,
          14.5,
          95,
          57.333333333333336,
          25.5,
          10,
          12.5,
          15,
          15,
          21.25,
          23.333333333333332,
          15,
          25.25,
          41.666666666666664,
          12,
          25,
          31.666666666666668,
          6.25,
          22.5,
          11.25,
          59.285714285714285,
          10.4,
          17.5,
          32,
          38,
          25.857142857142858,
          31.666666666666668,
          30.4,
          24.2,
          22.5,
          22.5,
          20,
          23.75,
          38.75,
          68.75,
          18.75,
          68.75,
          32.5,
          56,
          60.833333333333336,
          57.857142857142854,
          30,
          16,
          85.16666666666667,
          91.75,
          18.75,
          19.666666666666668,
          14.5,
          14.5,
          26,
          6.285714285714286,
          64.28571428571429,
          52.5,
          13.75,
          105.16666666666667,
          105.16666666666667,
          52.5,
          101.33333333333333,
          42.25,
          51.25,
          40,
          44.75,
          15.75,
          24.666666666666668,
          33.5,
          41.333333333333336,
          26,
          18,
          18,
          20.8,
          88.33333333333333,
          19.2,
          43.333333333333336,
          18,
          12.714285714285714,
          40,
          23.333333333333332,
          20,
          23.333333333333332,
          21.5,
          49,
          21.5,
          13.5,
          25.666666666666668,
          60.375,
          11.666666666666666,
          11.666666666666666,
          22,
          18,
          13.333333333333334,
          25.5,
          23.333333333333332,
          29,
          19.142857142857142,
          24.75,
          38.75,
          27,
          13.333333333333334,
          80,
          80,
          17,
          22.5,
          10.5,
          68.75,
          30,
          37.5,
          21.25,
          12.5,
          68.75,
          15.666666666666666,
          10.75,
          22.5,
          53.833333333333336,
          22,
          20.75,
          62.5,
          93.57142857142857,
          10,
          14.333333333333334,
          82.4,
          80,
          21.666666666666668,
          40,
          80.4,
          89.28571428571429,
          34,
          59.36363636363637,
          8.833333333333334,
          46.375,
          46.375,
          55.5,
          12,
          15,
          35,
          16,
          42.25,
          32,
          25,
          32.5,
          45,
          80.45454545454545,
          10.333333333333334,
          6.4,
          12.5,
          14.25,
          65,
          19,
          24,
          14.75,
          16.666666666666668,
          17.333333333333332,
          20.5,
          19.5,
          19.25,
          23.555555555555557,
          21.666666666666668,
          24,
          22,
          12.5,
          11.25,
          35.333333333333336,
          27.8,
          28.5,
          24.666666666666668,
          20,
          67.6,
          17.88888888888889,
          11,
          16.666666666666668,
          23,
          45,
          16.666666666666668,
          32.2,
          55.5,
          42.5,
          17.5,
          14.8,
          31,
          17.5,
          24.5,
          53,
          27.5,
          22,
          16.5,
          24.5,
          35,
          19.75,
          12.75,
          19.8,
          19.8,
          35,
          64.28571428571429,
          26.333333333333332,
          24.5,
          22,
          30,
          53.333333333333336,
          44,
          30,
          24,
          20,
          20,
          20,
          45,
          34.5,
          31,
          35,
          35,
          25.1,
          39.285714285714285,
          37.6,
          42.5,
          23.333333333333332,
          23.833333333333332,
          25,
          19.5,
          51.25,
          50.333333333333336,
          45.111111111111114,
          86.25,
          56.166666666666664,
          48.166666666666664,
          17.5,
          24,
          40.2,
          34.166666666666664,
          18.75,
          72.75,
          24,
          39.25,
          58.75,
          79.16666666666667,
          20,
          19.5,
          56.4,
          35.57142857142857,
          36,
          36,
          27.8,
          25,
          69,
          20,
          64.16666666666667,
          63.833333333333336,
          62.8,
          64.75,
          27.8,
          25,
          45.166666666666664,
          55.166666666666664,
          64,
          41.5,
          75,
          20,
          28,
          17.5,
          50,
          22.333333333333332,
          20,
          17.25,
          16.666666666666668,
          70.83333333333333,
          25,
          18.8,
          18.75,
          35.7,
          10.833333333333334,
          48.666666666666664,
          24,
          53.25,
          10.714285714285714,
          17.5,
          31.666666666666668,
          20,
          20.25,
          11.25,
          11.666666666666666,
          32.857142857142854,
          85,
          47.5,
          18.333333333333332,
          17.5,
          21.25,
          18.333333333333332,
          17.5,
          16,
          17.5,
          46.5,
          25,
          55.75,
          22.8,
          46,
          19,
          32,
          35,
          35.5,
          24,
          23.333333333333332,
          13,
          33.333333333333336,
          62.5,
          62.5,
          26,
          40,
          20,
          20,
          25,
          19.25,
          29,
          16.25,
          23,
          36.666666666666664,
          71.57142857142857,
          42.857142857142854,
          29.166666666666668,
          8.142857142857142,
          23.666666666666668,
          53.333333333333336,
          39,
          48.75,
          39,
          31.428571428571427,
          50.142857142857146,
          33.333333333333336,
          14.6,
          37.5,
          26.25,
          22.166666666666668,
          46.666666666666664,
          36.666666666666664,
          14,
          37.42857142857143,
          28,
          60,
          17.5,
          20,
          35,
          31.5,
          31,
          31,
          31,
          19,
          20,
          11.5,
          20,
          22.5,
          12.5,
          24.375,
          35.714285714285715,
          43.5,
          34.8,
          22.11111111111111,
          35,
          31.25,
          14.6,
          38.25,
          19.666666666666668,
          46.25,
          29.857142857142858,
          15,
          20.5,
          38.375,
          57.666666666666664,
          17.375,
          36.875,
          58.333333333333336,
          58.5,
          16.5,
          50,
          16.25,
          16.8,
          14.666666666666666,
          58.75,
          10.833333333333334,
          8,
          91.875,
          14.714285714285714,
          55.25,
          10.833333333333334,
          49.666666666666664,
          40.5,
          42.75,
          40.5,
          33.25,
          36.875,
          56.25,
          27.333333333333332,
          10,
          22.5,
          20,
          64.5,
          52.125,
          27.2,
          37.9,
          12.5,
          26.285714285714285,
          32,
          30,
          24,
          11.875,
          35,
          39.333333333333336,
          16.2,
          29.714285714285715,
          34.875,
          31.666666666666668,
          56.166666666666664,
          15,
          17,
          50,
          38.888888888888886,
          44.75,
          19.666666666666668,
          49.166666666666664,
          36.625,
          17.5,
          45.55555555555556,
          22.5,
          20.8,
          34.285714285714285,
          47.875,
          25.833333333333332,
          16.75,
          29.166666666666668,
          12,
          25,
          15,
          31,
          26.25,
          30,
          17,
          41.81818181818182,
          14.166666666666666,
          52,
          42,
          22.5,
          46.25,
          32.5,
          25,
          35.833333333333336,
          34,
          32.25,
          13.333333333333334,
          55.42857142857143,
          17,
          11.2,
          43.333333333333336,
          20,
          15,
          27.1,
          24,
          59,
          40,
          38.333333333333336,
          34.3,
          18.09090909090909,
          16.666666666666668,
          16.666666666666668,
          11.25,
          21.25,
          12.8,
          23.333333333333332,
          34.3,
          25,
          17.375,
          18,
          22.5,
          36.666666666666664,
          30.333333333333332,
          22.5,
          83.33333333333333,
          8.75,
          21,
          24.75,
          6.666666666666667,
          10.5,
          13,
          46.5,
          31.5,
          30.166666666666668,
          88.88888888888889,
          58.333333333333336,
          50.90909090909091,
          10,
          22.5,
          12.857142857142858,
          33.333333333333336,
          30,
          30,
          24.5,
          10,
          34.5,
          22.25,
          70,
          32.142857142857146,
          14,
          22.5,
          26.666666666666668,
          30.8,
          83,
          13.75,
          27.583333333333332,
          99.2,
          40,
          13.75,
          13.75,
          22.5,
          41,
          58.333333333333336,
          19,
          45.833333333333336,
          11.25,
          8.833333333333334,
          10,
          31.25,
          23.333333333333332,
          15,
          9.8,
          65.71428571428571,
          22.5,
          42.857142857142854,
          16.125,
          35,
          62.5,
          40,
          13.333333333333334,
          33.333333333333336,
          48.125,
          32.857142857142854,
          46,
          17.6,
          13.333333333333334,
          16.833333333333332,
          23.8,
          61.583333333333336,
          24,
          16.75,
          8,
          30,
          11.2,
          25,
          12.5,
          64.2,
          46.5,
          16.5,
          100,
          22.5,
          52,
          43.4,
          13.75,
          13.75,
          12.166666666666666,
          25,
          13.625,
          43.833333333333336,
          32.5,
          12.5,
          12.25,
          13.333333333333334,
          45.666666666666664,
          25,
          23.5,
          25,
          80,
          37.9,
          37.142857142857146,
          30,
          9,
          13,
          18.75,
          21,
          14,
          13.75,
          15,
          10,
          50,
          21.25,
          31.25,
          10.833333333333334,
          8,
          42.63636363636363,
          22.666666666666668,
          32.333333333333336,
          12,
          33.75,
          57.42857142857143,
          13.333333333333334,
          10.5,
          28.5,
          29,
          25,
          23,
          27,
          36.6,
          19.666666666666668,
          31,
          41.333333333333336,
          25,
          83.5,
          13.8,
          17.25,
          8.75,
          21.8,
          18.25,
          9.8,
          20.5,
          20,
          22.5,
          14.666666666666666,
          9.8,
          10.545454545454545,
          28.333333333333332,
          19.5,
          26.90909090909091,
          18,
          24.5,
          50.666666666666664,
          32.857142857142854,
          15.6,
          11.5,
          18.5,
          14,
          20.4,
          11.75,
          10,
          23.1,
          5,
          26,
          50,
          26.666666666666668,
          11.25,
          26,
          16,
          30,
          57.142857142857146,
          45.833333333333336,
          28.333333333333332,
          36.666666666666664,
          41.25,
          60.75,
          57.142857142857146,
          24.5,
          29.5,
          26.714285714285715,
          44.92307692307692,
          69.7,
          13.285714285714286,
          13.75,
          45.714285714285715,
          45.714285714285715,
          50,
          53.333333333333336,
          63.333333333333336,
          32,
          32,
          60.6,
          54.9,
          71.375,
          17.5,
          30.375,
          57.5,
          10,
          17.5,
          53,
          15,
          19.666666666666668,
          16.2,
          17.5,
          35,
          16.666666666666668,
          12.5,
          13.75,
          35.333333333333336,
          34.333333333333336,
          12.714285714285714,
          24,
          12,
          90,
          66.66666666666667,
          15,
          30.4,
          18.75,
          15,
          33.75,
          50.90909090909091,
          90,
          12,
          31.818181818181817,
          10,
          26,
          59.8,
          19,
          29.166666666666668,
          20,
          8.428571428571429,
          17.5,
          56.25,
          18.25,
          23.25,
          15,
          23.5,
          12.5,
          14.75,
          31.818181818181817,
          9,
          16.666666666666668,
          20.5,
          16,
          7.166666666666667,
          15,
          26.923076923076923,
          44.4,
          43,
          13.75,
          18.333333333333332,
          57.5,
          35.4,
          17.5,
          22.5,
          38.61538461538461,
          27.5,
          45.333333333333336,
          30,
          13.5,
          39.333333333333336,
          11.166666666666666,
          10,
          50.833333333333336,
          25,
          46,
          13.333333333333334,
          28.6875,
          15,
          45,
          13.5,
          28.2,
          75.21428571428571,
          14,
          12.5,
          20,
          19.5,
          31.25,
          60,
          61.666666666666664,
          61.666666666666664,
          27.75,
          24.75,
          41.833333333333336,
          38.57142857142857,
          10,
          11.666666666666666,
          16.666666666666668,
          14,
          15,
          12.5,
          58,
          11.666666666666666,
          38,
          25.5,
          43.75,
          30.3,
          63.75,
          52.625,
          88.33333333333333,
          24.4,
          24.4,
          24.4,
          25.833333333333332,
          12.5,
          23.25,
          36,
          45,
          12.5,
          18.625,
          20.875,
          18.166666666666668,
          13.75,
          38,
          38.888888888888886,
          40,
          40,
          27,
          50.625,
          11.25,
          20,
          66.875,
          30.625,
          15.25,
          91.66666666666667,
          62.714285714285715,
          34.833333333333336,
          33.666666666666664,
          19.9,
          25,
          19.5,
          37,
          24.933333333333334,
          56.25,
          25.833333333333332,
          11.4,
          13.2,
          22,
          20,
          34.625,
          54.285714285714285,
          10.833333333333334,
          21,
          21,
          81.66666666666667,
          22.25,
          33.333333333333336,
          28.25,
          46.42857142857143,
          61.666666666666664,
          41.666666666666664,
          16,
          38.666666666666664,
          19,
          17,
          60,
          15,
          14,
          12.833333333333334,
          39.1875,
          41.666666666666664,
          12,
          13.75,
          15,
          11.75,
          14,
          88.88888888888889,
          16.25,
          58.333333333333336,
          31.125,
          20,
          23.416666666666668,
          14.2,
          17.5,
          11.25,
          76.75,
          68.22222222222223,
          22.6,
          95.83333333333333,
          58.25,
          15.5,
          64.83333333333333,
          43,
          30,
          28.5,
          30.625,
          24,
          16.666666666666668,
          64.5,
          58,
          16.666666666666668,
          24,
          20,
          19.5,
          17,
          11.6,
          28.6,
          20,
          32.75,
          8.5,
          21.333333333333332,
          29.333333333333332,
          37.5,
          22.5,
          15.833333333333334,
          16.666666666666668,
          12.5,
          27.666666666666668,
          18.75,
          17.5,
          62.5,
          24,
          75,
          16.666666666666668,
          32.333333333333336,
          24.166666666666668,
          10,
          25,
          40,
          32.833333333333336,
          10,
          17.5,
          15,
          36.125,
          15,
          19.75,
          7.25,
          21,
          39,
          42.888888888888886,
          18.75,
          37.5,
          24.833333333333332,
          16.666666666666668,
          20,
          20,
          20,
          21,
          22.5,
          15.25,
          20,
          28.6875,
          58.6,
          34,
          29.666666666666668,
          51.42857142857143,
          13.666666666666666,
          12,
          30.833333333333332,
          32,
          30.833333333333332,
          30.666666666666668,
          30.666666666666668,
          30.833333333333332,
          29.666666666666668,
          93,
          21,
          29.5,
          29,
          18.333333333333332,
          13.75,
          30.666666666666668,
          34.44444444444444,
          13.333333333333334,
          30.833333333333332,
          12.333333333333334,
          55,
          18.625,
          12.333333333333334,
          20.375,
          20.5,
          30.666666666666668,
          30.666666666666668,
          28.8,
          12.333333333333334,
          37.5,
          56.125,
          11.5,
          29,
          25.714285714285715,
          21.875,
          73.5,
          19,
          58.75,
          11,
          39,
          26,
          26,
          25.90909090909091,
          61.666666666666664,
          37.75,
          33.5,
          29.166666666666668,
          40,
          45,
          26.333333333333332,
          59,
          16,
          36.125,
          87.5,
          61.25,
          55,
          90,
          17.5,
          20,
          49.166666666666664,
          17.5,
          49.2,
          22.5,
          30.3125,
          14.2,
          71.5,
          31.375,
          11.333333333333334,
          23.375,
          32.55555555555556,
          15,
          12.5,
          21.333333333333332,
          16.666666666666668,
          50,
          35.5,
          39.375,
          52,
          15,
          46.75,
          28.6875,
          52,
          23.416666666666668,
          16.666666666666668,
          60.875,
          56.5,
          54,
          40,
          32,
          46,
          30.6,
          34,
          27.75,
          31.375,
          17.5,
          37.53333333333333,
          27.666666666666668,
          45.333333333333336,
          34,
          35.7,
          41.75,
          18.583333333333332,
          19.416666666666668,
          20.666666666666668,
          15.833333333333334,
          28.5625,
          26.8,
          48.7,
          61.25,
          61.666666666666664,
          61.666666666666664,
          41.5,
          24.933333333333334,
          35.125,
          41.833333333333336,
          19.8125,
          28.75,
          13,
          19.166666666666668,
          59.333333333333336,
          34.8,
          93.6,
          47.166666666666664,
          82.33333333333333,
          40,
          45,
          20.833333333333332,
          28.333333333333332,
          11,
          41,
          20.833333333333332,
          22.5,
          54.1,
          62.5,
          22.5,
          44.166666666666664,
          15,
          112.72727272727273,
          17.25,
          20.833333333333332,
          28.125,
          22,
          16.5,
          16,
          15.833333333333334,
          19.75,
          37.75,
          43,
          96.875,
          64,
          44.166666666666664,
          56,
          23.125,
          23.375,
          52,
          52,
          32,
          22,
          46.166666666666664,
          21,
          10,
          20,
          29.4,
          16.666666666666668,
          31.833333333333332,
          31.833333333333332,
          31.833333333333332,
          60,
          35.5,
          19.2,
          62.5,
          36.888888888888886,
          36.888888888888886,
          50,
          9.833333333333334,
          23.333333333333332,
          27.666666666666668,
          17.5,
          20,
          27,
          45.857142857142854,
          44.833333333333336,
          32,
          22.5,
          15,
          31.571428571428573,
          39.666666666666664,
          43.75,
          14.8,
          21.833333333333332,
          19,
          39.333333333333336,
          22,
          20,
          67.5,
          27.5,
          31.333333333333332,
          13.333333333333334,
          29.5,
          22.4,
          19.166666666666668,
          9,
          21,
          15,
          22.5,
          31.375,
          25,
          22.5,
          31,
          12.333333333333334,
          25,
          43.416666666666664,
          13,
          12.333333333333334,
          23.625,
          12,
          5.142857142857143,
          27,
          20.5,
          15.666666666666666,
          45,
          81.83333333333333,
          26.666666666666668,
          14.75,
          11.666666666666666,
          35,
          35,
          15,
          6.5,
          27.5,
          26.25,
          28.75,
          54.333333333333336,
          51.166666666666664,
          28,
          17.5,
          25,
          41.666666666666664,
          32.22222222222222,
          25,
          22.5,
          22.5,
          27.5,
          22.5,
          27.5,
          41.666666666666664,
          27.5,
          32.22222222222222,
          75,
          14.625,
          83.5,
          46.25,
          41.42857142857143,
          17.333333333333332,
          107.14285714285714,
          41.666666666666664,
          197,
          197,
          21.428571428571427,
          37.5,
          63.375,
          77.1875,
          69.16666666666667,
          42.5,
          21,
          27.5,
          22.375,
          250,
          10.5,
          42.5,
          31.166666666666668,
          32.5,
          29.5,
          30.666666666666668,
          33.75,
          28,
          42.5,
          25.4,
          37.5,
          33.333333333333336,
          18.75,
          36.666666666666664,
          39.142857142857146,
          20.5,
          25.666666666666668,
          28.75,
          30.833333333333332,
          34.166666666666664,
          33.75,
          21.666666666666668,
          13.8,
          27.5,
          33.75,
          20,
          52.75,
          43.6,
          29.666666666666668,
          13.5,
          25.666666666666668,
          27.875,
          39.285714285714285,
          14.285714285714286,
          72.5,
          30.666666666666668,
          19.88888888888889,
          30.25,
          22.333333333333332,
          16,
          75,
          15,
          43.125,
          33,
          37.5,
          31.25,
          94.83333333333333,
          29.5,
          27,
          29.9,
          25,
          27.333333333333332,
          27.5,
          33,
          89.16666666666667,
          17.333333333333332,
          10.4,
          25.142857142857142,
          35,
          41.5,
          18.333333333333332,
          47.142857142857146,
          17,
          53.333333333333336,
          19.666666666666668,
          25,
          25,
          34.333333333333336,
          73.11111111111111,
          36.25,
          32.666666666666664,
          25.4,
          19,
          66,
          28,
          18.75,
          13,
          15.7,
          40.888888888888886,
          32.666666666666664,
          35,
          23.5,
          40.333333333333336,
          41.666666666666664,
          41.875,
          46.875,
          30,
          24.8,
          47,
          28.333333333333332,
          40,
          50,
          70,
          42.5,
          58.333333333333336,
          34,
          29.166666666666668,
          47,
          25.75,
          35,
          10.5,
          58.5,
          32.714285714285715,
          53.5,
          48,
          51.42857142857143,
          34.5,
          34,
          35,
          68.75,
          66,
          14.166666666666666,
          42.5,
          37.5,
          37.5,
          35,
          48,
          39,
          17.142857142857142,
          9,
          31.666666666666668,
          23.333333333333332,
          41.42857142857143,
          112.5,
          16.8,
          20,
          51.25,
          20.5,
          20,
          48.57142857142857,
          32.25,
          13,
          64.77777777777777,
          16,
          50.5,
          61.714285714285715,
          24,
          38,
          50,
          92.66666666666667,
          22.5,
          62.5,
          21.4,
          37.5,
          12.5,
          10.833333333333334,
          17.2,
          58,
          31.25,
          39.18181818181818,
          27.333333333333332,
          29,
          42.5,
          25,
          25,
          25,
          16.666666666666668,
          16.666666666666668,
          16.666666666666668,
          43.75,
          5.75,
          25.6,
          61.142857142857146,
          30,
          12.666666666666666,
          11.666666666666666,
          16.666666666666668,
          27.5,
          29.5,
          55,
          21.428571428571427,
          55,
          12.5,
          16,
          22.333333333333332,
          42.833333333333336,
          41.25,
          16.666666666666668,
          25,
          43,
          22.5,
          17.8,
          30,
          10,
          37.5,
          45,
          8.6,
          67.375,
          72.5,
          20,
          56.25,
          32.5,
          73.33333333333333,
          21.75,
          39.5,
          136.66666666666666,
          7,
          11.833333333333334,
          22.833333333333332,
          26,
          62.5,
          50.75,
          24,
          43.125,
          59.5,
          48.333333333333336,
          30,
          57.142857142857146,
          40,
          48.25,
          14.75,
          33.333333333333336,
          27.142857142857142,
          21.5,
          42.25,
          25.833333333333332,
          14.75,
          24,
          12.5,
          15.5,
          13.75,
          12.5,
          76,
          60,
          50,
          25.166666666666668,
          43.5,
          13.75,
          14.833333333333334,
          58.75,
          77.08333333333333,
          12.333333333333334,
          16.666666666666668,
          21.666666666666668,
          36.25,
          25,
          13,
          29.2,
          10,
          9.833333333333334,
          50,
          11.25,
          16.25,
          15,
          64.28571428571429,
          43.8,
          13.166666666666666,
          17.5,
          30.25,
          20,
          32.5,
          40,
          22.833333333333332,
          17,
          10.333333333333334,
          13,
          33.75,
          22.5,
          14,
          26.666666666666668,
          23,
          16.666666666666668,
          21.666666666666668,
          48.333333333333336,
          36,
          21.666666666666668,
          18,
          38.833333333333336,
          39.25,
          32,
          10.833333333333334,
          32,
          12.75,
          12,
          30,
          21,
          32,
          18.333333333333332,
          62.5,
          40,
          18,
          52.375,
          25,
          41.714285714285715,
          52.44444444444444,
          66.25,
          91,
          35,
          40,
          15,
          11.25,
          40,
          51,
          16.666666666666668,
          17.5,
          52.666666666666664,
          25.5,
          24,
          30.25,
          30.3125,
          15,
          13.666666666666666,
          15,
          55.25,
          43.625,
          59.25,
          42.714285714285715,
          14,
          27.5,
          25.6,
          13.75,
          30.5,
          32.5,
          18,
          14.5,
          32.6,
          10,
          14,
          35,
          21.25,
          12.5,
          25.5,
          50,
          12.333333333333334,
          13.25,
          33.36363636363637,
          16.2,
          16.666666666666668,
          30,
          14.5,
          11.666666666666666,
          14.5,
          108.33333333333333,
          17.5,
          10.75,
          10,
          15.166666666666666,
          15,
          72.66666666666667,
          14.25,
          14.25,
          34.333333333333336,
          22,
          23,
          14,
          71.5,
          15.833333333333334,
          24.5,
          18,
          10.8,
          29.714285714285715,
          16.666666666666668,
          10,
          27.5,
          56.25,
          58.6875,
          105.8,
          11.125,
          12.5,
          25,
          44.92857142857143,
          17,
          19.166666666666668,
          14.833333333333334,
          10.5,
          33.333333333333336,
          20,
          16.125,
          33.333333333333336,
          18,
          17.333333333333332,
          21.333333333333332,
          22.8,
          28.4,
          29.5,
          28,
          46.666666666666664,
          24.8,
          20.8,
          17.4,
          45,
          16.666666666666668,
          16,
          17.5,
          21.666666666666668,
          82.55555555555556,
          8.222222222222221,
          191.66666666666666,
          37.5,
          17.5,
          22.5,
          15,
          14,
          10.714285714285714,
          33.333333333333336,
          22.857142857142858,
          71.125,
          54.5,
          23.75,
          103.44444444444444,
          33.333333333333336,
          14.6,
          17.8,
          25.666666666666668,
          25.666666666666668,
          25.666666666666668,
          16,
          42.2,
          19.25,
          24.833333333333332,
          43.333333333333336,
          55,
          67,
          75.25,
          62.5,
          15.333333333333334,
          38.25,
          15.714285714285714,
          11.428571428571429,
          11.666666666666666,
          10,
          17.2,
          40.5,
          40.166666666666664,
          20,
          21.25,
          53.57142857142857,
          45,
          50.5,
          50,
          33.333333333333336,
          50,
          24,
          36.666666666666664,
          16.25,
          22.5,
          17.333333333333332,
          12.714285714285714,
          19.5,
          20,
          15,
          70.57142857142857,
          23.666666666666668,
          59.142857142857146,
          16.4,
          16.25,
          13,
          31.666666666666668,
          14.5,
          20.5,
          35,
          21.666666666666668,
          21.666666666666668,
          30,
          15.714285714285714,
          28.333333333333332,
          13.75,
          37.8,
          57.5,
          24,
          19,
          19,
          31,
          41,
          41.666666666666664,
          19,
          34,
          35.666666666666664,
          10,
          10,
          10,
          8,
          12.5,
          17.8,
          29,
          71.33333333333333,
          38,
          22.5,
          17.166666666666668,
          15,
          41,
          10.8,
          11.5,
          22.833333333333332,
          15,
          10.75,
          53.125,
          50.5,
          31.285714285714285,
          20.625,
          46.666666666666664,
          10,
          15,
          30,
          30,
          32.285714285714285,
          50,
          14,
          25,
          40.44444444444444,
          18.333333333333332,
          14,
          40.857142857142854,
          40.857142857142854,
          40.857142857142854,
          41.666666666666664,
          35.833333333333336,
          19.785714285714285,
          62,
          18.5,
          19,
          7.166666666666667,
          68.11111111111111,
          26,
          31.5,
          22.5,
          18.75,
          17.25,
          62.57142857142857,
          19.833333333333332,
          14.833333333333334,
          21.75,
          41.75,
          38,
          12.5,
          24,
          10,
          17.333333333333332,
          15.666666666666666,
          20.333333333333332,
          13.333333333333334,
          26.833333333333332,
          49.25,
          49.25,
          24,
          22.4,
          30,
          39.166666666666664,
          35,
          56.3,
          40,
          27.333333333333332,
          25.25,
          26.666666666666668,
          30,
          31.875,
          16.666666666666668,
          13.166666666666666,
          14.555555555555555,
          26.666666666666668,
          14.166666666666666,
          13.75,
          37.5,
          20,
          22.75,
          10.6,
          19.75,
          27.5,
          31,
          38,
          28,
          25.5,
          17.75,
          41,
          155,
          165.2,
          35,
          16,
          47.5,
          63.5,
          93,
          13,
          88.5,
          25,
          35,
          28.166666666666668,
          23.75,
          18.333333333333332,
          22.25,
          25,
          22.5,
          25,
          20,
          25,
          46.5,
          25,
          10.75,
          17.5,
          20,
          13.333333333333334,
          25,
          20.5,
          20.5,
          20,
          16.25,
          22.25,
          22.5,
          41,
          27.333333333333332,
          25,
          22.333333333333332,
          45,
          30,
          20,
          15,
          34.4,
          23.25,
          26.666666666666668,
          18.75,
          42.5,
          29.333333333333332,
          14.8,
          11.666666666666666,
          28.333333333333332,
          31.444444444444443,
          25.833333333333332,
          36.166666666666664,
          53.333333333333336,
          46,
          28.545454545454547,
          23,
          29.75,
          25,
          37.8,
          28.3,
          12.5,
          23.666666666666668,
          40.714285714285715,
          17.75,
          16.75,
          19.166666666666668,
          16.75,
          57.5,
          35,
          17.75,
          39,
          37.833333333333336,
          33,
          15,
          47.5,
          54.5,
          50.5,
          24.5,
          14.4,
          24.5,
          17.5,
          16.666666666666668,
          54.5,
          28.625,
          65,
          15,
          15,
          11,
          20,
          19.714285714285715,
          16.666666666666668,
          17.5,
          17.25,
          17,
          30,
          24,
          28.571428571428573,
          49.75,
          26,
          14,
          17.333333333333332,
          24,
          16.666666666666668,
          84.5,
          18,
          18,
          36,
          32.5,
          21,
          27,
          23,
          18.4,
          15,
          23.75,
          26.25,
          35.5,
          26.25,
          20.666666666666668,
          44.5,
          30,
          38.333333333333336,
          13.333333333333334,
          27.5,
          25,
          49.75,
          38.166666666666664,
          25.75,
          43,
          36.5,
          24,
          18.333333333333332,
          12.25,
          25.5,
          18.6,
          25,
          18,
          19,
          13.75,
          23.333333333333332,
          27.5,
          11,
          20,
          35,
          15,
          40,
          14,
          17,
          25,
          13.25,
          36.666666666666664,
          22,
          11,
          10.666666666666666,
          15.75,
          11.333333333333334,
          19,
          10,
          23,
          30,
          23,
          37,
          17.5,
          11,
          15,
          11.75,
          13.666666666666666,
          23.5,
          19,
          10,
          17.5,
          22.5,
          24.5,
          14,
          18,
          11,
          24.333333333333332,
          13.333333333333334,
          21.833333333333332,
          12.571428571428571,
          13.333333333333334,
          19.75,
          9.5,
          20,
          16.25,
          18.333333333333332,
          17.25,
          22,
          24.5,
          22.666666666666668,
          19,
          35,
          29.333333333333332,
          30,
          45,
          19,
          46.666666666666664,
          12,
          21.5,
          23.75,
          19.833333333333332,
          65,
          15.8,
          9,
          30,
          13.5,
          35,
          9.125,
          25,
          30,
          16.666666666666668,
          18.333333333333332,
          18.333333333333332,
          13.333333333333334,
          13.333333333333334,
          18.25,
          11.8,
          33.75,
          37.5,
          14.25,
          43.5,
          20,
          14.166666666666666,
          10.833333333333334,
          14.666666666666666,
          22.5,
          18,
          12.5,
          21.5,
          17.5,
          32,
          20,
          17.5,
          37.5,
          24.5,
          26.666666666666668,
          12,
          15,
          24.5,
          16.333333333333332,
          30,
          11.666666666666666,
          13.333333333333334,
          22,
          42,
          10,
          30,
          13.75,
          16.25,
          12.5,
          20.833333333333332,
          22.75,
          11.428571428571429,
          33.875,
          7.142857142857143,
          9,
          7.5,
          27.5,
          27.5,
          38,
          22,
          11.833333333333334,
          13.333333333333334,
          13.333333333333334,
          20,
          16.666666666666668,
          17.333333333333332,
          29.333333333333332,
          27,
          25,
          25,
          25,
          44.5,
          35,
          25.166666666666668,
          16.666666666666668,
          16,
          16.666666666666668,
          29.25,
          15.25,
          9.5,
          51.5,
          53.5,
          15,
          12,
          10.333333333333334,
          16.8,
          25,
          24.5,
          21.5,
          12.833333333333334,
          21.25,
          17,
          21.333333333333332,
          25.6,
          16.333333333333332,
          38.5,
          25.333333333333332,
          30,
          23.333333333333332,
          35,
          12.642857142857142,
          19.22222222222222,
          35,
          35,
          15,
          18,
          11.25,
          18,
          15.2,
          16.5,
          6.666666666666667,
          17.8,
          15,
          15,
          10.666666666666666,
          9,
          13.75,
          13,
          11.666666666666666,
          20,
          11.25,
          20,
          17.5,
          16.666666666666668,
          16.666666666666668,
          12,
          10.666666666666666,
          10.666666666666666,
          13.75,
          35.5,
          32.5,
          12,
          25,
          50.6,
          50.6,
          34.75,
          10,
          15,
          13.75,
          12.5,
          11.666666666666666,
          37.5,
          11.666666666666666,
          15,
          15,
          12.5,
          11.25,
          36.666666666666664,
          16.666666666666668,
          20,
          14,
          15.7,
          21.666666666666668,
          21.666666666666668,
          14,
          14,
          18.5,
          16.666666666666668,
          35,
          15.2,
          13.333333333333334,
          12.5,
          12.5,
          30.75,
          30.75,
          17.5,
          10,
          30.75,
          22,
          20,
          13.5,
          13.75,
          11,
          25,
          25,
          24.25,
          25,
          15,
          15,
          56,
          44,
          20,
          17.333333333333332,
          16.25,
          10,
          50,
          58.333333333333336,
          41.7,
          56.25,
          9,
          15,
          15,
          16.25,
          30,
          18.5,
          17.5,
          18.75,
          25,
          23.5,
          13.571428571428571,
          6.25,
          32.5,
          10,
          20,
          20,
          20,
          22,
          27.5,
          15,
          15,
          25,
          11.666666666666666,
          36.666666666666664,
          20,
          20,
          20,
          13.8,
          24.75,
          25,
          22.8,
          28.333333333333332,
          29.666666666666668,
          37.5,
          23.75
         ],
         "y0": " ",
         "yaxis": "y"
        }
       ],
       "layout": {
        "boxmode": "group",
        "legend": {
         "tracegroupgap": 0
        },
        "template": {
         "data": {
          "bar": [
           {
            "error_x": {
             "color": "rgb(36,36,36)"
            },
            "error_y": {
             "color": "rgb(36,36,36)"
            },
            "marker": {
             "line": {
              "color": "white",
              "width": 0.5
             },
             "pattern": {
              "fillmode": "overlay",
              "size": 10,
              "solidity": 0.2
             }
            },
            "type": "bar"
           }
          ],
          "barpolar": [
           {
            "marker": {
             "line": {
              "color": "white",
              "width": 0.5
             },
             "pattern": {
              "fillmode": "overlay",
              "size": 10,
              "solidity": 0.2
             }
            },
            "type": "barpolar"
           }
          ],
          "carpet": [
           {
            "aaxis": {
             "endlinecolor": "rgb(36,36,36)",
             "gridcolor": "white",
             "linecolor": "white",
             "minorgridcolor": "white",
             "startlinecolor": "rgb(36,36,36)"
            },
            "baxis": {
             "endlinecolor": "rgb(36,36,36)",
             "gridcolor": "white",
             "linecolor": "white",
             "minorgridcolor": "white",
             "startlinecolor": "rgb(36,36,36)"
            },
            "type": "carpet"
           }
          ],
          "choropleth": [
           {
            "colorbar": {
             "outlinewidth": 1,
             "tickcolor": "rgb(36,36,36)",
             "ticks": "outside"
            },
            "type": "choropleth"
           }
          ],
          "contour": [
           {
            "colorbar": {
             "outlinewidth": 1,
             "tickcolor": "rgb(36,36,36)",
             "ticks": "outside"
            },
            "colorscale": [
             [
              0,
              "#440154"
             ],
             [
              0.1111111111111111,
              "#482878"
             ],
             [
              0.2222222222222222,
              "#3e4989"
             ],
             [
              0.3333333333333333,
              "#31688e"
             ],
             [
              0.4444444444444444,
              "#26828e"
             ],
             [
              0.5555555555555556,
              "#1f9e89"
             ],
             [
              0.6666666666666666,
              "#35b779"
             ],
             [
              0.7777777777777778,
              "#6ece58"
             ],
             [
              0.8888888888888888,
              "#b5de2b"
             ],
             [
              1,
              "#fde725"
             ]
            ],
            "type": "contour"
           }
          ],
          "contourcarpet": [
           {
            "colorbar": {
             "outlinewidth": 1,
             "tickcolor": "rgb(36,36,36)",
             "ticks": "outside"
            },
            "type": "contourcarpet"
           }
          ],
          "heatmap": [
           {
            "colorbar": {
             "outlinewidth": 1,
             "tickcolor": "rgb(36,36,36)",
             "ticks": "outside"
            },
            "colorscale": [
             [
              0,
              "#440154"
             ],
             [
              0.1111111111111111,
              "#482878"
             ],
             [
              0.2222222222222222,
              "#3e4989"
             ],
             [
              0.3333333333333333,
              "#31688e"
             ],
             [
              0.4444444444444444,
              "#26828e"
             ],
             [
              0.5555555555555556,
              "#1f9e89"
             ],
             [
              0.6666666666666666,
              "#35b779"
             ],
             [
              0.7777777777777778,
              "#6ece58"
             ],
             [
              0.8888888888888888,
              "#b5de2b"
             ],
             [
              1,
              "#fde725"
             ]
            ],
            "type": "heatmap"
           }
          ],
          "heatmapgl": [
           {
            "colorbar": {
             "outlinewidth": 1,
             "tickcolor": "rgb(36,36,36)",
             "ticks": "outside"
            },
            "colorscale": [
             [
              0,
              "#440154"
             ],
             [
              0.1111111111111111,
              "#482878"
             ],
             [
              0.2222222222222222,
              "#3e4989"
             ],
             [
              0.3333333333333333,
              "#31688e"
             ],
             [
              0.4444444444444444,
              "#26828e"
             ],
             [
              0.5555555555555556,
              "#1f9e89"
             ],
             [
              0.6666666666666666,
              "#35b779"
             ],
             [
              0.7777777777777778,
              "#6ece58"
             ],
             [
              0.8888888888888888,
              "#b5de2b"
             ],
             [
              1,
              "#fde725"
             ]
            ],
            "type": "heatmapgl"
           }
          ],
          "histogram": [
           {
            "marker": {
             "line": {
              "color": "white",
              "width": 0.6
             }
            },
            "type": "histogram"
           }
          ],
          "histogram2d": [
           {
            "colorbar": {
             "outlinewidth": 1,
             "tickcolor": "rgb(36,36,36)",
             "ticks": "outside"
            },
            "colorscale": [
             [
              0,
              "#440154"
             ],
             [
              0.1111111111111111,
              "#482878"
             ],
             [
              0.2222222222222222,
              "#3e4989"
             ],
             [
              0.3333333333333333,
              "#31688e"
             ],
             [
              0.4444444444444444,
              "#26828e"
             ],
             [
              0.5555555555555556,
              "#1f9e89"
             ],
             [
              0.6666666666666666,
              "#35b779"
             ],
             [
              0.7777777777777778,
              "#6ece58"
             ],
             [
              0.8888888888888888,
              "#b5de2b"
             ],
             [
              1,
              "#fde725"
             ]
            ],
            "type": "histogram2d"
           }
          ],
          "histogram2dcontour": [
           {
            "colorbar": {
             "outlinewidth": 1,
             "tickcolor": "rgb(36,36,36)",
             "ticks": "outside"
            },
            "colorscale": [
             [
              0,
              "#440154"
             ],
             [
              0.1111111111111111,
              "#482878"
             ],
             [
              0.2222222222222222,
              "#3e4989"
             ],
             [
              0.3333333333333333,
              "#31688e"
             ],
             [
              0.4444444444444444,
              "#26828e"
             ],
             [
              0.5555555555555556,
              "#1f9e89"
             ],
             [
              0.6666666666666666,
              "#35b779"
             ],
             [
              0.7777777777777778,
              "#6ece58"
             ],
             [
              0.8888888888888888,
              "#b5de2b"
             ],
             [
              1,
              "#fde725"
             ]
            ],
            "type": "histogram2dcontour"
           }
          ],
          "mesh3d": [
           {
            "colorbar": {
             "outlinewidth": 1,
             "tickcolor": "rgb(36,36,36)",
             "ticks": "outside"
            },
            "type": "mesh3d"
           }
          ],
          "parcoords": [
           {
            "line": {
             "colorbar": {
              "outlinewidth": 1,
              "tickcolor": "rgb(36,36,36)",
              "ticks": "outside"
             }
            },
            "type": "parcoords"
           }
          ],
          "pie": [
           {
            "automargin": true,
            "type": "pie"
           }
          ],
          "scatter": [
           {
            "marker": {
             "colorbar": {
              "outlinewidth": 1,
              "tickcolor": "rgb(36,36,36)",
              "ticks": "outside"
             }
            },
            "type": "scatter"
           }
          ],
          "scatter3d": [
           {
            "line": {
             "colorbar": {
              "outlinewidth": 1,
              "tickcolor": "rgb(36,36,36)",
              "ticks": "outside"
             }
            },
            "marker": {
             "colorbar": {
              "outlinewidth": 1,
              "tickcolor": "rgb(36,36,36)",
              "ticks": "outside"
             }
            },
            "type": "scatter3d"
           }
          ],
          "scattercarpet": [
           {
            "marker": {
             "colorbar": {
              "outlinewidth": 1,
              "tickcolor": "rgb(36,36,36)",
              "ticks": "outside"
             }
            },
            "type": "scattercarpet"
           }
          ],
          "scattergeo": [
           {
            "marker": {
             "colorbar": {
              "outlinewidth": 1,
              "tickcolor": "rgb(36,36,36)",
              "ticks": "outside"
             }
            },
            "type": "scattergeo"
           }
          ],
          "scattergl": [
           {
            "marker": {
             "colorbar": {
              "outlinewidth": 1,
              "tickcolor": "rgb(36,36,36)",
              "ticks": "outside"
             }
            },
            "type": "scattergl"
           }
          ],
          "scattermapbox": [
           {
            "marker": {
             "colorbar": {
              "outlinewidth": 1,
              "tickcolor": "rgb(36,36,36)",
              "ticks": "outside"
             }
            },
            "type": "scattermapbox"
           }
          ],
          "scatterpolar": [
           {
            "marker": {
             "colorbar": {
              "outlinewidth": 1,
              "tickcolor": "rgb(36,36,36)",
              "ticks": "outside"
             }
            },
            "type": "scatterpolar"
           }
          ],
          "scatterpolargl": [
           {
            "marker": {
             "colorbar": {
              "outlinewidth": 1,
              "tickcolor": "rgb(36,36,36)",
              "ticks": "outside"
             }
            },
            "type": "scatterpolargl"
           }
          ],
          "scatterternary": [
           {
            "marker": {
             "colorbar": {
              "outlinewidth": 1,
              "tickcolor": "rgb(36,36,36)",
              "ticks": "outside"
             }
            },
            "type": "scatterternary"
           }
          ],
          "surface": [
           {
            "colorbar": {
             "outlinewidth": 1,
             "tickcolor": "rgb(36,36,36)",
             "ticks": "outside"
            },
            "colorscale": [
             [
              0,
              "#440154"
             ],
             [
              0.1111111111111111,
              "#482878"
             ],
             [
              0.2222222222222222,
              "#3e4989"
             ],
             [
              0.3333333333333333,
              "#31688e"
             ],
             [
              0.4444444444444444,
              "#26828e"
             ],
             [
              0.5555555555555556,
              "#1f9e89"
             ],
             [
              0.6666666666666666,
              "#35b779"
             ],
             [
              0.7777777777777778,
              "#6ece58"
             ],
             [
              0.8888888888888888,
              "#b5de2b"
             ],
             [
              1,
              "#fde725"
             ]
            ],
            "type": "surface"
           }
          ],
          "table": [
           {
            "cells": {
             "fill": {
              "color": "rgb(237,237,237)"
             },
             "line": {
              "color": "white"
             }
            },
            "header": {
             "fill": {
              "color": "rgb(217,217,217)"
             },
             "line": {
              "color": "white"
             }
            },
            "type": "table"
           }
          ]
         },
         "layout": {
          "annotationdefaults": {
           "arrowhead": 0,
           "arrowwidth": 1
          },
          "autotypenumbers": "strict",
          "coloraxis": {
           "colorbar": {
            "outlinewidth": 1,
            "tickcolor": "rgb(36,36,36)",
            "ticks": "outside"
           }
          },
          "colorscale": {
           "diverging": [
            [
             0,
             "rgb(103,0,31)"
            ],
            [
             0.1,
             "rgb(178,24,43)"
            ],
            [
             0.2,
             "rgb(214,96,77)"
            ],
            [
             0.3,
             "rgb(244,165,130)"
            ],
            [
             0.4,
             "rgb(253,219,199)"
            ],
            [
             0.5,
             "rgb(247,247,247)"
            ],
            [
             0.6,
             "rgb(209,229,240)"
            ],
            [
             0.7,
             "rgb(146,197,222)"
            ],
            [
             0.8,
             "rgb(67,147,195)"
            ],
            [
             0.9,
             "rgb(33,102,172)"
            ],
            [
             1,
             "rgb(5,48,97)"
            ]
           ],
           "sequential": [
            [
             0,
             "#440154"
            ],
            [
             0.1111111111111111,
             "#482878"
            ],
            [
             0.2222222222222222,
             "#3e4989"
            ],
            [
             0.3333333333333333,
             "#31688e"
            ],
            [
             0.4444444444444444,
             "#26828e"
            ],
            [
             0.5555555555555556,
             "#1f9e89"
            ],
            [
             0.6666666666666666,
             "#35b779"
            ],
            [
             0.7777777777777778,
             "#6ece58"
            ],
            [
             0.8888888888888888,
             "#b5de2b"
            ],
            [
             1,
             "#fde725"
            ]
           ],
           "sequentialminus": [
            [
             0,
             "#440154"
            ],
            [
             0.1111111111111111,
             "#482878"
            ],
            [
             0.2222222222222222,
             "#3e4989"
            ],
            [
             0.3333333333333333,
             "#31688e"
            ],
            [
             0.4444444444444444,
             "#26828e"
            ],
            [
             0.5555555555555556,
             "#1f9e89"
            ],
            [
             0.6666666666666666,
             "#35b779"
            ],
            [
             0.7777777777777778,
             "#6ece58"
            ],
            [
             0.8888888888888888,
             "#b5de2b"
            ],
            [
             1,
             "#fde725"
            ]
           ]
          },
          "colorway": [
           "#1F77B4",
           "#FF7F0E",
           "#2CA02C",
           "#D62728",
           "#9467BD",
           "#8C564B",
           "#E377C2",
           "#7F7F7F",
           "#BCBD22",
           "#17BECF"
          ],
          "font": {
           "color": "rgb(36,36,36)"
          },
          "geo": {
           "bgcolor": "white",
           "lakecolor": "white",
           "landcolor": "white",
           "showlakes": true,
           "showland": true,
           "subunitcolor": "white"
          },
          "hoverlabel": {
           "align": "left"
          },
          "hovermode": "closest",
          "mapbox": {
           "style": "light"
          },
          "paper_bgcolor": "white",
          "plot_bgcolor": "white",
          "polar": {
           "angularaxis": {
            "gridcolor": "rgb(232,232,232)",
            "linecolor": "rgb(36,36,36)",
            "showgrid": false,
            "showline": true,
            "ticks": "outside"
           },
           "bgcolor": "white",
           "radialaxis": {
            "gridcolor": "rgb(232,232,232)",
            "linecolor": "rgb(36,36,36)",
            "showgrid": false,
            "showline": true,
            "ticks": "outside"
           }
          },
          "scene": {
           "xaxis": {
            "backgroundcolor": "white",
            "gridcolor": "rgb(232,232,232)",
            "gridwidth": 2,
            "linecolor": "rgb(36,36,36)",
            "showbackground": true,
            "showgrid": false,
            "showline": true,
            "ticks": "outside",
            "zeroline": false,
            "zerolinecolor": "rgb(36,36,36)"
           },
           "yaxis": {
            "backgroundcolor": "white",
            "gridcolor": "rgb(232,232,232)",
            "gridwidth": 2,
            "linecolor": "rgb(36,36,36)",
            "showbackground": true,
            "showgrid": false,
            "showline": true,
            "ticks": "outside",
            "zeroline": false,
            "zerolinecolor": "rgb(36,36,36)"
           },
           "zaxis": {
            "backgroundcolor": "white",
            "gridcolor": "rgb(232,232,232)",
            "gridwidth": 2,
            "linecolor": "rgb(36,36,36)",
            "showbackground": true,
            "showgrid": false,
            "showline": true,
            "ticks": "outside",
            "zeroline": false,
            "zerolinecolor": "rgb(36,36,36)"
           }
          },
          "shapedefaults": {
           "fillcolor": "black",
           "line": {
            "width": 0
           },
           "opacity": 0.3
          },
          "ternary": {
           "aaxis": {
            "gridcolor": "rgb(232,232,232)",
            "linecolor": "rgb(36,36,36)",
            "showgrid": false,
            "showline": true,
            "ticks": "outside"
           },
           "baxis": {
            "gridcolor": "rgb(232,232,232)",
            "linecolor": "rgb(36,36,36)",
            "showgrid": false,
            "showline": true,
            "ticks": "outside"
           },
           "bgcolor": "white",
           "caxis": {
            "gridcolor": "rgb(232,232,232)",
            "linecolor": "rgb(36,36,36)",
            "showgrid": false,
            "showline": true,
            "ticks": "outside"
           }
          },
          "title": {
           "x": 0.05
          },
          "xaxis": {
           "automargin": true,
           "gridcolor": "rgb(232,232,232)",
           "linecolor": "rgb(36,36,36)",
           "showgrid": false,
           "showline": true,
           "ticks": "outside",
           "title": {
            "standoff": 15
           },
           "zeroline": false,
           "zerolinecolor": "rgb(36,36,36)"
          },
          "yaxis": {
           "automargin": true,
           "gridcolor": "rgb(232,232,232)",
           "linecolor": "rgb(36,36,36)",
           "showgrid": false,
           "showline": true,
           "ticks": "outside",
           "title": {
            "standoff": 15
           },
           "zeroline": false,
           "zerolinecolor": "rgb(36,36,36)"
          }
         }
        },
        "title": {
         "text": "Distribution of Price per Person by City"
        },
        "xaxis": {
         "anchor": "y",
         "domain": [
          0,
          1
         ],
         "title": {
          "text": "City"
         }
        },
        "yaxis": {
         "anchor": "x",
         "domain": [
          0,
          1
         ],
         "ticksuffix": "€",
         "title": {
          "text": "Price/Person"
         }
        }
       }
      },
      "text/html": [
       "<div>                            <div id=\"0a3e0459-0912-435a-b50c-668cba47d6d3\" class=\"plotly-graph-div\" style=\"height:525px; width:100%;\"></div>            <script type=\"text/javascript\">                require([\"plotly\"], function(Plotly) {                    window.PLOTLYENV=window.PLOTLYENV || {};                                    if (document.getElementById(\"0a3e0459-0912-435a-b50c-668cba47d6d3\")) {                    Plotly.newPlot(                        \"0a3e0459-0912-435a-b50c-668cba47d6d3\",                        [{\"alignmentgroup\":\"True\",\"hovertemplate\":\"City=%{x}<br>Price/Person=%{y}<extra></extra>\",\"legendgroup\":\"\",\"marker\":{\"color\":\"#00509d\"},\"name\":\"\",\"notched\":false,\"offsetgroup\":\"\",\"orientation\":\"v\",\"showlegend\":false,\"type\":\"box\",\"x\":[\"Chania\",\"Chania\",\"Chania\",\"Chania\",\"Chania\",\"Chania\",\"Chania\",\"Chania\",\"Chania\",\"Chania\",\"Chania\",\"Chania\",\"Chania\",\"Chania\",\"Chania\",\"Chania\",\"Chania\",\"Chania\",\"Chania\",\"Chania\",\"Chania\",\"Chania\",\"Chania\",\"Chania\",\"Chania\",\"Chania\",\"Chania\",\"Chania\",\"Chania\",\"Chania\",\"Chania\",\"Chania\",\"Chania\",\"Chania\",\"Chania\",\"Chania\",\"Chania\",\"Chania\",\"Chania\",\"Chania\",\"Chania\",\"Chania\",\"Chania\",\"Chania\",\"Chania\",\"Chania\",\"Chania\",\"Chania\",\"Chania\",\"Chania\",\"Chania\",\"Chania\",\"Chania\",\"Chania\",\"Chania\",\"Chania\",\"Chania\",\"Chania\",\"Chania\",\"Chania\",\"Chania\",\"Chania\",\"Chania\",\"Chania\",\"Chania\",\"Chania\",\"Chania\",\"Chania\",\"Chania\",\"Chania\",\"Chania\",\"Chania\",\"Chania\",\"Chania\",\"Chania\",\"Chania\",\"Chania\",\"Chania\",\"Chania\",\"Chania\",\"Chania\",\"Chania\",\"Chania\",\"Chania\",\"Chania\",\"Chania\",\"Chania\",\"Chania\",\"Chania\",\"Chania\",\"Chania\",\"Chania\",\"Chania\",\"Chania\",\"Chania\",\"Chania\",\"Chania\",\"Chania\",\"Chania\",\"Chania\",\"Chania\",\"Chania\",\"Chania\",\"Chania\",\"Chania\",\"Chania\",\"Chania\",\"Chania\",\"Chania\",\"Chania\",\"Chania\",\"Chania\",\"Chania\",\"Chania\",\"Chania\",\"Chania\",\"Chania\",\"Chania\",\"Chania\",\"Chania\",\"Chania\",\"Chania\",\"Chania\",\"Chania\",\"Chania\",\"Chania\",\"Chania\",\"Chania\",\"Chania\",\"Chania\",\"Chania\",\"Chania\",\"Chania\",\"Chania\",\"Chania\",\"Chania\",\"Chania\",\"Chania\",\"Chania\",\"Chania\",\"Chania\",\"Chania\",\"Chania\",\"Chania\",\"Chania\",\"Chania\",\"Chania\",\"Chania\",\"Chania\",\"Chania\",\"Chania\",\"Chania\",\"Chania\",\"Chania\",\"Chania\",\"Chania\",\"Chania\",\"Chania\",\"Chania\",\"Chania\",\"Chania\",\"Chania\",\"Chania\",\"Chania\",\"Chania\",\"Chania\",\"Chania\",\"Chania\",\"Chania\",\"Chania\",\"Chania\",\"Chania\",\"Chania\",\"Chania\",\"Chania\",\"Chania\",\"Chania\",\"Chania\",\"Chania\",\"Chania\",\"Chania\",\"Chania\",\"Chania\",\"Chania\",\"Chania\",\"Chania\",\"Chania\",\"Chania\",\"Chania\",\"Chania\",\"Chania\",\"Chania\",\"Chania\",\"Chania\",\"Chania\",\"Chania\",\"Chania\",\"Chania\",\"Chania\",\"Chania\",\"Chania\",\"Chania\",\"Chania\",\"Chania\",\"Chania\",\"Chania\",\"Chania\",\"Chania\",\"Chania\",\"Chania\",\"Chania\",\"Chania\",\"Chania\",\"Chania\",\"Chania\",\"Chania\",\"Chania\",\"Chania\",\"Chania\",\"Chania\",\"Chania\",\"Chania\",\"Chania\",\"Chania\",\"Chania\",\"Chania\",\"Chania\",\"Chania\",\"Chania\",\"Chania\",\"Chania\",\"Chania\",\"Chania\",\"Chania\",\"Chania\",\"Chania\",\"Chania\",\"Chania\",\"Chania\",\"Chania\",\"Chania\",\"Chania\",\"Chania\",\"Chania\",\"Chania\",\"Chania\",\"Chania\",\"Chania\",\"Chania\",\"Chania\",\"Chania\",\"Chania\",\"Chania\",\"Chania\",\"Chania\",\"Chania\",\"Chania\",\"Chania\",\"Chania\",\"Chania\",\"Chania\",\"Chania\",\"Chania\",\"Chania\",\"Chania\",\"Chania\",\"Chania\",\"Chania\",\"Chania\",\"Chania\",\"Chania\",\"Chania\",\"Chania\",\"Chania\",\"Chania\",\"Chania\",\"Chania\",\"Chania\",\"Chania\",\"Chania\",\"Chania\",\"Chania\",\"Chania\",\"Chania\",\"Chania\",\"Chania\",\"Chania\",\"Chania\",\"Chania\",\"Chania\",\"Chania\",\"Chania\",\"Chania\",\"Chania\",\"Chania\",\"Chania\",\"Chania\",\"Chania\",\"Chania\",\"Chania\",\"Chania\",\"Chania\",\"Chania\",\"Chania\",\"Chania\",\"Chania\",\"Chania\",\"Chania\",\"Chania\",\"Chania\",\"Chania\",\"Chania\",\"Chania\",\"Chania\",\"Chania\",\"Chania\",\"Chania\",\"Chania\",\"Chania\",\"Chania\",\"Chania\",\"Chania\",\"Chania\",\"Chania\",\"Chania\",\"Chania\",\"Chania\",\"Chania\",\"Chania\",\"Chania\",\"Chania\",\"Chania\",\"Chania\",\"Chania\",\"Chania\",\"Chania\",\"Chania\",\"Chania\",\"Chania\",\"Chania\",\"Chania\",\"Chania\",\"Chania\",\"Chania\",\"Chania\",\"Chania\",\"Chania\",\"Chania\",\"Chania\",\"Chania\",\"Chania\",\"Chania\",\"Chania\",\"Chania\",\"Chania\",\"Chania\",\"Chania\",\"Chania\",\"Chania\",\"Chania\",\"Chania\",\"Chania\",\"Chania\",\"Chania\",\"Chania\",\"Chania\",\"Chania\",\"Chania\",\"Chania\",\"Chania\",\"Chania\",\"Chania\",\"Chania\",\"Chania\",\"Chania\",\"Chania\",\"Chania\",\"Chania\",\"Chania\",\"Chania\",\"Chania\",\"Chania\",\"Chania\",\"Chania\",\"Chania\",\"Chania\",\"Chania\",\"Chania\",\"Chania\",\"Chania\",\"Chania\",\"Chania\",\"Chania\",\"Chania\",\"Chania\",\"Chania\",\"Chania\",\"Chania\",\"Chania\",\"Chania\",\"Chania\",\"Chania\",\"Chania\",\"Chania\",\"Chania\",\"Chania\",\"Chania\",\"Chania\",\"Chania\",\"Chania\",\"Chania\",\"Chania\",\"Chania\",\"Chania\",\"Chania\",\"Chania\",\"Chania\",\"Chania\",\"Chania\",\"Chania\",\"Chania\",\"Chania\",\"Chania\",\"Chania\",\"Chania\",\"Chania\",\"Chania\",\"Chania\",\"Chania\",\"Chania\",\"Chania\",\"Chania\",\"Chania\",\"Chania\",\"Chania\",\"Chania\",\"Chania\",\"Chania\",\"Chania\",\"Chania\",\"Chania\",\"Chania\",\"Chania\",\"Chania\",\"Chania\",\"Chania\",\"Chania\",\"Chania\",\"Chania\",\"Chania\",\"Chania\",\"Chania\",\"Chania\",\"Chania\",\"Chania\",\"Chania\",\"Chania\",\"Chania\",\"Chania\",\"Chania\",\"Chania\",\"Chania\",\"Chania\",\"Chania\",\"Chania\",\"Chania\",\"Chania\",\"Chania\",\"Chania\",\"Chania\",\"Chania\",\"Chania\",\"Chania\",\"Chania\",\"Chania\",\"Chania\",\"Chania\",\"Chania\",\"Chania\",\"Chania\",\"Chania\",\"Chania\",\"Chania\",\"Chania\",\"Chania\",\"Chania\",\"Chania\",\"Chania\",\"Chania\",\"Chania\",\"Chania\",\"Chania\",\"Chania\",\"Chania\",\"Chania\",\"Chania\",\"Chania\",\"Chania\",\"Chania\",\"Chania\",\"Chania\",\"Chania\",\"Chania\",\"Chania\",\"Chania\",\"Chania\",\"Chania\",\"Chania\",\"Chania\",\"Chania\",\"Chania\",\"Chania\",\"Chania\",\"Chania\",\"Chania\",\"Chania\",\"Chania\",\"Chania\",\"Chania\",\"Chania\",\"Chania\",\"Chania\",\"Chania\",\"Chania\",\"Chania\",\"Chania\",\"Chania\",\"Chania\",\"Chania\",\"Chania\",\"Chania\",\"Chania\",\"Chania\",\"Chania\",\"Chania\",\"Chania\",\"Chania\",\"Chania\",\"Chania\",\"Chania\",\"Chania\",\"Chania\",\"Chania\",\"Chania\",\"Chania\",\"Chania\",\"Chania\",\"Chania\",\"Chania\",\"Chania\",\"Chania\",\"Chania\",\"Chania\",\"Chania\",\"Chania\",\"Chania\",\"Chania\",\"Chania\",\"Chania\",\"Chania\",\"Chania\",\"Chania\",\"Chania\",\"Chania\",\"Chania\",\"Chania\",\"Chania\",\"Chania\",\"Chania\",\"Chania\",\"Chania\",\"Chania\",\"Chania\",\"Chania\",\"Chania\",\"Chania\",\"Chania\",\"Chania\",\"Chania\",\"Chania\",\"Chania\",\"Chania\",\"Chania\",\"Chania\",\"Chania\",\"Chania\",\"Chania\",\"Chania\",\"Chania\",\"Chania\",\"Chania\",\"Chania\",\"Chania\",\"Chania\",\"Chania\",\"Chania\",\"Chania\",\"Chania\",\"Chania\",\"Chania\",\"Chania\",\"Chania\",\"Chania\",\"Chania\",\"Chania\",\"Chania\",\"Chania\",\"Chania\",\"Chania\",\"Chania\",\"Chania\",\"Chania\",\"Chania\",\"Chania\",\"Chania\",\"Chania\",\"Chania\",\"Chania\",\"Chania\",\"Chania\",\"Chania\",\"Chania\",\"Chania\",\"Chania\",\"Chania\",\"Chania\",\"Chania\",\"Chania\",\"Chania\",\"Chania\",\"Chania\",\"Chania\",\"Chania\",\"Chania\",\"Chania\",\"Chania\",\"Chania\",\"Chania\",\"Chania\",\"Chania\",\"Chania\",\"Chania\",\"Chania\",\"Chania\",\"Chania\",\"Chania\",\"Chania\",\"Chania\",\"Chania\",\"Chania\",\"Chania\",\"Chania\",\"Chania\",\"Chania\",\"Chania\",\"Chania\",\"Chania\",\"Chania\",\"Chania\",\"Chania\",\"Chania\",\"Chania\",\"Chania\",\"Chania\",\"Chania\",\"Chania\",\"Chania\",\"Chania\",\"Chania\",\"Chania\",\"Chania\",\"Chania\",\"Chania\",\"Chania\",\"Chania\",\"Chania\",\"Chania\",\"Chania\",\"Chania\",\"Chania\",\"Chania\",\"Chania\",\"Chania\",\"Chania\",\"Chania\",\"Chania\",\"Chania\",\"Chania\",\"Chania\",\"Chania\",\"Chania\",\"Chania\",\"Chania\",\"Chania\",\"Chania\",\"Chania\",\"Chania\",\"Chania\",\"Chania\",\"Chania\",\"Chania\",\"Chania\",\"Chania\",\"Chania\",\"Chania\",\"Chania\",\"Chania\",\"Chania\",\"Chania\",\"Chania\",\"Chania\",\"Chania\",\"Chania\",\"Chania\",\"Chania\",\"Chania\",\"Chania\",\"Chania\",\"Chania\",\"Chania\",\"Chania\",\"Chania\",\"Chania\",\"Chania\",\"Chania\",\"Chania\",\"Chania\",\"Chania\",\"Chania\",\"Chania\",\"Chania\",\"Chania\",\"Chania\",\"Chania\",\"Chania\",\"Chania\",\"Chania\",\"Chania\",\"Chania\",\"Chania\",\"Chania\",\"Chania\",\"Chania\",\"Chania\",\"Chania\",\"Chania\",\"Chania\",\"Chania\",\"Chania\",\"Chania\",\"Chania\",\"Chania\",\"Chania\",\"Chania\",\"Chania\",\"Chania\",\"Chania\",\"Chania\",\"Chania\",\"Chania\",\"Chania\",\"Chania\",\"Chania\",\"Chania\",\"Chania\",\"Chania\",\"Chania\",\"Chania\",\"Chania\",\"Chania\",\"Chania\",\"Chania\",\"Chania\",\"Chania\",\"Chania\",\"Chania\",\"Chania\",\"Chania\",\"Chania\",\"Chania\",\"Chania\",\"Chania\",\"Chania\",\"Chania\",\"Chania\",\"Chania\",\"Chania\",\"Chania\",\"Chania\",\"Chania\",\"Chania\",\"Chania\",\"Chania\",\"Chania\",\"Chania\",\"Chania\",\"Chania\",\"Chania\",\"Chania\",\"Chania\",\"Chania\",\"Chania\",\"Chania\",\"Chania\",\"Chania\",\"Chania\",\"Chania\",\"Chania\",\"Chania\",\"Chania\",\"Chania\",\"Chania\",\"Chania\",\"Chania\",\"Chania\",\"Chania\",\"Chania\",\"Chania\",\"Chania\",\"Chania\",\"Chania\",\"Chania\",\"Chania\",\"Chania\",\"Chania\",\"Chania\",\"Chania\",\"Chania\",\"Chania\",\"Chania\",\"Chania\",\"Chania\",\"Chania\",\"Chania\",\"Chania\",\"Chania\",\"Chania\",\"Chania\",\"Chania\",\"Chania\",\"Chania\",\"Chania\",\"Chania\",\"Chania\",\"Chania\",\"Chania\",\"Chania\",\"Chania\",\"Chania\",\"Chania\",\"Chania\",\"Chania\",\"Chania\",\"Chania\",\"Chania\",\"Chania\",\"Chania\",\"Chania\",\"Chania\",\"Chania\",\"Chania\",\"Chania\",\"Chania\",\"Chania\",\"Chania\",\"Chania\",\"Chania\",\"Chania\",\"Chania\",\"Chania\",\"Chania\",\"Chania\",\"Chania\",\"Chania\",\"Chania\",\"Chania\",\"Chania\",\"Chania\",\"Chania\",\"Chania\",\"Chania\",\"Chania\",\"Chania\",\"Chania\",\"Chania\",\"Chania\",\"Chania\",\"Chania\",\"Chania\",\"Chania\",\"Chania\",\"Chania\",\"Chania\",\"Chania\",\"Chania\",\"Chania\",\"Chania\",\"Chania\",\"Chania\",\"Chania\",\"Chania\",\"Chania\",\"Chania\",\"Chania\",\"Chania\",\"Chania\",\"Chania\",\"Chania\",\"Chania\",\"Chania\",\"Chania\",\"Chania\",\"Chania\",\"Chania\",\"Chania\",\"Chania\",\"Chania\",\"Chania\",\"Chania\",\"Chania\",\"Chania\",\"Chania\",\"Chania\",\"Chania\",\"Chania\",\"Chania\",\"Chania\",\"Chania\",\"Chania\",\"Chania\",\"Chania\",\"Chania\",\"Chania\",\"Chania\",\"Chania\",\"Chania\",\"Chania\",\"Chania\",\"Chania\",\"Chania\",\"Chania\",\"Chania\",\"Chania\",\"Chania\",\"Chania\",\"Chania\",\"Chania\",\"Chania\",\"Chania\",\"Chania\",\"Chania\",\"Chania\",\"Chania\",\"Chania\",\"Chania\",\"Chania\",\"Chania\",\"Chania\",\"Chania\",\"Chania\",\"Chania\",\"Chania\",\"Chania\",\"Chania\",\"Chania\",\"Chania\",\"Chania\",\"Chania\",\"Chania\",\"Chania\",\"Chania\",\"Chania\",\"Chania\",\"Chania\",\"Chania\",\"Chania\",\"Chania\",\"Chania\",\"Chania\",\"Chania\",\"Chania\",\"Chania\",\"Chania\",\"Chania\",\"Chania\",\"Chania\",\"Chania\",\"Chania\",\"Chania\",\"Chania\",\"Chania\",\"Chania\",\"Chania\",\"Chania\",\"Chania\",\"Chania\",\"Chania\",\"Chania\",\"Chania\",\"Chania\",\"Chania\",\"Chania\",\"Chania\",\"Chania\",\"Chania\",\"Chania\",\"Chania\",\"Chania\",\"Chania\",\"Chania\",\"Chania\",\"Chania\",\"Chania\",\"Chania\",\"Chania\",\"Chania\",\"Chania\",\"Chania\",\"Chania\",\"Chania\",\"Chania\",\"Chania\",\"Chania\",\"Chania\",\"Chania\",\"Chania\",\"Chania\",\"Chania\",\"Chania\",\"Chania\",\"Chania\",\"Chania\",\"Chania\",\"Chania\",\"Chania\",\"Chania\",\"Chania\",\"Chania\",\"Chania\",\"Chania\",\"Chania\",\"Chania\",\"Chania\",\"Chania\",\"Chania\",\"Chania\",\"Chania\",\"Chania\",\"Chania\",\"Chania\",\"Chania\",\"Chania\",\"Chania\",\"Chania\",\"Chania\",\"Chania\",\"Chania\",\"Chania\",\"Chania\",\"Chania\",\"Chania\",\"Chania\",\"Chania\",\"Chania\",\"Chania\",\"Chania\",\"Chania\",\"Chania\",\"Chania\",\"Chania\",\"Chania\",\"Chania\",\"Chania\",\"Chania\",\"Chania\",\"Chania\",\"Chania\",\"Chania\",\"Chania\",\"Chania\",\"Chania\",\"Chania\",\"Chania\",\"Chania\",\"Chania\",\"Chania\",\"Chania\",\"Chania\",\"Chania\",\"Chania\",\"Chania\",\"Chania\",\"Chania\",\"Chania\",\"Chania\",\"Chania\",\"Chania\",\"Chania\",\"Chania\",\"Chania\",\"Chania\",\"Chania\",\"Chania\",\"Chania\",\"Chania\",\"Chania\",\"Chania\",\"Chania\",\"Chania\",\"Chania\",\"Chania\",\"Chania\",\"Chania\",\"Chania\",\"Chania\",\"Chania\",\"Chania\",\"Chania\",\"Chania\",\"Chania\",\"Chania\",\"Chania\",\"Chania\",\"Chania\",\"Chania\",\"Chania\",\"Chania\",\"Chania\",\"Chania\",\"Chania\",\"Chania\",\"Chania\",\"Chania\",\"Chania\",\"Chania\",\"Chania\",\"Chania\",\"Chania\",\"Chania\",\"Chania\",\"Chania\",\"Chania\",\"Chania\",\"Chania\",\"Chania\",\"Chania\",\"Chania\",\"Chania\",\"Chania\",\"Chania\",\"Chania\",\"Chania\",\"Chania\",\"Chania\",\"Chania\",\"Chania\",\"Chania\",\"Chania\",\"Chania\",\"Chania\",\"Chania\",\"Chania\",\"Chania\",\"Chania\",\"Chania\",\"Chania\",\"Chania\",\"Chania\",\"Chania\",\"Chania\",\"Chania\",\"Chania\",\"Chania\",\"Chania\",\"Chania\",\"Chania\",\"Chania\",\"Chania\",\"Chania\",\"Chania\",\"Chania\",\"Chania\",\"Chania\",\"Chania\",\"Chania\",\"Chania\",\"Chania\",\"Chania\",\"Chania\",\"Chania\",\"Chania\",\"Chania\",\"Chania\",\"Chania\",\"Chania\",\"Chania\",\"Chania\",\"Chania\",\"Chania\",\"Chania\",\"Chania\",\"Chania\",\"Chania\",\"Chania\",\"Chania\",\"Chania\",\"Chania\",\"Chania\",\"Chania\",\"Chania\",\"Chania\",\"Chania\",\"Chania\",\"Chania\",\"Chania\",\"Chania\",\"Chania\",\"Chania\",\"Chania\",\"Chania\",\"Chania\",\"Chania\",\"Chania\",\"Chania\",\"Chania\",\"Chania\",\"Chania\",\"Chania\",\"Chania\",\"Chania\",\"Chania\",\"Chania\",\"Chania\",\"Chania\",\"Chania\",\"Chania\",\"Chania\",\"Chania\",\"Chania\",\"Chania\",\"Chania\",\"Chania\",\"Chania\",\"Chania\",\"Chania\",\"Chania\",\"Chania\",\"Chania\",\"Chania\",\"Chania\",\"Chania\",\"Chania\",\"Chania\",\"Chania\",\"Chania\",\"Chania\",\"Chania\",\"Chania\",\"Chania\",\"Chania\",\"Chania\",\"Chania\",\"Chania\",\"Chania\",\"Chania\",\"Chania\",\"Chania\",\"Chania\",\"Chania\",\"Chania\",\"Chania\",\"Chania\",\"Chania\",\"Chania\",\"Chania\",\"Chania\",\"Chania\",\"Chania\",\"Chania\",\"Chania\",\"Chania\",\"Chania\",\"Chania\",\"Chania\",\"Chania\",\"Chania\",\"Chania\",\"Chania\",\"Chania\",\"Chania\",\"Chania\",\"Chania\",\"Chania\",\"Chania\",\"Chania\",\"Chania\",\"Chania\",\"Chania\",\"Chania\",\"Chania\",\"Chania\",\"Chania\",\"Chania\",\"Chania\",\"Chania\",\"Chania\",\"Chania\",\"Chania\",\"Chania\",\"Chania\",\"Chania\",\"Chania\",\"Chania\",\"Chania\",\"Chania\",\"Chania\",\"Chania\",\"Chania\",\"Chania\",\"Chania\",\"Chania\",\"Chania\",\"Chania\",\"Chania\",\"Chania\",\"Chania\",\"Chania\",\"Chania\",\"Chania\",\"Chania\",\"Chania\",\"Chania\",\"Chania\",\"Chania\",\"Chania\",\"Chania\",\"Chania\",\"Chania\",\"Chania\",\"Chania\",\"Chania\",\"Chania\",\"Chania\",\"Chania\",\"Chania\",\"Chania\",\"Chania\",\"Chania\",\"Chania\",\"Chania\",\"Chania\",\"Chania\",\"Chania\",\"Chania\",\"Chania\",\"Chania\",\"Chania\",\"Chania\",\"Chania\",\"Chania\",\"Chania\",\"Chania\",\"Chania\",\"Chania\",\"Chania\",\"Chania\",\"Chania\",\"Chania\",\"Chania\",\"Chania\",\"Chania\",\"Chania\",\"Chania\",\"Chania\",\"Chania\",\"Chania\",\"Chania\",\"Chania\",\"Chania\",\"Chania\",\"Chania\",\"Chania\",\"Chania\",\"Chania\",\"Chania\",\"Chania\",\"Chania\",\"Chania\",\"Chania\",\"Chania\",\"Chania\",\"Chania\",\"Chania\",\"Chania\",\"Chania\",\"Chania\",\"Chania\",\"Chania\",\"Chania\",\"Chania\",\"Chania\",\"Chania\",\"Chania\",\"Chania\",\"Chania\",\"Chania\",\"Chania\",\"Chania\",\"Chania\",\"Chania\",\"Chania\",\"Chania\",\"Chania\",\"Chania\",\"Chania\",\"Chania\",\"Chania\",\"Chania\",\"Chania\",\"Chania\",\"Chania\",\"Chania\",\"Chania\",\"Chania\",\"Chania\",\"Chania\",\"Chania\",\"Chania\",\"Chania\",\"Chania\",\"Chania\",\"Chania\",\"Chania\",\"Chania\",\"Chania\",\"Chania\",\"Chania\",\"Chania\",\"Chania\",\"Chania\",\"Chania\",\"Chania\",\"Chania\",\"Chania\",\"Chania\",\"Chania\",\"Chania\",\"Chania\",\"Chania\",\"Chania\",\"Chania\",\"Chania\",\"Chania\",\"Chania\",\"Chania\",\"Chania\",\"Chania\",\"Chania\",\"Chania\",\"Chania\",\"Chania\",\"Chania\",\"Chania\",\"Chania\",\"Chania\",\"Chania\",\"Chania\",\"Chania\",\"Chania\",\"Chania\",\"Chania\",\"Chania\",\"Chania\",\"Chania\",\"Chania\",\"Chania\",\"Chania\",\"Chania\",\"Chania\",\"Chania\",\"Chania\",\"Chania\",\"Chania\",\"Chania\",\"Chania\",\"Chania\",\"Chania\",\"Chania\",\"Chania\",\"Chania\",\"Chania\",\"Chania\",\"Chania\",\"Chania\",\"Chania\",\"Chania\",\"Chania\",\"Chania\",\"Chania\",\"Chania\",\"Chania\",\"Chania\",\"Chania\",\"Chania\",\"Chania\",\"Chania\",\"Chania\",\"Chania\",\"Chania\",\"Chania\",\"Chania\",\"Chania\",\"Chania\",\"Chania\",\"Chania\",\"Chania\",\"Chania\",\"Chania\",\"Chania\",\"Chania\",\"Chania\",\"Chania\",\"Chania\",\"Chania\",\"Chania\",\"Chania\",\"Chania\",\"Chania\",\"Chania\",\"Chania\",\"Chania\",\"Chania\",\"Chania\",\"Chania\",\"Chania\",\"Chania\",\"Chania\",\"Chania\",\"Chania\",\"Chania\",\"Chania\",\"Chania\",\"Chania\",\"Chania\",\"Chania\",\"Chania\",\"Chania\",\"Chania\",\"Chania\",\"Chania\",\"Chania\",\"Chania\",\"Chania\",\"Chania\",\"Chania\",\"Chania\",\"Chania\",\"Chania\",\"Chania\",\"Chania\",\"Chania\",\"Chania\",\"Chania\",\"Chania\",\"Chania\",\"Chania\",\"Chania\",\"Chania\",\"Chania\",\"Chania\",\"Chania\",\"Chania\",\"Chania\",\"Chania\",\"Chania\",\"Chania\",\"Chania\",\"Chania\",\"Chania\",\"Chania\",\"Chania\",\"Chania\",\"Chania\",\"Chania\",\"Chania\",\"Chania\",\"Chania\",\"Chania\",\"Chania\",\"Chania\",\"Chania\",\"Chania\",\"Chania\",\"Chania\",\"Chania\",\"Chania\",\"Chania\",\"Chania\",\"Chania\",\"Chania\",\"Chania\",\"Chania\",\"Chania\",\"Chania\",\"Chania\",\"Chania\",\"Chania\",\"Chania\",\"Chania\",\"Chania\",\"Chania\",\"Chania\",\"Chania\",\"Chania\",\"Chania\",\"Chania\",\"Chania\",\"Chania\",\"Chania\",\"Chania\",\"Chania\",\"Chania\",\"Chania\",\"Chania\",\"Chania\",\"Chania\",\"Chania\",\"Chania\",\"Chania\",\"Chania\",\"Chania\",\"Chania\",\"Chania\",\"Chania\",\"Chania\",\"Chania\",\"Chania\",\"Chania\",\"Chania\",\"Chania\",\"Chania\",\"Chania\",\"Chania\",\"Chania\",\"Chania\",\"Chania\",\"Chania\",\"Chania\",\"Chania\",\"Chania\",\"Chania\",\"Chania\",\"Chania\",\"Chania\",\"Chania\",\"Chania\",\"Chania\",\"Chania\",\"Chania\",\"Chania\",\"Chania\",\"Chania\",\"Chania\",\"Chania\",\"Chania\",\"Chania\",\"Chania\",\"Chania\",\"Chania\",\"Chania\",\"Chania\",\"Chania\",\"Chania\",\"Chania\",\"Chania\",\"Chania\",\"Chania\",\"Chania\",\"Chania\",\"Chania\",\"Chania\",\"Chania\",\"Chania\",\"Chania\",\"Chania\",\"Chania\",\"Chania\",\"Chania\",\"Chania\",\"Chania\",\"Chania\",\"Chania\",\"Chania\",\"Chania\",\"Chania\",\"Chania\",\"Chania\",\"Chania\",\"Chania\",\"Chania\",\"Chania\",\"Chania\",\"Chania\",\"Chania\",\"Chania\",\"Chania\",\"Chania\",\"Chania\",\"Chania\",\"Chania\",\"Chania\",\"Chania\",\"Chania\",\"Chania\",\"Chania\",\"Chania\",\"Chania\",\"Chania\",\"Chania\",\"Chania\",\"Chania\",\"Chania\",\"Chania\",\"Chania\",\"Chania\",\"Chania\",\"Chania\",\"Chania\",\"Chania\",\"Chania\",\"Chania\",\"Chania\",\"Chania\",\"Chania\",\"Chania\",\"Chania\",\"Chania\",\"Chania\",\"Chania\",\"Chania\",\"Chania\",\"Chania\",\"Chania\",\"Chania\",\"Chania\",\"Chania\",\"Chania\",\"Chania\",\"Chania\",\"Chania\",\"Chania\",\"Chania\",\"Chania\",\"Chania\",\"Chania\",\"Chania\",\"Chania\",\"Chania\",\"Chania\",\"Chania\",\"Chania\",\"Chania\",\"Chania\",\"Chania\",\"Chania\",\"Chania\",\"Chania\",\"Chania\",\"Chania\",\"Chania\",\"Chania\",\"Chania\",\"Chania\",\"Chania\",\"Chania\",\"Chania\",\"Chania\",\"Chania\",\"Chania\",\"Chania\",\"Chania\",\"Chania\",\"Chania\",\"Chania\",\"Chania\",\"Chania\",\"Chania\",\"Chania\",\"Chania\",\"Chania\",\"Chania\",\"Chania\",\"Chania\",\"Chania\",\"Chania\",\"Chania\",\"Chania\",\"Chania\",\"Chania\",\"Chania\",\"Chania\",\"Chania\",\"Chania\",\"Chania\",\"Chania\",\"Chania\",\"Chania\",\"Chania\",\"Chania\",\"Chania\",\"Chania\",\"Chania\",\"Chania\",\"Chania\",\"Chania\",\"Chania\",\"Chania\",\"Chania\",\"Chania\",\"Chania\",\"Chania\",\"Chania\",\"Chania\",\"Chania\",\"Chania\",\"Chania\",\"Chania\",\"Chania\",\"Chania\",\"Chania\",\"Chania\",\"Chania\",\"Chania\",\"Chania\",\"Chania\",\"Chania\",\"Chania\",\"Chania\",\"Chania\",\"Chania\",\"Chania\",\"Chania\",\"Chania\",\"Chania\",\"Chania\",\"Chania\",\"Chania\",\"Chania\",\"Chania\",\"Chania\",\"Chania\",\"Chania\",\"Chania\",\"Chania\",\"Chania\",\"Chania\",\"Chania\",\"Chania\",\"Chania\",\"Chania\",\"Chania\",\"Chania\",\"Chania\",\"Chania\",\"Chania\",\"Chania\",\"Chania\",\"Chania\",\"Chania\",\"Chania\",\"Chania\",\"Chania\",\"Chania\",\"Chania\",\"Chania\",\"Chania\",\"Chania\",\"Chania\",\"Chania\",\"Chania\",\"Chania\",\"Chania\",\"Chania\",\"Chania\",\"Chania\",\"Chania\",\"Chania\",\"Chania\",\"Chania\",\"Chania\",\"Chania\",\"Chania\",\"Chania\",\"Chania\",\"Chania\",\"Chania\",\"Chania\",\"Chania\",\"Chania\",\"Chania\",\"Chania\",\"Chania\",\"Chania\",\"Chania\",\"Chania\",\"Chania\",\"Chania\",\"Chania\",\"Chania\",\"Chania\",\"Chania\",\"Chania\",\"Chania\",\"Chania\",\"Chania\",\"Chania\",\"Chania\",\"Chania\",\"Chania\",\"Chania\",\"Chania\",\"Chania\",\"Chania\",\"Chania\",\"Chania\",\"Chania\",\"Chania\",\"Chania\",\"Chania\",\"Chania\",\"Chania\",\"Chania\",\"Chania\",\"Chania\",\"Chania\",\"Chania\",\"Chania\",\"Chania\",\"Chania\",\"Chania\",\"Chania\",\"Chania\",\"Chania\",\"Chania\",\"Chania\",\"Chania\",\"Chania\",\"Chania\",\"Chania\",\"Chania\",\"Chania\",\"Chania\",\"Chania\",\"Chania\",\"Chania\",\"Chania\",\"Chania\",\"Chania\",\"Chania\",\"Chania\",\"Chania\",\"Chania\",\"Chania\",\"Chania\",\"Chania\",\"Chania\",\"Chania\",\"Chania\",\"Chania\",\"Chania\",\"Chania\",\"Chania\",\"Chania\",\"Chania\",\"Chania\",\"Chania\",\"Chania\",\"Chania\",\"Chania\",\"Chania\",\"Chania\",\"Chania\",\"Chania\",\"Chania\",\"Chania\",\"Chania\",\"Chania\",\"Chania\",\"Chania\",\"Chania\",\"Chania\",\"Chania\",\"Chania\",\"Chania\",\"Chania\",\"Chania\",\"Chania\",\"Chania\",\"Chania\",\"Chania\",\"Chania\",\"Chania\",\"Chania\",\"Chania\",\"Chania\",\"Chania\",\"Chania\",\"Chania\",\"Chania\",\"Chania\",\"Chania\",\"Chania\",\"Chania\",\"Chania\",\"Chania\",\"Chania\",\"Chania\",\"Chania\",\"Chania\",\"Chania\",\"Chania\",\"Chania\",\"Chania\",\"Chania\",\"Chania\",\"Chania\",\"Chania\",\"Chania\",\"Chania\",\"Chania\",\"Chania\",\"Chania\",\"Chania\",\"Chania\",\"Chania\",\"Chania\",\"Chania\",\"Chania\",\"Chania\",\"Chania\",\"Chania\",\"Chania\",\"Chania\",\"Chania\",\"Chania\",\"Chania\",\"Chania\",\"Chania\",\"Chania\",\"Chania\",\"Chania\",\"Chania\",\"Chania\",\"Chania\",\"Chania\",\"Chania\",\"Chania\",\"Chania\",\"Chania\",\"Chania\",\"Chania\",\"Chania\",\"Chania\",\"Chania\",\"Chania\",\"Chania\",\"Chania\",\"Chania\",\"Chania\",\"Chania\",\"Chania\",\"Chania\",\"Chania\",\"Chania\",\"Chania\",\"Chania\",\"Chania\",\"Chania\",\"Chania\",\"Chania\",\"Chania\",\"Chania\",\"Chania\",\"Chania\",\"Chania\",\"Chania\",\"Chania\",\"Chania\",\"Chania\",\"Chania\",\"Chania\",\"Chania\",\"Chania\",\"Chania\",\"Chania\",\"Chania\",\"Chania\",\"Chania\",\"Chania\",\"Chania\",\"Chania\",\"Chania\",\"Chania\",\"Chania\",\"Chania\",\"Chania\",\"Chania\",\"Chania\",\"Chania\",\"Chania\",\"Chania\",\"Chania\",\"Chania\",\"Chania\",\"Chania\",\"Chania\",\"Chania\",\"Chania\",\"Chania\",\"Chania\",\"Chania\",\"Chania\",\"Chania\",\"Chania\",\"Chania\",\"Chania\",\"Chania\",\"Chania\",\"Chania\",\"Chania\",\"Chania\",\"Chania\",\"Chania\",\"Chania\",\"Chania\",\"Chania\",\"Chania\",\"Chania\",\"Chania\",\"Chania\",\"Chania\",\"Chania\",\"Chania\",\"Chania\",\"Chania\",\"Chania\",\"Chania\",\"Chania\",\"Chania\",\"Chania\",\"Chania\",\"Chania\",\"Chania\",\"Chania\",\"Chania\",\"Chania\",\"Chania\",\"Chania\",\"Chania\",\"Chania\",\"Chania\",\"Chania\",\"Chania\",\"Chania\",\"Chania\",\"Chania\",\"Chania\",\"Chania\",\"Chania\",\"Chania\",\"Chania\",\"Chania\",\"Chania\",\"Chania\",\"Chania\",\"Chania\",\"Chania\",\"Chania\",\"Chania\",\"Chania\",\"Chania\",\"Chania\",\"Chania\",\"Chania\",\"Chania\",\"Chania\",\"Chania\",\"Chania\",\"Chania\",\"Chania\",\"Chania\",\"Chania\",\"Chania\",\"Chania\",\"Chania\",\"Chania\",\"Chania\",\"Chania\",\"Chania\",\"Chania\",\"Chania\",\"Chania\",\"Chania\",\"Chania\",\"Chania\",\"Chania\",\"Chania\",\"Chania\",\"Chania\",\"Chania\",\"Chania\",\"Chania\",\"Chania\",\"Chania\",\"Chania\",\"Chania\",\"Chania\",\"Chania\",\"Chania\",\"Chania\",\"Chania\",\"Chania\",\"Chania\",\"Chania\",\"Chania\",\"Chania\",\"Chania\",\"Chania\",\"Chania\",\"Chania\",\"Chania\",\"Chania\",\"Chania\",\"Chania\",\"Chania\",\"Chania\",\"Chania\",\"Chania\",\"Chania\",\"Chania\",\"Chania\",\"Chania\",\"Chania\",\"Chania\",\"Chania\",\"Chania\",\"Chania\",\"Chania\",\"Chania\",\"Chania\",\"Chania\",\"Chania\",\"Chania\",\"Chania\",\"Chania\",\"Chania\",\"Chania\",\"Chania\",\"Chania\",\"Chania\",\"Chania\",\"Chania\",\"Chania\",\"Chania\",\"Chania\",\"Chania\",\"Chania\",\"Chania\",\"Chania\",\"Chania\",\"Chania\",\"Chania\",\"Chania\",\"Chania\",\"Chania\",\"Chania\",\"Chania\",\"Chania\",\"Chania\",\"Chania\",\"Chania\",\"Chania\",\"Chania\",\"Chania\",\"Chania\",\"Chania\",\"Chania\",\"Chania\",\"Chania\",\"Chania\",\"Chania\",\"Chania\",\"Chania\",\"Chania\",\"Chania\",\"Chania\",\"Chania\",\"Chania\",\"Chania\",\"Chania\",\"Chania\",\"Chania\",\"Chania\",\"Chania\",\"Chania\",\"Chania\",\"Chania\",\"Chania\",\"Chania\",\"Chania\",\"Chania\",\"Chania\",\"Chania\",\"Chania\",\"Chania\",\"Chania\",\"Chania\",\"Chania\",\"Chania\",\"Chania\",\"Chania\",\"Chania\",\"Chania\",\"Chania\",\"Chania\",\"Chania\",\"Chania\",\"Chania\",\"Chania\",\"Chania\",\"Chania\",\"Chania\",\"Chania\",\"Chania\",\"Chania\",\"Chania\",\"Chania\",\"Chania\",\"Chania\",\"Chania\",\"Chania\",\"Chania\",\"Chania\",\"Chania\",\"Chania\",\"Chania\",\"Chania\",\"Chania\",\"Chania\",\"Chania\",\"Chania\",\"Chania\",\"Chania\",\"Chania\",\"Chania\",\"Chania\",\"Chania\",\"Chania\",\"Chania\",\"Chania\",\"Chania\",\"Chania\",\"Chania\",\"Chania\",\"Chania\",\"Chania\",\"Chania\",\"Chania\",\"Chania\",\"Chania\",\"Chania\",\"Chania\",\"Chania\",\"Chania\",\"Chania\",\"Chania\",\"Chania\",\"Chania\",\"Chania\",\"Chania\",\"Chania\",\"Chania\",\"Chania\",\"Chania\",\"Chania\",\"Chania\",\"Chania\",\"Chania\",\"Chania\",\"Chania\",\"Chania\",\"Chania\",\"Chania\",\"Chania\",\"Chania\",\"Chania\",\"Chania\",\"Chania\",\"Chania\",\"Chania\",\"Chania\",\"Chania\",\"Chania\",\"Chania\",\"Chania\",\"Chania\",\"Chania\",\"Chania\",\"Chania\",\"Chania\",\"Chania\",\"Chania\",\"Chania\",\"Chania\",\"Chania\",\"Chania\",\"Chania\",\"Chania\",\"Chania\",\"Chania\",\"Chania\",\"Chania\",\"Chania\",\"Chania\",\"Chania\",\"Chania\",\"Chania\",\"Chania\",\"Chania\",\"Chania\",\"Chania\",\"Chania\",\"Chania\",\"Chania\",\"Chania\",\"Chania\",\"Chania\",\"Chania\",\"Chania\",\"Chania\",\"Chania\",\"Chania\",\"Chania\",\"Chania\",\"Chania\",\"Chania\",\"Chania\",\"Chania\",\"Chania\",\"Chania\",\"Chania\",\"Chania\",\"Chania\",\"Chania\",\"Chania\",\"Chania\",\"Chania\",\"Chania\",\"Chania\",\"Chania\",\"Chania\",\"Chania\",\"Chania\",\"Chania\",\"Chania\",\"Chania\",\"Chania\",\"Chania\",\"Chania\",\"Chania\",\"Chania\",\"Chania\",\"Chania\",\"Chania\",\"Chania\",\"Chania\",\"Chania\",\"Chania\",\"Chania\",\"Chania\",\"Chania\",\"Chania\",\"Chania\",\"Chania\",\"Chania\",\"Chania\",\"Chania\",\"Chania\",\"Chania\",\"Chania\",\"Chania\",\"Chania\",\"Chania\",\"Chania\",\"Chania\",\"Chania\",\"Chania\",\"Chania\",\"Chania\",\"Chania\",\"Chania\",\"Chania\",\"Chania\",\"Chania\",\"Chania\",\"Chania\",\"Chania\",\"Chania\",\"Chania\",\"Chania\",\"Chania\",\"Chania\",\"Chania\",\"Chania\",\"Chania\",\"Chania\",\"Chania\",\"Chania\",\"Chania\",\"Chania\",\"Chania\",\"Chania\",\"Chania\",\"Chania\",\"Chania\",\"Chania\",\"Chania\",\"Chania\",\"Chania\",\"Chania\",\"Chania\",\"Chania\",\"Chania\",\"Chania\",\"Chania\",\"Chania\",\"Chania\",\"Chania\",\"Chania\",\"Chania\",\"Chania\",\"Chania\",\"Chania\",\"Chania\",\"Chania\",\"Chania\",\"Chania\",\"Chania\",\"Chania\",\"Chania\",\"Chania\",\"Chania\",\"Chania\",\"Chania\",\"Chania\",\"Chania\",\"Chania\",\"Chania\",\"Chania\",\"Chania\",\"Chania\",\"Chania\",\"Chania\",\"Chania\",\"Chania\",\"Chania\",\"Chania\",\"Chania\",\"Chania\",\"Chania\",\"Chania\",\"Chania\",\"Chania\",\"Chania\",\"Chania\",\"Chania\",\"Chania\",\"Chania\",\"Chania\",\"Chania\",\"Chania\",\"Chania\",\"Chania\",\"Chania\",\"Chania\",\"Chania\",\"Chania\",\"Chania\",\"Chania\",\"Chania\",\"Chania\",\"Chania\",\"Chania\",\"Chania\",\"Chania\",\"Chania\",\"Chania\",\"Chania\",\"Chania\",\"Chania\",\"Chania\",\"Chania\",\"Chania\",\"Chania\",\"Chania\",\"Chania\",\"Chania\",\"Chania\",\"Chania\",\"Chania\",\"Chania\",\"Chania\",\"Chania\",\"Chania\",\"Chania\",\"Chania\",\"Chania\",\"Chania\",\"Chania\",\"Chania\",\"Chania\",\"Chania\",\"Chania\",\"Chania\",\"Chania\",\"Chania\",\"Chania\",\"Chania\",\"Chania\",\"Chania\",\"Chania\",\"Chania\",\"Chania\",\"Chania\",\"Chania\",\"Chania\",\"Chania\",\"Chania\",\"Chania\",\"Chania\",\"Chania\",\"Chania\",\"Chania\",\"Chania\",\"Chania\",\"Chania\",\"Chania\",\"Chania\",\"Chania\",\"Chania\",\"Chania\",\"Chania\",\"Chania\",\"Chania\",\"Chania\",\"Chania\",\"Chania\",\"Chania\",\"Chania\",\"Chania\",\"Chania\",\"Chania\",\"Chania\",\"Chania\",\"Chania\",\"Chania\",\"Chania\",\"Chania\",\"Chania\",\"Chania\",\"Chania\",\"Chania\",\"Chania\",\"Chania\",\"Chania\",\"Chania\",\"Chania\",\"Chania\",\"Chania\",\"Chania\",\"Chania\",\"Chania\",\"Chania\",\"Chania\",\"Chania\",\"Chania\",\"Chania\",\"Chania\",\"Chania\",\"Chania\",\"Chania\",\"Chania\",\"Chania\",\"Chania\",\"Chania\",\"Chania\",\"Chania\",\"Chania\",\"Chania\",\"Chania\",\"Chania\",\"Chania\",\"Chania\",\"Chania\",\"Chania\",\"Chania\",\"Chania\",\"Chania\",\"Chania\",\"Chania\",\"Chania\",\"Chania\",\"Chania\",\"Chania\",\"Chania\",\"Chania\",\"Chania\",\"Chania\",\"Chania\",\"Chania\",\"Chania\",\"Chania\",\"Chania\",\"Chania\",\"Chania\",\"Chania\",\"Chania\",\"Chania\",\"Chania\",\"Chania\",\"Chania\",\"Chania\",\"Chania\",\"Chania\",\"Chania\",\"Chania\",\"Chania\",\"Chania\",\"Chania\",\"Chania\",\"Chania\",\"Chania\",\"Chania\",\"Chania\",\"Chania\",\"Chania\",\"Chania\",\"Chania\",\"Chania\",\"Chania\",\"Chania\",\"Chania\",\"Chania\",\"Chania\",\"Chania\",\"Chania\",\"Chania\",\"Chania\",\"Chania\",\"Chania\",\"Chania\",\"Chania\",\"Chania\",\"Chania\",\"Chania\",\"Chania\",\"Chania\",\"Chania\",\"Chania\",\"Chania\",\"Chania\",\"Chania\",\"Chania\",\"Chania\",\"Chania\",\"Chania\",\"Chania\",\"Chania\",\"Chania\",\"Chania\",\"Chania\",\"Chania\",\"Chania\",\"Chania\",\"Chania\",\"Chania\",\"Chania\",\"Chania\",\"Chania\",\"Chania\",\"Chania\",\"Chania\",\"Chania\",\"Chania\",\"Chania\",\"Chania\",\"Chania\",\"Chania\",\"Chania\",\"Chania\",\"Chania\",\"Chania\",\"Chania\",\"Chania\",\"Chania\",\"Chania\",\"Chania\",\"Chania\",\"Chania\",\"Chania\",\"Chania\",\"Chania\",\"Chania\",\"Chania\",\"Chania\",\"Chania\",\"Chania\",\"Chania\",\"Chania\",\"Chania\",\"Chania\",\"Chania\",\"Chania\",\"Chania\",\"Chania\",\"Chania\",\"Chania\",\"Chania\",\"Chania\",\"Chania\",\"Chania\",\"Chania\",\"Chania\",\"Chania\",\"Chania\",\"Chania\",\"Chania\",\"Chania\",\"Chania\",\"Chania\",\"Chania\",\"Chania\",\"Chania\",\"Chania\",\"Chania\",\"Chania\",\"Chania\",\"Chania\",\"Chania\",\"Chania\",\"Chania\",\"Chania\",\"Chania\",\"Chania\",\"Chania\",\"Chania\",\"Chania\",\"Chania\",\"Chania\",\"Chania\",\"Chania\",\"Chania\",\"Chania\",\"Chania\",\"Chania\",\"Chania\",\"Chania\",\"Chania\",\"Chania\",\"Chania\",\"Chania\",\"Chania\",\"Chania\",\"Chania\",\"Chania\",\"Chania\",\"Chania\",\"Chania\",\"Chania\",\"Chania\",\"Chania\",\"Chania\",\"Chania\",\"Chania\",\"Chania\",\"Chania\",\"Chania\",\"Chania\",\"Chania\",\"Chania\",\"Chania\",\"Chania\",\"Chania\",\"Chania\",\"Chania\",\"Chania\",\"Chania\",\"Chania\",\"Chania\",\"Chania\",\"Chania\",\"Chania\",\"Chania\",\"Chania\",\"Chania\",\"Chania\",\"Chania\",\"Chania\",\"Chania\",\"Chania\",\"Chania\",\"Chania\",\"Chania\",\"Chania\",\"Chania\",\"Chania\",\"Chania\",\"Chania\",\"Chania\",\"Chania\",\"Chania\",\"Chania\",\"Chania\",\"Chania\",\"Chania\",\"Chania\",\"Chania\",\"Chania\",\"Chania\",\"Chania\",\"Chania\",\"Chania\",\"Chania\",\"Chania\",\"Chania\",\"Chania\",\"Chania\",\"Chania\",\"Chania\",\"Chania\",\"Chania\",\"Chania\",\"Chania\",\"Chania\",\"Chania\",\"Chania\",\"Chania\",\"Chania\",\"Chania\",\"Chania\",\"Chania\",\"Chania\",\"Chania\",\"Chania\",\"Chania\",\"Chania\",\"Chania\",\"Chania\",\"Chania\",\"Chania\",\"Chania\",\"Chania\",\"Chania\",\"Chania\",\"Chania\",\"Chania\",\"Chania\",\"Chania\",\"Chania\",\"Chania\",\"Chania\",\"Chania\",\"Chania\",\"Chania\",\"Chania\",\"Chania\",\"Chania\",\"Chania\",\"Chania\",\"Chania\",\"Chania\",\"Chania\",\"Chania\",\"Chania\",\"Chania\",\"Chania\",\"Kissamos\",\"Kissamos\",\"Kissamos\",\"Kissamos\",\"Kissamos\",\"Kissamos\",\"Kissamos\",\"Kissamos\",\"Kissamos\",\"Kissamos\",\"Kissamos\",\"Kissamos\",\"Kissamos\",\"Kissamos\",\"Kissamos\",\"Kissamos\",\"Kissamos\",\"Kissamos\",\"Kissamos\",\"Kissamos\",\"Kissamos\",\"Kissamos\",\"Kissamos\",\"Kissamos\",\"Kissamos\",\"Kissamos\",\"Kissamos\",\"Kissamos\",\"Kissamos\",\"Kissamos\",\"Kissamos\",\"Kissamos\",\"Kissamos\",\"Kissamos\",\"Kissamos\",\"Kissamos\",\"Kissamos\",\"Kissamos\",\"Kissamos\",\"Kissamos\",\"Kissamos\",\"Kissamos\",\"Kissamos\",\"Kissamos\",\"Kissamos\",\"Kissamos\",\"Kissamos\",\"Kissamos\",\"Kissamos\",\"Kissamos\",\"Kissamos\",\"Kissamos\",\"Kissamos\",\"Kissamos\",\"Kissamos\",\"Kissamos\",\"Kissamos\",\"Kissamos\",\"Kissamos\",\"Kissamos\",\"Kissamos\",\"Kissamos\",\"Kissamos\",\"Kissamos\",\"Kissamos\",\"Kissamos\",\"Kissamos\",\"Kissamos\",\"Kissamos\",\"Kissamos\",\"Kissamos\",\"Kissamos\",\"Kissamos\",\"Kissamos\",\"Kissamos\",\"Kissamos\",\"Kissamos\",\"Kissamos\",\"Kissamos\",\"Kissamos\",\"Kissamos\",\"Kissamos\",\"Kissamos\",\"Kissamos\",\"Kissamos\",\"Kissamos\",\"Kissamos\",\"Kissamos\",\"Kissamos\",\"Kissamos\",\"Kissamos\",\"Kissamos\",\"Kissamos\",\"Kissamos\",\"Kissamos\",\"Kissamos\",\"Kissamos\",\"Kissamos\",\"Kissamos\",\"Kissamos\",\"Kissamos\",\"Kissamos\",\"Kissamos\",\"Kissamos\",\"Kissamos\",\"Kissamos\",\"Kissamos\",\"Kissamos\",\"Kissamos\",\"Kissamos\",\"Kissamos\",\"Kissamos\",\"Kissamos\",\"Kissamos\",\"Kissamos\",\"Kissamos\",\"Kissamos\",\"Kissamos\",\"Kissamos\",\"Kissamos\",\"Kissamos\",\"Kissamos\",\"Kissamos\",\"Kissamos\",\"Kissamos\",\"Kissamos\",\"Kissamos\",\"Kissamos\",\"Kissamos\",\"Kissamos\",\"Kissamos\",\"Kissamos\",\"Kissamos\",\"Kissamos\",\"Kissamos\",\"Kissamos\",\"Kissamos\",\"Kissamos\",\"Kissamos\",\"Kissamos\",\"Kissamos\",\"Kissamos\",\"Kissamos\",\"Kissamos\",\"Kissamos\",\"Kissamos\",\"Kissamos\",\"Kissamos\",\"Kissamos\",\"Kissamos\",\"Kissamos\",\"Kissamos\",\"Kissamos\",\"Kissamos\",\"Kissamos\",\"Kissamos\",\"Kissamos\",\"Kissamos\",\"Kissamos\",\"Kissamos\",\"Kissamos\",\"Kissamos\",\"Kissamos\",\"Kissamos\",\"Kissamos\",\"Kissamos\",\"Kissamos\",\"Kissamos\",\"Kissamos\",\"Kissamos\",\"Kissamos\",\"Kissamos\",\"Kissamos\",\"Kissamos\",\"Kissamos\",\"Kissamos\",\"Kissamos\",\"Kissamos\",\"Kissamos\",\"Kissamos\",\"Kissamos\",\"Kissamos\",\"Kissamos\",\"Kissamos\",\"Kissamos\",\"Kissamos\",\"Kissamos\",\"Kissamos\",\"Kissamos\",\"Kissamos\",\"Kissamos\",\"Kissamos\",\"Kissamos\",\"Kissamos\",\"Kissamos\",\"Kissamos\",\"Kissamos\",\"Kissamos\",\"Kissamos\",\"Kissamos\",\"Kissamos\",\"Kissamos\",\"Kissamos\",\"Kissamos\",\"Kissamos\",\"Kissamos\",\"Kissamos\",\"Kissamos\",\"Kissamos\",\"Kissamos\",\"Kissamos\",\"Kissamos\",\"Kissamos\",\"Kissamos\",\"Kissamos\",\"Kissamos\",\"Kissamos\",\"Kissamos\",\"Kissamos\",\"Kissamos\",\"Kissamos\",\"Kissamos\",\"Kissamos\",\"Kissamos\",\"Kissamos\",\"Kissamos\",\"Kissamos\",\"Kissamos\",\"Kissamos\",\"Kissamos\",\"Kissamos\",\"Kissamos\",\"Kissamos\",\"Kissamos\",\"Kissamos\",\"Kissamos\",\"Kissamos\",\"Kissamos\",\"Kissamos\",\"Kissamos\",\"Kissamos\",\"Kissamos\",\"Kissamos\",\"Kissamos\",\"Kissamos\",\"Kissamos\",\"Kissamos\",\"Kissamos\",\"Kissamos\",\"Kissamos\",\"Kissamos\",\"Kissamos\",\"Kissamos\",\"Kissamos\",\"Kissamos\",\"Kissamos\",\"Kissamos\",\"Kissamos\",\"Kissamos\",\"Kissamos\",\"Kissamos\",\"Kissamos\",\"Kissamos\",\"Kissamos\",\"Kissamos\",\"Kissamos\",\"Kissamos\",\"Kissamos\",\"Kissamos\",\"Kissamos\",\"Kissamos\",\"Kissamos\",\"Kissamos\",\"Kissamos\",\"Kissamos\",\"Kissamos\",\"Kissamos\",\"Kissamos\",\"Kissamos\",\"Kissamos\",\"Kissamos\",\"Kissamos\",\"Kissamos\",\"Kissamos\",\"Kissamos\",\"Kissamos\",\"Kissamos\",\"Kissamos\",\"Kissamos\",\"Kissamos\",\"Kissamos\",\"Kissamos\",\"Kissamos\",\"Kissamos\",\"Kissamos\",\"Kissamos\",\"Kissamos\",\"Kissamos\",\"Kissamos\",\"Kissamos\",\"Kissamos\",\"Kissamos\",\"Kissamos\",\"Kissamos\",\"Kissamos\",\"Kissamos\",\"Kissamos\",\"Kissamos\",\"Kissamos\",\"Kissamos\",\"Kissamos\",\"Kissamos\",\"Kissamos\",\"Kissamos\",\"Kissamos\",\"Kissamos\",\"Kissamos\",\"Kissamos\",\"Kissamos\",\"Kissamos\",\"Kissamos\",\"Kissamos\",\"Kissamos\",\"Kissamos\",\"Kissamos\",\"Kissamos\",\"Kissamos\",\"Kissamos\",\"Kissamos\",\"Kissamos\",\"Kissamos\",\"Kissamos\",\"Kissamos\",\"Kissamos\",\"Kissamos\",\"Kissamos\",\"Kissamos\",\"Kissamos\",\"Kissamos\",\"Kissamos\",\"Kissamos\",\"Kissamos\",\"Kissamos\",\"Kissamos\",\"Kissamos\",\"Kissamos\",\"Kissamos\",\"Kissamos\",\"Kissamos\",\"Kissamos\",\"Kissamos\",\"Kissamos\",\"Kissamos\",\"Kissamos\",\"Kissamos\",\"Kissamos\",\"Kissamos\",\"Kissamos\",\"Kissamos\",\"Kissamos\",\"Kissamos\",\"Kissamos\",\"Kissamos\",\"Kissamos\",\"Kissamos\",\"Kissamos\",\"Kissamos\",\"Kissamos\",\"Kissamos\",\"Kissamos\",\"Kissamos\",\"Kissamos\",\"Kissamos\",\"Kissamos\",\"Kissamos\",\"Kissamos\",\"Kissamos\",\"Kissamos\",\"Kissamos\",\"Kissamos\",\"Kissamos\",\"Kissamos\",\"Kissamos\",\"Kissamos\",\"Kissamos\",\"Kissamos\",\"Kissamos\",\"Kissamos\",\"Kissamos\",\"Kissamos\",\"Kissamos\",\"Kissamos\",\"Kissamos\",\"Kissamos\",\"Kissamos\",\"Kissamos\",\"Kissamos\",\"Kissamos\",\"Kissamos\",\"Kissamos\",\"Kissamos\",\"Kissamos\",\"Kissamos\",\"Kissamos\",\"Kissamos\",\"Kissamos\",\"Kissamos\",\"Kissamos\",\"Kissamos\",\"Kissamos\",\"Kissamos\",\"Kissamos\",\"Kissamos\",\"Kissamos\",\"Kissamos\",\"Kissamos\",\"Kissamos\",\"Kissamos\",\"Kissamos\",\"Kissamos\",\"Kissamos\",\"Kissamos\",\"Kissamos\",\"Kissamos\",\"Kissamos\",\"Kissamos\",\"Kissamos\",\"Kissamos\",\"Kissamos\",\"Kissamos\",\"Kissamos\",\"Kissamos\",\"Kissamos\",\"Kissamos\",\"Kissamos\",\"Kissamos\",\"Kissamos\",\"Kissamos\",\"Kissamos\",\"Kissamos\",\"Kissamos\",\"Kissamos\",\"Kissamos\",\"Kissamos\",\"Kissamos\",\"Kissamos\",\"Kissamos\",\"Kissamos\",\"Kissamos\",\"Kissamos\",\"Kissamos\",\"Kissamos\",\"Kissamos\",\"Kissamos\",\"Kissamos\",\"Kissamos\",\"Kissamos\",\"Kissamos\",\"Kissamos\",\"Kissamos\",\"Kissamos\",\"Kissamos\",\"Kissamos\",\"Kissamos\",\"Kissamos\",\"Kissamos\",\"Kissamos\",\"Kissamos\",\"Kissamos\",\"Kissamos\",\"Kissamos\",\"Kissamos\",\"Kissamos\",\"Kissamos\",\"Kissamos\",\"Kissamos\",\"Kissamos\",\"Kissamos\",\"Kissamos\",\"Kissamos\",\"Kissamos\",\"Kissamos\",\"Kissamos\",\"Kissamos\",\"Kissamos\",\"Kissamos\",\"Kissamos\",\"Kissamos\",\"Kissamos\",\"Kissamos\",\"Kissamos\",\"Kissamos\",\"Kissamos\",\"Kissamos\",\"Kissamos\",\"Kissamos\",\"Kissamos\",\"Kissamos\",\"Kissamos\",\"Kissamos\",\"Kissamos\",\"Kissamos\",\"Kissamos\",\"Kissamos\",\"Kissamos\",\"Kissamos\",\"Kissamos\",\"Kissamos\",\"Kissamos\",\"Kissamos\",\"Kissamos\",\"Kissamos\",\"Kissamos\",\"Kissamos\",\"Kissamos\",\"Kissamos\",\"Kissamos\",\"Kissamos\",\"Kissamos\",\"Kissamos\",\"Kissamos\",\"Kissamos\",\"Kissamos\",\"Kissamos\",\"Kissamos\",\"Kissamos\",\"Kissamos\",\"Kissamos\",\"Kissamos\",\"Kissamos\",\"Kissamos\",\"Kissamos\",\"Kissamos\",\"Kissamos\",\"Kissamos\",\"Kissamos\",\"Kissamos\",\"Kissamos\",\"Kissamos\",\"Kissamos\",\"Kissamos\",\"Kissamos\",\"Kissamos\",\"Kissamos\",\"Kissamos\",\"Kissamos\",\"Kissamos\",\"Kissamos\",\"Kissamos\",\"Kissamos\",\"Kissamos\",\"Kissamos\",\"Kissamos\",\"Kissamos\",\"Kissamos\",\"Kissamos\",\"Kissamos\",\"Kissamos\",\"Kissamos\",\"Kissamos\",\"Kissamos\",\"Kissamos\",\"Kissamos\",\"Kissamos\",\"Kissamos\",\"Kissamos\",\"Kissamos\",\"Kissamos\",\"Kissamos\",\"Kissamos\",\"Kissamos\",\"Kissamos\",\"Kissamos\",\"Kissamos\",\"Kissamos\",\"Kissamos\",\"Kissamos\",\"Kissamos\",\"Kissamos\",\"Kissamos\",\"Kissamos\",\"Kissamos\",\"Kissamos\",\"Kissamos\",\"Kissamos\",\"Kissamos\",\"Kissamos\",\"Kissamos\",\"Kissamos\",\"Kissamos\",\"Kissamos\",\"Kissamos\",\"Kissamos\",\"Kissamos\",\"Kissamos\",\"Kissamos\",\"Kissamos\",\"Kissamos\",\"Kissamos\",\"Kissamos\",\"Kissamos\",\"Kissamos\",\"Kissamos\",\"Kissamos\",\"Kissamos\",\"Kissamos\",\"Kissamos\",\"Kissamos\",\"Kissamos\",\"Kissamos\",\"Kissamos\",\"Kissamos\",\"Kissamos\",\"Kissamos\",\"Kissamos\",\"Kissamos\",\"Kissamos\",\"Kissamos\",\"Kissamos\",\"Kissamos\",\"Kissamos\",\"Kissamos\",\"Kissamos\",\"Kissamos\",\"Kissamos\",\"Kissamos\",\"Kissamos\",\"Kissamos\",\"Kissamos\",\"Kissamos\",\"Kissamos\",\"Kissamos\",\"Kissamos\",\"Kissamos\",\"Kissamos\",\"Kissamos\",\"Kissamos\",\"Kissamos\",\"Kissamos\",\"Kissamos\",\"Kissamos\",\"Kissamos\",\"Kissamos\",\"Kissamos\",\"Kissamos\",\"Kissamos\",\"Kissamos\",\"Kissamos\",\"Kissamos\",\"Kissamos\",\"Kissamos\",\"Kissamos\",\"Kissamos\",\"Kissamos\",\"Kissamos\",\"Kissamos\",\"Kissamos\",\"Kissamos\",\"Kissamos\",\"Kissamos\",\"Kissamos\",\"Kissamos\",\"Kissamos\",\"Kissamos\",\"Kissamos\",\"Kissamos\",\"Kissamos\",\"Kissamos\",\"Kissamos\",\"Kissamos\",\"Kissamos\",\"Kissamos\",\"Kissamos\",\"Kissamos\",\"Kissamos\",\"Kissamos\",\"Kissamos\",\"Kissamos\",\"Kissamos\",\"Kissamos\",\"Kissamos\",\"Kissamos\",\"Kissamos\",\"Kissamos\",\"Kissamos\",\"Kissamos\",\"Kissamos\",\"Kissamos\",\"Kissamos\",\"Kissamos\",\"Kissamos\",\"Kissamos\",\"Kissamos\",\"Kissamos\",\"Kissamos\",\"Kissamos\",\"Kissamos\",\"Kissamos\",\"Kissamos\",\"Kissamos\",\"Kissamos\",\"Kissamos\",\"Kissamos\",\"Kissamos\",\"Kissamos\",\"Kissamos\",\"Kissamos\",\"Kissamos\",\"Kissamos\",\"Kissamos\",\"Kissamos\",\"Kissamos\",\"Kissamos\",\"Kissamos\",\"Kissamos\",\"Kissamos\",\"Kissamos\",\"Kissamos\",\"Kissamos\",\"Kissamos\",\"Kissamos\",\"Kissamos\",\"Kissamos\",\"Kissamos\",\"Kissamos\",\"Kissamos\",\"Kissamos\",\"Kissamos\",\"Kissamos\",\"Kissamos\",\"Kissamos\",\"Kissamos\",\"Kissamos\",\"Kissamos\",\"Kissamos\",\"Kissamos\",\"Kissamos\",\"Kissamos\",\"Kissamos\",\"Kissamos\",\"Kissamos\",\"Kissamos\",\"Kissamos\",\"Kissamos\",\"Kissamos\",\"Kissamos\",\"Kissamos\",\"Kissamos\",\"Kissamos\",\"Kissamos\",\"Kissamos\",\"Kissamos\",\"Kissamos\",\"Kissamos\",\"Kissamos\",\"Kissamos\",\"Kissamos\",\"Kissamos\",\"Kissamos\",\"Kissamos\",\"Kissamos\",\"Kissamos\",\"Kissamos\",\"Kissamos\",\"Kissamos\",\"Kissamos\",\"Kissamos\",\"Kissamos\",\"Kissamos\",\"Kissamos\",\"Kissamos\",\"Kissamos\",\"Kissamos\",\"Kissamos\",\"Kissamos\",\"Kissamos\",\"Kissamos\",\"Kissamos\",\"Kissamos\",\"Kissamos\",\"Kissamos\",\"Kissamos\",\"Kissamos\",\"Kissamos\",\"Kissamos\",\"Kissamos\",\"Kissamos\",\"Kissamos\",\"Kissamos\",\"Kissamos\",\"Kissamos\",\"Kissamos\",\"Kissamos\",\"Kissamos\",\"Kissamos\",\"Kissamos\",\"Kissamos\",\"Kissamos\",\"Kissamos\",\"Kissamos\",\"Kissamos\",\"Kissamos\",\"Kissamos\",\"Kissamos\",\"Kissamos\",\"Kissamos\",\"Kissamos\",\"Kissamos\",\"Kissamos\",\"Kissamos\",\"Kissamos\",\"Kissamos\",\"Kissamos\",\"Kissamos\",\"Kissamos\",\"Kissamos\",\"Kissamos\",\"Kissamos\",\"Kissamos\",\"Kissamos\",\"Kissamos\",\"Kissamos\",\"Kissamos\",\"Kissamos\",\"Kissamos\",\"Kissamos\",\"Kissamos\",\"Kissamos\",\"Kissamos\",\"Kissamos\",\"Apokoronas\",\"Apokoronas\",\"Apokoronas\",\"Apokoronas\",\"Apokoronas\",\"Apokoronas\",\"Apokoronas\",\"Apokoronas\",\"Apokoronas\",\"Apokoronas\",\"Apokoronas\",\"Apokoronas\",\"Apokoronas\",\"Apokoronas\",\"Apokoronas\",\"Apokoronas\",\"Apokoronas\",\"Apokoronas\",\"Apokoronas\",\"Apokoronas\",\"Apokoronas\",\"Apokoronas\",\"Apokoronas\",\"Apokoronas\",\"Apokoronas\",\"Apokoronas\",\"Apokoronas\",\"Apokoronas\",\"Apokoronas\",\"Apokoronas\",\"Apokoronas\",\"Apokoronas\",\"Apokoronas\",\"Apokoronas\",\"Apokoronas\",\"Apokoronas\",\"Apokoronas\",\"Apokoronas\",\"Apokoronas\",\"Apokoronas\",\"Apokoronas\",\"Apokoronas\",\"Apokoronas\",\"Apokoronas\",\"Apokoronas\",\"Apokoronas\",\"Apokoronas\",\"Apokoronas\",\"Apokoronas\",\"Apokoronas\",\"Apokoronas\",\"Apokoronas\",\"Apokoronas\",\"Apokoronas\",\"Apokoronas\",\"Apokoronas\",\"Apokoronas\",\"Apokoronas\",\"Apokoronas\",\"Apokoronas\",\"Apokoronas\",\"Apokoronas\",\"Apokoronas\",\"Apokoronas\",\"Apokoronas\",\"Apokoronas\",\"Apokoronas\",\"Apokoronas\",\"Apokoronas\",\"Apokoronas\",\"Apokoronas\",\"Apokoronas\",\"Apokoronas\",\"Apokoronas\",\"Apokoronas\",\"Apokoronas\",\"Apokoronas\",\"Apokoronas\",\"Apokoronas\",\"Apokoronas\",\"Apokoronas\",\"Apokoronas\",\"Apokoronas\",\"Apokoronas\",\"Apokoronas\",\"Apokoronas\",\"Apokoronas\",\"Apokoronas\",\"Apokoronas\",\"Apokoronas\",\"Apokoronas\",\"Apokoronas\",\"Apokoronas\",\"Apokoronas\",\"Apokoronas\",\"Apokoronas\",\"Apokoronas\",\"Apokoronas\",\"Apokoronas\",\"Apokoronas\",\"Apokoronas\",\"Apokoronas\",\"Apokoronas\",\"Apokoronas\",\"Apokoronas\",\"Apokoronas\",\"Apokoronas\",\"Apokoronas\",\"Apokoronas\",\"Apokoronas\",\"Apokoronas\",\"Apokoronas\",\"Apokoronas\",\"Apokoronas\",\"Apokoronas\",\"Apokoronas\",\"Apokoronas\",\"Apokoronas\",\"Apokoronas\",\"Apokoronas\",\"Apokoronas\",\"Apokoronas\",\"Apokoronas\",\"Apokoronas\",\"Apokoronas\",\"Apokoronas\",\"Apokoronas\",\"Apokoronas\",\"Apokoronas\",\"Apokoronas\",\"Apokoronas\",\"Apokoronas\",\"Apokoronas\",\"Apokoronas\",\"Apokoronas\",\"Apokoronas\",\"Apokoronas\",\"Apokoronas\",\"Apokoronas\",\"Apokoronas\",\"Apokoronas\",\"Apokoronas\",\"Apokoronas\",\"Apokoronas\",\"Apokoronas\",\"Apokoronas\",\"Apokoronas\",\"Apokoronas\",\"Apokoronas\",\"Apokoronas\",\"Apokoronas\",\"Apokoronas\",\"Apokoronas\",\"Apokoronas\",\"Apokoronas\",\"Apokoronas\",\"Apokoronas\",\"Apokoronas\",\"Apokoronas\",\"Apokoronas\",\"Apokoronas\",\"Apokoronas\",\"Apokoronas\",\"Apokoronas\",\"Apokoronas\",\"Apokoronas\",\"Apokoronas\",\"Apokoronas\",\"Apokoronas\",\"Apokoronas\",\"Apokoronas\",\"Apokoronas\",\"Apokoronas\",\"Apokoronas\",\"Apokoronas\",\"Apokoronas\",\"Apokoronas\",\"Apokoronas\",\"Apokoronas\",\"Apokoronas\",\"Apokoronas\",\"Apokoronas\",\"Apokoronas\",\"Apokoronas\",\"Apokoronas\",\"Apokoronas\",\"Apokoronas\",\"Apokoronas\",\"Apokoronas\",\"Apokoronas\",\"Apokoronas\",\"Apokoronas\",\"Apokoronas\",\"Apokoronas\",\"Apokoronas\",\"Apokoronas\",\"Apokoronas\",\"Apokoronas\",\"Apokoronas\",\"Apokoronas\",\"Apokoronas\",\"Apokoronas\",\"Apokoronas\",\"Apokoronas\",\"Apokoronas\",\"Apokoronas\",\"Apokoronas\",\"Apokoronas\",\"Apokoronas\",\"Apokoronas\",\"Apokoronas\",\"Apokoronas\",\"Apokoronas\",\"Apokoronas\",\"Apokoronas\",\"Apokoronas\",\"Apokoronas\",\"Apokoronas\",\"Apokoronas\",\"Apokoronas\",\"Apokoronas\",\"Apokoronas\",\"Apokoronas\",\"Apokoronas\",\"Apokoronas\",\"Apokoronas\",\"Apokoronas\",\"Apokoronas\",\"Apokoronas\",\"Apokoronas\",\"Apokoronas\",\"Apokoronas\",\"Apokoronas\",\"Apokoronas\",\"Apokoronas\",\"Apokoronas\",\"Apokoronas\",\"Apokoronas\",\"Apokoronas\",\"Apokoronas\",\"Apokoronas\",\"Apokoronas\",\"Apokoronas\",\"Apokoronas\",\"Apokoronas\",\"Apokoronas\",\"Apokoronas\",\"Apokoronas\",\"Apokoronas\",\"Apokoronas\",\"Apokoronas\",\"Apokoronas\",\"Apokoronas\",\"Apokoronas\",\"Apokoronas\",\"Apokoronas\",\"Apokoronas\",\"Apokoronas\",\"Apokoronas\",\"Apokoronas\",\"Apokoronas\",\"Apokoronas\",\"Apokoronas\",\"Apokoronas\",\"Apokoronas\",\"Apokoronas\",\"Apokoronas\",\"Apokoronas\",\"Apokoronas\",\"Apokoronas\",\"Apokoronas\",\"Apokoronas\",\"Apokoronas\",\"Apokoronas\",\"Apokoronas\",\"Apokoronas\",\"Apokoronas\",\"Apokoronas\",\"Apokoronas\",\"Apokoronas\",\"Apokoronas\",\"Apokoronas\",\"Apokoronas\",\"Apokoronas\",\"Apokoronas\",\"Apokoronas\",\"Apokoronas\",\"Apokoronas\",\"Apokoronas\",\"Apokoronas\",\"Apokoronas\",\"Apokoronas\",\"Apokoronas\",\"Apokoronas\",\"Apokoronas\",\"Apokoronas\",\"Apokoronas\",\"Apokoronas\",\"Apokoronas\",\"Apokoronas\",\"Apokoronas\",\"Apokoronas\",\"Apokoronas\",\"Apokoronas\",\"Apokoronas\",\"Apokoronas\",\"Apokoronas\",\"Apokoronas\",\"Apokoronas\",\"Apokoronas\",\"Apokoronas\",\"Apokoronas\",\"Apokoronas\",\"Apokoronas\",\"Apokoronas\",\"Apokoronas\",\"Apokoronas\",\"Apokoronas\",\"Apokoronas\",\"Apokoronas\",\"Apokoronas\",\"Apokoronas\",\"Apokoronas\",\"Apokoronas\",\"Apokoronas\",\"Apokoronas\",\"Apokoronas\",\"Apokoronas\",\"Apokoronas\",\"Apokoronas\",\"Apokoronas\",\"Apokoronas\",\"Apokoronas\",\"Apokoronas\",\"Apokoronas\",\"Apokoronas\",\"Apokoronas\",\"Apokoronas\",\"Apokoronas\",\"Apokoronas\",\"Apokoronas\",\"Apokoronas\",\"Apokoronas\",\"Apokoronas\",\"Apokoronas\",\"Apokoronas\",\"Apokoronas\",\"Apokoronas\",\"Apokoronas\",\"Apokoronas\",\"Apokoronas\",\"Apokoronas\",\"Apokoronas\",\"Apokoronas\",\"Apokoronas\",\"Apokoronas\",\"Apokoronas\",\"Apokoronas\",\"Apokoronas\",\"Apokoronas\",\"Apokoronas\",\"Apokoronas\",\"Apokoronas\",\"Apokoronas\",\"Apokoronas\",\"Apokoronas\",\"Apokoronas\",\"Apokoronas\",\"Apokoronas\",\"Apokoronas\",\"Apokoronas\",\"Apokoronas\",\"Apokoronas\",\"Apokoronas\",\"Apokoronas\",\"Apokoronas\",\"Apokoronas\",\"Apokoronas\",\"Apokoronas\",\"Apokoronas\",\"Apokoronas\",\"Apokoronas\",\"Apokoronas\",\"Apokoronas\",\"Apokoronas\",\"Apokoronas\",\"Apokoronas\",\"Apokoronas\",\"Apokoronas\",\"Apokoronas\",\"Apokoronas\",\"Apokoronas\",\"Apokoronas\",\"Apokoronas\",\"Apokoronas\",\"Apokoronas\",\"Apokoronas\",\"Apokoronas\",\"Apokoronas\",\"Apokoronas\",\"Apokoronas\",\"Apokoronas\",\"Apokoronas\",\"Apokoronas\",\"Apokoronas\",\"Apokoronas\",\"Apokoronas\",\"Apokoronas\",\"Apokoronas\",\"Apokoronas\",\"Apokoronas\",\"Apokoronas\",\"Apokoronas\",\"Apokoronas\",\"Apokoronas\",\"Apokoronas\",\"Apokoronas\",\"Apokoronas\",\"Apokoronas\",\"Apokoronas\",\"Apokoronas\",\"Apokoronas\",\"Apokoronas\",\"Apokoronas\",\"Apokoronas\",\"Apokoronas\",\"Apokoronas\",\"Apokoronas\",\"Apokoronas\",\"Apokoronas\",\"Apokoronas\",\"Apokoronas\",\"Apokoronas\",\"Apokoronas\",\"Apokoronas\",\"Apokoronas\",\"Apokoronas\",\"Apokoronas\",\"Apokoronas\",\"Apokoronas\",\"Apokoronas\",\"Apokoronas\",\"Apokoronas\",\"Apokoronas\",\"Apokoronas\",\"Apokoronas\",\"Apokoronas\",\"Apokoronas\",\"Apokoronas\",\"Apokoronas\",\"Apokoronas\",\"Apokoronas\",\"Apokoronas\",\"Apokoronas\",\"Apokoronas\",\"Apokoronas\",\"Apokoronas\",\"Apokoronas\",\"Apokoronas\",\"Apokoronas\",\"Apokoronas\",\"Apokoronas\",\"Apokoronas\",\"Apokoronas\",\"Apokoronas\",\"Apokoronas\",\"Apokoronas\",\"Apokoronas\",\"Apokoronas\",\"Apokoronas\",\"Apokoronas\",\"Apokoronas\",\"Apokoronas\",\"Apokoronas\",\"Apokoronas\",\"Apokoronas\",\"Apokoronas\",\"Apokoronas\",\"Apokoronas\",\"Apokoronas\",\"Apokoronas\",\"Apokoronas\",\"Apokoronas\",\"Apokoronas\",\"Apokoronas\",\"Apokoronas\",\"Apokoronas\",\"Apokoronas\",\"Apokoronas\",\"Apokoronas\",\"Apokoronas\",\"Apokoronas\",\"Apokoronas\",\"Apokoronas\",\"Apokoronas\",\"Apokoronas\",\"Apokoronas\",\"Apokoronas\",\"Apokoronas\",\"Apokoronas\",\"Apokoronas\",\"Apokoronas\",\"Apokoronas\",\"Apokoronas\",\"Apokoronas\",\"Apokoronas\",\"Apokoronas\",\"Apokoronas\",\"Apokoronas\",\"Apokoronas\",\"Apokoronas\",\"Apokoronas\",\"Apokoronas\",\"Apokoronas\",\"Apokoronas\",\"Apokoronas\",\"Apokoronas\",\"Apokoronas\",\"Apokoronas\",\"Apokoronas\",\"Apokoronas\",\"Apokoronas\",\"Apokoronas\",\"Apokoronas\",\"Apokoronas\",\"Apokoronas\",\"Apokoronas\",\"Apokoronas\",\"Apokoronas\",\"Apokoronas\",\"Apokoronas\",\"Apokoronas\",\"Apokoronas\",\"Apokoronas\",\"Apokoronas\",\"Apokoronas\",\"Apokoronas\",\"Apokoronas\",\"Apokoronas\",\"Apokoronas\",\"Apokoronas\",\"Apokoronas\",\"Apokoronas\",\"Apokoronas\",\"Apokoronas\",\"Apokoronas\",\"Apokoronas\",\"Apokoronas\",\"Apokoronas\",\"Apokoronas\",\"Apokoronas\",\"Apokoronas\",\"Apokoronas\",\"Apokoronas\",\"Apokoronas\",\"Apokoronas\",\"Apokoronas\",\"Apokoronas\",\"Apokoronas\",\"Apokoronas\",\"Apokoronas\",\"Apokoronas\",\"Apokoronas\",\"Apokoronas\",\"Apokoronas\",\"Apokoronas\",\"Apokoronas\",\"Apokoronas\",\"Apokoronas\",\"Apokoronas\",\"Apokoronas\",\"Apokoronas\",\"Apokoronas\",\"Apokoronas\",\"Apokoronas\",\"Apokoronas\",\"Apokoronas\",\"Apokoronas\",\"Apokoronas\",\"Apokoronas\",\"Apokoronas\",\"Apokoronas\",\"Apokoronas\",\"Apokoronas\",\"Apokoronas\",\"Apokoronas\",\"Apokoronas\",\"Apokoronas\",\"Apokoronas\",\"Apokoronas\",\"Apokoronas\",\"Apokoronas\",\"Apokoronas\",\"Apokoronas\",\"Apokoronas\",\"Apokoronas\",\"Apokoronas\",\"Apokoronas\",\"Apokoronas\",\"Apokoronas\",\"Apokoronas\",\"Apokoronas\",\"Apokoronas\",\"Apokoronas\",\"Apokoronas\",\"Apokoronas\",\"Apokoronas\",\"Apokoronas\",\"Apokoronas\",\"Apokoronas\",\"Apokoronas\",\"Apokoronas\",\"Apokoronas\",\"Apokoronas\",\"Apokoronas\",\"Apokoronas\",\"Apokoronas\",\"Apokoronas\",\"Apokoronas\",\"Apokoronas\",\"Apokoronas\",\"Apokoronas\",\"Apokoronas\",\"Apokoronas\",\"Apokoronas\",\"Apokoronas\",\"Apokoronas\",\"Apokoronas\",\"Apokoronas\",\"Apokoronas\",\"Apokoronas\",\"Apokoronas\",\"Apokoronas\",\"Apokoronas\",\"Apokoronas\",\"Apokoronas\",\"Apokoronas\",\"Apokoronas\",\"Apokoronas\",\"Apokoronas\",\"Apokoronas\",\"Apokoronas\",\"Apokoronas\",\"Apokoronas\",\"Apokoronas\",\"Apokoronas\",\"Apokoronas\",\"Apokoronas\",\"Apokoronas\",\"Apokoronas\",\"Apokoronas\",\"Apokoronas\",\"Apokoronas\",\"Apokoronas\",\"Apokoronas\",\"Apokoronas\",\"Apokoronas\",\"Apokoronas\",\"Apokoronas\",\"Apokoronas\",\"Apokoronas\",\"Apokoronas\",\"Apokoronas\",\"Apokoronas\",\"Apokoronas\",\"Apokoronas\",\"Apokoronas\",\"Apokoronas\",\"Apokoronas\",\"Apokoronas\",\"Apokoronas\",\"Apokoronas\",\"Apokoronas\",\"Apokoronas\",\"Apokoronas\",\"Apokoronas\",\"Apokoronas\",\"Apokoronas\",\"Apokoronas\",\"Apokoronas\",\"Apokoronas\",\"Apokoronas\",\"Apokoronas\",\"Apokoronas\",\"Apokoronas\",\"Apokoronas\",\"Apokoronas\",\"Apokoronas\",\"Apokoronas\",\"Apokoronas\",\"Apokoronas\",\"Apokoronas\",\"Apokoronas\",\"Apokoronas\",\"Apokoronas\",\"Apokoronas\",\"Apokoronas\",\"Apokoronas\",\"Apokoronas\",\"Apokoronas\",\"Apokoronas\",\"Apokoronas\",\"Apokoronas\",\"Apokoronas\",\"Apokoronas\",\"Apokoronas\",\"Apokoronas\",\"Apokoronas\",\"Apokoronas\",\"Apokoronas\",\"Apokoronas\",\"Apokoronas\",\"Apokoronas\",\"Apokoronas\",\"Apokoronas\",\"Apokoronas\",\"Apokoronas\",\"Apokoronas\",\"Apokoronas\",\"Apokoronas\",\"Apokoronas\",\"Apokoronas\",\"Apokoronas\",\"Apokoronas\",\"Apokoronas\",\"Apokoronas\",\"Apokoronas\",\"Apokoronas\",\"Apokoronas\",\"Apokoronas\",\"Apokoronas\",\"Apokoronas\",\"Apokoronas\",\"Apokoronas\",\"Apokoronas\",\"Apokoronas\",\"Apokoronas\",\"Apokoronas\",\"Apokoronas\",\"Apokoronas\",\"Apokoronas\",\"Apokoronas\",\"Apokoronas\",\"Apokoronas\",\"Apokoronas\",\"Apokoronas\",\"Apokoronas\",\"Apokoronas\",\"Apokoronas\",\"Apokoronas\",\"Apokoronas\",\"Apokoronas\",\"Apokoronas\",\"Apokoronas\",\"Apokoronas\",\"Apokoronas\",\"Apokoronas\",\"Apokoronas\",\"Apokoronas\",\"Apokoronas\",\"Apokoronas\",\"Apokoronas\",\"Apokoronas\",\"Apokoronas\",\"Apokoronas\",\"Apokoronas\",\"Apokoronas\",\"Apokoronas\",\"Apokoronas\",\"Apokoronas\",\"Apokoronas\",\"Apokoronas\",\"Apokoronas\",\"Apokoronas\",\"Apokoronas\",\"Apokoronas\",\"Apokoronas\",\"Apokoronas\",\"Apokoronas\",\"Apokoronas\",\"Apokoronas\",\"Apokoronas\",\"Apokoronas\",\"Apokoronas\",\"Apokoronas\",\"Apokoronas\",\"Apokoronas\",\"Apokoronas\",\"Apokoronas\",\"Apokoronas\",\"Apokoronas\",\"Apokoronas\",\"Apokoronas\",\"Apokoronas\",\"Apokoronas\",\"Apokoronas\",\"Apokoronas\",\"Apokoronas\",\"Apokoronas\",\"Apokoronas\",\"Apokoronas\",\"Apokoronas\",\"Apokoronas\",\"Apokoronas\",\"Apokoronas\",\"Apokoronas\",\"Apokoronas\",\"Apokoronas\",\"Apokoronas\",\"Apokoronas\",\"Apokoronas\",\"Apokoronas\",\"Apokoronas\",\"Apokoronas\",\"Apokoronas\",\"Apokoronas\",\"Apokoronas\",\"Apokoronas\",\"Apokoronas\",\"Apokoronas\",\"Apokoronas\",\"Apokoronas\",\"Apokoronas\",\"Apokoronas\",\"Apokoronas\",\"Apokoronas\",\"Apokoronas\",\"Apokoronas\",\"Apokoronas\",\"Apokoronas\",\"Apokoronas\",\"Apokoronas\",\"Apokoronas\",\"Apokoronas\",\"Apokoronas\",\"Apokoronas\",\"Apokoronas\",\"Apokoronas\",\"Apokoronas\",\"Apokoronas\",\"Apokoronas\",\"Apokoronas\",\"Apokoronas\",\"Apokoronas\",\"Apokoronas\",\"Apokoronas\",\"Apokoronas\",\"Apokoronas\",\"Apokoronas\",\"Apokoronas\",\"Apokoronas\",\"Apokoronas\",\"Apokoronas\",\"Apokoronas\",\"Apokoronas\",\"Apokoronas\",\"Apokoronas\",\"Apokoronas\",\"Apokoronas\",\"Apokoronas\",\"Apokoronas\",\"Apokoronas\",\"Apokoronas\",\"Apokoronas\",\"Apokoronas\",\"Apokoronas\",\"Apokoronas\",\"Apokoronas\",\"Apokoronas\",\"Apokoronas\",\"Apokoronas\",\"Apokoronas\",\"Apokoronas\",\"Apokoronas\",\"Apokoronas\",\"Apokoronas\",\"Apokoronas\",\"Apokoronas\",\"Apokoronas\",\"Apokoronas\",\"Apokoronas\",\"Apokoronas\",\"Apokoronas\",\"Apokoronas\",\"Apokoronas\",\"Apokoronas\",\"Apokoronas\",\"Apokoronas\",\"Apokoronas\",\"Apokoronas\",\"Apokoronas\",\"Apokoronas\",\"Apokoronas\",\"Apokoronas\",\"Apokoronas\",\"Apokoronas\",\"Apokoronas\",\"Apokoronas\",\"Apokoronas\",\"Apokoronas\",\"Apokoronas\",\"Apokoronas\",\"Apokoronas\",\"Apokoronas\",\"Apokoronas\",\"Apokoronas\",\"Apokoronas\",\"Apokoronas\",\"Apokoronas\",\"Apokoronas\",\"Apokoronas\",\"Apokoronas\",\"Apokoronas\",\"Apokoronas\",\"Apokoronas\",\"Apokoronas\",\"Apokoronas\",\"Apokoronas\",\"Apokoronas\",\"Apokoronas\",\"Apokoronas\",\"Apokoronas\",\"Apokoronas\",\"Apokoronas\",\"Apokoronas\",\"Apokoronas\",\"Apokoronas\",\"Apokoronas\",\"Platanias\",\"Platanias\",\"Platanias\",\"Platanias\",\"Platanias\",\"Platanias\",\"Platanias\",\"Platanias\",\"Platanias\",\"Platanias\",\"Platanias\",\"Platanias\",\"Platanias\",\"Platanias\",\"Platanias\",\"Platanias\",\"Platanias\",\"Platanias\",\"Platanias\",\"Platanias\",\"Platanias\",\"Platanias\",\"Platanias\",\"Platanias\",\"Platanias\",\"Platanias\",\"Platanias\",\"Platanias\",\"Platanias\",\"Platanias\",\"Platanias\",\"Platanias\",\"Platanias\",\"Platanias\",\"Platanias\",\"Platanias\",\"Platanias\",\"Platanias\",\"Platanias\",\"Platanias\",\"Platanias\",\"Platanias\",\"Platanias\",\"Platanias\",\"Platanias\",\"Platanias\",\"Platanias\",\"Platanias\",\"Platanias\",\"Platanias\",\"Platanias\",\"Platanias\",\"Platanias\",\"Platanias\",\"Platanias\",\"Platanias\",\"Platanias\",\"Platanias\",\"Platanias\",\"Platanias\",\"Platanias\",\"Platanias\",\"Platanias\",\"Platanias\",\"Platanias\",\"Platanias\",\"Platanias\",\"Platanias\",\"Platanias\",\"Platanias\",\"Platanias\",\"Platanias\",\"Platanias\",\"Platanias\",\"Platanias\",\"Platanias\",\"Platanias\",\"Platanias\",\"Platanias\",\"Platanias\",\"Platanias\",\"Platanias\",\"Platanias\",\"Platanias\",\"Platanias\",\"Platanias\",\"Platanias\",\"Platanias\",\"Platanias\",\"Platanias\",\"Platanias\",\"Platanias\",\"Platanias\",\"Platanias\",\"Platanias\",\"Platanias\",\"Platanias\",\"Platanias\",\"Platanias\",\"Platanias\",\"Platanias\",\"Platanias\",\"Platanias\",\"Platanias\",\"Platanias\",\"Platanias\",\"Platanias\",\"Platanias\",\"Platanias\",\"Platanias\",\"Platanias\",\"Platanias\",\"Platanias\",\"Platanias\",\"Platanias\",\"Platanias\",\"Platanias\",\"Platanias\",\"Platanias\",\"Platanias\",\"Platanias\",\"Platanias\",\"Platanias\",\"Platanias\",\"Platanias\",\"Platanias\",\"Platanias\",\"Platanias\",\"Platanias\",\"Platanias\",\"Platanias\",\"Platanias\",\"Platanias\",\"Platanias\",\"Platanias\",\"Platanias\",\"Platanias\",\"Platanias\",\"Platanias\",\"Platanias\",\"Platanias\",\"Platanias\",\"Platanias\",\"Platanias\",\"Platanias\",\"Platanias\",\"Platanias\",\"Platanias\",\"Platanias\",\"Platanias\",\"Platanias\",\"Platanias\",\"Platanias\",\"Platanias\",\"Platanias\",\"Platanias\",\"Platanias\",\"Platanias\",\"Platanias\",\"Platanias\",\"Platanias\",\"Platanias\",\"Platanias\",\"Platanias\",\"Platanias\",\"Platanias\",\"Platanias\",\"Platanias\",\"Platanias\",\"Platanias\",\"Platanias\",\"Platanias\",\"Platanias\",\"Platanias\",\"Platanias\",\"Platanias\",\"Platanias\",\"Platanias\",\"Platanias\",\"Platanias\",\"Platanias\",\"Platanias\",\"Platanias\",\"Platanias\",\"Platanias\",\"Platanias\",\"Platanias\",\"Platanias\",\"Platanias\",\"Platanias\",\"Platanias\",\"Platanias\",\"Platanias\",\"Platanias\",\"Platanias\",\"Platanias\",\"Platanias\",\"Platanias\",\"Platanias\",\"Platanias\",\"Platanias\",\"Platanias\",\"Platanias\",\"Platanias\",\"Platanias\",\"Platanias\",\"Platanias\",\"Platanias\",\"Platanias\",\"Platanias\",\"Platanias\",\"Platanias\",\"Platanias\",\"Platanias\",\"Platanias\",\"Platanias\",\"Platanias\",\"Platanias\",\"Platanias\",\"Platanias\",\"Platanias\",\"Platanias\",\"Platanias\",\"Platanias\",\"Platanias\",\"Platanias\",\"Platanias\",\"Platanias\",\"Platanias\",\"Platanias\",\"Platanias\",\"Platanias\",\"Platanias\",\"Platanias\",\"Platanias\",\"Platanias\",\"Platanias\",\"Platanias\",\"Platanias\",\"Platanias\",\"Platanias\",\"Platanias\",\"Platanias\",\"Platanias\",\"Platanias\",\"Platanias\",\"Platanias\",\"Platanias\",\"Platanias\",\"Platanias\",\"Platanias\",\"Platanias\",\"Platanias\",\"Platanias\",\"Platanias\",\"Platanias\",\"Platanias\",\"Platanias\",\"Platanias\",\"Platanias\",\"Platanias\",\"Platanias\",\"Platanias\",\"Platanias\",\"Platanias\",\"Platanias\",\"Platanias\",\"Platanias\",\"Platanias\",\"Platanias\",\"Platanias\",\"Platanias\",\"Platanias\",\"Platanias\",\"Platanias\",\"Platanias\",\"Platanias\",\"Platanias\",\"Platanias\",\"Platanias\",\"Platanias\",\"Platanias\",\"Platanias\",\"Platanias\",\"Platanias\",\"Platanias\",\"Platanias\",\"Platanias\",\"Platanias\",\"Platanias\",\"Platanias\",\"Platanias\",\"Platanias\",\"Platanias\",\"Platanias\",\"Platanias\",\"Platanias\",\"Platanias\",\"Platanias\",\"Platanias\",\"Platanias\",\"Platanias\",\"Platanias\",\"Platanias\",\"Platanias\",\"Platanias\",\"Platanias\",\"Platanias\",\"Platanias\",\"Platanias\",\"Platanias\",\"Platanias\",\"Platanias\",\"Platanias\",\"Platanias\",\"Platanias\",\"Platanias\",\"Platanias\",\"Platanias\",\"Platanias\",\"Platanias\",\"Platanias\",\"Platanias\",\"Platanias\",\"Platanias\",\"Platanias\",\"Platanias\",\"Platanias\",\"Platanias\",\"Platanias\",\"Platanias\",\"Platanias\",\"Platanias\",\"Platanias\",\"Platanias\",\"Platanias\",\"Platanias\",\"Platanias\",\"Platanias\",\"Platanias\",\"Platanias\",\"Platanias\",\"Platanias\",\"Platanias\",\"Platanias\",\"Platanias\",\"Platanias\",\"Platanias\",\"Platanias\",\"Platanias\",\"Platanias\",\"Platanias\",\"Platanias\",\"Platanias\",\"Platanias\",\"Platanias\",\"Platanias\",\"Platanias\",\"Platanias\",\"Platanias\",\"Platanias\",\"Platanias\",\"Platanias\",\"Platanias\",\"Platanias\",\"Platanias\",\"Platanias\",\"Platanias\",\"Platanias\",\"Platanias\",\"Platanias\",\"Platanias\",\"Platanias\",\"Platanias\",\"Platanias\",\"Platanias\",\"Platanias\",\"Platanias\",\"Platanias\",\"Platanias\",\"Platanias\",\"Platanias\",\"Platanias\",\"Platanias\",\"Platanias\",\"Platanias\",\"Platanias\",\"Platanias\",\"Platanias\",\"Platanias\",\"Platanias\",\"Platanias\",\"Platanias\",\"Platanias\",\"Platanias\",\"Platanias\",\"Platanias\",\"Platanias\",\"Platanias\",\"Platanias\",\"Platanias\",\"Platanias\",\"Platanias\",\"Platanias\",\"Platanias\",\"Platanias\",\"Platanias\",\"Platanias\",\"Platanias\",\"Platanias\",\"Platanias\",\"Platanias\",\"Platanias\",\"Platanias\",\"Platanias\",\"Platanias\",\"Platanias\",\"Platanias\",\"Platanias\",\"Platanias\",\"Platanias\",\"Platanias\",\"Platanias\",\"Platanias\",\"Platanias\",\"Platanias\",\"Platanias\",\"Platanias\",\"Platanias\",\"Platanias\",\"Platanias\",\"Platanias\",\"Platanias\",\"Platanias\",\"Platanias\",\"Platanias\",\"Platanias\",\"Platanias\",\"Platanias\",\"Platanias\",\"Platanias\",\"Platanias\",\"Platanias\",\"Platanias\",\"Platanias\",\"Platanias\",\"Platanias\",\"Platanias\",\"Platanias\",\"Platanias\",\"Platanias\",\"Platanias\",\"Platanias\",\"Platanias\",\"Platanias\",\"Platanias\",\"Platanias\",\"Platanias\",\"Platanias\",\"Platanias\",\"Platanias\",\"Platanias\",\"Platanias\",\"Platanias\",\"Platanias\",\"Platanias\",\"Platanias\",\"Platanias\",\"Platanias\",\"Platanias\",\"Platanias\",\"Platanias\",\"Platanias\",\"Platanias\",\"Platanias\",\"Platanias\",\"Platanias\",\"Platanias\",\"Platanias\",\"Platanias\",\"Platanias\",\"Platanias\",\"Platanias\",\"Platanias\",\"Platanias\",\"Platanias\",\"Platanias\",\"Platanias\",\"Platanias\",\"Platanias\",\"Platanias\",\"Platanias\",\"Platanias\",\"Platanias\",\"Platanias\",\"Platanias\",\"Platanias\",\"Platanias\",\"Platanias\",\"Platanias\",\"Platanias\",\"Platanias\",\"Platanias\",\"Platanias\",\"Platanias\",\"Platanias\",\"Platanias\",\"Platanias\",\"Platanias\",\"Platanias\",\"Platanias\",\"Platanias\",\"Platanias\",\"Platanias\",\"Platanias\",\"Platanias\",\"Platanias\",\"Platanias\",\"Platanias\",\"Platanias\",\"Platanias\",\"Platanias\",\"Platanias\",\"Platanias\",\"Platanias\",\"Platanias\",\"Platanias\",\"Platanias\",\"Platanias\",\"Platanias\",\"Platanias\",\"Platanias\",\"Platanias\",\"Platanias\",\"Platanias\",\"Platanias\",\"Platanias\",\"Platanias\",\"Platanias\",\"Platanias\",\"Platanias\",\"Platanias\",\"Platanias\",\"Platanias\",\"Platanias\",\"Platanias\",\"Platanias\",\"Platanias\",\"Platanias\",\"Platanias\",\"Platanias\",\"Platanias\",\"Platanias\",\"Platanias\",\"Platanias\",\"Platanias\",\"Platanias\",\"Platanias\",\"Platanias\",\"Platanias\",\"Platanias\",\"Platanias\",\"Platanias\",\"Platanias\",\"Platanias\",\"Platanias\",\"Platanias\",\"Platanias\",\"Platanias\",\"Platanias\",\"Platanias\",\"Platanias\",\"Platanias\",\"Platanias\",\"Platanias\",\"Platanias\",\"Platanias\",\"Platanias\",\"Platanias\",\"Platanias\",\"Platanias\",\"Platanias\",\"Platanias\",\"Platanias\",\"Platanias\",\"Platanias\",\"Platanias\",\"Platanias\",\"Platanias\",\"Platanias\",\"Platanias\",\"Platanias\",\"Platanias\",\"Platanias\",\"Platanias\",\"Platanias\",\"Platanias\",\"Platanias\",\"Platanias\",\"Platanias\",\"Platanias\",\"Platanias\",\"Platanias\",\"Platanias\",\"Platanias\",\"Platanias\",\"Platanias\",\"Platanias\",\"Platanias\",\"Platanias\",\"Platanias\",\"Platanias\",\"Platanias\",\"Platanias\",\"Platanias\",\"Platanias\",\"Platanias\",\"Platanias\",\"Platanias\",\"Platanias\",\"Platanias\",\"Platanias\",\"Platanias\",\"Platanias\",\"Platanias\",\"Platanias\",\"Platanias\",\"Platanias\",\"Platanias\",\"Platanias\",\"Platanias\",\"Platanias\",\"Platanias\",\"Platanias\",\"Platanias\",\"Platanias\",\"Platanias\",\"Platanias\",\"Platanias\",\"Platanias\",\"Platanias\",\"Platanias\",\"Platanias\",\"Platanias\",\"Platanias\",\"Platanias\",\"Platanias\",\"Platanias\",\"Platanias\",\"Platanias\",\"Platanias\",\"Platanias\",\"Platanias\",\"Platanias\",\"Platanias\",\"Platanias\",\"Platanias\",\"Platanias\",\"Platanias\",\"Platanias\",\"Platanias\",\"Platanias\",\"Platanias\",\"Platanias\",\"Platanias\",\"Platanias\",\"Platanias\",\"Platanias\",\"Platanias\",\"Platanias\",\"Platanias\",\"Platanias\",\"Platanias\",\"Platanias\",\"Platanias\",\"Platanias\",\"Platanias\",\"Platanias\",\"Platanias\",\"Platanias\",\"Platanias\",\"Platanias\",\"Platanias\",\"Platanias\",\"Platanias\",\"Platanias\",\"Platanias\",\"Platanias\",\"Platanias\",\"Platanias\",\"Platanias\",\"Platanias\",\"Platanias\",\"Platanias\",\"Platanias\",\"Platanias\",\"Platanias\",\"Platanias\",\"Platanias\",\"Platanias\",\"Platanias\",\"Platanias\",\"Platanias\",\"Platanias\",\"Platanias\",\"Platanias\",\"Platanias\",\"Platanias\",\"Platanias\",\"Platanias\",\"Platanias\",\"Platanias\",\"Kandanos\",\"Kandanos\",\"Kandanos\",\"Kandanos\",\"Kandanos\",\"Kandanos\",\"Kandanos\",\"Kandanos\",\"Kandanos\",\"Kandanos\",\"Kandanos\",\"Kandanos\",\"Kandanos\",\"Kandanos\",\"Kandanos\",\"Kandanos\",\"Kandanos\",\"Kandanos\",\"Kandanos\",\"Kandanos\",\"Kandanos\",\"Kandanos\",\"Kandanos\",\"Kandanos\",\"Kandanos\",\"Kandanos\",\"Kandanos\",\"Kandanos\",\"Kandanos\",\"Kandanos\",\"Kandanos\",\"Kandanos\",\"Kandanos\",\"Kandanos\",\"Kandanos\",\"Kandanos\",\"Kandanos\",\"Kandanos\",\"Kandanos\",\"Kandanos\",\"Kandanos\",\"Kandanos\",\"Kandanos\",\"Kandanos\",\"Kandanos\",\"Kandanos\",\"Kandanos\",\"Kandanos\",\"Kandanos\",\"Kandanos\",\"Kandanos\",\"Kandanos\",\"Kandanos\",\"Kandanos\",\"Kandanos\",\"Kandanos\",\"Kandanos\",\"Kandanos\",\"Kandanos\",\"Kandanos\",\"Kandanos\",\"Kandanos\",\"Kandanos\",\"Kandanos\",\"Kandanos\",\"Kandanos\",\"Kandanos\",\"Kandanos\",\"Kandanos\",\"Kandanos\",\"Kandanos\",\"Kandanos\",\"Kandanos\",\"Kandanos\",\"Kandanos\",\"Kandanos\",\"Kandanos\",\"Kandanos\",\"Kandanos\",\"Kandanos\",\"Kandanos\",\"Kandanos\",\"Kandanos\",\"Kandanos\",\"Kandanos\",\"Kandanos\",\"Kandanos\",\"Kandanos\",\"Kandanos\",\"Kandanos\",\"Kandanos\",\"Kandanos\",\"Kandanos\",\"Kandanos\",\"Kandanos\",\"Kandanos\",\"Kandanos\",\"Kandanos\",\"Kandanos\",\"Kandanos\",\"Kandanos\",\"Kandanos\",\"Kandanos\",\"Kandanos\",\"Kandanos\",\"Kandanos\",\"Kandanos\",\"Kandanos\",\"Kandanos\",\"Kandanos\",\"Kandanos\",\"Kandanos\",\"Kandanos\",\"Kandanos\",\"Kandanos\",\"Kandanos\",\"Kandanos\",\"Kandanos\",\"Kandanos\",\"Kandanos\",\"Kandanos\",\"Kandanos\",\"Kandanos\",\"Kandanos\",\"Kandanos\",\"Kandanos\",\"Kandanos\",\"Kandanos\",\"Kandanos\",\"Kandanos\",\"Kandanos\",\"Kandanos\",\"Kandanos\",\"Kandanos\",\"Kandanos\",\"Kandanos\",\"Kandanos\",\"Kandanos\",\"Kandanos\",\"Kandanos\",\"Kandanos\",\"Kandanos\",\"Kandanos\",\"Kandanos\",\"Kandanos\",\"Kandanos\",\"Kandanos\",\"Kandanos\",\"Kandanos\",\"Kandanos\",\"Kandanos\",\"Kandanos\",\"Kandanos\",\"Kandanos\",\"Kandanos\",\"Kandanos\",\"Kandanos\",\"Kandanos\",\"Kandanos\",\"Kandanos\",\"Kandanos\",\"Kandanos\",\"Kandanos\",\"Kandanos\",\"Kandanos\",\"Kandanos\",\"Kandanos\",\"Kandanos\",\"Kandanos\",\"Kandanos\",\"Kandanos\",\"Kandanos\",\"Kandanos\",\"Kandanos\",\"Kandanos\",\"Kandanos\",\"Kandanos\",\"Kandanos\",\"Kandanos\",\"Kandanos\",\"Kandanos\",\"Kandanos\",\"Kandanos\",\"Kandanos\",\"Kandanos\",\"Kandanos\",\"Kandanos\",\"Kandanos\",\"Kandanos\",\"Kandanos\",\"Kandanos\",\"Kandanos\",\"Kandanos\",\"Kandanos\",\"Kandanos\",\"Kandanos\",\"Kandanos\",\"Kandanos\",\"Kandanos\",\"Kandanos\",\"Kandanos\",\"Kandanos\",\"Kandanos\",\"Kandanos\",\"Kandanos\",\"Kandanos\",\"Kandanos\",\"Kandanos\",\"Kandanos\",\"Kandanos\",\"Kandanos\",\"Kandanos\",\"Kandanos\",\"Kandanos\",\"Kandanos\",\"Kandanos\",\"Kandanos\",\"Kandanos\",\"Kandanos\",\"Kandanos\",\"Kandanos\",\"Kandanos\",\"Kandanos\",\"Kandanos\",\"Kandanos\",\"Kandanos\",\"Sfakia\",\"Sfakia\",\"Sfakia\",\"Sfakia\",\"Sfakia\",\"Sfakia\",\"Sfakia\",\"Sfakia\",\"Sfakia\",\"Sfakia\",\"Sfakia\",\"Sfakia\",\"Sfakia\",\"Sfakia\",\"Sfakia\",\"Sfakia\",\"Sfakia\",\"Sfakia\",\"Sfakia\",\"Sfakia\",\"Sfakia\",\"Sfakia\",\"Sfakia\",\"Sfakia\",\"Sfakia\",\"Sfakia\",\"Sfakia\",\"Sfakia\",\"Sfakia\",\"Sfakia\",\"Sfakia\",\"Sfakia\",\"Sfakia\",\"Sfakia\",\"Sfakia\",\"Sfakia\",\"Sfakia\",\"Sfakia\",\"Sfakia\",\"Sfakia\",\"Sfakia\",\"Sfakia\",\"Sfakia\",\"Sfakia\",\"Sfakia\",\"Sfakia\",\"Sfakia\",\"Sfakia\",\"Sfakia\",\"Sfakia\",\"Sfakia\",\"Sfakia\",\"Sfakia\",\"Sfakia\",\"Sfakia\",\"Sfakia\",\"Sfakia\",\"Sfakia\",\"Sfakia\",\"Sfakia\",\"Sfakia\",\"Sfakia\",\"Sfakia\",\"Sfakia\",\"Sfakia\",\"Sfakia\",\"Sfakia\",\"Sfakia\",\"Sfakia\",\"Sfakia\",\"Sfakia\",\"Sfakia\",\"Sfakia\",\"Sfakia\",\"Sfakia\",\"Sfakia\",\"Sfakia\",\"Sfakia\",\"Sfakia\",\"Sfakia\",\"Sfakia\",\"Sfakia\",\"Sfakia\",\"Sfakia\",\"Sfakia\",\"Sfakia\",\"Sfakia\",\"Sfakia\",\"Sfakia\",\"Sfakia\",\"Sfakia\",\"Sfakia\",\"Sfakia\",\"Sfakia\",\"Sfakia\",\"Sfakia\",\"Sfakia\",\"Sfakia\",\"Sfakia\",\"Sfakia\",\"Sfakia\",\"Sfakia\",\"Sfakia\",\"Sfakia\",\"Sfakia\",\"Sfakia\",\"Sfakia\",\"Sfakia\",\"Sfakia\",\"Sfakia\",\"Sfakia\",\"Sfakia\",\"Sfakia\",\"Sfakia\",\"Sfakia\",\"Sfakia\",\"Sfakia\",\"Sfakia\",\"Sfakia\",\"Sfakia\",\"Gaudos\",\"Gaudos\",\"Gaudos\",\"Gaudos\",\"Gaudos\"],\"x0\":\" \",\"xaxis\":\"x\",\"y\":[23.5,34.333333333333336,13.125,21.5,52.083333333333336,21.25,21.25,25.0,30.0,24.0,12.5,47.0,23.5,40.0,20.0,17.25,40.84615384615385,16.285714285714285,87.5,64.28571428571429,15.666666666666666,15.75,19.75,32.5,35.0,40.0,37.5,35.0,42.5,25.5,23.5,20.0,30.5,24.0,25.5,32.5,26.666666666666668,12.714285714285714,45.0,29.5,31.0,20.0,56.25,16.666666666666668,19.8,24.0,26.25,26.666666666666668,21.2,26.125,20.0,22.5,14.8,29.0,29.0,18.75,34.2,26.428571428571427,17.25,15.666666666666666,15.666666666666666,44.666666666666664,45.888888888888886,17.25,43.333333333333336,17.25,14.75,17.25,17.25,17.25,21.0,85.0,21.25,25.0,43.25,66.0,26.0,33.333333333333336,16.5,17.25,17.25,17.4,19.666666666666668,24.0,21.666666666666668,20.0,54.666666666666664,53.5,24.714285714285715,27.142857142857142,24.714285714285715,52.0,24.5,30.333333333333332,53.75,40.0,27.0,28.75,25.0,19.75,29.5,29.5,19.75,39.5,20.0,19.75,28.75,46.15384615384615,29.5,21.0,21.666666666666668,12.5,14.375,40.0,38.833333333333336,19.25,34.5,38.0,37.5,31.5,44.0,26.0,42.0,12.75,39.166666666666664,45.0,30.5,15.666666666666666,18.5,22.5,21.5,18.666666666666668,51.42857142857143,54.0,16.5,23.0,44.0,28.5,25.0,47.25,19.5,45.0,56.75,104.0,39.5,20.0,20.0,41.4,25.0,48.125,23.333333333333332,52.5,35.5,26.333333333333332,23.833333333333332,15.0,21.666666666666668,15.0,20.0,23.333333333333332,61.0,24.0,17.5,16.25,32.5,18.75,22.0,36.666666666666664,17.0,14.333333333333334,42.666666666666664,26.666666666666668,21.666666666666668,25.76923076923077,56.666666666666664,17.142857142857142,13.75,22.6,18.75,24.5,31.5,19.0,30.333333333333332,15.666666666666666,14.166666666666666,27.0,17.5,24.5,16.25,26.0,18.5,13.333333333333334,55.8,24.4,33.0,35.0,17.0,24.0,33.6,23.333333333333332,47.4,26.25,35.0,10.6,20.0,72.0,14.6,17.25,27.5,50.0,15.0,34.5,121.25,27.5,21.8,20.0,28.5,21.5,17.5,28.0,25.0,24.0,71.25,15.0,29.0,47.5,17.0,43.75,58.333333333333336,26.25,18.0,25.0,18.75,32.0,28.75,20.666666666666668,32.4,20.0,16.666666666666668,16.25,16.666666666666668,31.666666666666668,30.4,31.5,23.5,50.0,15.8,18.0,28.0,17.5,23.833333333333332,23.5,35.0,27.5,47.5,18.333333333333332,47.5,20.444444444444443,35.5,20.0,31.666666666666668,70.0,36.666666666666664,38.333333333333336,20.0,22.0,44.44444444444444,18.333333333333332,18.75,19.8,12.833333333333334,15.0,25.0,11.75,44.5,41.0,28.6,24.0,12.2,35.5,14.5,30.0,16.75,17.5,23.833333333333332,54.5,15.5,19.5,27.0,54.1,32.75,25.0,26.666666666666668,42.142857142857146,20.666666666666668,23.0,12.0,34.5,54.0,48.333333333333336,40.0,18.0,42.5,45.0,77.2,19.0,42.0,42.0,19.88888888888889,25.0,18.666666666666668,24.5,21.5,44.375,37.5,19.75,26.666666666666668,26.666666666666668,30.0,17.5,56.666666666666664,17.0,17.5,34.333333333333336,45.0,8.0,37.5,37.5,63.0,33.0,17.333333333333332,19.666666666666668,18.0,22.0,31.125,16.666666666666668,19.0,23.0,33.57142857142857,45.69230769230769,37.5,14.5,40.0,40.0,140.0,16.0,26.666666666666668,20.0,26.666666666666668,35.0,22.0,21.0,31.8,8.285714285714286,49.4,27.0,43.625,30.875,40.0,42.0,19.5,46.0,37.5,22.0,19.0,52.0,49.375,33.5,13.333333333333334,25.0,23.2,21.4,65.0,20.0,41.0,43.0,37.0,31.0,30.0,44.0,23.666666666666668,28.0,17.333333333333332,9.166666666666666,50.0,35.0,11.25,17.0,31.428571428571427,26.0,68.33333333333333,51.25,46.0,66.4,36.5,24.0,26.125,25.0,21.4,24.0,17.2,72.5,58.57142857142857,25.0,25.0,30.0,30.0,47.5,33.333333333333336,32.5,30.0,28.75,36.25,25.0,33.0,27.0,43.833333333333336,56.25,22.5,43.666666666666664,66.66666666666667,77.91666666666667,22.5,43.666666666666664,19.25,18.8,24.0,53.5,21.333333333333332,17.75,23.0,34.5,25.0,25.0,19.75,91.375,25.2,28.0,21.5,15.166666666666666,100.0,46.25,18.333333333333332,25.0,74.7,23.5,30.0,80.0,12.5,16.666666666666668,15.0,41.6,63.92857142857143,26.0,18.75,17.8,20.0,30.0,26.428571428571427,73.75,31.25,23.75,16.25,32.5,47.5,47.666666666666664,33.57142857142857,32.0,11.0,29.0,25.5,25.5,20.0,17.5,14.0,23.4,32.0,92.85714285714286,22.5,49.5,24.0,45.142857142857146,63.5,50.0,21.166666666666668,33.0,27.571428571428573,26.625,42.083333333333336,33.8,15.0,45.0,41.6,26.666666666666668,9.0,171.2,45.333333333333336,23.333333333333332,28.333333333333332,32.5,17.142857142857142,78.0,15.0,50.0,26.0,18.5,30.857142857142858,55.5,10.0,47.666666666666664,66.58333333333333,60.0,21.875,30.0,14.0,26.666666666666668,38.333333333333336,13.0,28.5,19.0,69.16666666666667,25.5,18.333333333333332,28.0,10.0,25.4,9.75,22.166666666666668,11.0,34.0,34.5,25.0,22.25,30.0,41.25,20.0,20.875,40.0,40.0,14.375,6.5,44.0,49.166666666666664,16.2,30.0,30.0,21.0,17.142857142857142,54.166666666666664,75.0,33.0,27.5,27.0,33.333333333333336,49.333333333333336,23.333333333333332,43.8,15.833333333333334,31.8,16.666666666666668,16.2,22.333333333333332,18.0,30.0,49.666666666666664,9.166666666666666,30.0,55.6,33.75,17.0,35.0,18.0,29.6,47.5,27.5,28.0,40.666666666666664,27.692307692307693,25.0,15.0,28.375,40.0,54.5,38.0,15.4,46.0,12.8,15.0,26.4,15.0,22.833333333333332,20.8,42.5,30.25,20.625,15.0,17.142857142857142,20.0,21.0,16.666666666666668,33.333333333333336,15.0,21.25,66.75,17.0,17.0,27.5,24.5,23.5,17.0,30.0,30.0,37.5,46.2,11.25,25.0,25.0,33.0,37.0,33.75,16.25,11.666666666666666,23.5,22.88888888888889,25.0,23.333333333333332,13.2,31.11111111111111,37.5,26.25,14.0,31.0,35.9,10.0,27.0,16.666666666666668,27.8,28.5,30.0,42.5,41.25,27.5,22.5,17.5,20.0,56.25,25.0,31.25,43.0,20.0,22.666666666666668,25.0,26.25,27.5,15.625,26.0,25.0,27.0,18.75,39.5,39.5,41.857142857142854,18.75,30.0,26.666666666666668,46.666666666666664,41.25,17.0,47.57142857142857,37.5,15.0,20.0,20.5,17.5,20.0,47.666666666666664,23.333333333333332,26.666666666666668,32.0,28.333333333333332,27.5,18.333333333333332,29.5,20.0,37.5,32.0,65.0,15.666666666666666,20.0,15.0,27.0,33.25,23.333333333333332,26.666666666666668,42.5,19.75,29.0,25.0,28.333333333333332,20.0,10.0,51.5,20.0,18.0,43.5,50.0,18.0,24.0,13.4,23.333333333333332,31.666666666666668,17.5,31.666666666666668,11.666666666666666,13.857142857142858,23.333333333333332,13.4,18.0,11.5,32.22222222222222,103.0,53.3,38.0,26.666666666666668,26.0,22.5,18.666666666666668,18.75,21.0,14.0,31.0,28.333333333333332,23.0,17.0,12.75,66.4,36.0,25.0,32.5,33.8,37.5,15.0,12.142857142857142,20.0,30.0,36.666666666666664,34.0,62.5,20.0,31.0,17.75,26.0,39.75,13.0,186.0,30.0,24.0,26.0,24.6,24.0,19.5,20.0,20.0,28.5,46.63636363636363,57.833333333333336,14.8,93.0,11.0,21.25,35.0,42.5,28.0,15.5,22.0,17.5,14.0,31.666666666666668,50.0,21.25,55.714285714285715,31.22222222222222,17.5,33.75,26.833333333333332,30.5,28.5,15.0,42.5,31.0,22.25,38.333333333333336,17.142857142857142,16.333333333333332,42.0,56.666666666666664,56.666666666666664,56.666666666666664,34.142857142857146,51.4,24.0,20.0,30.0,36.0,19.8,59.0,19.555555555555557,8.75,14.4,14.4,40.375,43.125,44.625,20.0,30.0,5.5,23.5,24.0,22.5,28.0,12.0,18.75,25.0,20.0,19.5,19.0,56.0,4.285714285714286,32.5,25.0,65.71428571428571,47.142857142857146,21.25,14.166666666666666,18.333333333333332,20.0,10.0,17.333333333333332,16.75,25.5,14.833333333333334,30.5,49.0,55.0,34.5,35.285714285714285,32.0,31.5,50.0,32.857142857142854,11.25,50.0,24.0,16.666666666666668,50.0,22.0,39.8,54.666666666666664,20.375,25.0,22.5,30.0,3.3333333333333335,40.3,11.666666666666666,10.0,35.0,20.2,29.2,53.5,38.25,49.0,39.5,59.214285714285715,67.5,47.5,17.2,17.2,11.11111111111111,15.75,15.0,46.666666666666664,33.75,22.666666666666668,40.0,13.5,45.7,41.0,35.1,26.0,11.5,21.333333333333332,65.92307692307692,45.166666666666664,33.333333333333336,24.0,46.25,48.714285714285715,69.0,71.16666666666667,36.0,25.0,16.666666666666668,30.0,22.5,28.75,26.5,18.0,32.5,23.333333333333332,20.0,25.0,70.57142857142857,31.5,40.0,18.75,27.5,26.5,10.0,15.0,46.0,18.2,27.75,36.0,18.75,22.5,20.666666666666668,14.428571428571429,68.5,66.66666666666667,41.5,48.888888888888886,11.75,12.0,8.75,37.666666666666664,15.2,23.75,4.0,12.333333333333334,12.0,10.833333333333334,26.666666666666668,34.5,30.5,17.0,13.4,15.0,13.4,15.0,14.0,18.333333333333332,53.4,47.76923076923077,12.0,18.0,25.0,25.0,24.25,24.25,26.75,44.5,41.666666666666664,40.0,14.0,9.0,11.5,23.5,14.666666666666666,15.666666666666666,46.4375,30.0,18.875,25.714285714285715,42.666666666666664,33.75,33.0,21.333333333333332,48.75,45.75,39.5,119.6,14.0,97.25,14.833333333333334,25.0,9.0,94.44444444444444,16.25,35.5,22.0,40.0,30.0,17.25,6.25,16.666666666666668,15.0,25.0,18.428571428571427,33.333333333333336,26.166666666666668,11.0,24.0,20.0,16.0,10.75,23.5,20.0,33.333333333333336,18.166666666666668,20.0,16.8,22.666666666666668,16.666666666666668,32.875,2.5,24.0,20.0,21.666666666666668,19.666666666666668,30.0,22.5,20.0,39.0,26.5,123.75,37.5,30.5,35.0,16.666666666666668,20.0,24.5,20.2,22.5,13.666666666666666,12.5,31.333333333333332,54.0,12.428571428571429,25.0,30.0,23.333333333333332,9.0,22.5,16.666666666666668,15.0,25.0,18.0,16.0,23.666666666666668,25.0,15.714285714285714,14.75,20.8,23.0,12.0,17.333333333333332,16.333333333333332,17.125,43.75,37.5,16.666666666666668,12.5,24.75,20.857142857142858,16.666666666666668,17.5,21.0,32.22222222222222,16.666666666666668,225.0,47.25,15.0,31.125,16.0,23.0,12.5,20.8,37.5,15.4,26.333333333333332,25.0,23.333333333333332,13.666666666666666,33.0,25.0,12.5,10.0,21.0,13.333333333333334,15.333333333333334,23.333333333333332,17.5,57.5,36.333333333333336,12.5,12.5,19.666666666666668,11.88888888888889,38.0,40.0,7.571428571428571,37.5,15.666666666666666,24.0,20.0,11.666666666666666,14.75,22.5,15.0,12.142857142857142,14.75,85.71428571428571,77.77777777777777,83.33333333333333,42.5,42.5,15.333333333333334,21.666666666666668,18.75,19.333333333333332,21.0,20.666666666666668,12.5,26.5,61.111111111111114,14.75,10.833333333333334,56.333333333333336,33.333333333333336,21.0,23.5,56.666666666666664,38.5,75.5,7.5,53.5,30.0,10.857142857142858,15.0,7.5,20.333333333333332,9.545454545454545,20.0,33.333333333333336,23.75,18.333333333333332,14.75,16.666666666666668,18.333333333333332,18.0,19.5,28.0,11.75,63.0,62.166666666666664,79.16666666666667,12.0,33.0,33.0,37.5,33.0,30.0,13.75,24.5,13.0,33.0,33.0,15.833333333333334,37.333333333333336,14.0,20.75,29.0,16.666666666666668,79.16666666666667,79.16666666666667,28.0,18.0,18.25,47.2,13.0,26.0,30.0,35.0,27.666666666666668,90.0,22.5,20.333333333333332,12.857142857142858,15.0,14.166666666666666,22.75,10.0,21.0,13.75,86.875,37.5,14.0,21.666666666666668,17.5,59.0,40.0,38.0,17.333333333333332,26.666666666666668,30.25,33.0,23.166666666666668,40.0,25.0,32.0,21.75,10.5,31.666666666666668,20.333333333333332,12.0,23.166666666666668,14.0,24.5,23.75,30.25,53.2,26.333333333333332,13.333333333333334,24.333333333333332,43.0,41.833333333333336,27.5,24.0,35.0,22.5,20.5,17.5,10.0,42.5,20.0,13.333333333333334,24.75,25.5,14.0,33.0,42.5,19.5,21.5,38.333333333333336,19.5,70.66666666666667,25.0,23.75,9.5,23.333333333333332,14.75,21.25,73.33333333333333,59.57142857142857,14.0,27.5,16.5,19.5,73.66666666666667,23.0,22.75,20.0,50.0,38.18181818181818,23.75,20.0,43.0,25.0,46.25,25.0,16.666666666666668,55.0,11.5,48.666666666666664,41.25,32.5,15.4,28.333333333333332,45.5,100.0,48.25,35.666666666666664,22.5,32.666666666666664,14.0,38.5,20.0,77.77777777777777,20.0,60.0,32.81818181818182,14.75,15.0,14.833333333333334,14.166666666666666,30.0,14.5,35.6,74.375,10.5,22.5,24.0,40.2,15.333333333333334,29.625,99.85714285714286,32.0,45.0,12.5,11.666666666666666,61.0,9.0,17.0,61.666666666666664,14.833333333333334,59.166666666666664,16.333333333333332,45.55555555555556,16.666666666666668,12.666666666666666,12.6,62.27272727272727,50.0,18.0,21.5,24.75,48.0,24.666666666666668,18.0,75.83333333333333,25.0,21.666666666666668,24.75,22.0,66.58333333333333,32.5,14.0,19.333333333333332,22.5,19.333333333333332,41.0,21.333333333333332,66.58333333333333,12.666666666666666,36.666666666666664,21.0,22.25,65.0,11.5,13.333333333333334,16.0,58.42857142857143,22.0,27.5,227.6,14.166666666666666,77.75,31.666666666666668,12.833333333333334,15.2,22.875,12.5,19.0,41.42857142857143,32.333333333333336,29.666666666666668,19.0,16.5,24.6,46.666666666666664,49.375,57.142857142857146,58.333333333333336,33.333333333333336,30.0,119.16666666666667,99.16666666666667,43.2,54.333333333333336,42.0,37.5,12.833333333333334,40.0,16.6,8.0,27.5,32.0,30.0,20.0,30.6,12.5,14.5,18.0,18.666666666666668,30.0,37.5,41.333333333333336,73.33333333333333,19.8,26.666666666666668,38.333333333333336,51.666666666666664,50.25,23.333333333333332,24.0,29.0,28.333333333333332,21.666666666666668,31.0,42.5,19.0,27.6,29.0,11.0,17.5,71.0,23.75,32.75,11.285714285714286,21.666666666666668,15.5,32.5,18.0,8.666666666666666,18.333333333333332,15.666666666666666,8.875,26.166666666666668,10.0,22.5,35.714285714285715,40.54545454545455,20.0,13.75,20.8,109.0,16.25,20.0,18.5,10.0,17.4,21.5,32.0,24.5,41.75,26.666666666666668,22.0,37.25,20.0,22.0,24.0,43.0,22.25,40.0,18.0,47.5,27.5,11.8,21.0,13.8,16.0,86.66666666666667,25.0,30.0,23.333333333333332,13.333333333333334,21.666666666666668,17.333333333333332,26.25,14.666666666666666,21.666666666666668,19.125,35.0,19.75,15.666666666666666,86.25,11.75,23.0,17.166666666666668,13.333333333333334,18.75,19.0,39.8,15.0,31.555555555555557,36.0,13.333333333333334,11.11111111111111,26.25,20.0,31.0,36.0,16.25,13.8,14.0,37.0,12.75,33.75,26.0,27.0,30.571428571428573,40.0,15.4,25.0,13.666666666666666,16.0,24.0,30.5,13.0,21.666666666666668,11.2,17.25,17.5,21.0,32.5,23.75,18.5,12.5,23.0,20.0,34.0,15.0,14.166666666666666,9.75,39.5,16.0,30.0,31.0,19.75,22.5,15.5,23.5,16.666666666666668,28.666666666666668,21.0,20.5,13.8,22.8,14.4,16.25,13.75,15.0,15.0,28.8,16.2,17.333333333333332,40.0,14.166666666666666,14.0,22.0,50.0,32.0,42.166666666666664,21.666666666666668,13.0,16.666666666666668,17.25,11.666666666666666,20.0,13.75,17.75,14.75,15.0,19.0,15.857142857142858,17.333333333333332,30.0,19.8,25.0,20.0,20.0,119.16666666666667,27.5,25.0,21.5,15.25,15.0,25.0,18.0,21.5,20.5,26.666666666666668,10.0,9.75,19.666666666666668,15.0,42.857142857142854,25.0,12.0,79.0,20.0,538.4615384615385,6.5,10.0,22.5,11.25,22.25,21.666666666666668,8.0,27.5,19.0,18.333333333333332,35.0,41.333333333333336,52.333333333333336,47.333333333333336,44.333333333333336,12.5,15.0,7.5,11.25,37.5,23.333333333333332,11.0,11.25,15.0,17.666666666666668,13.75,35.166666666666664,33.6,17.0,27.5,12.0,59.81818181818182,16.666666666666668,18.0,17.5,25.5,23.333333333333332,19.75,15.0,13.75,65.0,40.0,19.75,19.75,19.75,37.666666666666664,25.714285714285715,18.0,20.0,25.0,14.166666666666666,14.5,10.25,13.75,36.666666666666664,12.5,19.0,22.5,11.25,57.0,8.0,85.0,14.0,32.5,12.875,50.0,12.5,60.0,14.0,33.333333333333336,15.0,26.384615384615383,21.5,20.333333333333332,23.333333333333332,13.875,20.75,26.25,22.5,17.5,13.0,14.833333333333334,61.5,16.666666666666668,32.0,24.0,56.0,38.0,8.75,30.6,30.6,25.8,12.5,11.0,68.0,27.375,61.0,19.5,12.75,18.0,25.0,24.0,13.75,35.0,45.714285714285715,17.5,13.75,25.0,25.0,18.5,16.6,30.75,25.0,15.75,12.5,63.333333333333336,45.25,65.66666666666667,16.25,30.0,41.5,18.0,20.0,49.2,32.5,33.166666666666664,27.0,19.0,37.5,46.0,50.0,20.0,11.25,12.333333333333334,28.333333333333332,23.571428571428573,32.166666666666664,18.75,20.0,20.0,17.5,18.166666666666668,88.0,40.0,27.75,25.0,32.5,22.5,12.25,30.0,52.0,43.0,48.0,11.5,14.5,24.5,25.333333333333332,33.333333333333336,15.5,10.5,19.5,25.0,12.5,17.5,13.75,31.5,17.0,9.0,70.0,61.5,54.8,44.0,17.5,25.0,88.18181818181819,14.0,32.5,83.0,37.5,27.5,25.0,28.5,17.5,20.0,20.0,10.0,30.0,11.666666666666666,34.333333333333336,23.333333333333332,20.0,12.5,20.0,142.6875,20.0,62.5,18.0,29.5,41.5,17.0,22.8,14.0,16.0,12.75,16.0,25.0,15.0,29.5,30.0,17.142857142857142,45.57142857142857,21.0,22.8,18.75,25.0,34.8,20.0,19.0,16.333333333333332,24.5,22.8,14.125,97.75,70.875,30.4,16.666666666666668,15.0,13.333333333333334,13.75,12.5,14.75,15.0,15.0,15.0,22.0,16.25,28.25,21.333333333333332,27.5,19.5,26.666666666666668,16.333333333333332,9.0,15.0,12.0,11.666666666666666,20.0,20.0,21.25,20.333333333333332,27.5,17.5,10.833333333333334,42.5,82.33333333333333,13.333333333333334,21.0,15.5,47.5,19.25,22.75,25.5,21.75,43.75,20.0,21.5,17.0,15.333333333333334,10.0,21.75,14.5,27.0,57.44444444444444,33.75,33.75,20.0,41.8,89.33333333333333,31.666666666666668,50.166666666666664,25.0,20.0,75.0,11.666666666666666,21.5,14.5,27.25,23.428571428571427,19.428571428571427,36.333333333333336,52.5,40.5,15.8,12.5,82.14285714285714,41.42857142857143,44.125,76.11111111111111,55.0,18.8,18.8,12.5,19.25,67.16666666666667,16.0,31.0,48.2,28.0,24.8,21.0,19.0,26.666666666666668,26.0,65.0,10.75,11.666666666666666,61.0,17.8,60.5,53.125,17.5,16.333333333333332,14.25,51.0,22.333333333333332,13.333333333333334,16.25,19.75,54.833333333333336,43.5,44.5,16.0,33.333333333333336,26.25,62.833333333333336,62.833333333333336,74.25,12.0,32.5,24.333333333333332,24.0,25.0,25.5,25.0,25.0,25.0,27.0,15.0,18.666666666666668,24.5,27.0,11.833333333333334,23.0,35.875,20.6,32.5,11.166666666666666,25.666666666666668,56.0,41.0,17.2,18.333333333333332,16.25,16.25,15.0,34.2,34.0,11.428571428571429,39.0,23.333333333333332,18.0,51.666666666666664,32.5,18.714285714285715,40.0,31.0,31.875,28.625,28.25,20.0,30.0,22.5,26.0,86.0,91.0,20.0,17.5,12.166666666666666,15.0,18.0,22.5,28.25,20.0,23.25,19.125,17.6,25.0,17.5,31.25,25.0,24.0,40.0,22.5,18.75,12.0,35.0,35.0,35.0,35.0,25.0,35.0,30.0,25.0,34.0,18.666666666666668,27.5,58.333333333333336,11.666666666666666,34.285714285714285,22.333333333333332,18.75,24.833333333333332,24.0,22.5,15.0,51.5,16.25,24.333333333333332,32.0,29.0,60.0,37.0,19.75,16.666666666666668,28.333333333333332,23.333333333333332,16.666666666666668,25.0,30.0,68.0,63.22222222222222,25.0,25.0,20.0,20.0,20.0,40.0,12.0,43.75,32.5,30.0,15.0,25.0,18.666666666666668,25.0,18.0,16.666666666666668,25.0,22.0,14.2,11.666666666666666,22.5,25.0,57.0,60.0,12.666666666666666,21.5,43.333333333333336,20.0,23.333333333333332,25.0,33.5,75.0,12.5,12.25,14.25,20.0,79.83333333333333,100.4,31.5,25.0,20.0,10.833333333333334,42.0,17.5,86.0,12.4,27.0,16.666666666666668,82.5,25.0,32.5,34.0,18.75,12.5,33.333333333333336,24.6,44.166666666666664,31.0,31.5,24.333333333333332,29.0,22.333333333333332,28.0,22.0,17.5,21.428571428571427,20.0,19.25,23.75,8.666666666666666,15.75,20.0,20.0,22.0,19.5,19.5,18.75,21.0,90.33333333333333,18.25,27.875,25.75,17.5,11.25,27.666666666666668,13.166666666666666,76.6,56.111111111111114,27.1,15.0,31.666666666666668,44.0,21.25,28.333333333333332,15.0,19.0,15.0,21.666666666666668,50.0,49.888888888888886,61.833333333333336,23.666666666666668,11.5,52.6875,18.0,38.75,43.333333333333336,21.0,80.0,14.666666666666666,19.5,10.0,13.333333333333334,10.0,10.0,13.333333333333334,10.75,23.166666666666668,12.666666666666666,19.5,24.833333333333332,23.75,40.0,23.5,14.666666666666666,40.0,30.5,35.0,15.0,18.5,24.25,23.5,25.5,30.0,16.666666666666668,25.0,10.0,82.5,22.666666666666668,20.0,24.3,72.5,25.0,44.5,66.5,23.0,54.285714285714285,23.0,30.0,23.75,32.5,39.333333333333336,23.333333333333332,60.0,25.0,27.5,39.5,25.0,10.0,16.0,18.333333333333332,19.4,16.0,16.666666666666668,30.0,13.25,30.0,11.666666666666666,10.5,16.25,14.0,48.2,30.0,19.0,15.0,15.0,19.5,13.0,12.5,18.333333333333332,14.0,13.75,17.8,17.5,25.666666666666668,16.333333333333332,16.75,29.0,26.666666666666668,15.0,19.5,15.0,16.666666666666668,25.0,26.333333333333332,17.75,13.75,14.0,46.0,10.0,11.6,30.0,28.8,13.75,17.5,18.166666666666668,13.75,13.75,9.75,21.375,40.0,36.4,24.25,10.333333333333334,14.333333333333334,16.25,21.666666666666668,9.0,14.75,19.0,48.75,34.5,13.5,23.333333333333332,25.0,36.0,43.333333333333336,24.0,13.25,23.75,35.0,11.0,17.25,34.5,56.0,11.428571428571429,24.5,13.0,15.75,11.25,30.0,29.166666666666668,20.166666666666668,25.0,15.0,25.0,40.75,17.8,36.125,31.555555555555557,70.6,35.0,14.0,21.666666666666668,20.0,89.1,25.714285714285715,21.0,100.5,10.75,28.0,21.0,19.5,21.5,27.0,13.571428571428571,22.333333333333332,16.75,27.5,66.66666666666667,36.75,17.5,18.833333333333332,15.142857142857142,19.666666666666668,10.0,15.0,21.0,20.0,41.666666666666664,14.285714285714286,86.2,22.666666666666668,30.0,18.333333333333332,32.0,16.333333333333332,18.0,30.0,29.0,34.0,16.25,12.333333333333334,29.0,15.0,24.0,27.5,27.5,28.0,37.0,15.5,19.2,85.5,16.25,18.5,23.25,11.25,15.666666666666666,16.666666666666668,24.0,15.75,25.0,24.0,22.25,12.75,12.0,16.25,24.0,30.0,30.0,25.0,48.0,16.25,13.5,26.6,36.0,28.0,33.333333333333336,16.0,96.28571428571429,30.2,27.666666666666668,52.0,34.0,14.333333333333334,10.0,15.0,24.333333333333332,24.142857142857142,27.5,18.5,115.0,21.25,37.5,33.333333333333336,13.333333333333334,22.5,24.0,16.0,22.0,14.0,12.0,22.5,16.0,29.666666666666668,30.0,39.0,17.5,67.0,31.833333333333332,26.25,18.333333333333332,17.5,37.0,27.5,13.0,15.5,11.428571428571429,18.333333333333332,27.5,35.7,31.666666666666668,22.0,20.0,33.333333333333336,38.888888888888886,38.0,16.666666666666668,22.0,25.0,11.4,54.333333333333336,38.333333333333336,16.0,18.666666666666668,31.75,21.25,12.0,15.0,20.0,53.125,26.666666666666668,11.666666666666666,20.0,21.0,32.5,33.5,27.5,22.8,8.333333333333334,26.5,16.666666666666668,25.0,37.5,28.6,15.833333333333334,12.25,37.5,50.0,17.5,18.666666666666668,15.0,13.333333333333334,21.0,72.0,15.0,80.5,19.5,130.625,12.0,21.25,24.75,27.5,27.0,15.666666666666666,90.0,14.333333333333334,11.666666666666666,16.25,25.0,15.5,12.5,11.25,17.25,14.8,50.0,17.5,20.0,19.5,12.222222222222221,18.75,41.666666666666664,16.5,15.666666666666666,24.5,15.0,53.166666666666664,13.8,18.333333333333332,23.25,23.333333333333332,14.166666666666666,40.5,22.2,35.0,16.666666666666668,39.75,21.25,30.857142857142858,27.5,28.333333333333332,20.666666666666668,20.6,23.75,30.0,35.5,38.0,14.6,40.0,11.666666666666666,25.0,16.666666666666668,29.5,33.333333333333336,45.7,16.666666666666668,13.0,16.666666666666668,15.0,59.55555555555556,43.333333333333336,18.0,25.0,36.0,65.16666666666667,35.0,25.75,16.25,31.25,18.666666666666668,50.142857142857146,46.357142857142854,39.142857142857146,22.75,47.583333333333336,10.0,15.0,12.714285714285714,28.0,7.375,20.5,22.5,25.0,34.375,9.375,26.25,21.0,25.0,15.0,35.0,17.0,32.0,14.5,13.333333333333334,11.25,9.0,21.0,16.0,40.666666666666664,14.75,16.0,40.0,97.5,56.125,17.0,30.0,24.0,21.8,27.0,25.0,43.5,18.333333333333332,12.5,25.333333333333332,31.0,34.0,32.5,27.5,16.666666666666668,30.0,35.75,12.5,15.8,15.0,30.666666666666668,26.0,38.75,27.0,50.875,16.333333333333332,14.8,22.5,30.6,20.0,38.333333333333336,58.22222222222222,23.0,36.0,42.0,55.5,43.333333333333336,30.0,33.0,15.0,49.8,25.0,25.8,15.0,15.0,33.333333333333336,16.25,18.0,18.0,20.0,46.285714285714285,20.0,41.333333333333336,31.5,47.0,29.0,20.0,23.333333333333332,23.333333333333332,25.0,24.0,30.0,27.666666666666668,30.0,30.0,50.0,50.0,54.25,17.5,13.2,22.5,63.875,9.5,30.0,46.0,36.125,15.166666666666666,12.0,35.7,22.5,27.5,21.333333333333332,31.833333333333332,36.25,31.0,18.333333333333332,67.16666666666667,16.75,31.5,57.2,23.75,21.5,19.75,17.666666666666668,31.333333333333332,18.666666666666668,28.0,14.0,18.666666666666668,13.333333333333334,34.5,39.5,14.25,10.75,14.0,30.0,36.0,31.5,26.5,70.4,43.2,20.0,18.75,32.0,15.333333333333334,27.5,38.0,17.6,11.8,37.0,37.0,62.27272727272727,26.666666666666668,17.5,10.0,11.142857142857142,34.333333333333336,33.0,20.4,38.0,39.333333333333336,23.333333333333332,15.0,69.75,39.75,58.0,18.75,15.0,26.166666666666668,52.75,13.75,57.142857142857146,36.666666666666664,27.5,14.5,11.4,9.333333333333334,47.1,13.5,13.75,30.5,31.75,35.75,24.666666666666668,20.0,16.666666666666668,20.0,17.0,26.5,16.0,20.0,9.4,32.0,38.0,21.0,31.5,31.5,31.5,21.0,31.5,29.833333333333332,24.333333333333332,25.0,14.8,18.75,15.0,30.0,27.5,20.0,17.833333333333332,11.666666666666666,26.5,95.16666666666667,50.666666666666664,55.0,37.25,12.25,33.333333333333336,60.0,10.666666666666666,46.25,16.25,23.0,14.5,12.0,17.5,29.5,21.428571428571427,28.0,45.0,228.3,17.5,24.5,22.5,28.0,46.0,30.666666666666668,28.0,26.0,22.333333333333332,29.0,31.5,29.0,29.0,65.0,35.5,35.0,17.142857142857142,16.666666666666668,29.0,36.666666666666664,23.166666666666668,33.5,31.5,11.0,26.0,17.666666666666668,12.0,21.0,19.2,41.666666666666664,62.25,105.5,23.833333333333332,18.0,52.0,11.666666666666666,28.0,27.0,19.8,36.5,51.0,27.0,57.5,23.5,50.333333333333336,61.75,61.75,19.5,24.5,62.857142857142854,34.75,13.8,56.9,35.0,20.125,15.0,34.0,19.666666666666668,11.8,29.5,30.714285714285715,28.8,28.8,19.5,51.0,20.0,5.0,50.25,13.75,34.75,17.5,77.5,21.25,17.8,26.666666666666668,21.666666666666668,29.5,10.714285714285714,23.333333333333332,18.818181818181817,23.333333333333332,54.75,22.0,12.5,15.333333333333334,17.25,37.5,27.5,23.333333333333332,40.625,8.666666666666666,28.333333333333332,32.0,76.66666666666667,46.666666666666664,36.5,18.0,21.25,54.333333333333336,38.5,17.0,12.5,15.0,32.5,20.5,29.0,32.0,14.75,22.5,27.8,14.75,27.4,11.25,15.0,16.0,20.0,27.0,14.0,35.0,51.875,22.75,13.75,17.5,17.142857142857142,50.333333333333336,11.75,48.2,37.166666666666664,27.333333333333332,24.75,18.0,26.5,21.214285714285715,73.5,23.75,24.0,23.333333333333332,20.5,30.0,19.8,23.0,20.0,17.5,15.333333333333334,32.0,24.5,27.5,18.333333333333332,32.0,15.0,15.0,15.0,14.666666666666666,14.666666666666666,14.666666666666666,14.666666666666666,27.5,17.5,23.75,19.0,28.0,27.5,20.0,25.0,24.666666666666668,15.0,27.0,25.0,29.0,25.2,25.0,15.25,25.0,11.666666666666666,14.0,53.333333333333336,16.25,100.0,8.75,34.5,47.5,38.5,49.5,15.0,22.5,24.666666666666668,23.545454545454547,25.0,34.5,14.25,18.75,26.0,42.0,25.0,16.25,26.0,25.0,25.0,24.5,60.0,10.0,22.5,32.0,15.0,16.8,16.25,21.8,22.0,29.166666666666668,64.1,45.0,24.0,22.25,13.333333333333334,35.2,19.25,13.75,35.0,25.0,20.0,13.5,35.0,14.0,17.25,19.5,22.0,19.2,33.333333333333336,22.5,8.75,80.0,45.3,30.0,30.0,35.0,30.0,17.666666666666668,33.333333333333336,48.0,23.333333333333332,17.0,16.8,14.333333333333334,31.5,20.0,23.0,31.666666666666668,13.571428571428571,11.8,44.4,61.666666666666664,22.428571428571427,37.142857142857146,37.142857142857146,37.142857142857146,17.5,13.75,18.0,15.4,13.333333333333334,17.5,10.0,80.0,38.333333333333336,33.333333333333336,17.142857142857142,29.0,17.0,14.0,50.0,18.0,14.75,18.666666666666668,28.5,18.0,14.0,11.857142857142858,11.2,11.666666666666666,83.25,23.75,25.0,30.0,60.714285714285715,13.333333333333334,23.333333333333332,20.0,26.5,21.75,11.2,24.0,11.0,37.5,21.25,29.0,17.0,12.5,18.75,13.166666666666666,10.0,25.142857142857142,15.0,24.0,39.25,20.0,30.0,19.75,26.0,13.5,26.666666666666668,41.0,28.333333333333332,42.0,22.6,24.0,27.0,35.0,24.5,40.875,11.4,33.0,31.666666666666668,48.75,68.75,17.8,23.8,22.5,26.8,21.5,13.333333333333334,21.5,31.666666666666668,27.25,45.0,22.5,27.8,20.666666666666668,28.75,16.666666666666668,34.0,27.25,17.2,18.22222222222222,20.0,23.333333333333332,25.5,11.25,17.8,25.5,27.5,13.75,48.75,25.0,11.75,15.5,87.5,24.25,30.375,58.5,20.555555555555557,32.5,21.25,18.75,33.0,19.5,12.5,24.25,15.0,17.333333333333332,17.666666666666668,16.666666666666668,12.2,16.0,7.75,53.333333333333336,42.5,12.0,14.75,16.6,35.0,23.5,14.4,29.6,17.5,40.0,25.0,16.6,33.0,20.0,57.166666666666664,50.0,52.42857142857143,6.666666666666667,30.833333333333332,12.5,21.5,57.5,28.5,23.75,12.0,13.0,15.0,48.625,24.75,25.0,13.285714285714286,14.0,25.5,16.666666666666668,23.25,68.75,11.75,20.0,22.5,21.666666666666668,21.333333333333332,30.5,13.0,10.571428571428571,13.75,18.5,22.0,22.5,22.5,17.0,19.5,17.5,22.5,16.666666666666668,13.75,34.5,20.0,15.0,38.75,38.75,15.0,8.25,52.0,11.5,9.0,27.5,20.0,10.0,17.5,18.75,13.6,86.2,17.5,18.333333333333332,10.25,13.571428571428571,21.5,16.5,109.66666666666667,16.5,15.0,30.0,21.666666666666668,16.0,26.666666666666668,92.0,7.5,20.0,27.5,16.0,35.714285714285715,22.5,6.0,21.0,82.2,60.3,67.0,27.5,82.2,70.0,70.0,58.5,61.0,36.75,15.833333333333334,16.666666666666668,36.75,93.75,17.5,12.25,44.0,46.666666666666664,44.5,17.5,19.25,21.666666666666668,27.5,14.0,27.5,20.0,22.5,33.0,21.0,28.5,91.66666666666667,23.0,17.5,19.25,23.0,12.0,13.75,70.0,73.33333333333333,53.333333333333336,25.0,25.714285714285715,41.666666666666664,10.0,16.25,50.0,12.5,16.666666666666668,61.166666666666664,26.666666666666668,14.25,40.0,20.714285714285715,22.5,30.0,10.25,28.333333333333332,10.0,50.0,69.83333333333333,17.666666666666668,22.0,14.375,14.0,22.0,41.666666666666664,10.166666666666666,11.0,20.0,17.0,14.5,13.125,25.5,39.666666666666664,14.0,20.0,30.0,16.0,11.166666666666666,10.0,51.25,23.666666666666668,22.333333333333332,15.666666666666666,29.5,71.58333333333333,17.0,32.0,25.0,28.4,17.6,23.5,24.5,16.0,19.5,47.5,36.666666666666664,20.0,11.4,16.666666666666668,21.75,30.75,19.0,16.666666666666668,18.333333333333332,75.0,16.333333333333332,20.2,11.25,32.0,5.25,13.25,12.4,19.285714285714285,26.0,9.6,11.0,36.0,58.0,20.0,20.0,14.0,50.5,17.75,28.571428571428573,19.666666666666668,38.57142857142857,24.5,17.25,66.0,35.0,21.428571428571427,12.5,9.5,20.0,12.833333333333334,9.75,18.333333333333332,16.75,15.75,18.666666666666668,50.0,70.0,25.0,30.0,104.4375,24.8,19.5,14.5,9.375,13.333333333333334,17.5,62.5,14.8,21.666666666666668,9.833333333333334,11.5,20.0,37.666666666666664,21.666666666666668,18.4,7.833333333333333,42.285714285714285,60.6,10.75,17.5,69.0,18.75,16.75,25.4,12.125,12.5,25.0,16.333333333333332,11.0,50.0,93.6,13.833333333333334,13.166666666666666,15.0,18.333333333333332,11.25,13.75,15.0,16.0,6.333333333333333,39.5,38.0,36.333333333333336,44.5,47.5,44.5,68.2,16.666666666666668,16.5,30.833333333333332,26.0,22.75,13.0,15.833333333333334,22.0,16.833333333333332,17.5,16.0,21.25,15.0,11.5,14.75,14.5,23.75,14.0,28.0,13.0,32.5,36.0,17.5,15.0,15.666666666666666,67.66666666666667,15.333333333333334,14.0,22.666666666666668,10.833333333333334,22.5,80.18181818181819,28.333333333333332,13.4,19.5,12.2,15.75,23.8,14.8,14.5,22.5,11.285714285714286,14.25,15.8,10.333333333333334,15.0,21.5,15.0,52.5,26.666666666666668,30.0,9.5,11.666666666666666,30.0,32.5,25.0,21.0,22.5,10.833333333333334,36.0,16.0,9.666666666666666,15.75,12.5,18.0,15.8,14.75,50.0,40.0,20.0,13.6,19.0,10.0,16.8,10.0,16.0,25.0,13.0,25.6,28.285714285714285,9.0,68.75,74.42857142857143,50.0,23.333333333333332,16.125,26.666666666666668,80.875,19.25,12.0,17.0,13.333333333333334,17.5,15.0,17.5,13.333333333333334,25.0,13.4,40.0,50.0,15.0,20.0,46.875,16.666666666666668,11.0,34.0,20.0,32.5,4.666666666666667,13.333333333333334,33.333333333333336,23.0,29.0,22.0,26.666666666666668,37.5,11.25,8.75,25.0,31.0,35.0,18.0,18.0,22.5,27.5,17.0,20.0,30.0,32.5,21.25,18.4,17.0,12.0,36.25,27.875,17.0,26.666666666666668,37.5,26.666666666666668,25.0,18.0,40.0,14.0,92.0,12.0,53.875,31.7,32.5,20.0,14.5,14.2,30.375,18.0,16.666666666666668,28.5,20.0,48.75,10.0,24.666666666666668,32.5,12.5,20.5,16.333333333333332,11.75,15.333333333333334,25.5,17.333333333333332,10.0,22.5,15.0,14.666666666666666,21.0,10.875,25.5,16.333333333333332,41.666666666666664,20.166666666666668,33.0,26.333333333333332,27.333333333333332,15.5,19.666666666666668,21.666666666666668,94.0,21.666666666666668,24.0,18.333333333333332,13.0,17.75,12.166666666666666,45.5,37.5,19.75,15.0,27.5,16.666666666666668,40.0,23.333333333333332,25.666666666666668,20.0,25.25,29.166666666666668,17.0,10.8,62.5,45.666666666666664,80.875,11.833333333333334,31.25,16.0,29.0,15.0,32.5,24.666666666666668,30.0,78.57142857142857,78.57142857142857,13.333333333333334,17.333333333333332,13.333333333333334,14.5,95.0,57.333333333333336,25.5,10.0,12.5,15.0,15.0,21.25,23.333333333333332,15.0,25.25,41.666666666666664,12.0,25.0,31.666666666666668,6.25,22.5,11.25,59.285714285714285,10.4,17.5,32.0,38.0,25.857142857142858,31.666666666666668,30.4,24.2,22.5,22.5,20.0,23.75,38.75,68.75,18.75,68.75,32.5,56.0,60.833333333333336,57.857142857142854,30.0,16.0,85.16666666666667,91.75,18.75,19.666666666666668,14.5,14.5,26.0,6.285714285714286,64.28571428571429,52.5,13.75,105.16666666666667,105.16666666666667,52.5,101.33333333333333,42.25,51.25,40.0,44.75,15.75,24.666666666666668,33.5,41.333333333333336,26.0,18.0,18.0,20.8,88.33333333333333,19.2,43.333333333333336,18.0,12.714285714285714,40.0,23.333333333333332,20.0,23.333333333333332,21.5,49.0,21.5,13.5,25.666666666666668,60.375,11.666666666666666,11.666666666666666,22.0,18.0,13.333333333333334,25.5,23.333333333333332,29.0,19.142857142857142,24.75,38.75,27.0,13.333333333333334,80.0,80.0,17.0,22.5,10.5,68.75,30.0,37.5,21.25,12.5,68.75,15.666666666666666,10.75,22.5,53.833333333333336,22.0,20.75,62.5,93.57142857142857,10.0,14.333333333333334,82.4,80.0,21.666666666666668,40.0,80.4,89.28571428571429,34.0,59.36363636363637,8.833333333333334,46.375,46.375,55.5,12.0,15.0,35.0,16.0,42.25,32.0,25.0,32.5,45.0,80.45454545454545,10.333333333333334,6.4,12.5,14.25,65.0,19.0,24.0,14.75,16.666666666666668,17.333333333333332,20.5,19.5,19.25,23.555555555555557,21.666666666666668,24.0,22.0,12.5,11.25,35.333333333333336,27.8,28.5,24.666666666666668,20.0,67.6,17.88888888888889,11.0,16.666666666666668,23.0,45.0,16.666666666666668,32.2,55.5,42.5,17.5,14.8,31.0,17.5,24.5,53.0,27.5,22.0,16.5,24.5,35.0,19.75,12.75,19.8,19.8,35.0,64.28571428571429,26.333333333333332,24.5,22.0,30.0,53.333333333333336,44.0,30.0,24.0,20.0,20.0,20.0,45.0,34.5,31.0,35.0,35.0,25.1,39.285714285714285,37.6,42.5,23.333333333333332,23.833333333333332,25.0,19.5,51.25,50.333333333333336,45.111111111111114,86.25,56.166666666666664,48.166666666666664,17.5,24.0,40.2,34.166666666666664,18.75,72.75,24.0,39.25,58.75,79.16666666666667,20.0,19.5,56.4,35.57142857142857,36.0,36.0,27.8,25.0,69.0,20.0,64.16666666666667,63.833333333333336,62.8,64.75,27.8,25.0,45.166666666666664,55.166666666666664,64.0,41.5,75.0,20.0,28.0,17.5,50.0,22.333333333333332,20.0,17.25,16.666666666666668,70.83333333333333,25.0,18.8,18.75,35.7,10.833333333333334,48.666666666666664,24.0,53.25,10.714285714285714,17.5,31.666666666666668,20.0,20.25,11.25,11.666666666666666,32.857142857142854,85.0,47.5,18.333333333333332,17.5,21.25,18.333333333333332,17.5,16.0,17.5,46.5,25.0,55.75,22.8,46.0,19.0,32.0,35.0,35.5,24.0,23.333333333333332,13.0,33.333333333333336,62.5,62.5,26.0,40.0,20.0,20.0,25.0,19.25,29.0,16.25,23.0,36.666666666666664,71.57142857142857,42.857142857142854,29.166666666666668,8.142857142857142,23.666666666666668,53.333333333333336,39.0,48.75,39.0,31.428571428571427,50.142857142857146,33.333333333333336,14.6,37.5,26.25,22.166666666666668,46.666666666666664,36.666666666666664,14.0,37.42857142857143,28.0,60.0,17.5,20.0,35.0,31.5,31.0,31.0,31.0,19.0,20.0,11.5,20.0,22.5,12.5,24.375,35.714285714285715,43.5,34.8,22.11111111111111,35.0,31.25,14.6,38.25,19.666666666666668,46.25,29.857142857142858,15.0,20.5,38.375,57.666666666666664,17.375,36.875,58.333333333333336,58.5,16.5,50.0,16.25,16.8,14.666666666666666,58.75,10.833333333333334,8.0,91.875,14.714285714285714,55.25,10.833333333333334,49.666666666666664,40.5,42.75,40.5,33.25,36.875,56.25,27.333333333333332,10.0,22.5,20.0,64.5,52.125,27.2,37.9,12.5,26.285714285714285,32.0,30.0,24.0,11.875,35.0,39.333333333333336,16.2,29.714285714285715,34.875,31.666666666666668,56.166666666666664,15.0,17.0,50.0,38.888888888888886,44.75,19.666666666666668,49.166666666666664,36.625,17.5,45.55555555555556,22.5,20.8,34.285714285714285,47.875,25.833333333333332,16.75,29.166666666666668,12.0,25.0,15.0,31.0,26.25,30.0,17.0,41.81818181818182,14.166666666666666,52.0,42.0,22.5,46.25,32.5,25.0,35.833333333333336,34.0,32.25,13.333333333333334,55.42857142857143,17.0,11.2,43.333333333333336,20.0,15.0,27.1,24.0,59.0,40.0,38.333333333333336,34.3,18.09090909090909,16.666666666666668,16.666666666666668,11.25,21.25,12.8,23.333333333333332,34.3,25.0,17.375,18.0,22.5,36.666666666666664,30.333333333333332,22.5,83.33333333333333,8.75,21.0,24.75,6.666666666666667,10.5,13.0,46.5,31.5,30.166666666666668,88.88888888888889,58.333333333333336,50.90909090909091,10.0,22.5,12.857142857142858,33.333333333333336,30.0,30.0,24.5,10.0,34.5,22.25,70.0,32.142857142857146,14.0,22.5,26.666666666666668,30.8,83.0,13.75,27.583333333333332,99.2,40.0,13.75,13.75,22.5,41.0,58.333333333333336,19.0,45.833333333333336,11.25,8.833333333333334,10.0,31.25,23.333333333333332,15.0,9.8,65.71428571428571,22.5,42.857142857142854,16.125,35.0,62.5,40.0,13.333333333333334,33.333333333333336,48.125,32.857142857142854,46.0,17.6,13.333333333333334,16.833333333333332,23.8,61.583333333333336,24.0,16.75,8.0,30.0,11.2,25.0,12.5,64.2,46.5,16.5,100.0,22.5,52.0,43.4,13.75,13.75,12.166666666666666,25.0,13.625,43.833333333333336,32.5,12.5,12.25,13.333333333333334,45.666666666666664,25.0,23.5,25.0,80.0,37.9,37.142857142857146,30.0,9.0,13.0,18.75,21.0,14.0,13.75,15.0,10.0,50.0,21.25,31.25,10.833333333333334,8.0,42.63636363636363,22.666666666666668,32.333333333333336,12.0,33.75,57.42857142857143,13.333333333333334,10.5,28.5,29.0,25.0,23.0,27.0,36.6,19.666666666666668,31.0,41.333333333333336,25.0,83.5,13.8,17.25,8.75,21.8,18.25,9.8,20.5,20.0,22.5,14.666666666666666,9.8,10.545454545454545,28.333333333333332,19.5,26.90909090909091,18.0,24.5,50.666666666666664,32.857142857142854,15.6,11.5,18.5,14.0,20.4,11.75,10.0,23.1,5.0,26.0,50.0,26.666666666666668,11.25,26.0,16.0,30.0,57.142857142857146,45.833333333333336,28.333333333333332,36.666666666666664,41.25,60.75,57.142857142857146,24.5,29.5,26.714285714285715,44.92307692307692,69.7,13.285714285714286,13.75,45.714285714285715,45.714285714285715,50.0,53.333333333333336,63.333333333333336,32.0,32.0,60.6,54.9,71.375,17.5,30.375,57.5,10.0,17.5,53.0,15.0,19.666666666666668,16.2,17.5,35.0,16.666666666666668,12.5,13.75,35.333333333333336,34.333333333333336,12.714285714285714,24.0,12.0,90.0,66.66666666666667,15.0,30.4,18.75,15.0,33.75,50.90909090909091,90.0,12.0,31.818181818181817,10.0,26.0,59.8,19.0,29.166666666666668,20.0,8.428571428571429,17.5,56.25,18.25,23.25,15.0,23.5,12.5,14.75,31.818181818181817,9.0,16.666666666666668,20.5,16.0,7.166666666666667,15.0,26.923076923076923,44.4,43.0,13.75,18.333333333333332,57.5,35.4,17.5,22.5,38.61538461538461,27.5,45.333333333333336,30.0,13.5,39.333333333333336,11.166666666666666,10.0,50.833333333333336,25.0,46.0,13.333333333333334,28.6875,15.0,45.0,13.5,28.2,75.21428571428571,14.0,12.5,20.0,19.5,31.25,60.0,61.666666666666664,61.666666666666664,27.75,24.75,41.833333333333336,38.57142857142857,10.0,11.666666666666666,16.666666666666668,14.0,15.0,12.5,58.0,11.666666666666666,38.0,25.5,43.75,30.3,63.75,52.625,88.33333333333333,24.4,24.4,24.4,25.833333333333332,12.5,23.25,36.0,45.0,12.5,18.625,20.875,18.166666666666668,13.75,38.0,38.888888888888886,40.0,40.0,27.0,50.625,11.25,20.0,66.875,30.625,15.25,91.66666666666667,62.714285714285715,34.833333333333336,33.666666666666664,19.9,25.0,19.5,37.0,24.933333333333334,56.25,25.833333333333332,11.4,13.2,22.0,20.0,34.625,54.285714285714285,10.833333333333334,21.0,21.0,81.66666666666667,22.25,33.333333333333336,28.25,46.42857142857143,61.666666666666664,41.666666666666664,16.0,38.666666666666664,19.0,17.0,60.0,15.0,14.0,12.833333333333334,39.1875,41.666666666666664,12.0,13.75,15.0,11.75,14.0,88.88888888888889,16.25,58.333333333333336,31.125,20.0,23.416666666666668,14.2,17.5,11.25,76.75,68.22222222222223,22.6,95.83333333333333,58.25,15.5,64.83333333333333,43.0,30.0,28.5,30.625,24.0,16.666666666666668,64.5,58.0,16.666666666666668,24.0,20.0,19.5,17.0,11.6,28.6,20.0,32.75,8.5,21.333333333333332,29.333333333333332,37.5,22.5,15.833333333333334,16.666666666666668,12.5,27.666666666666668,18.75,17.5,62.5,24.0,75.0,16.666666666666668,32.333333333333336,24.166666666666668,10.0,25.0,40.0,32.833333333333336,10.0,17.5,15.0,36.125,15.0,19.75,7.25,21.0,39.0,42.888888888888886,18.75,37.5,24.833333333333332,16.666666666666668,20.0,20.0,20.0,21.0,22.5,15.25,20.0,28.6875,58.6,34.0,29.666666666666668,51.42857142857143,13.666666666666666,12.0,30.833333333333332,32.0,30.833333333333332,30.666666666666668,30.666666666666668,30.833333333333332,29.666666666666668,93.0,21.0,29.5,29.0,18.333333333333332,13.75,30.666666666666668,34.44444444444444,13.333333333333334,30.833333333333332,12.333333333333334,55.0,18.625,12.333333333333334,20.375,20.5,30.666666666666668,30.666666666666668,28.8,12.333333333333334,37.5,56.125,11.5,29.0,25.714285714285715,21.875,73.5,19.0,58.75,11.0,39.0,26.0,26.0,25.90909090909091,61.666666666666664,37.75,33.5,29.166666666666668,40.0,45.0,26.333333333333332,59.0,16.0,36.125,87.5,61.25,55.0,90.0,17.5,20.0,49.166666666666664,17.5,49.2,22.5,30.3125,14.2,71.5,31.375,11.333333333333334,23.375,32.55555555555556,15.0,12.5,21.333333333333332,16.666666666666668,50.0,35.5,39.375,52.0,15.0,46.75,28.6875,52.0,23.416666666666668,16.666666666666668,60.875,56.5,54.0,40.0,32.0,46.0,30.6,34.0,27.75,31.375,17.5,37.53333333333333,27.666666666666668,45.333333333333336,34.0,35.7,41.75,18.583333333333332,19.416666666666668,20.666666666666668,15.833333333333334,28.5625,26.8,48.7,61.25,61.666666666666664,61.666666666666664,41.5,24.933333333333334,35.125,41.833333333333336,19.8125,28.75,13.0,19.166666666666668,59.333333333333336,34.8,93.6,47.166666666666664,82.33333333333333,40.0,45.0,20.833333333333332,28.333333333333332,11.0,41.0,20.833333333333332,22.5,54.1,62.5,22.5,44.166666666666664,15.0,112.72727272727273,17.25,20.833333333333332,28.125,22.0,16.5,16.0,15.833333333333334,19.75,37.75,43.0,96.875,64.0,44.166666666666664,56.0,23.125,23.375,52.0,52.0,32.0,22.0,46.166666666666664,21.0,10.0,20.0,29.4,16.666666666666668,31.833333333333332,31.833333333333332,31.833333333333332,60.0,35.5,19.2,62.5,36.888888888888886,36.888888888888886,50.0,9.833333333333334,23.333333333333332,27.666666666666668,17.5,20.0,27.0,45.857142857142854,44.833333333333336,32.0,22.5,15.0,31.571428571428573,39.666666666666664,43.75,14.8,21.833333333333332,19.0,39.333333333333336,22.0,20.0,67.5,27.5,31.333333333333332,13.333333333333334,29.5,22.4,19.166666666666668,9.0,21.0,15.0,22.5,31.375,25.0,22.5,31.0,12.333333333333334,25.0,43.416666666666664,13.0,12.333333333333334,23.625,12.0,5.142857142857143,27.0,20.5,15.666666666666666,45.0,81.83333333333333,26.666666666666668,14.75,11.666666666666666,35.0,35.0,15.0,6.5,27.5,26.25,28.75,54.333333333333336,51.166666666666664,28.0,17.5,25.0,41.666666666666664,32.22222222222222,25.0,22.5,22.5,27.5,22.5,27.5,41.666666666666664,27.5,32.22222222222222,75.0,14.625,83.5,46.25,41.42857142857143,17.333333333333332,107.14285714285714,41.666666666666664,197.0,197.0,21.428571428571427,37.5,63.375,77.1875,69.16666666666667,42.5,21.0,27.5,22.375,250.0,10.5,42.5,31.166666666666668,32.5,29.5,30.666666666666668,33.75,28.0,42.5,25.4,37.5,33.333333333333336,18.75,36.666666666666664,39.142857142857146,20.5,25.666666666666668,28.75,30.833333333333332,34.166666666666664,33.75,21.666666666666668,13.8,27.5,33.75,20.0,52.75,43.6,29.666666666666668,13.5,25.666666666666668,27.875,39.285714285714285,14.285714285714286,72.5,30.666666666666668,19.88888888888889,30.25,22.333333333333332,16.0,75.0,15.0,43.125,33.0,37.5,31.25,94.83333333333333,29.5,27.0,29.9,25.0,27.333333333333332,27.5,33.0,89.16666666666667,17.333333333333332,10.4,25.142857142857142,35.0,41.5,18.333333333333332,47.142857142857146,17.0,53.333333333333336,19.666666666666668,25.0,25.0,34.333333333333336,73.11111111111111,36.25,32.666666666666664,25.4,19.0,66.0,28.0,18.75,13.0,15.7,40.888888888888886,32.666666666666664,35.0,23.5,40.333333333333336,41.666666666666664,41.875,46.875,30.0,24.8,47.0,28.333333333333332,40.0,50.0,70.0,42.5,58.333333333333336,34.0,29.166666666666668,47.0,25.75,35.0,10.5,58.5,32.714285714285715,53.5,48.0,51.42857142857143,34.5,34.0,35.0,68.75,66.0,14.166666666666666,42.5,37.5,37.5,35.0,48.0,39.0,17.142857142857142,9.0,31.666666666666668,23.333333333333332,41.42857142857143,112.5,16.8,20.0,51.25,20.5,20.0,48.57142857142857,32.25,13.0,64.77777777777777,16.0,50.5,61.714285714285715,24.0,38.0,50.0,92.66666666666667,22.5,62.5,21.4,37.5,12.5,10.833333333333334,17.2,58.0,31.25,39.18181818181818,27.333333333333332,29.0,42.5,25.0,25.0,25.0,16.666666666666668,16.666666666666668,16.666666666666668,43.75,5.75,25.6,61.142857142857146,30.0,12.666666666666666,11.666666666666666,16.666666666666668,27.5,29.5,55.0,21.428571428571427,55.0,12.5,16.0,22.333333333333332,42.833333333333336,41.25,16.666666666666668,25.0,43.0,22.5,17.8,30.0,10.0,37.5,45.0,8.6,67.375,72.5,20.0,56.25,32.5,73.33333333333333,21.75,39.5,136.66666666666666,7.0,11.833333333333334,22.833333333333332,26.0,62.5,50.75,24.0,43.125,59.5,48.333333333333336,30.0,57.142857142857146,40.0,48.25,14.75,33.333333333333336,27.142857142857142,21.5,42.25,25.833333333333332,14.75,24.0,12.5,15.5,13.75,12.5,76.0,60.0,50.0,25.166666666666668,43.5,13.75,14.833333333333334,58.75,77.08333333333333,12.333333333333334,16.666666666666668,21.666666666666668,36.25,25.0,13.0,29.2,10.0,9.833333333333334,50.0,11.25,16.25,15.0,64.28571428571429,43.8,13.166666666666666,17.5,30.25,20.0,32.5,40.0,22.833333333333332,17.0,10.333333333333334,13.0,33.75,22.5,14.0,26.666666666666668,23.0,16.666666666666668,21.666666666666668,48.333333333333336,36.0,21.666666666666668,18.0,38.833333333333336,39.25,32.0,10.833333333333334,32.0,12.75,12.0,30.0,21.0,32.0,18.333333333333332,62.5,40.0,18.0,52.375,25.0,41.714285714285715,52.44444444444444,66.25,91.0,35.0,40.0,15.0,11.25,40.0,51.0,16.666666666666668,17.5,52.666666666666664,25.5,24.0,30.25,30.3125,15.0,13.666666666666666,15.0,55.25,43.625,59.25,42.714285714285715,14.0,27.5,25.6,13.75,30.5,32.5,18.0,14.5,32.6,10.0,14.0,35.0,21.25,12.5,25.5,50.0,12.333333333333334,13.25,33.36363636363637,16.2,16.666666666666668,30.0,14.5,11.666666666666666,14.5,108.33333333333333,17.5,10.75,10.0,15.166666666666666,15.0,72.66666666666667,14.25,14.25,34.333333333333336,22.0,23.0,14.0,71.5,15.833333333333334,24.5,18.0,10.8,29.714285714285715,16.666666666666668,10.0,27.5,56.25,58.6875,105.8,11.125,12.5,25.0,44.92857142857143,17.0,19.166666666666668,14.833333333333334,10.5,33.333333333333336,20.0,16.125,33.333333333333336,18.0,17.333333333333332,21.333333333333332,22.8,28.4,29.5,28.0,46.666666666666664,24.8,20.8,17.4,45.0,16.666666666666668,16.0,17.5,21.666666666666668,82.55555555555556,8.222222222222221,191.66666666666666,37.5,17.5,22.5,15.0,14.0,10.714285714285714,33.333333333333336,22.857142857142858,71.125,54.5,23.75,103.44444444444444,33.333333333333336,14.6,17.8,25.666666666666668,25.666666666666668,25.666666666666668,16.0,42.2,19.25,24.833333333333332,43.333333333333336,55.0,67.0,75.25,62.5,15.333333333333334,38.25,15.714285714285714,11.428571428571429,11.666666666666666,10.0,17.2,40.5,40.166666666666664,20.0,21.25,53.57142857142857,45.0,50.5,50.0,33.333333333333336,50.0,24.0,36.666666666666664,16.25,22.5,17.333333333333332,12.714285714285714,19.5,20.0,15.0,70.57142857142857,23.666666666666668,59.142857142857146,16.4,16.25,13.0,31.666666666666668,14.5,20.5,35.0,21.666666666666668,21.666666666666668,30.0,15.714285714285714,28.333333333333332,13.75,37.8,57.5,24.0,19.0,19.0,31.0,41.0,41.666666666666664,19.0,34.0,35.666666666666664,10.0,10.0,10.0,8.0,12.5,17.8,29.0,71.33333333333333,38.0,22.5,17.166666666666668,15.0,41.0,10.8,11.5,22.833333333333332,15.0,10.75,53.125,50.5,31.285714285714285,20.625,46.666666666666664,10.0,15.0,30.0,30.0,32.285714285714285,50.0,14.0,25.0,40.44444444444444,18.333333333333332,14.0,40.857142857142854,40.857142857142854,40.857142857142854,41.666666666666664,35.833333333333336,19.785714285714285,62.0,18.5,19.0,7.166666666666667,68.11111111111111,26.0,31.5,22.5,18.75,17.25,62.57142857142857,19.833333333333332,14.833333333333334,21.75,41.75,38.0,12.5,24.0,10.0,17.333333333333332,15.666666666666666,20.333333333333332,13.333333333333334,26.833333333333332,49.25,49.25,24.0,22.4,30.0,39.166666666666664,35.0,56.3,40.0,27.333333333333332,25.25,26.666666666666668,30.0,31.875,16.666666666666668,13.166666666666666,14.555555555555555,26.666666666666668,14.166666666666666,13.75,37.5,20.0,22.75,10.6,19.75,27.5,31.0,38.0,28.0,25.5,17.75,41.0,155.0,165.2,35.0,16.0,47.5,63.5,93.0,13.0,88.5,25.0,35.0,28.166666666666668,23.75,18.333333333333332,22.25,25.0,22.5,25.0,20.0,25.0,46.5,25.0,10.75,17.5,20.0,13.333333333333334,25.0,20.5,20.5,20.0,16.25,22.25,22.5,41.0,27.333333333333332,25.0,22.333333333333332,45.0,30.0,20.0,15.0,34.4,23.25,26.666666666666668,18.75,42.5,29.333333333333332,14.8,11.666666666666666,28.333333333333332,31.444444444444443,25.833333333333332,36.166666666666664,53.333333333333336,46.0,28.545454545454547,23.0,29.75,25.0,37.8,28.3,12.5,23.666666666666668,40.714285714285715,17.75,16.75,19.166666666666668,16.75,57.5,35.0,17.75,39.0,37.833333333333336,33.0,15.0,47.5,54.5,50.5,24.5,14.4,24.5,17.5,16.666666666666668,54.5,28.625,65.0,15.0,15.0,11.0,20.0,19.714285714285715,16.666666666666668,17.5,17.25,17.0,30.0,24.0,28.571428571428573,49.75,26.0,14.0,17.333333333333332,24.0,16.666666666666668,84.5,18.0,18.0,36.0,32.5,21.0,27.0,23.0,18.4,15.0,23.75,26.25,35.5,26.25,20.666666666666668,44.5,30.0,38.333333333333336,13.333333333333334,27.5,25.0,49.75,38.166666666666664,25.75,43.0,36.5,24.0,18.333333333333332,12.25,25.5,18.6,25.0,18.0,19.0,13.75,23.333333333333332,27.5,11.0,20.0,35.0,15.0,40.0,14.0,17.0,25.0,13.25,36.666666666666664,22.0,11.0,10.666666666666666,15.75,11.333333333333334,19.0,10.0,23.0,30.0,23.0,37.0,17.5,11.0,15.0,11.75,13.666666666666666,23.5,19.0,10.0,17.5,22.5,24.5,14.0,18.0,11.0,24.333333333333332,13.333333333333334,21.833333333333332,12.571428571428571,13.333333333333334,19.75,9.5,20.0,16.25,18.333333333333332,17.25,22.0,24.5,22.666666666666668,19.0,35.0,29.333333333333332,30.0,45.0,19.0,46.666666666666664,12.0,21.5,23.75,19.833333333333332,65.0,15.8,9.0,30.0,13.5,35.0,9.125,25.0,30.0,16.666666666666668,18.333333333333332,18.333333333333332,13.333333333333334,13.333333333333334,18.25,11.8,33.75,37.5,14.25,43.5,20.0,14.166666666666666,10.833333333333334,14.666666666666666,22.5,18.0,12.5,21.5,17.5,32.0,20.0,17.5,37.5,24.5,26.666666666666668,12.0,15.0,24.5,16.333333333333332,30.0,11.666666666666666,13.333333333333334,22.0,42.0,10.0,30.0,13.75,16.25,12.5,20.833333333333332,22.75,11.428571428571429,33.875,7.142857142857143,9.0,7.5,27.5,27.5,38.0,22.0,11.833333333333334,13.333333333333334,13.333333333333334,20.0,16.666666666666668,17.333333333333332,29.333333333333332,27.0,25.0,25.0,25.0,44.5,35.0,25.166666666666668,16.666666666666668,16.0,16.666666666666668,29.25,15.25,9.5,51.5,53.5,15.0,12.0,10.333333333333334,16.8,25.0,24.5,21.5,12.833333333333334,21.25,17.0,21.333333333333332,25.6,16.333333333333332,38.5,25.333333333333332,30.0,23.333333333333332,35.0,12.642857142857142,19.22222222222222,35.0,35.0,15.0,18.0,11.25,18.0,15.2,16.5,6.666666666666667,17.8,15.0,15.0,10.666666666666666,9.0,13.75,13.0,11.666666666666666,20.0,11.25,20.0,17.5,16.666666666666668,16.666666666666668,12.0,10.666666666666666,10.666666666666666,13.75,35.5,32.5,12.0,25.0,50.6,50.6,34.75,10.0,15.0,13.75,12.5,11.666666666666666,37.5,11.666666666666666,15.0,15.0,12.5,11.25,36.666666666666664,16.666666666666668,20.0,14.0,15.7,21.666666666666668,21.666666666666668,14.0,14.0,18.5,16.666666666666668,35.0,15.2,13.333333333333334,12.5,12.5,30.75,30.75,17.5,10.0,30.75,22.0,20.0,13.5,13.75,11.0,25.0,25.0,24.25,25.0,15.0,15.0,56.0,44.0,20.0,17.333333333333332,16.25,10.0,50.0,58.333333333333336,41.7,56.25,9.0,15.0,15.0,16.25,30.0,18.5,17.5,18.75,25.0,23.5,13.571428571428571,6.25,32.5,10.0,20.0,20.0,20.0,22.0,27.5,15.0,15.0,25.0,11.666666666666666,36.666666666666664,20.0,20.0,20.0,13.8,24.75,25.0,22.8,28.333333333333332,29.666666666666668,37.5,23.75],\"y0\":\" \",\"yaxis\":\"y\"}],                        {\"boxmode\":\"group\",\"legend\":{\"tracegroupgap\":0},\"template\":{\"data\":{\"bar\":[{\"error_x\":{\"color\":\"rgb(36,36,36)\"},\"error_y\":{\"color\":\"rgb(36,36,36)\"},\"marker\":{\"line\":{\"color\":\"white\",\"width\":0.5},\"pattern\":{\"fillmode\":\"overlay\",\"size\":10,\"solidity\":0.2}},\"type\":\"bar\"}],\"barpolar\":[{\"marker\":{\"line\":{\"color\":\"white\",\"width\":0.5},\"pattern\":{\"fillmode\":\"overlay\",\"size\":10,\"solidity\":0.2}},\"type\":\"barpolar\"}],\"carpet\":[{\"aaxis\":{\"endlinecolor\":\"rgb(36,36,36)\",\"gridcolor\":\"white\",\"linecolor\":\"white\",\"minorgridcolor\":\"white\",\"startlinecolor\":\"rgb(36,36,36)\"},\"baxis\":{\"endlinecolor\":\"rgb(36,36,36)\",\"gridcolor\":\"white\",\"linecolor\":\"white\",\"minorgridcolor\":\"white\",\"startlinecolor\":\"rgb(36,36,36)\"},\"type\":\"carpet\"}],\"choropleth\":[{\"colorbar\":{\"outlinewidth\":1,\"tickcolor\":\"rgb(36,36,36)\",\"ticks\":\"outside\"},\"type\":\"choropleth\"}],\"contour\":[{\"colorbar\":{\"outlinewidth\":1,\"tickcolor\":\"rgb(36,36,36)\",\"ticks\":\"outside\"},\"colorscale\":[[0.0,\"#440154\"],[0.1111111111111111,\"#482878\"],[0.2222222222222222,\"#3e4989\"],[0.3333333333333333,\"#31688e\"],[0.4444444444444444,\"#26828e\"],[0.5555555555555556,\"#1f9e89\"],[0.6666666666666666,\"#35b779\"],[0.7777777777777778,\"#6ece58\"],[0.8888888888888888,\"#b5de2b\"],[1.0,\"#fde725\"]],\"type\":\"contour\"}],\"contourcarpet\":[{\"colorbar\":{\"outlinewidth\":1,\"tickcolor\":\"rgb(36,36,36)\",\"ticks\":\"outside\"},\"type\":\"contourcarpet\"}],\"heatmap\":[{\"colorbar\":{\"outlinewidth\":1,\"tickcolor\":\"rgb(36,36,36)\",\"ticks\":\"outside\"},\"colorscale\":[[0.0,\"#440154\"],[0.1111111111111111,\"#482878\"],[0.2222222222222222,\"#3e4989\"],[0.3333333333333333,\"#31688e\"],[0.4444444444444444,\"#26828e\"],[0.5555555555555556,\"#1f9e89\"],[0.6666666666666666,\"#35b779\"],[0.7777777777777778,\"#6ece58\"],[0.8888888888888888,\"#b5de2b\"],[1.0,\"#fde725\"]],\"type\":\"heatmap\"}],\"heatmapgl\":[{\"colorbar\":{\"outlinewidth\":1,\"tickcolor\":\"rgb(36,36,36)\",\"ticks\":\"outside\"},\"colorscale\":[[0.0,\"#440154\"],[0.1111111111111111,\"#482878\"],[0.2222222222222222,\"#3e4989\"],[0.3333333333333333,\"#31688e\"],[0.4444444444444444,\"#26828e\"],[0.5555555555555556,\"#1f9e89\"],[0.6666666666666666,\"#35b779\"],[0.7777777777777778,\"#6ece58\"],[0.8888888888888888,\"#b5de2b\"],[1.0,\"#fde725\"]],\"type\":\"heatmapgl\"}],\"histogram\":[{\"marker\":{\"line\":{\"color\":\"white\",\"width\":0.6}},\"type\":\"histogram\"}],\"histogram2d\":[{\"colorbar\":{\"outlinewidth\":1,\"tickcolor\":\"rgb(36,36,36)\",\"ticks\":\"outside\"},\"colorscale\":[[0.0,\"#440154\"],[0.1111111111111111,\"#482878\"],[0.2222222222222222,\"#3e4989\"],[0.3333333333333333,\"#31688e\"],[0.4444444444444444,\"#26828e\"],[0.5555555555555556,\"#1f9e89\"],[0.6666666666666666,\"#35b779\"],[0.7777777777777778,\"#6ece58\"],[0.8888888888888888,\"#b5de2b\"],[1.0,\"#fde725\"]],\"type\":\"histogram2d\"}],\"histogram2dcontour\":[{\"colorbar\":{\"outlinewidth\":1,\"tickcolor\":\"rgb(36,36,36)\",\"ticks\":\"outside\"},\"colorscale\":[[0.0,\"#440154\"],[0.1111111111111111,\"#482878\"],[0.2222222222222222,\"#3e4989\"],[0.3333333333333333,\"#31688e\"],[0.4444444444444444,\"#26828e\"],[0.5555555555555556,\"#1f9e89\"],[0.6666666666666666,\"#35b779\"],[0.7777777777777778,\"#6ece58\"],[0.8888888888888888,\"#b5de2b\"],[1.0,\"#fde725\"]],\"type\":\"histogram2dcontour\"}],\"mesh3d\":[{\"colorbar\":{\"outlinewidth\":1,\"tickcolor\":\"rgb(36,36,36)\",\"ticks\":\"outside\"},\"type\":\"mesh3d\"}],\"parcoords\":[{\"line\":{\"colorbar\":{\"outlinewidth\":1,\"tickcolor\":\"rgb(36,36,36)\",\"ticks\":\"outside\"}},\"type\":\"parcoords\"}],\"pie\":[{\"automargin\":true,\"type\":\"pie\"}],\"scatter\":[{\"marker\":{\"colorbar\":{\"outlinewidth\":1,\"tickcolor\":\"rgb(36,36,36)\",\"ticks\":\"outside\"}},\"type\":\"scatter\"}],\"scatter3d\":[{\"line\":{\"colorbar\":{\"outlinewidth\":1,\"tickcolor\":\"rgb(36,36,36)\",\"ticks\":\"outside\"}},\"marker\":{\"colorbar\":{\"outlinewidth\":1,\"tickcolor\":\"rgb(36,36,36)\",\"ticks\":\"outside\"}},\"type\":\"scatter3d\"}],\"scattercarpet\":[{\"marker\":{\"colorbar\":{\"outlinewidth\":1,\"tickcolor\":\"rgb(36,36,36)\",\"ticks\":\"outside\"}},\"type\":\"scattercarpet\"}],\"scattergeo\":[{\"marker\":{\"colorbar\":{\"outlinewidth\":1,\"tickcolor\":\"rgb(36,36,36)\",\"ticks\":\"outside\"}},\"type\":\"scattergeo\"}],\"scattergl\":[{\"marker\":{\"colorbar\":{\"outlinewidth\":1,\"tickcolor\":\"rgb(36,36,36)\",\"ticks\":\"outside\"}},\"type\":\"scattergl\"}],\"scattermapbox\":[{\"marker\":{\"colorbar\":{\"outlinewidth\":1,\"tickcolor\":\"rgb(36,36,36)\",\"ticks\":\"outside\"}},\"type\":\"scattermapbox\"}],\"scatterpolar\":[{\"marker\":{\"colorbar\":{\"outlinewidth\":1,\"tickcolor\":\"rgb(36,36,36)\",\"ticks\":\"outside\"}},\"type\":\"scatterpolar\"}],\"scatterpolargl\":[{\"marker\":{\"colorbar\":{\"outlinewidth\":1,\"tickcolor\":\"rgb(36,36,36)\",\"ticks\":\"outside\"}},\"type\":\"scatterpolargl\"}],\"scatterternary\":[{\"marker\":{\"colorbar\":{\"outlinewidth\":1,\"tickcolor\":\"rgb(36,36,36)\",\"ticks\":\"outside\"}},\"type\":\"scatterternary\"}],\"surface\":[{\"colorbar\":{\"outlinewidth\":1,\"tickcolor\":\"rgb(36,36,36)\",\"ticks\":\"outside\"},\"colorscale\":[[0.0,\"#440154\"],[0.1111111111111111,\"#482878\"],[0.2222222222222222,\"#3e4989\"],[0.3333333333333333,\"#31688e\"],[0.4444444444444444,\"#26828e\"],[0.5555555555555556,\"#1f9e89\"],[0.6666666666666666,\"#35b779\"],[0.7777777777777778,\"#6ece58\"],[0.8888888888888888,\"#b5de2b\"],[1.0,\"#fde725\"]],\"type\":\"surface\"}],\"table\":[{\"cells\":{\"fill\":{\"color\":\"rgb(237,237,237)\"},\"line\":{\"color\":\"white\"}},\"header\":{\"fill\":{\"color\":\"rgb(217,217,217)\"},\"line\":{\"color\":\"white\"}},\"type\":\"table\"}]},\"layout\":{\"annotationdefaults\":{\"arrowhead\":0,\"arrowwidth\":1},\"autotypenumbers\":\"strict\",\"coloraxis\":{\"colorbar\":{\"outlinewidth\":1,\"tickcolor\":\"rgb(36,36,36)\",\"ticks\":\"outside\"}},\"colorscale\":{\"diverging\":[[0.0,\"rgb(103,0,31)\"],[0.1,\"rgb(178,24,43)\"],[0.2,\"rgb(214,96,77)\"],[0.3,\"rgb(244,165,130)\"],[0.4,\"rgb(253,219,199)\"],[0.5,\"rgb(247,247,247)\"],[0.6,\"rgb(209,229,240)\"],[0.7,\"rgb(146,197,222)\"],[0.8,\"rgb(67,147,195)\"],[0.9,\"rgb(33,102,172)\"],[1.0,\"rgb(5,48,97)\"]],\"sequential\":[[0.0,\"#440154\"],[0.1111111111111111,\"#482878\"],[0.2222222222222222,\"#3e4989\"],[0.3333333333333333,\"#31688e\"],[0.4444444444444444,\"#26828e\"],[0.5555555555555556,\"#1f9e89\"],[0.6666666666666666,\"#35b779\"],[0.7777777777777778,\"#6ece58\"],[0.8888888888888888,\"#b5de2b\"],[1.0,\"#fde725\"]],\"sequentialminus\":[[0.0,\"#440154\"],[0.1111111111111111,\"#482878\"],[0.2222222222222222,\"#3e4989\"],[0.3333333333333333,\"#31688e\"],[0.4444444444444444,\"#26828e\"],[0.5555555555555556,\"#1f9e89\"],[0.6666666666666666,\"#35b779\"],[0.7777777777777778,\"#6ece58\"],[0.8888888888888888,\"#b5de2b\"],[1.0,\"#fde725\"]]},\"colorway\":[\"#1F77B4\",\"#FF7F0E\",\"#2CA02C\",\"#D62728\",\"#9467BD\",\"#8C564B\",\"#E377C2\",\"#7F7F7F\",\"#BCBD22\",\"#17BECF\"],\"font\":{\"color\":\"rgb(36,36,36)\"},\"geo\":{\"bgcolor\":\"white\",\"lakecolor\":\"white\",\"landcolor\":\"white\",\"showlakes\":true,\"showland\":true,\"subunitcolor\":\"white\"},\"hoverlabel\":{\"align\":\"left\"},\"hovermode\":\"closest\",\"mapbox\":{\"style\":\"light\"},\"paper_bgcolor\":\"white\",\"plot_bgcolor\":\"white\",\"polar\":{\"angularaxis\":{\"gridcolor\":\"rgb(232,232,232)\",\"linecolor\":\"rgb(36,36,36)\",\"showgrid\":false,\"showline\":true,\"ticks\":\"outside\"},\"bgcolor\":\"white\",\"radialaxis\":{\"gridcolor\":\"rgb(232,232,232)\",\"linecolor\":\"rgb(36,36,36)\",\"showgrid\":false,\"showline\":true,\"ticks\":\"outside\"}},\"scene\":{\"xaxis\":{\"backgroundcolor\":\"white\",\"gridcolor\":\"rgb(232,232,232)\",\"gridwidth\":2,\"linecolor\":\"rgb(36,36,36)\",\"showbackground\":true,\"showgrid\":false,\"showline\":true,\"ticks\":\"outside\",\"zeroline\":false,\"zerolinecolor\":\"rgb(36,36,36)\"},\"yaxis\":{\"backgroundcolor\":\"white\",\"gridcolor\":\"rgb(232,232,232)\",\"gridwidth\":2,\"linecolor\":\"rgb(36,36,36)\",\"showbackground\":true,\"showgrid\":false,\"showline\":true,\"ticks\":\"outside\",\"zeroline\":false,\"zerolinecolor\":\"rgb(36,36,36)\"},\"zaxis\":{\"backgroundcolor\":\"white\",\"gridcolor\":\"rgb(232,232,232)\",\"gridwidth\":2,\"linecolor\":\"rgb(36,36,36)\",\"showbackground\":true,\"showgrid\":false,\"showline\":true,\"ticks\":\"outside\",\"zeroline\":false,\"zerolinecolor\":\"rgb(36,36,36)\"}},\"shapedefaults\":{\"fillcolor\":\"black\",\"line\":{\"width\":0},\"opacity\":0.3},\"ternary\":{\"aaxis\":{\"gridcolor\":\"rgb(232,232,232)\",\"linecolor\":\"rgb(36,36,36)\",\"showgrid\":false,\"showline\":true,\"ticks\":\"outside\"},\"baxis\":{\"gridcolor\":\"rgb(232,232,232)\",\"linecolor\":\"rgb(36,36,36)\",\"showgrid\":false,\"showline\":true,\"ticks\":\"outside\"},\"bgcolor\":\"white\",\"caxis\":{\"gridcolor\":\"rgb(232,232,232)\",\"linecolor\":\"rgb(36,36,36)\",\"showgrid\":false,\"showline\":true,\"ticks\":\"outside\"}},\"title\":{\"x\":0.05},\"xaxis\":{\"automargin\":true,\"gridcolor\":\"rgb(232,232,232)\",\"linecolor\":\"rgb(36,36,36)\",\"showgrid\":false,\"showline\":true,\"ticks\":\"outside\",\"title\":{\"standoff\":15},\"zeroline\":false,\"zerolinecolor\":\"rgb(36,36,36)\"},\"yaxis\":{\"automargin\":true,\"gridcolor\":\"rgb(232,232,232)\",\"linecolor\":\"rgb(36,36,36)\",\"showgrid\":false,\"showline\":true,\"ticks\":\"outside\",\"title\":{\"standoff\":15},\"zeroline\":false,\"zerolinecolor\":\"rgb(36,36,36)\"}}},\"title\":{\"text\":\"Distribution of Price per Person by City\"},\"xaxis\":{\"anchor\":\"y\",\"domain\":[0.0,1.0],\"title\":{\"text\":\"City\"}},\"yaxis\":{\"anchor\":\"x\",\"domain\":[0.0,1.0],\"ticksuffix\":\"\\u20ac\",\"title\":{\"text\":\"Price/Person\"}}},                        {\"responsive\": true}                    ).then(function(){\n",
       "                            \n",
       "var gd = document.getElementById('0a3e0459-0912-435a-b50c-668cba47d6d3');\n",
       "var x = new MutationObserver(function (mutations, observer) {{\n",
       "        var display = window.getComputedStyle(gd).display;\n",
       "        if (!display || display === 'none') {{\n",
       "            console.log([gd, 'removed!']);\n",
       "            Plotly.purge(gd);\n",
       "            observer.disconnect();\n",
       "        }}\n",
       "}});\n",
       "\n",
       "// Listen for the removal of the full notebook cells\n",
       "var notebookContainer = gd.closest('#notebook-container');\n",
       "if (notebookContainer) {{\n",
       "    x.observe(notebookContainer, {childList: true});\n",
       "}}\n",
       "\n",
       "// Listen for the clearing of the current output cell\n",
       "var outputEl = gd.closest('.output');\n",
       "if (outputEl) {{\n",
       "    x.observe(outputEl, {childList: true});\n",
       "}}\n",
       "\n",
       "                        })                };                });            </script>        </div>"
      ]
     },
     "metadata": {},
     "output_type": "display_data"
    }
   ],
   "source": [
    "\n",
    "fig = px.box(df_listings,x=\"neighbourhood_group\",y=\"price_per_person\",color_discrete_sequence=['#00509d'],\n",
    "            \n",
    "             title=\"Distribution of Price per Person by City\",\n",
    "       labels=dict(neighbourhood_group=\"City\",price_per_person=\"Price/Person\"),\n",
    "       template=\"simple_white\"\n",
    "            )\n",
    "\n",
    "fig.update_layout( yaxis=dict(\n",
    "        title='Price/Person',\n",
    "         ticksuffix=\"€\"\n",
    "    ),)"
   ]
  },
  {
   "cell_type": "markdown",
   "metadata": {},
   "source": [
    "#### iv) Location with highest avg rating"
   ]
  },
  {
   "cell_type": "code",
   "execution_count": 33,
   "metadata": {},
   "outputs": [
    {
     "data": {
      "application/vnd.plotly.v1+json": {
       "config": {
        "plotlyServerURL": "https://plot.ly"
       },
       "data": [
        {
         "marker": {
          "color": "#00509d",
          "line": {
           "color": "rgb(8,48,107)",
           "width": 1.5
          }
         },
         "opacity": 0.6,
         "type": "bar",
         "x": [
          "Apokoronas",
          "Chania",
          "Gaudos",
          "Kandanos",
          "Kissamos",
          "Platanias",
          "Sfakia"
         ],
         "y": [
          4.759590517241383,
          4.799661754855977,
          4.984,
          4.804469026548674,
          4.77002409638555,
          4.716109550561802,
          4.7170000000000005
         ]
        }
       ],
       "layout": {
        "barmode": "stack",
        "paper_bgcolor": "rgba(0,0,0,0)",
        "plot_bgcolor": "rgba(0,0,0,0)",
        "shapes": [
         {
          "line": {
           "color": "red",
           "dash": "dash",
           "width": 3
          },
          "type": "line",
          "x0": 0,
          "x1": 1,
          "xref": "x domain",
          "y0": 4.777415188565488,
          "y1": 4.777415188565488,
          "yref": "y"
         }
        ],
        "template": {
         "data": {
          "bar": [
           {
            "error_x": {
             "color": "#2a3f5f"
            },
            "error_y": {
             "color": "#2a3f5f"
            },
            "marker": {
             "line": {
              "color": "#E5ECF6",
              "width": 0.5
             },
             "pattern": {
              "fillmode": "overlay",
              "size": 10,
              "solidity": 0.2
             }
            },
            "type": "bar"
           }
          ],
          "barpolar": [
           {
            "marker": {
             "line": {
              "color": "#E5ECF6",
              "width": 0.5
             },
             "pattern": {
              "fillmode": "overlay",
              "size": 10,
              "solidity": 0.2
             }
            },
            "type": "barpolar"
           }
          ],
          "carpet": [
           {
            "aaxis": {
             "endlinecolor": "#2a3f5f",
             "gridcolor": "white",
             "linecolor": "white",
             "minorgridcolor": "white",
             "startlinecolor": "#2a3f5f"
            },
            "baxis": {
             "endlinecolor": "#2a3f5f",
             "gridcolor": "white",
             "linecolor": "white",
             "minorgridcolor": "white",
             "startlinecolor": "#2a3f5f"
            },
            "type": "carpet"
           }
          ],
          "choropleth": [
           {
            "colorbar": {
             "outlinewidth": 0,
             "ticks": ""
            },
            "type": "choropleth"
           }
          ],
          "contour": [
           {
            "colorbar": {
             "outlinewidth": 0,
             "ticks": ""
            },
            "colorscale": [
             [
              0,
              "#0d0887"
             ],
             [
              0.1111111111111111,
              "#46039f"
             ],
             [
              0.2222222222222222,
              "#7201a8"
             ],
             [
              0.3333333333333333,
              "#9c179e"
             ],
             [
              0.4444444444444444,
              "#bd3786"
             ],
             [
              0.5555555555555556,
              "#d8576b"
             ],
             [
              0.6666666666666666,
              "#ed7953"
             ],
             [
              0.7777777777777778,
              "#fb9f3a"
             ],
             [
              0.8888888888888888,
              "#fdca26"
             ],
             [
              1,
              "#f0f921"
             ]
            ],
            "type": "contour"
           }
          ],
          "contourcarpet": [
           {
            "colorbar": {
             "outlinewidth": 0,
             "ticks": ""
            },
            "type": "contourcarpet"
           }
          ],
          "heatmap": [
           {
            "colorbar": {
             "outlinewidth": 0,
             "ticks": ""
            },
            "colorscale": [
             [
              0,
              "#0d0887"
             ],
             [
              0.1111111111111111,
              "#46039f"
             ],
             [
              0.2222222222222222,
              "#7201a8"
             ],
             [
              0.3333333333333333,
              "#9c179e"
             ],
             [
              0.4444444444444444,
              "#bd3786"
             ],
             [
              0.5555555555555556,
              "#d8576b"
             ],
             [
              0.6666666666666666,
              "#ed7953"
             ],
             [
              0.7777777777777778,
              "#fb9f3a"
             ],
             [
              0.8888888888888888,
              "#fdca26"
             ],
             [
              1,
              "#f0f921"
             ]
            ],
            "type": "heatmap"
           }
          ],
          "heatmapgl": [
           {
            "colorbar": {
             "outlinewidth": 0,
             "ticks": ""
            },
            "colorscale": [
             [
              0,
              "#0d0887"
             ],
             [
              0.1111111111111111,
              "#46039f"
             ],
             [
              0.2222222222222222,
              "#7201a8"
             ],
             [
              0.3333333333333333,
              "#9c179e"
             ],
             [
              0.4444444444444444,
              "#bd3786"
             ],
             [
              0.5555555555555556,
              "#d8576b"
             ],
             [
              0.6666666666666666,
              "#ed7953"
             ],
             [
              0.7777777777777778,
              "#fb9f3a"
             ],
             [
              0.8888888888888888,
              "#fdca26"
             ],
             [
              1,
              "#f0f921"
             ]
            ],
            "type": "heatmapgl"
           }
          ],
          "histogram": [
           {
            "marker": {
             "pattern": {
              "fillmode": "overlay",
              "size": 10,
              "solidity": 0.2
             }
            },
            "type": "histogram"
           }
          ],
          "histogram2d": [
           {
            "colorbar": {
             "outlinewidth": 0,
             "ticks": ""
            },
            "colorscale": [
             [
              0,
              "#0d0887"
             ],
             [
              0.1111111111111111,
              "#46039f"
             ],
             [
              0.2222222222222222,
              "#7201a8"
             ],
             [
              0.3333333333333333,
              "#9c179e"
             ],
             [
              0.4444444444444444,
              "#bd3786"
             ],
             [
              0.5555555555555556,
              "#d8576b"
             ],
             [
              0.6666666666666666,
              "#ed7953"
             ],
             [
              0.7777777777777778,
              "#fb9f3a"
             ],
             [
              0.8888888888888888,
              "#fdca26"
             ],
             [
              1,
              "#f0f921"
             ]
            ],
            "type": "histogram2d"
           }
          ],
          "histogram2dcontour": [
           {
            "colorbar": {
             "outlinewidth": 0,
             "ticks": ""
            },
            "colorscale": [
             [
              0,
              "#0d0887"
             ],
             [
              0.1111111111111111,
              "#46039f"
             ],
             [
              0.2222222222222222,
              "#7201a8"
             ],
             [
              0.3333333333333333,
              "#9c179e"
             ],
             [
              0.4444444444444444,
              "#bd3786"
             ],
             [
              0.5555555555555556,
              "#d8576b"
             ],
             [
              0.6666666666666666,
              "#ed7953"
             ],
             [
              0.7777777777777778,
              "#fb9f3a"
             ],
             [
              0.8888888888888888,
              "#fdca26"
             ],
             [
              1,
              "#f0f921"
             ]
            ],
            "type": "histogram2dcontour"
           }
          ],
          "mesh3d": [
           {
            "colorbar": {
             "outlinewidth": 0,
             "ticks": ""
            },
            "type": "mesh3d"
           }
          ],
          "parcoords": [
           {
            "line": {
             "colorbar": {
              "outlinewidth": 0,
              "ticks": ""
             }
            },
            "type": "parcoords"
           }
          ],
          "pie": [
           {
            "automargin": true,
            "type": "pie"
           }
          ],
          "scatter": [
           {
            "marker": {
             "colorbar": {
              "outlinewidth": 0,
              "ticks": ""
             }
            },
            "type": "scatter"
           }
          ],
          "scatter3d": [
           {
            "line": {
             "colorbar": {
              "outlinewidth": 0,
              "ticks": ""
             }
            },
            "marker": {
             "colorbar": {
              "outlinewidth": 0,
              "ticks": ""
             }
            },
            "type": "scatter3d"
           }
          ],
          "scattercarpet": [
           {
            "marker": {
             "colorbar": {
              "outlinewidth": 0,
              "ticks": ""
             }
            },
            "type": "scattercarpet"
           }
          ],
          "scattergeo": [
           {
            "marker": {
             "colorbar": {
              "outlinewidth": 0,
              "ticks": ""
             }
            },
            "type": "scattergeo"
           }
          ],
          "scattergl": [
           {
            "marker": {
             "colorbar": {
              "outlinewidth": 0,
              "ticks": ""
             }
            },
            "type": "scattergl"
           }
          ],
          "scattermapbox": [
           {
            "marker": {
             "colorbar": {
              "outlinewidth": 0,
              "ticks": ""
             }
            },
            "type": "scattermapbox"
           }
          ],
          "scatterpolar": [
           {
            "marker": {
             "colorbar": {
              "outlinewidth": 0,
              "ticks": ""
             }
            },
            "type": "scatterpolar"
           }
          ],
          "scatterpolargl": [
           {
            "marker": {
             "colorbar": {
              "outlinewidth": 0,
              "ticks": ""
             }
            },
            "type": "scatterpolargl"
           }
          ],
          "scatterternary": [
           {
            "marker": {
             "colorbar": {
              "outlinewidth": 0,
              "ticks": ""
             }
            },
            "type": "scatterternary"
           }
          ],
          "surface": [
           {
            "colorbar": {
             "outlinewidth": 0,
             "ticks": ""
            },
            "colorscale": [
             [
              0,
              "#0d0887"
             ],
             [
              0.1111111111111111,
              "#46039f"
             ],
             [
              0.2222222222222222,
              "#7201a8"
             ],
             [
              0.3333333333333333,
              "#9c179e"
             ],
             [
              0.4444444444444444,
              "#bd3786"
             ],
             [
              0.5555555555555556,
              "#d8576b"
             ],
             [
              0.6666666666666666,
              "#ed7953"
             ],
             [
              0.7777777777777778,
              "#fb9f3a"
             ],
             [
              0.8888888888888888,
              "#fdca26"
             ],
             [
              1,
              "#f0f921"
             ]
            ],
            "type": "surface"
           }
          ],
          "table": [
           {
            "cells": {
             "fill": {
              "color": "#EBF0F8"
             },
             "line": {
              "color": "white"
             }
            },
            "header": {
             "fill": {
              "color": "#C8D4E3"
             },
             "line": {
              "color": "white"
             }
            },
            "type": "table"
           }
          ]
         },
         "layout": {
          "annotationdefaults": {
           "arrowcolor": "#2a3f5f",
           "arrowhead": 0,
           "arrowwidth": 1
          },
          "autotypenumbers": "strict",
          "coloraxis": {
           "colorbar": {
            "outlinewidth": 0,
            "ticks": ""
           }
          },
          "colorscale": {
           "diverging": [
            [
             0,
             "#8e0152"
            ],
            [
             0.1,
             "#c51b7d"
            ],
            [
             0.2,
             "#de77ae"
            ],
            [
             0.3,
             "#f1b6da"
            ],
            [
             0.4,
             "#fde0ef"
            ],
            [
             0.5,
             "#f7f7f7"
            ],
            [
             0.6,
             "#e6f5d0"
            ],
            [
             0.7,
             "#b8e186"
            ],
            [
             0.8,
             "#7fbc41"
            ],
            [
             0.9,
             "#4d9221"
            ],
            [
             1,
             "#276419"
            ]
           ],
           "sequential": [
            [
             0,
             "#0d0887"
            ],
            [
             0.1111111111111111,
             "#46039f"
            ],
            [
             0.2222222222222222,
             "#7201a8"
            ],
            [
             0.3333333333333333,
             "#9c179e"
            ],
            [
             0.4444444444444444,
             "#bd3786"
            ],
            [
             0.5555555555555556,
             "#d8576b"
            ],
            [
             0.6666666666666666,
             "#ed7953"
            ],
            [
             0.7777777777777778,
             "#fb9f3a"
            ],
            [
             0.8888888888888888,
             "#fdca26"
            ],
            [
             1,
             "#f0f921"
            ]
           ],
           "sequentialminus": [
            [
             0,
             "#0d0887"
            ],
            [
             0.1111111111111111,
             "#46039f"
            ],
            [
             0.2222222222222222,
             "#7201a8"
            ],
            [
             0.3333333333333333,
             "#9c179e"
            ],
            [
             0.4444444444444444,
             "#bd3786"
            ],
            [
             0.5555555555555556,
             "#d8576b"
            ],
            [
             0.6666666666666666,
             "#ed7953"
            ],
            [
             0.7777777777777778,
             "#fb9f3a"
            ],
            [
             0.8888888888888888,
             "#fdca26"
            ],
            [
             1,
             "#f0f921"
            ]
           ]
          },
          "colorway": [
           "#636efa",
           "#EF553B",
           "#00cc96",
           "#ab63fa",
           "#FFA15A",
           "#19d3f3",
           "#FF6692",
           "#B6E880",
           "#FF97FF",
           "#FECB52"
          ],
          "font": {
           "color": "#2a3f5f"
          },
          "geo": {
           "bgcolor": "white",
           "lakecolor": "white",
           "landcolor": "#E5ECF6",
           "showlakes": true,
           "showland": true,
           "subunitcolor": "white"
          },
          "hoverlabel": {
           "align": "left"
          },
          "hovermode": "closest",
          "mapbox": {
           "style": "light"
          },
          "paper_bgcolor": "white",
          "plot_bgcolor": "#E5ECF6",
          "polar": {
           "angularaxis": {
            "gridcolor": "white",
            "linecolor": "white",
            "ticks": ""
           },
           "bgcolor": "#E5ECF6",
           "radialaxis": {
            "gridcolor": "white",
            "linecolor": "white",
            "ticks": ""
           }
          },
          "scene": {
           "xaxis": {
            "backgroundcolor": "#E5ECF6",
            "gridcolor": "white",
            "gridwidth": 2,
            "linecolor": "white",
            "showbackground": true,
            "ticks": "",
            "zerolinecolor": "white"
           },
           "yaxis": {
            "backgroundcolor": "#E5ECF6",
            "gridcolor": "white",
            "gridwidth": 2,
            "linecolor": "white",
            "showbackground": true,
            "ticks": "",
            "zerolinecolor": "white"
           },
           "zaxis": {
            "backgroundcolor": "#E5ECF6",
            "gridcolor": "white",
            "gridwidth": 2,
            "linecolor": "white",
            "showbackground": true,
            "ticks": "",
            "zerolinecolor": "white"
           }
          },
          "shapedefaults": {
           "line": {
            "color": "#2a3f5f"
           }
          },
          "ternary": {
           "aaxis": {
            "gridcolor": "white",
            "linecolor": "white",
            "ticks": ""
           },
           "baxis": {
            "gridcolor": "white",
            "linecolor": "white",
            "ticks": ""
           },
           "bgcolor": "#E5ECF6",
           "caxis": {
            "gridcolor": "white",
            "linecolor": "white",
            "ticks": ""
           }
          },
          "title": {
           "x": 0.05
          },
          "xaxis": {
           "automargin": true,
           "gridcolor": "white",
           "linecolor": "white",
           "ticks": "",
           "title": {
            "standoff": 15
           },
           "zerolinecolor": "white",
           "zerolinewidth": 2
          },
          "yaxis": {
           "automargin": true,
           "gridcolor": "white",
           "linecolor": "white",
           "ticks": "",
           "title": {
            "standoff": 15
           },
           "zerolinecolor": "white",
           "zerolinewidth": 2
          }
         }
        },
        "title": {
         "text": "Rating by City"
        },
        "xaxis": {
         "categoryorder": "total descending",
         "title": {
          "text": ""
         }
        },
        "yaxis": {
         "ticksuffix": "",
         "title": {
          "text": "Avg Rating"
         }
        }
       }
      },
      "text/html": [
       "<div>                            <div id=\"99e8ac2b-2636-4750-b002-65c39a7c7633\" class=\"plotly-graph-div\" style=\"height:525px; width:100%;\"></div>            <script type=\"text/javascript\">                require([\"plotly\"], function(Plotly) {                    window.PLOTLYENV=window.PLOTLYENV || {};                                    if (document.getElementById(\"99e8ac2b-2636-4750-b002-65c39a7c7633\")) {                    Plotly.newPlot(                        \"99e8ac2b-2636-4750-b002-65c39a7c7633\",                        [{\"marker\":{\"color\":\"#00509d\",\"line\":{\"color\":\"rgb(8,48,107)\",\"width\":1.5}},\"opacity\":0.6,\"type\":\"bar\",\"x\":[\"Apokoronas\",\"Chania\",\"Gaudos\",\"Kandanos\",\"Kissamos\",\"Platanias\",\"Sfakia\"],\"y\":[4.759590517241383,4.799661754855977,4.984,4.804469026548674,4.77002409638555,4.716109550561802,4.7170000000000005]}],                        {\"barmode\":\"stack\",\"paper_bgcolor\":\"rgba(0,0,0,0)\",\"plot_bgcolor\":\"rgba(0,0,0,0)\",\"shapes\":[{\"line\":{\"color\":\"red\",\"dash\":\"dash\",\"width\":3},\"type\":\"line\",\"x0\":0,\"x1\":1,\"xref\":\"x domain\",\"y0\":4.777415188565488,\"y1\":4.777415188565488,\"yref\":\"y\"}],\"template\":{\"data\":{\"bar\":[{\"error_x\":{\"color\":\"#2a3f5f\"},\"error_y\":{\"color\":\"#2a3f5f\"},\"marker\":{\"line\":{\"color\":\"#E5ECF6\",\"width\":0.5},\"pattern\":{\"fillmode\":\"overlay\",\"size\":10,\"solidity\":0.2}},\"type\":\"bar\"}],\"barpolar\":[{\"marker\":{\"line\":{\"color\":\"#E5ECF6\",\"width\":0.5},\"pattern\":{\"fillmode\":\"overlay\",\"size\":10,\"solidity\":0.2}},\"type\":\"barpolar\"}],\"carpet\":[{\"aaxis\":{\"endlinecolor\":\"#2a3f5f\",\"gridcolor\":\"white\",\"linecolor\":\"white\",\"minorgridcolor\":\"white\",\"startlinecolor\":\"#2a3f5f\"},\"baxis\":{\"endlinecolor\":\"#2a3f5f\",\"gridcolor\":\"white\",\"linecolor\":\"white\",\"minorgridcolor\":\"white\",\"startlinecolor\":\"#2a3f5f\"},\"type\":\"carpet\"}],\"choropleth\":[{\"colorbar\":{\"outlinewidth\":0,\"ticks\":\"\"},\"type\":\"choropleth\"}],\"contour\":[{\"colorbar\":{\"outlinewidth\":0,\"ticks\":\"\"},\"colorscale\":[[0.0,\"#0d0887\"],[0.1111111111111111,\"#46039f\"],[0.2222222222222222,\"#7201a8\"],[0.3333333333333333,\"#9c179e\"],[0.4444444444444444,\"#bd3786\"],[0.5555555555555556,\"#d8576b\"],[0.6666666666666666,\"#ed7953\"],[0.7777777777777778,\"#fb9f3a\"],[0.8888888888888888,\"#fdca26\"],[1.0,\"#f0f921\"]],\"type\":\"contour\"}],\"contourcarpet\":[{\"colorbar\":{\"outlinewidth\":0,\"ticks\":\"\"},\"type\":\"contourcarpet\"}],\"heatmap\":[{\"colorbar\":{\"outlinewidth\":0,\"ticks\":\"\"},\"colorscale\":[[0.0,\"#0d0887\"],[0.1111111111111111,\"#46039f\"],[0.2222222222222222,\"#7201a8\"],[0.3333333333333333,\"#9c179e\"],[0.4444444444444444,\"#bd3786\"],[0.5555555555555556,\"#d8576b\"],[0.6666666666666666,\"#ed7953\"],[0.7777777777777778,\"#fb9f3a\"],[0.8888888888888888,\"#fdca26\"],[1.0,\"#f0f921\"]],\"type\":\"heatmap\"}],\"heatmapgl\":[{\"colorbar\":{\"outlinewidth\":0,\"ticks\":\"\"},\"colorscale\":[[0.0,\"#0d0887\"],[0.1111111111111111,\"#46039f\"],[0.2222222222222222,\"#7201a8\"],[0.3333333333333333,\"#9c179e\"],[0.4444444444444444,\"#bd3786\"],[0.5555555555555556,\"#d8576b\"],[0.6666666666666666,\"#ed7953\"],[0.7777777777777778,\"#fb9f3a\"],[0.8888888888888888,\"#fdca26\"],[1.0,\"#f0f921\"]],\"type\":\"heatmapgl\"}],\"histogram\":[{\"marker\":{\"pattern\":{\"fillmode\":\"overlay\",\"size\":10,\"solidity\":0.2}},\"type\":\"histogram\"}],\"histogram2d\":[{\"colorbar\":{\"outlinewidth\":0,\"ticks\":\"\"},\"colorscale\":[[0.0,\"#0d0887\"],[0.1111111111111111,\"#46039f\"],[0.2222222222222222,\"#7201a8\"],[0.3333333333333333,\"#9c179e\"],[0.4444444444444444,\"#bd3786\"],[0.5555555555555556,\"#d8576b\"],[0.6666666666666666,\"#ed7953\"],[0.7777777777777778,\"#fb9f3a\"],[0.8888888888888888,\"#fdca26\"],[1.0,\"#f0f921\"]],\"type\":\"histogram2d\"}],\"histogram2dcontour\":[{\"colorbar\":{\"outlinewidth\":0,\"ticks\":\"\"},\"colorscale\":[[0.0,\"#0d0887\"],[0.1111111111111111,\"#46039f\"],[0.2222222222222222,\"#7201a8\"],[0.3333333333333333,\"#9c179e\"],[0.4444444444444444,\"#bd3786\"],[0.5555555555555556,\"#d8576b\"],[0.6666666666666666,\"#ed7953\"],[0.7777777777777778,\"#fb9f3a\"],[0.8888888888888888,\"#fdca26\"],[1.0,\"#f0f921\"]],\"type\":\"histogram2dcontour\"}],\"mesh3d\":[{\"colorbar\":{\"outlinewidth\":0,\"ticks\":\"\"},\"type\":\"mesh3d\"}],\"parcoords\":[{\"line\":{\"colorbar\":{\"outlinewidth\":0,\"ticks\":\"\"}},\"type\":\"parcoords\"}],\"pie\":[{\"automargin\":true,\"type\":\"pie\"}],\"scatter\":[{\"marker\":{\"colorbar\":{\"outlinewidth\":0,\"ticks\":\"\"}},\"type\":\"scatter\"}],\"scatter3d\":[{\"line\":{\"colorbar\":{\"outlinewidth\":0,\"ticks\":\"\"}},\"marker\":{\"colorbar\":{\"outlinewidth\":0,\"ticks\":\"\"}},\"type\":\"scatter3d\"}],\"scattercarpet\":[{\"marker\":{\"colorbar\":{\"outlinewidth\":0,\"ticks\":\"\"}},\"type\":\"scattercarpet\"}],\"scattergeo\":[{\"marker\":{\"colorbar\":{\"outlinewidth\":0,\"ticks\":\"\"}},\"type\":\"scattergeo\"}],\"scattergl\":[{\"marker\":{\"colorbar\":{\"outlinewidth\":0,\"ticks\":\"\"}},\"type\":\"scattergl\"}],\"scattermapbox\":[{\"marker\":{\"colorbar\":{\"outlinewidth\":0,\"ticks\":\"\"}},\"type\":\"scattermapbox\"}],\"scatterpolar\":[{\"marker\":{\"colorbar\":{\"outlinewidth\":0,\"ticks\":\"\"}},\"type\":\"scatterpolar\"}],\"scatterpolargl\":[{\"marker\":{\"colorbar\":{\"outlinewidth\":0,\"ticks\":\"\"}},\"type\":\"scatterpolargl\"}],\"scatterternary\":[{\"marker\":{\"colorbar\":{\"outlinewidth\":0,\"ticks\":\"\"}},\"type\":\"scatterternary\"}],\"surface\":[{\"colorbar\":{\"outlinewidth\":0,\"ticks\":\"\"},\"colorscale\":[[0.0,\"#0d0887\"],[0.1111111111111111,\"#46039f\"],[0.2222222222222222,\"#7201a8\"],[0.3333333333333333,\"#9c179e\"],[0.4444444444444444,\"#bd3786\"],[0.5555555555555556,\"#d8576b\"],[0.6666666666666666,\"#ed7953\"],[0.7777777777777778,\"#fb9f3a\"],[0.8888888888888888,\"#fdca26\"],[1.0,\"#f0f921\"]],\"type\":\"surface\"}],\"table\":[{\"cells\":{\"fill\":{\"color\":\"#EBF0F8\"},\"line\":{\"color\":\"white\"}},\"header\":{\"fill\":{\"color\":\"#C8D4E3\"},\"line\":{\"color\":\"white\"}},\"type\":\"table\"}]},\"layout\":{\"annotationdefaults\":{\"arrowcolor\":\"#2a3f5f\",\"arrowhead\":0,\"arrowwidth\":1},\"autotypenumbers\":\"strict\",\"coloraxis\":{\"colorbar\":{\"outlinewidth\":0,\"ticks\":\"\"}},\"colorscale\":{\"diverging\":[[0,\"#8e0152\"],[0.1,\"#c51b7d\"],[0.2,\"#de77ae\"],[0.3,\"#f1b6da\"],[0.4,\"#fde0ef\"],[0.5,\"#f7f7f7\"],[0.6,\"#e6f5d0\"],[0.7,\"#b8e186\"],[0.8,\"#7fbc41\"],[0.9,\"#4d9221\"],[1,\"#276419\"]],\"sequential\":[[0.0,\"#0d0887\"],[0.1111111111111111,\"#46039f\"],[0.2222222222222222,\"#7201a8\"],[0.3333333333333333,\"#9c179e\"],[0.4444444444444444,\"#bd3786\"],[0.5555555555555556,\"#d8576b\"],[0.6666666666666666,\"#ed7953\"],[0.7777777777777778,\"#fb9f3a\"],[0.8888888888888888,\"#fdca26\"],[1.0,\"#f0f921\"]],\"sequentialminus\":[[0.0,\"#0d0887\"],[0.1111111111111111,\"#46039f\"],[0.2222222222222222,\"#7201a8\"],[0.3333333333333333,\"#9c179e\"],[0.4444444444444444,\"#bd3786\"],[0.5555555555555556,\"#d8576b\"],[0.6666666666666666,\"#ed7953\"],[0.7777777777777778,\"#fb9f3a\"],[0.8888888888888888,\"#fdca26\"],[1.0,\"#f0f921\"]]},\"colorway\":[\"#636efa\",\"#EF553B\",\"#00cc96\",\"#ab63fa\",\"#FFA15A\",\"#19d3f3\",\"#FF6692\",\"#B6E880\",\"#FF97FF\",\"#FECB52\"],\"font\":{\"color\":\"#2a3f5f\"},\"geo\":{\"bgcolor\":\"white\",\"lakecolor\":\"white\",\"landcolor\":\"#E5ECF6\",\"showlakes\":true,\"showland\":true,\"subunitcolor\":\"white\"},\"hoverlabel\":{\"align\":\"left\"},\"hovermode\":\"closest\",\"mapbox\":{\"style\":\"light\"},\"paper_bgcolor\":\"white\",\"plot_bgcolor\":\"#E5ECF6\",\"polar\":{\"angularaxis\":{\"gridcolor\":\"white\",\"linecolor\":\"white\",\"ticks\":\"\"},\"bgcolor\":\"#E5ECF6\",\"radialaxis\":{\"gridcolor\":\"white\",\"linecolor\":\"white\",\"ticks\":\"\"}},\"scene\":{\"xaxis\":{\"backgroundcolor\":\"#E5ECF6\",\"gridcolor\":\"white\",\"gridwidth\":2,\"linecolor\":\"white\",\"showbackground\":true,\"ticks\":\"\",\"zerolinecolor\":\"white\"},\"yaxis\":{\"backgroundcolor\":\"#E5ECF6\",\"gridcolor\":\"white\",\"gridwidth\":2,\"linecolor\":\"white\",\"showbackground\":true,\"ticks\":\"\",\"zerolinecolor\":\"white\"},\"zaxis\":{\"backgroundcolor\":\"#E5ECF6\",\"gridcolor\":\"white\",\"gridwidth\":2,\"linecolor\":\"white\",\"showbackground\":true,\"ticks\":\"\",\"zerolinecolor\":\"white\"}},\"shapedefaults\":{\"line\":{\"color\":\"#2a3f5f\"}},\"ternary\":{\"aaxis\":{\"gridcolor\":\"white\",\"linecolor\":\"white\",\"ticks\":\"\"},\"baxis\":{\"gridcolor\":\"white\",\"linecolor\":\"white\",\"ticks\":\"\"},\"bgcolor\":\"#E5ECF6\",\"caxis\":{\"gridcolor\":\"white\",\"linecolor\":\"white\",\"ticks\":\"\"}},\"title\":{\"x\":0.05},\"xaxis\":{\"automargin\":true,\"gridcolor\":\"white\",\"linecolor\":\"white\",\"ticks\":\"\",\"title\":{\"standoff\":15},\"zerolinecolor\":\"white\",\"zerolinewidth\":2},\"yaxis\":{\"automargin\":true,\"gridcolor\":\"white\",\"linecolor\":\"white\",\"ticks\":\"\",\"title\":{\"standoff\":15},\"zerolinecolor\":\"white\",\"zerolinewidth\":2}}},\"title\":{\"text\":\"Rating by City\"},\"xaxis\":{\"categoryorder\":\"total descending\",\"title\":{\"text\":\"\"}},\"yaxis\":{\"ticksuffix\":\"\",\"title\":{\"text\":\"Avg Rating\"}}},                        {\"responsive\": true}                    ).then(function(){\n",
       "                            \n",
       "var gd = document.getElementById('99e8ac2b-2636-4750-b002-65c39a7c7633');\n",
       "var x = new MutationObserver(function (mutations, observer) {{\n",
       "        var display = window.getComputedStyle(gd).display;\n",
       "        if (!display || display === 'none') {{\n",
       "            console.log([gd, 'removed!']);\n",
       "            Plotly.purge(gd);\n",
       "            observer.disconnect();\n",
       "        }}\n",
       "}});\n",
       "\n",
       "// Listen for the removal of the full notebook cells\n",
       "var notebookContainer = gd.closest('#notebook-container');\n",
       "if (notebookContainer) {{\n",
       "    x.observe(notebookContainer, {childList: true});\n",
       "}}\n",
       "\n",
       "// Listen for the clearing of the current output cell\n",
       "var outputEl = gd.closest('.output');\n",
       "if (outputEl) {{\n",
       "    x.observe(outputEl, {childList: true});\n",
       "}}\n",
       "\n",
       "                        })                };                });            </script>        </div>"
      ]
     },
     "metadata": {},
     "output_type": "display_data"
    }
   ],
   "source": [
    "# Find locations avg rating\n",
    "df_location_reviews = pd.DataFrame({\"Avg_Rating\":df_listings.groupby(\"neighbourhood_group\")['review_scores_location'].mean()})\n",
    "\n",
    "\n",
    "# Define X, Y\n",
    "x = list(df_location_reviews.index)\n",
    "y = df_location_reviews.Avg_Rating\n",
    "\n",
    "# Use plotly to plot\n",
    "fig= go.Figure(data=go.Bar(x=x,y=y,marker_color='#00509d', marker_line_color='rgb(8,48,107)',\n",
    "                  marker_line_width=1.5, opacity=0.6))\n",
    "\n",
    "# Update Layout\n",
    "fig.update_layout(\n",
    "    title={'text':'Rating by City'},\n",
    "    xaxis=dict(\n",
    "        title=''),\n",
    "    yaxis=dict(\n",
    "        title='Avg Rating',\n",
    "         ticksuffix=\"\"\n",
    "    ),\n",
    "    paper_bgcolor='rgba(0,0,0,0)',\n",
    "    plot_bgcolor='rgba(0,0,0,0)',\n",
    ")\n",
    "\n",
    "# Add hosizontall line to show the mean\n",
    "fig.add_hline(y=df_listings.review_scores_location.mean(),\n",
    "              line_width=3,line_dash=\"dash\",line_color=\"red\")\n",
    "\n",
    "# Short by highest \n",
    "fig.update_layout(barmode='stack', xaxis={'categoryorder':'total descending'})\n",
    "\n"
   ]
  },
  {
   "cell_type": "markdown",
   "metadata": {},
   "source": [
    "#### v) Seasonality in demand\n",
    "\n",
    "To find the seasonality in demand, we will use the reviews dataset (we assume more reviews => more demand)"
   ]
  },
  {
   "cell_type": "code",
   "execution_count": 34,
   "metadata": {},
   "outputs": [],
   "source": [
    "# Filter by listings available in df_listings\n",
    "unique_list_listings = list(df_listings.id.unique())\n",
    "df_reviews = df_reviews[df_reviews.listing_id.isin(unique_list_listings)]\n",
    "\n",
    "# Convert date to datetime object\n",
    "df_reviews['date'] = pd.to_datetime(df_reviews['date'])"
   ]
  },
  {
   "cell_type": "code",
   "execution_count": 35,
   "metadata": {},
   "outputs": [
    {
     "data": {
      "application/vnd.plotly.v1+json": {
       "config": {
        "plotlyServerURL": "https://plot.ly"
       },
       "data": [
        {
         "hovertemplate": "date=%{x}<br>comments=%{y}<extra></extra>",
         "legendgroup": "",
         "line": {
          "color": "#00509d",
          "dash": "solid"
         },
         "mode": "lines",
         "name": "",
         "orientation": "v",
         "showlegend": false,
         "type": "scatter",
         "x": [
          2012,
          2013,
          2014,
          2015,
          2016,
          2017,
          2018,
          2019,
          2020
         ],
         "xaxis": "x",
         "y": [
          98,
          581,
          1716,
          3719,
          7730,
          14395,
          23257,
          30095,
          14668
         ],
         "yaxis": "y"
        }
       ],
       "layout": {
        "legend": {
         "tracegroupgap": 0
        },
        "template": {
         "data": {
          "bar": [
           {
            "error_x": {
             "color": "rgb(36,36,36)"
            },
            "error_y": {
             "color": "rgb(36,36,36)"
            },
            "marker": {
             "line": {
              "color": "white",
              "width": 0.5
             },
             "pattern": {
              "fillmode": "overlay",
              "size": 10,
              "solidity": 0.2
             }
            },
            "type": "bar"
           }
          ],
          "barpolar": [
           {
            "marker": {
             "line": {
              "color": "white",
              "width": 0.5
             },
             "pattern": {
              "fillmode": "overlay",
              "size": 10,
              "solidity": 0.2
             }
            },
            "type": "barpolar"
           }
          ],
          "carpet": [
           {
            "aaxis": {
             "endlinecolor": "rgb(36,36,36)",
             "gridcolor": "white",
             "linecolor": "white",
             "minorgridcolor": "white",
             "startlinecolor": "rgb(36,36,36)"
            },
            "baxis": {
             "endlinecolor": "rgb(36,36,36)",
             "gridcolor": "white",
             "linecolor": "white",
             "minorgridcolor": "white",
             "startlinecolor": "rgb(36,36,36)"
            },
            "type": "carpet"
           }
          ],
          "choropleth": [
           {
            "colorbar": {
             "outlinewidth": 1,
             "tickcolor": "rgb(36,36,36)",
             "ticks": "outside"
            },
            "type": "choropleth"
           }
          ],
          "contour": [
           {
            "colorbar": {
             "outlinewidth": 1,
             "tickcolor": "rgb(36,36,36)",
             "ticks": "outside"
            },
            "colorscale": [
             [
              0,
              "#440154"
             ],
             [
              0.1111111111111111,
              "#482878"
             ],
             [
              0.2222222222222222,
              "#3e4989"
             ],
             [
              0.3333333333333333,
              "#31688e"
             ],
             [
              0.4444444444444444,
              "#26828e"
             ],
             [
              0.5555555555555556,
              "#1f9e89"
             ],
             [
              0.6666666666666666,
              "#35b779"
             ],
             [
              0.7777777777777778,
              "#6ece58"
             ],
             [
              0.8888888888888888,
              "#b5de2b"
             ],
             [
              1,
              "#fde725"
             ]
            ],
            "type": "contour"
           }
          ],
          "contourcarpet": [
           {
            "colorbar": {
             "outlinewidth": 1,
             "tickcolor": "rgb(36,36,36)",
             "ticks": "outside"
            },
            "type": "contourcarpet"
           }
          ],
          "heatmap": [
           {
            "colorbar": {
             "outlinewidth": 1,
             "tickcolor": "rgb(36,36,36)",
             "ticks": "outside"
            },
            "colorscale": [
             [
              0,
              "#440154"
             ],
             [
              0.1111111111111111,
              "#482878"
             ],
             [
              0.2222222222222222,
              "#3e4989"
             ],
             [
              0.3333333333333333,
              "#31688e"
             ],
             [
              0.4444444444444444,
              "#26828e"
             ],
             [
              0.5555555555555556,
              "#1f9e89"
             ],
             [
              0.6666666666666666,
              "#35b779"
             ],
             [
              0.7777777777777778,
              "#6ece58"
             ],
             [
              0.8888888888888888,
              "#b5de2b"
             ],
             [
              1,
              "#fde725"
             ]
            ],
            "type": "heatmap"
           }
          ],
          "heatmapgl": [
           {
            "colorbar": {
             "outlinewidth": 1,
             "tickcolor": "rgb(36,36,36)",
             "ticks": "outside"
            },
            "colorscale": [
             [
              0,
              "#440154"
             ],
             [
              0.1111111111111111,
              "#482878"
             ],
             [
              0.2222222222222222,
              "#3e4989"
             ],
             [
              0.3333333333333333,
              "#31688e"
             ],
             [
              0.4444444444444444,
              "#26828e"
             ],
             [
              0.5555555555555556,
              "#1f9e89"
             ],
             [
              0.6666666666666666,
              "#35b779"
             ],
             [
              0.7777777777777778,
              "#6ece58"
             ],
             [
              0.8888888888888888,
              "#b5de2b"
             ],
             [
              1,
              "#fde725"
             ]
            ],
            "type": "heatmapgl"
           }
          ],
          "histogram": [
           {
            "marker": {
             "line": {
              "color": "white",
              "width": 0.6
             }
            },
            "type": "histogram"
           }
          ],
          "histogram2d": [
           {
            "colorbar": {
             "outlinewidth": 1,
             "tickcolor": "rgb(36,36,36)",
             "ticks": "outside"
            },
            "colorscale": [
             [
              0,
              "#440154"
             ],
             [
              0.1111111111111111,
              "#482878"
             ],
             [
              0.2222222222222222,
              "#3e4989"
             ],
             [
              0.3333333333333333,
              "#31688e"
             ],
             [
              0.4444444444444444,
              "#26828e"
             ],
             [
              0.5555555555555556,
              "#1f9e89"
             ],
             [
              0.6666666666666666,
              "#35b779"
             ],
             [
              0.7777777777777778,
              "#6ece58"
             ],
             [
              0.8888888888888888,
              "#b5de2b"
             ],
             [
              1,
              "#fde725"
             ]
            ],
            "type": "histogram2d"
           }
          ],
          "histogram2dcontour": [
           {
            "colorbar": {
             "outlinewidth": 1,
             "tickcolor": "rgb(36,36,36)",
             "ticks": "outside"
            },
            "colorscale": [
             [
              0,
              "#440154"
             ],
             [
              0.1111111111111111,
              "#482878"
             ],
             [
              0.2222222222222222,
              "#3e4989"
             ],
             [
              0.3333333333333333,
              "#31688e"
             ],
             [
              0.4444444444444444,
              "#26828e"
             ],
             [
              0.5555555555555556,
              "#1f9e89"
             ],
             [
              0.6666666666666666,
              "#35b779"
             ],
             [
              0.7777777777777778,
              "#6ece58"
             ],
             [
              0.8888888888888888,
              "#b5de2b"
             ],
             [
              1,
              "#fde725"
             ]
            ],
            "type": "histogram2dcontour"
           }
          ],
          "mesh3d": [
           {
            "colorbar": {
             "outlinewidth": 1,
             "tickcolor": "rgb(36,36,36)",
             "ticks": "outside"
            },
            "type": "mesh3d"
           }
          ],
          "parcoords": [
           {
            "line": {
             "colorbar": {
              "outlinewidth": 1,
              "tickcolor": "rgb(36,36,36)",
              "ticks": "outside"
             }
            },
            "type": "parcoords"
           }
          ],
          "pie": [
           {
            "automargin": true,
            "type": "pie"
           }
          ],
          "scatter": [
           {
            "marker": {
             "colorbar": {
              "outlinewidth": 1,
              "tickcolor": "rgb(36,36,36)",
              "ticks": "outside"
             }
            },
            "type": "scatter"
           }
          ],
          "scatter3d": [
           {
            "line": {
             "colorbar": {
              "outlinewidth": 1,
              "tickcolor": "rgb(36,36,36)",
              "ticks": "outside"
             }
            },
            "marker": {
             "colorbar": {
              "outlinewidth": 1,
              "tickcolor": "rgb(36,36,36)",
              "ticks": "outside"
             }
            },
            "type": "scatter3d"
           }
          ],
          "scattercarpet": [
           {
            "marker": {
             "colorbar": {
              "outlinewidth": 1,
              "tickcolor": "rgb(36,36,36)",
              "ticks": "outside"
             }
            },
            "type": "scattercarpet"
           }
          ],
          "scattergeo": [
           {
            "marker": {
             "colorbar": {
              "outlinewidth": 1,
              "tickcolor": "rgb(36,36,36)",
              "ticks": "outside"
             }
            },
            "type": "scattergeo"
           }
          ],
          "scattergl": [
           {
            "marker": {
             "colorbar": {
              "outlinewidth": 1,
              "tickcolor": "rgb(36,36,36)",
              "ticks": "outside"
             }
            },
            "type": "scattergl"
           }
          ],
          "scattermapbox": [
           {
            "marker": {
             "colorbar": {
              "outlinewidth": 1,
              "tickcolor": "rgb(36,36,36)",
              "ticks": "outside"
             }
            },
            "type": "scattermapbox"
           }
          ],
          "scatterpolar": [
           {
            "marker": {
             "colorbar": {
              "outlinewidth": 1,
              "tickcolor": "rgb(36,36,36)",
              "ticks": "outside"
             }
            },
            "type": "scatterpolar"
           }
          ],
          "scatterpolargl": [
           {
            "marker": {
             "colorbar": {
              "outlinewidth": 1,
              "tickcolor": "rgb(36,36,36)",
              "ticks": "outside"
             }
            },
            "type": "scatterpolargl"
           }
          ],
          "scatterternary": [
           {
            "marker": {
             "colorbar": {
              "outlinewidth": 1,
              "tickcolor": "rgb(36,36,36)",
              "ticks": "outside"
             }
            },
            "type": "scatterternary"
           }
          ],
          "surface": [
           {
            "colorbar": {
             "outlinewidth": 1,
             "tickcolor": "rgb(36,36,36)",
             "ticks": "outside"
            },
            "colorscale": [
             [
              0,
              "#440154"
             ],
             [
              0.1111111111111111,
              "#482878"
             ],
             [
              0.2222222222222222,
              "#3e4989"
             ],
             [
              0.3333333333333333,
              "#31688e"
             ],
             [
              0.4444444444444444,
              "#26828e"
             ],
             [
              0.5555555555555556,
              "#1f9e89"
             ],
             [
              0.6666666666666666,
              "#35b779"
             ],
             [
              0.7777777777777778,
              "#6ece58"
             ],
             [
              0.8888888888888888,
              "#b5de2b"
             ],
             [
              1,
              "#fde725"
             ]
            ],
            "type": "surface"
           }
          ],
          "table": [
           {
            "cells": {
             "fill": {
              "color": "rgb(237,237,237)"
             },
             "line": {
              "color": "white"
             }
            },
            "header": {
             "fill": {
              "color": "rgb(217,217,217)"
             },
             "line": {
              "color": "white"
             }
            },
            "type": "table"
           }
          ]
         },
         "layout": {
          "annotationdefaults": {
           "arrowhead": 0,
           "arrowwidth": 1
          },
          "autotypenumbers": "strict",
          "coloraxis": {
           "colorbar": {
            "outlinewidth": 1,
            "tickcolor": "rgb(36,36,36)",
            "ticks": "outside"
           }
          },
          "colorscale": {
           "diverging": [
            [
             0,
             "rgb(103,0,31)"
            ],
            [
             0.1,
             "rgb(178,24,43)"
            ],
            [
             0.2,
             "rgb(214,96,77)"
            ],
            [
             0.3,
             "rgb(244,165,130)"
            ],
            [
             0.4,
             "rgb(253,219,199)"
            ],
            [
             0.5,
             "rgb(247,247,247)"
            ],
            [
             0.6,
             "rgb(209,229,240)"
            ],
            [
             0.7,
             "rgb(146,197,222)"
            ],
            [
             0.8,
             "rgb(67,147,195)"
            ],
            [
             0.9,
             "rgb(33,102,172)"
            ],
            [
             1,
             "rgb(5,48,97)"
            ]
           ],
           "sequential": [
            [
             0,
             "#440154"
            ],
            [
             0.1111111111111111,
             "#482878"
            ],
            [
             0.2222222222222222,
             "#3e4989"
            ],
            [
             0.3333333333333333,
             "#31688e"
            ],
            [
             0.4444444444444444,
             "#26828e"
            ],
            [
             0.5555555555555556,
             "#1f9e89"
            ],
            [
             0.6666666666666666,
             "#35b779"
            ],
            [
             0.7777777777777778,
             "#6ece58"
            ],
            [
             0.8888888888888888,
             "#b5de2b"
            ],
            [
             1,
             "#fde725"
            ]
           ],
           "sequentialminus": [
            [
             0,
             "#440154"
            ],
            [
             0.1111111111111111,
             "#482878"
            ],
            [
             0.2222222222222222,
             "#3e4989"
            ],
            [
             0.3333333333333333,
             "#31688e"
            ],
            [
             0.4444444444444444,
             "#26828e"
            ],
            [
             0.5555555555555556,
             "#1f9e89"
            ],
            [
             0.6666666666666666,
             "#35b779"
            ],
            [
             0.7777777777777778,
             "#6ece58"
            ],
            [
             0.8888888888888888,
             "#b5de2b"
            ],
            [
             1,
             "#fde725"
            ]
           ]
          },
          "colorway": [
           "#1F77B4",
           "#FF7F0E",
           "#2CA02C",
           "#D62728",
           "#9467BD",
           "#8C564B",
           "#E377C2",
           "#7F7F7F",
           "#BCBD22",
           "#17BECF"
          ],
          "font": {
           "color": "rgb(36,36,36)"
          },
          "geo": {
           "bgcolor": "white",
           "lakecolor": "white",
           "landcolor": "white",
           "showlakes": true,
           "showland": true,
           "subunitcolor": "white"
          },
          "hoverlabel": {
           "align": "left"
          },
          "hovermode": "closest",
          "mapbox": {
           "style": "light"
          },
          "paper_bgcolor": "white",
          "plot_bgcolor": "white",
          "polar": {
           "angularaxis": {
            "gridcolor": "rgb(232,232,232)",
            "linecolor": "rgb(36,36,36)",
            "showgrid": false,
            "showline": true,
            "ticks": "outside"
           },
           "bgcolor": "white",
           "radialaxis": {
            "gridcolor": "rgb(232,232,232)",
            "linecolor": "rgb(36,36,36)",
            "showgrid": false,
            "showline": true,
            "ticks": "outside"
           }
          },
          "scene": {
           "xaxis": {
            "backgroundcolor": "white",
            "gridcolor": "rgb(232,232,232)",
            "gridwidth": 2,
            "linecolor": "rgb(36,36,36)",
            "showbackground": true,
            "showgrid": false,
            "showline": true,
            "ticks": "outside",
            "zeroline": false,
            "zerolinecolor": "rgb(36,36,36)"
           },
           "yaxis": {
            "backgroundcolor": "white",
            "gridcolor": "rgb(232,232,232)",
            "gridwidth": 2,
            "linecolor": "rgb(36,36,36)",
            "showbackground": true,
            "showgrid": false,
            "showline": true,
            "ticks": "outside",
            "zeroline": false,
            "zerolinecolor": "rgb(36,36,36)"
           },
           "zaxis": {
            "backgroundcolor": "white",
            "gridcolor": "rgb(232,232,232)",
            "gridwidth": 2,
            "linecolor": "rgb(36,36,36)",
            "showbackground": true,
            "showgrid": false,
            "showline": true,
            "ticks": "outside",
            "zeroline": false,
            "zerolinecolor": "rgb(36,36,36)"
           }
          },
          "shapedefaults": {
           "fillcolor": "black",
           "line": {
            "width": 0
           },
           "opacity": 0.3
          },
          "ternary": {
           "aaxis": {
            "gridcolor": "rgb(232,232,232)",
            "linecolor": "rgb(36,36,36)",
            "showgrid": false,
            "showline": true,
            "ticks": "outside"
           },
           "baxis": {
            "gridcolor": "rgb(232,232,232)",
            "linecolor": "rgb(36,36,36)",
            "showgrid": false,
            "showline": true,
            "ticks": "outside"
           },
           "bgcolor": "white",
           "caxis": {
            "gridcolor": "rgb(232,232,232)",
            "linecolor": "rgb(36,36,36)",
            "showgrid": false,
            "showline": true,
            "ticks": "outside"
           }
          },
          "title": {
           "x": 0.05
          },
          "xaxis": {
           "automargin": true,
           "gridcolor": "rgb(232,232,232)",
           "linecolor": "rgb(36,36,36)",
           "showgrid": false,
           "showline": true,
           "ticks": "outside",
           "title": {
            "standoff": 15
           },
           "zeroline": false,
           "zerolinecolor": "rgb(36,36,36)"
          },
          "yaxis": {
           "automargin": true,
           "gridcolor": "rgb(232,232,232)",
           "linecolor": "rgb(36,36,36)",
           "showgrid": false,
           "showline": true,
           "ticks": "outside",
           "title": {
            "standoff": 15
           },
           "zeroline": false,
           "zerolinecolor": "rgb(36,36,36)"
          }
         }
        },
        "title": {
         "text": "Popularity of Airbnb by Year"
        },
        "xaxis": {
         "anchor": "y",
         "domain": [
          0,
          1
         ],
         "showgrid": true,
         "title": {
          "text": ""
         }
        },
        "yaxis": {
         "anchor": "x",
         "domain": [
          0,
          1
         ],
         "title": {
          "text": "Number of Review by Year"
         }
        }
       }
      },
      "text/html": [
       "<div>                            <div id=\"f37b1f5f-ea1a-4648-8930-ab7b08ef6db1\" class=\"plotly-graph-div\" style=\"height:525px; width:100%;\"></div>            <script type=\"text/javascript\">                require([\"plotly\"], function(Plotly) {                    window.PLOTLYENV=window.PLOTLYENV || {};                                    if (document.getElementById(\"f37b1f5f-ea1a-4648-8930-ab7b08ef6db1\")) {                    Plotly.newPlot(                        \"f37b1f5f-ea1a-4648-8930-ab7b08ef6db1\",                        [{\"hovertemplate\":\"date=%{x}<br>comments=%{y}<extra></extra>\",\"legendgroup\":\"\",\"line\":{\"color\":\"#00509d\",\"dash\":\"solid\"},\"mode\":\"lines\",\"name\":\"\",\"orientation\":\"v\",\"showlegend\":false,\"type\":\"scatter\",\"x\":[2012,2013,2014,2015,2016,2017,2018,2019,2020],\"xaxis\":\"x\",\"y\":[98,581,1716,3719,7730,14395,23257,30095,14668],\"yaxis\":\"y\"}],                        {\"legend\":{\"tracegroupgap\":0},\"template\":{\"data\":{\"bar\":[{\"error_x\":{\"color\":\"rgb(36,36,36)\"},\"error_y\":{\"color\":\"rgb(36,36,36)\"},\"marker\":{\"line\":{\"color\":\"white\",\"width\":0.5},\"pattern\":{\"fillmode\":\"overlay\",\"size\":10,\"solidity\":0.2}},\"type\":\"bar\"}],\"barpolar\":[{\"marker\":{\"line\":{\"color\":\"white\",\"width\":0.5},\"pattern\":{\"fillmode\":\"overlay\",\"size\":10,\"solidity\":0.2}},\"type\":\"barpolar\"}],\"carpet\":[{\"aaxis\":{\"endlinecolor\":\"rgb(36,36,36)\",\"gridcolor\":\"white\",\"linecolor\":\"white\",\"minorgridcolor\":\"white\",\"startlinecolor\":\"rgb(36,36,36)\"},\"baxis\":{\"endlinecolor\":\"rgb(36,36,36)\",\"gridcolor\":\"white\",\"linecolor\":\"white\",\"minorgridcolor\":\"white\",\"startlinecolor\":\"rgb(36,36,36)\"},\"type\":\"carpet\"}],\"choropleth\":[{\"colorbar\":{\"outlinewidth\":1,\"tickcolor\":\"rgb(36,36,36)\",\"ticks\":\"outside\"},\"type\":\"choropleth\"}],\"contour\":[{\"colorbar\":{\"outlinewidth\":1,\"tickcolor\":\"rgb(36,36,36)\",\"ticks\":\"outside\"},\"colorscale\":[[0.0,\"#440154\"],[0.1111111111111111,\"#482878\"],[0.2222222222222222,\"#3e4989\"],[0.3333333333333333,\"#31688e\"],[0.4444444444444444,\"#26828e\"],[0.5555555555555556,\"#1f9e89\"],[0.6666666666666666,\"#35b779\"],[0.7777777777777778,\"#6ece58\"],[0.8888888888888888,\"#b5de2b\"],[1.0,\"#fde725\"]],\"type\":\"contour\"}],\"contourcarpet\":[{\"colorbar\":{\"outlinewidth\":1,\"tickcolor\":\"rgb(36,36,36)\",\"ticks\":\"outside\"},\"type\":\"contourcarpet\"}],\"heatmap\":[{\"colorbar\":{\"outlinewidth\":1,\"tickcolor\":\"rgb(36,36,36)\",\"ticks\":\"outside\"},\"colorscale\":[[0.0,\"#440154\"],[0.1111111111111111,\"#482878\"],[0.2222222222222222,\"#3e4989\"],[0.3333333333333333,\"#31688e\"],[0.4444444444444444,\"#26828e\"],[0.5555555555555556,\"#1f9e89\"],[0.6666666666666666,\"#35b779\"],[0.7777777777777778,\"#6ece58\"],[0.8888888888888888,\"#b5de2b\"],[1.0,\"#fde725\"]],\"type\":\"heatmap\"}],\"heatmapgl\":[{\"colorbar\":{\"outlinewidth\":1,\"tickcolor\":\"rgb(36,36,36)\",\"ticks\":\"outside\"},\"colorscale\":[[0.0,\"#440154\"],[0.1111111111111111,\"#482878\"],[0.2222222222222222,\"#3e4989\"],[0.3333333333333333,\"#31688e\"],[0.4444444444444444,\"#26828e\"],[0.5555555555555556,\"#1f9e89\"],[0.6666666666666666,\"#35b779\"],[0.7777777777777778,\"#6ece58\"],[0.8888888888888888,\"#b5de2b\"],[1.0,\"#fde725\"]],\"type\":\"heatmapgl\"}],\"histogram\":[{\"marker\":{\"line\":{\"color\":\"white\",\"width\":0.6}},\"type\":\"histogram\"}],\"histogram2d\":[{\"colorbar\":{\"outlinewidth\":1,\"tickcolor\":\"rgb(36,36,36)\",\"ticks\":\"outside\"},\"colorscale\":[[0.0,\"#440154\"],[0.1111111111111111,\"#482878\"],[0.2222222222222222,\"#3e4989\"],[0.3333333333333333,\"#31688e\"],[0.4444444444444444,\"#26828e\"],[0.5555555555555556,\"#1f9e89\"],[0.6666666666666666,\"#35b779\"],[0.7777777777777778,\"#6ece58\"],[0.8888888888888888,\"#b5de2b\"],[1.0,\"#fde725\"]],\"type\":\"histogram2d\"}],\"histogram2dcontour\":[{\"colorbar\":{\"outlinewidth\":1,\"tickcolor\":\"rgb(36,36,36)\",\"ticks\":\"outside\"},\"colorscale\":[[0.0,\"#440154\"],[0.1111111111111111,\"#482878\"],[0.2222222222222222,\"#3e4989\"],[0.3333333333333333,\"#31688e\"],[0.4444444444444444,\"#26828e\"],[0.5555555555555556,\"#1f9e89\"],[0.6666666666666666,\"#35b779\"],[0.7777777777777778,\"#6ece58\"],[0.8888888888888888,\"#b5de2b\"],[1.0,\"#fde725\"]],\"type\":\"histogram2dcontour\"}],\"mesh3d\":[{\"colorbar\":{\"outlinewidth\":1,\"tickcolor\":\"rgb(36,36,36)\",\"ticks\":\"outside\"},\"type\":\"mesh3d\"}],\"parcoords\":[{\"line\":{\"colorbar\":{\"outlinewidth\":1,\"tickcolor\":\"rgb(36,36,36)\",\"ticks\":\"outside\"}},\"type\":\"parcoords\"}],\"pie\":[{\"automargin\":true,\"type\":\"pie\"}],\"scatter\":[{\"marker\":{\"colorbar\":{\"outlinewidth\":1,\"tickcolor\":\"rgb(36,36,36)\",\"ticks\":\"outside\"}},\"type\":\"scatter\"}],\"scatter3d\":[{\"line\":{\"colorbar\":{\"outlinewidth\":1,\"tickcolor\":\"rgb(36,36,36)\",\"ticks\":\"outside\"}},\"marker\":{\"colorbar\":{\"outlinewidth\":1,\"tickcolor\":\"rgb(36,36,36)\",\"ticks\":\"outside\"}},\"type\":\"scatter3d\"}],\"scattercarpet\":[{\"marker\":{\"colorbar\":{\"outlinewidth\":1,\"tickcolor\":\"rgb(36,36,36)\",\"ticks\":\"outside\"}},\"type\":\"scattercarpet\"}],\"scattergeo\":[{\"marker\":{\"colorbar\":{\"outlinewidth\":1,\"tickcolor\":\"rgb(36,36,36)\",\"ticks\":\"outside\"}},\"type\":\"scattergeo\"}],\"scattergl\":[{\"marker\":{\"colorbar\":{\"outlinewidth\":1,\"tickcolor\":\"rgb(36,36,36)\",\"ticks\":\"outside\"}},\"type\":\"scattergl\"}],\"scattermapbox\":[{\"marker\":{\"colorbar\":{\"outlinewidth\":1,\"tickcolor\":\"rgb(36,36,36)\",\"ticks\":\"outside\"}},\"type\":\"scattermapbox\"}],\"scatterpolar\":[{\"marker\":{\"colorbar\":{\"outlinewidth\":1,\"tickcolor\":\"rgb(36,36,36)\",\"ticks\":\"outside\"}},\"type\":\"scatterpolar\"}],\"scatterpolargl\":[{\"marker\":{\"colorbar\":{\"outlinewidth\":1,\"tickcolor\":\"rgb(36,36,36)\",\"ticks\":\"outside\"}},\"type\":\"scatterpolargl\"}],\"scatterternary\":[{\"marker\":{\"colorbar\":{\"outlinewidth\":1,\"tickcolor\":\"rgb(36,36,36)\",\"ticks\":\"outside\"}},\"type\":\"scatterternary\"}],\"surface\":[{\"colorbar\":{\"outlinewidth\":1,\"tickcolor\":\"rgb(36,36,36)\",\"ticks\":\"outside\"},\"colorscale\":[[0.0,\"#440154\"],[0.1111111111111111,\"#482878\"],[0.2222222222222222,\"#3e4989\"],[0.3333333333333333,\"#31688e\"],[0.4444444444444444,\"#26828e\"],[0.5555555555555556,\"#1f9e89\"],[0.6666666666666666,\"#35b779\"],[0.7777777777777778,\"#6ece58\"],[0.8888888888888888,\"#b5de2b\"],[1.0,\"#fde725\"]],\"type\":\"surface\"}],\"table\":[{\"cells\":{\"fill\":{\"color\":\"rgb(237,237,237)\"},\"line\":{\"color\":\"white\"}},\"header\":{\"fill\":{\"color\":\"rgb(217,217,217)\"},\"line\":{\"color\":\"white\"}},\"type\":\"table\"}]},\"layout\":{\"annotationdefaults\":{\"arrowhead\":0,\"arrowwidth\":1},\"autotypenumbers\":\"strict\",\"coloraxis\":{\"colorbar\":{\"outlinewidth\":1,\"tickcolor\":\"rgb(36,36,36)\",\"ticks\":\"outside\"}},\"colorscale\":{\"diverging\":[[0.0,\"rgb(103,0,31)\"],[0.1,\"rgb(178,24,43)\"],[0.2,\"rgb(214,96,77)\"],[0.3,\"rgb(244,165,130)\"],[0.4,\"rgb(253,219,199)\"],[0.5,\"rgb(247,247,247)\"],[0.6,\"rgb(209,229,240)\"],[0.7,\"rgb(146,197,222)\"],[0.8,\"rgb(67,147,195)\"],[0.9,\"rgb(33,102,172)\"],[1.0,\"rgb(5,48,97)\"]],\"sequential\":[[0.0,\"#440154\"],[0.1111111111111111,\"#482878\"],[0.2222222222222222,\"#3e4989\"],[0.3333333333333333,\"#31688e\"],[0.4444444444444444,\"#26828e\"],[0.5555555555555556,\"#1f9e89\"],[0.6666666666666666,\"#35b779\"],[0.7777777777777778,\"#6ece58\"],[0.8888888888888888,\"#b5de2b\"],[1.0,\"#fde725\"]],\"sequentialminus\":[[0.0,\"#440154\"],[0.1111111111111111,\"#482878\"],[0.2222222222222222,\"#3e4989\"],[0.3333333333333333,\"#31688e\"],[0.4444444444444444,\"#26828e\"],[0.5555555555555556,\"#1f9e89\"],[0.6666666666666666,\"#35b779\"],[0.7777777777777778,\"#6ece58\"],[0.8888888888888888,\"#b5de2b\"],[1.0,\"#fde725\"]]},\"colorway\":[\"#1F77B4\",\"#FF7F0E\",\"#2CA02C\",\"#D62728\",\"#9467BD\",\"#8C564B\",\"#E377C2\",\"#7F7F7F\",\"#BCBD22\",\"#17BECF\"],\"font\":{\"color\":\"rgb(36,36,36)\"},\"geo\":{\"bgcolor\":\"white\",\"lakecolor\":\"white\",\"landcolor\":\"white\",\"showlakes\":true,\"showland\":true,\"subunitcolor\":\"white\"},\"hoverlabel\":{\"align\":\"left\"},\"hovermode\":\"closest\",\"mapbox\":{\"style\":\"light\"},\"paper_bgcolor\":\"white\",\"plot_bgcolor\":\"white\",\"polar\":{\"angularaxis\":{\"gridcolor\":\"rgb(232,232,232)\",\"linecolor\":\"rgb(36,36,36)\",\"showgrid\":false,\"showline\":true,\"ticks\":\"outside\"},\"bgcolor\":\"white\",\"radialaxis\":{\"gridcolor\":\"rgb(232,232,232)\",\"linecolor\":\"rgb(36,36,36)\",\"showgrid\":false,\"showline\":true,\"ticks\":\"outside\"}},\"scene\":{\"xaxis\":{\"backgroundcolor\":\"white\",\"gridcolor\":\"rgb(232,232,232)\",\"gridwidth\":2,\"linecolor\":\"rgb(36,36,36)\",\"showbackground\":true,\"showgrid\":false,\"showline\":true,\"ticks\":\"outside\",\"zeroline\":false,\"zerolinecolor\":\"rgb(36,36,36)\"},\"yaxis\":{\"backgroundcolor\":\"white\",\"gridcolor\":\"rgb(232,232,232)\",\"gridwidth\":2,\"linecolor\":\"rgb(36,36,36)\",\"showbackground\":true,\"showgrid\":false,\"showline\":true,\"ticks\":\"outside\",\"zeroline\":false,\"zerolinecolor\":\"rgb(36,36,36)\"},\"zaxis\":{\"backgroundcolor\":\"white\",\"gridcolor\":\"rgb(232,232,232)\",\"gridwidth\":2,\"linecolor\":\"rgb(36,36,36)\",\"showbackground\":true,\"showgrid\":false,\"showline\":true,\"ticks\":\"outside\",\"zeroline\":false,\"zerolinecolor\":\"rgb(36,36,36)\"}},\"shapedefaults\":{\"fillcolor\":\"black\",\"line\":{\"width\":0},\"opacity\":0.3},\"ternary\":{\"aaxis\":{\"gridcolor\":\"rgb(232,232,232)\",\"linecolor\":\"rgb(36,36,36)\",\"showgrid\":false,\"showline\":true,\"ticks\":\"outside\"},\"baxis\":{\"gridcolor\":\"rgb(232,232,232)\",\"linecolor\":\"rgb(36,36,36)\",\"showgrid\":false,\"showline\":true,\"ticks\":\"outside\"},\"bgcolor\":\"white\",\"caxis\":{\"gridcolor\":\"rgb(232,232,232)\",\"linecolor\":\"rgb(36,36,36)\",\"showgrid\":false,\"showline\":true,\"ticks\":\"outside\"}},\"title\":{\"x\":0.05},\"xaxis\":{\"automargin\":true,\"gridcolor\":\"rgb(232,232,232)\",\"linecolor\":\"rgb(36,36,36)\",\"showgrid\":false,\"showline\":true,\"ticks\":\"outside\",\"title\":{\"standoff\":15},\"zeroline\":false,\"zerolinecolor\":\"rgb(36,36,36)\"},\"yaxis\":{\"automargin\":true,\"gridcolor\":\"rgb(232,232,232)\",\"linecolor\":\"rgb(36,36,36)\",\"showgrid\":false,\"showline\":true,\"ticks\":\"outside\",\"title\":{\"standoff\":15},\"zeroline\":false,\"zerolinecolor\":\"rgb(36,36,36)\"}}},\"title\":{\"text\":\"Popularity of Airbnb by Year\"},\"xaxis\":{\"anchor\":\"y\",\"domain\":[0.0,1.0],\"showgrid\":true,\"title\":{\"text\":\"\"}},\"yaxis\":{\"anchor\":\"x\",\"domain\":[0.0,1.0],\"title\":{\"text\":\"Number of Review by Year\"}}},                        {\"responsive\": true}                    ).then(function(){\n",
       "                            \n",
       "var gd = document.getElementById('f37b1f5f-ea1a-4648-8930-ab7b08ef6db1');\n",
       "var x = new MutationObserver(function (mutations, observer) {{\n",
       "        var display = window.getComputedStyle(gd).display;\n",
       "        if (!display || display === 'none') {{\n",
       "            console.log([gd, 'removed!']);\n",
       "            Plotly.purge(gd);\n",
       "            observer.disconnect();\n",
       "        }}\n",
       "}});\n",
       "\n",
       "// Listen for the removal of the full notebook cells\n",
       "var notebookContainer = gd.closest('#notebook-container');\n",
       "if (notebookContainer) {{\n",
       "    x.observe(notebookContainer, {childList: true});\n",
       "}}\n",
       "\n",
       "// Listen for the clearing of the current output cell\n",
       "var outputEl = gd.closest('.output');\n",
       "if (outputEl) {{\n",
       "    x.observe(outputEl, {childList: true});\n",
       "}}\n",
       "\n",
       "                        })                };                });            </script>        </div>"
      ]
     },
     "metadata": {},
     "output_type": "display_data"
    }
   ],
   "source": [
    "# Reviews by year\n",
    "df_reviews_year = df_reviews.groupby(df_reviews['date'].dt.year)[['comments']].count()\n",
    "\n",
    "# Remove 2011 and 2021 as we have incomplete data\n",
    "df_reviews_year = df_reviews_year.loc[2012:2020]\n",
    "\n",
    "# Plot\n",
    "fig = px.line(df_reviews_year, x=df_reviews_year.index, y=\"comments\", title='Popularity of Airbnb by Year',\n",
    "             template = \"simple_white\",color_discrete_sequence=['#00509d'])\n",
    "\n",
    "# Update Layout\n",
    "fig.update_layout(\n",
    "   xaxis=dict(title=''),\n",
    "    yaxis=dict(\n",
    "        title='Number of Review by Year')\n",
    ")\n",
    "\n",
    "fig.update_xaxes(showgrid=True)\n",
    "fig.show()"
   ]
  },
  {
   "cell_type": "markdown",
   "metadata": {},
   "source": [
    "#### vi) Seasonality by Month"
   ]
  },
  {
   "cell_type": "code",
   "execution_count": 36,
   "metadata": {},
   "outputs": [
    {
     "data": {
      "application/vnd.plotly.v1+json": {
       "config": {
        "plotlyServerURL": "https://plot.ly"
       },
       "data": [
        {
         "hovertemplate": "month=%{x}<br>comments=%{y}<extra></extra>",
         "legendgroup": "",
         "line": {
          "color": "#00509d",
          "dash": "solid"
         },
         "mode": "lines",
         "name": "",
         "orientation": "v",
         "showlegend": false,
         "type": "scatter",
         "x": [
          "Jan",
          "Feb",
          "Mar",
          "Apr",
          "May",
          "Jun",
          "Jul",
          "Aug",
          "Sept",
          "Oct",
          "Nov",
          "Dec"
         ],
         "xaxis": "x",
         "y": [
          81.55555555555556,
          81.33333333333333,
          148.66666666666666,
          471.5,
          811.6,
          1294.4,
          1939.6,
          2321.9,
          2067.777777777778,
          1074.5,
          222.66666666666666,
          85.88888888888889
         ],
         "yaxis": "y"
        }
       ],
       "layout": {
        "legend": {
         "tracegroupgap": 0
        },
        "template": {
         "data": {
          "bar": [
           {
            "error_x": {
             "color": "rgb(36,36,36)"
            },
            "error_y": {
             "color": "rgb(36,36,36)"
            },
            "marker": {
             "line": {
              "color": "white",
              "width": 0.5
             },
             "pattern": {
              "fillmode": "overlay",
              "size": 10,
              "solidity": 0.2
             }
            },
            "type": "bar"
           }
          ],
          "barpolar": [
           {
            "marker": {
             "line": {
              "color": "white",
              "width": 0.5
             },
             "pattern": {
              "fillmode": "overlay",
              "size": 10,
              "solidity": 0.2
             }
            },
            "type": "barpolar"
           }
          ],
          "carpet": [
           {
            "aaxis": {
             "endlinecolor": "rgb(36,36,36)",
             "gridcolor": "white",
             "linecolor": "white",
             "minorgridcolor": "white",
             "startlinecolor": "rgb(36,36,36)"
            },
            "baxis": {
             "endlinecolor": "rgb(36,36,36)",
             "gridcolor": "white",
             "linecolor": "white",
             "minorgridcolor": "white",
             "startlinecolor": "rgb(36,36,36)"
            },
            "type": "carpet"
           }
          ],
          "choropleth": [
           {
            "colorbar": {
             "outlinewidth": 1,
             "tickcolor": "rgb(36,36,36)",
             "ticks": "outside"
            },
            "type": "choropleth"
           }
          ],
          "contour": [
           {
            "colorbar": {
             "outlinewidth": 1,
             "tickcolor": "rgb(36,36,36)",
             "ticks": "outside"
            },
            "colorscale": [
             [
              0,
              "#440154"
             ],
             [
              0.1111111111111111,
              "#482878"
             ],
             [
              0.2222222222222222,
              "#3e4989"
             ],
             [
              0.3333333333333333,
              "#31688e"
             ],
             [
              0.4444444444444444,
              "#26828e"
             ],
             [
              0.5555555555555556,
              "#1f9e89"
             ],
             [
              0.6666666666666666,
              "#35b779"
             ],
             [
              0.7777777777777778,
              "#6ece58"
             ],
             [
              0.8888888888888888,
              "#b5de2b"
             ],
             [
              1,
              "#fde725"
             ]
            ],
            "type": "contour"
           }
          ],
          "contourcarpet": [
           {
            "colorbar": {
             "outlinewidth": 1,
             "tickcolor": "rgb(36,36,36)",
             "ticks": "outside"
            },
            "type": "contourcarpet"
           }
          ],
          "heatmap": [
           {
            "colorbar": {
             "outlinewidth": 1,
             "tickcolor": "rgb(36,36,36)",
             "ticks": "outside"
            },
            "colorscale": [
             [
              0,
              "#440154"
             ],
             [
              0.1111111111111111,
              "#482878"
             ],
             [
              0.2222222222222222,
              "#3e4989"
             ],
             [
              0.3333333333333333,
              "#31688e"
             ],
             [
              0.4444444444444444,
              "#26828e"
             ],
             [
              0.5555555555555556,
              "#1f9e89"
             ],
             [
              0.6666666666666666,
              "#35b779"
             ],
             [
              0.7777777777777778,
              "#6ece58"
             ],
             [
              0.8888888888888888,
              "#b5de2b"
             ],
             [
              1,
              "#fde725"
             ]
            ],
            "type": "heatmap"
           }
          ],
          "heatmapgl": [
           {
            "colorbar": {
             "outlinewidth": 1,
             "tickcolor": "rgb(36,36,36)",
             "ticks": "outside"
            },
            "colorscale": [
             [
              0,
              "#440154"
             ],
             [
              0.1111111111111111,
              "#482878"
             ],
             [
              0.2222222222222222,
              "#3e4989"
             ],
             [
              0.3333333333333333,
              "#31688e"
             ],
             [
              0.4444444444444444,
              "#26828e"
             ],
             [
              0.5555555555555556,
              "#1f9e89"
             ],
             [
              0.6666666666666666,
              "#35b779"
             ],
             [
              0.7777777777777778,
              "#6ece58"
             ],
             [
              0.8888888888888888,
              "#b5de2b"
             ],
             [
              1,
              "#fde725"
             ]
            ],
            "type": "heatmapgl"
           }
          ],
          "histogram": [
           {
            "marker": {
             "line": {
              "color": "white",
              "width": 0.6
             }
            },
            "type": "histogram"
           }
          ],
          "histogram2d": [
           {
            "colorbar": {
             "outlinewidth": 1,
             "tickcolor": "rgb(36,36,36)",
             "ticks": "outside"
            },
            "colorscale": [
             [
              0,
              "#440154"
             ],
             [
              0.1111111111111111,
              "#482878"
             ],
             [
              0.2222222222222222,
              "#3e4989"
             ],
             [
              0.3333333333333333,
              "#31688e"
             ],
             [
              0.4444444444444444,
              "#26828e"
             ],
             [
              0.5555555555555556,
              "#1f9e89"
             ],
             [
              0.6666666666666666,
              "#35b779"
             ],
             [
              0.7777777777777778,
              "#6ece58"
             ],
             [
              0.8888888888888888,
              "#b5de2b"
             ],
             [
              1,
              "#fde725"
             ]
            ],
            "type": "histogram2d"
           }
          ],
          "histogram2dcontour": [
           {
            "colorbar": {
             "outlinewidth": 1,
             "tickcolor": "rgb(36,36,36)",
             "ticks": "outside"
            },
            "colorscale": [
             [
              0,
              "#440154"
             ],
             [
              0.1111111111111111,
              "#482878"
             ],
             [
              0.2222222222222222,
              "#3e4989"
             ],
             [
              0.3333333333333333,
              "#31688e"
             ],
             [
              0.4444444444444444,
              "#26828e"
             ],
             [
              0.5555555555555556,
              "#1f9e89"
             ],
             [
              0.6666666666666666,
              "#35b779"
             ],
             [
              0.7777777777777778,
              "#6ece58"
             ],
             [
              0.8888888888888888,
              "#b5de2b"
             ],
             [
              1,
              "#fde725"
             ]
            ],
            "type": "histogram2dcontour"
           }
          ],
          "mesh3d": [
           {
            "colorbar": {
             "outlinewidth": 1,
             "tickcolor": "rgb(36,36,36)",
             "ticks": "outside"
            },
            "type": "mesh3d"
           }
          ],
          "parcoords": [
           {
            "line": {
             "colorbar": {
              "outlinewidth": 1,
              "tickcolor": "rgb(36,36,36)",
              "ticks": "outside"
             }
            },
            "type": "parcoords"
           }
          ],
          "pie": [
           {
            "automargin": true,
            "type": "pie"
           }
          ],
          "scatter": [
           {
            "marker": {
             "colorbar": {
              "outlinewidth": 1,
              "tickcolor": "rgb(36,36,36)",
              "ticks": "outside"
             }
            },
            "type": "scatter"
           }
          ],
          "scatter3d": [
           {
            "line": {
             "colorbar": {
              "outlinewidth": 1,
              "tickcolor": "rgb(36,36,36)",
              "ticks": "outside"
             }
            },
            "marker": {
             "colorbar": {
              "outlinewidth": 1,
              "tickcolor": "rgb(36,36,36)",
              "ticks": "outside"
             }
            },
            "type": "scatter3d"
           }
          ],
          "scattercarpet": [
           {
            "marker": {
             "colorbar": {
              "outlinewidth": 1,
              "tickcolor": "rgb(36,36,36)",
              "ticks": "outside"
             }
            },
            "type": "scattercarpet"
           }
          ],
          "scattergeo": [
           {
            "marker": {
             "colorbar": {
              "outlinewidth": 1,
              "tickcolor": "rgb(36,36,36)",
              "ticks": "outside"
             }
            },
            "type": "scattergeo"
           }
          ],
          "scattergl": [
           {
            "marker": {
             "colorbar": {
              "outlinewidth": 1,
              "tickcolor": "rgb(36,36,36)",
              "ticks": "outside"
             }
            },
            "type": "scattergl"
           }
          ],
          "scattermapbox": [
           {
            "marker": {
             "colorbar": {
              "outlinewidth": 1,
              "tickcolor": "rgb(36,36,36)",
              "ticks": "outside"
             }
            },
            "type": "scattermapbox"
           }
          ],
          "scatterpolar": [
           {
            "marker": {
             "colorbar": {
              "outlinewidth": 1,
              "tickcolor": "rgb(36,36,36)",
              "ticks": "outside"
             }
            },
            "type": "scatterpolar"
           }
          ],
          "scatterpolargl": [
           {
            "marker": {
             "colorbar": {
              "outlinewidth": 1,
              "tickcolor": "rgb(36,36,36)",
              "ticks": "outside"
             }
            },
            "type": "scatterpolargl"
           }
          ],
          "scatterternary": [
           {
            "marker": {
             "colorbar": {
              "outlinewidth": 1,
              "tickcolor": "rgb(36,36,36)",
              "ticks": "outside"
             }
            },
            "type": "scatterternary"
           }
          ],
          "surface": [
           {
            "colorbar": {
             "outlinewidth": 1,
             "tickcolor": "rgb(36,36,36)",
             "ticks": "outside"
            },
            "colorscale": [
             [
              0,
              "#440154"
             ],
             [
              0.1111111111111111,
              "#482878"
             ],
             [
              0.2222222222222222,
              "#3e4989"
             ],
             [
              0.3333333333333333,
              "#31688e"
             ],
             [
              0.4444444444444444,
              "#26828e"
             ],
             [
              0.5555555555555556,
              "#1f9e89"
             ],
             [
              0.6666666666666666,
              "#35b779"
             ],
             [
              0.7777777777777778,
              "#6ece58"
             ],
             [
              0.8888888888888888,
              "#b5de2b"
             ],
             [
              1,
              "#fde725"
             ]
            ],
            "type": "surface"
           }
          ],
          "table": [
           {
            "cells": {
             "fill": {
              "color": "rgb(237,237,237)"
             },
             "line": {
              "color": "white"
             }
            },
            "header": {
             "fill": {
              "color": "rgb(217,217,217)"
             },
             "line": {
              "color": "white"
             }
            },
            "type": "table"
           }
          ]
         },
         "layout": {
          "annotationdefaults": {
           "arrowhead": 0,
           "arrowwidth": 1
          },
          "autotypenumbers": "strict",
          "coloraxis": {
           "colorbar": {
            "outlinewidth": 1,
            "tickcolor": "rgb(36,36,36)",
            "ticks": "outside"
           }
          },
          "colorscale": {
           "diverging": [
            [
             0,
             "rgb(103,0,31)"
            ],
            [
             0.1,
             "rgb(178,24,43)"
            ],
            [
             0.2,
             "rgb(214,96,77)"
            ],
            [
             0.3,
             "rgb(244,165,130)"
            ],
            [
             0.4,
             "rgb(253,219,199)"
            ],
            [
             0.5,
             "rgb(247,247,247)"
            ],
            [
             0.6,
             "rgb(209,229,240)"
            ],
            [
             0.7,
             "rgb(146,197,222)"
            ],
            [
             0.8,
             "rgb(67,147,195)"
            ],
            [
             0.9,
             "rgb(33,102,172)"
            ],
            [
             1,
             "rgb(5,48,97)"
            ]
           ],
           "sequential": [
            [
             0,
             "#440154"
            ],
            [
             0.1111111111111111,
             "#482878"
            ],
            [
             0.2222222222222222,
             "#3e4989"
            ],
            [
             0.3333333333333333,
             "#31688e"
            ],
            [
             0.4444444444444444,
             "#26828e"
            ],
            [
             0.5555555555555556,
             "#1f9e89"
            ],
            [
             0.6666666666666666,
             "#35b779"
            ],
            [
             0.7777777777777778,
             "#6ece58"
            ],
            [
             0.8888888888888888,
             "#b5de2b"
            ],
            [
             1,
             "#fde725"
            ]
           ],
           "sequentialminus": [
            [
             0,
             "#440154"
            ],
            [
             0.1111111111111111,
             "#482878"
            ],
            [
             0.2222222222222222,
             "#3e4989"
            ],
            [
             0.3333333333333333,
             "#31688e"
            ],
            [
             0.4444444444444444,
             "#26828e"
            ],
            [
             0.5555555555555556,
             "#1f9e89"
            ],
            [
             0.6666666666666666,
             "#35b779"
            ],
            [
             0.7777777777777778,
             "#6ece58"
            ],
            [
             0.8888888888888888,
             "#b5de2b"
            ],
            [
             1,
             "#fde725"
            ]
           ]
          },
          "colorway": [
           "#1F77B4",
           "#FF7F0E",
           "#2CA02C",
           "#D62728",
           "#9467BD",
           "#8C564B",
           "#E377C2",
           "#7F7F7F",
           "#BCBD22",
           "#17BECF"
          ],
          "font": {
           "color": "rgb(36,36,36)"
          },
          "geo": {
           "bgcolor": "white",
           "lakecolor": "white",
           "landcolor": "white",
           "showlakes": true,
           "showland": true,
           "subunitcolor": "white"
          },
          "hoverlabel": {
           "align": "left"
          },
          "hovermode": "closest",
          "mapbox": {
           "style": "light"
          },
          "paper_bgcolor": "white",
          "plot_bgcolor": "white",
          "polar": {
           "angularaxis": {
            "gridcolor": "rgb(232,232,232)",
            "linecolor": "rgb(36,36,36)",
            "showgrid": false,
            "showline": true,
            "ticks": "outside"
           },
           "bgcolor": "white",
           "radialaxis": {
            "gridcolor": "rgb(232,232,232)",
            "linecolor": "rgb(36,36,36)",
            "showgrid": false,
            "showline": true,
            "ticks": "outside"
           }
          },
          "scene": {
           "xaxis": {
            "backgroundcolor": "white",
            "gridcolor": "rgb(232,232,232)",
            "gridwidth": 2,
            "linecolor": "rgb(36,36,36)",
            "showbackground": true,
            "showgrid": false,
            "showline": true,
            "ticks": "outside",
            "zeroline": false,
            "zerolinecolor": "rgb(36,36,36)"
           },
           "yaxis": {
            "backgroundcolor": "white",
            "gridcolor": "rgb(232,232,232)",
            "gridwidth": 2,
            "linecolor": "rgb(36,36,36)",
            "showbackground": true,
            "showgrid": false,
            "showline": true,
            "ticks": "outside",
            "zeroline": false,
            "zerolinecolor": "rgb(36,36,36)"
           },
           "zaxis": {
            "backgroundcolor": "white",
            "gridcolor": "rgb(232,232,232)",
            "gridwidth": 2,
            "linecolor": "rgb(36,36,36)",
            "showbackground": true,
            "showgrid": false,
            "showline": true,
            "ticks": "outside",
            "zeroline": false,
            "zerolinecolor": "rgb(36,36,36)"
           }
          },
          "shapedefaults": {
           "fillcolor": "black",
           "line": {
            "width": 0
           },
           "opacity": 0.3
          },
          "ternary": {
           "aaxis": {
            "gridcolor": "rgb(232,232,232)",
            "linecolor": "rgb(36,36,36)",
            "showgrid": false,
            "showline": true,
            "ticks": "outside"
           },
           "baxis": {
            "gridcolor": "rgb(232,232,232)",
            "linecolor": "rgb(36,36,36)",
            "showgrid": false,
            "showline": true,
            "ticks": "outside"
           },
           "bgcolor": "white",
           "caxis": {
            "gridcolor": "rgb(232,232,232)",
            "linecolor": "rgb(36,36,36)",
            "showgrid": false,
            "showline": true,
            "ticks": "outside"
           }
          },
          "title": {
           "x": 0.05
          },
          "xaxis": {
           "automargin": true,
           "gridcolor": "rgb(232,232,232)",
           "linecolor": "rgb(36,36,36)",
           "showgrid": false,
           "showline": true,
           "ticks": "outside",
           "title": {
            "standoff": 15
           },
           "zeroline": false,
           "zerolinecolor": "rgb(36,36,36)"
          },
          "yaxis": {
           "automargin": true,
           "gridcolor": "rgb(232,232,232)",
           "linecolor": "rgb(36,36,36)",
           "showgrid": false,
           "showline": true,
           "ticks": "outside",
           "title": {
            "standoff": 15
           },
           "zeroline": false,
           "zerolinecolor": "rgb(36,36,36)"
          }
         }
        },
        "title": {
         "text": "Seasonality in Demand"
        },
        "xaxis": {
         "anchor": "y",
         "domain": [
          0,
          1
         ],
         "showgrid": true,
         "title": {
          "text": ""
         }
        },
        "yaxis": {
         "anchor": "x",
         "domain": [
          0,
          1
         ],
         "title": {
          "text": "Avg Number of Reviews across Months"
         }
        }
       }
      },
      "text/html": [
       "<div>                            <div id=\"3d5a7a40-30a3-4fc8-9c9d-ea98e0d4f18a\" class=\"plotly-graph-div\" style=\"height:525px; width:100%;\"></div>            <script type=\"text/javascript\">                require([\"plotly\"], function(Plotly) {                    window.PLOTLYENV=window.PLOTLYENV || {};                                    if (document.getElementById(\"3d5a7a40-30a3-4fc8-9c9d-ea98e0d4f18a\")) {                    Plotly.newPlot(                        \"3d5a7a40-30a3-4fc8-9c9d-ea98e0d4f18a\",                        [{\"hovertemplate\":\"month=%{x}<br>comments=%{y}<extra></extra>\",\"legendgroup\":\"\",\"line\":{\"color\":\"#00509d\",\"dash\":\"solid\"},\"mode\":\"lines\",\"name\":\"\",\"orientation\":\"v\",\"showlegend\":false,\"type\":\"scatter\",\"x\":[\"Jan\",\"Feb\",\"Mar\",\"Apr\",\"May\",\"Jun\",\"Jul\",\"Aug\",\"Sept\",\"Oct\",\"Nov\",\"Dec\"],\"xaxis\":\"x\",\"y\":[81.55555555555556,81.33333333333333,148.66666666666666,471.5,811.6,1294.4,1939.6,2321.9,2067.777777777778,1074.5,222.66666666666666,85.88888888888889],\"yaxis\":\"y\"}],                        {\"legend\":{\"tracegroupgap\":0},\"template\":{\"data\":{\"bar\":[{\"error_x\":{\"color\":\"rgb(36,36,36)\"},\"error_y\":{\"color\":\"rgb(36,36,36)\"},\"marker\":{\"line\":{\"color\":\"white\",\"width\":0.5},\"pattern\":{\"fillmode\":\"overlay\",\"size\":10,\"solidity\":0.2}},\"type\":\"bar\"}],\"barpolar\":[{\"marker\":{\"line\":{\"color\":\"white\",\"width\":0.5},\"pattern\":{\"fillmode\":\"overlay\",\"size\":10,\"solidity\":0.2}},\"type\":\"barpolar\"}],\"carpet\":[{\"aaxis\":{\"endlinecolor\":\"rgb(36,36,36)\",\"gridcolor\":\"white\",\"linecolor\":\"white\",\"minorgridcolor\":\"white\",\"startlinecolor\":\"rgb(36,36,36)\"},\"baxis\":{\"endlinecolor\":\"rgb(36,36,36)\",\"gridcolor\":\"white\",\"linecolor\":\"white\",\"minorgridcolor\":\"white\",\"startlinecolor\":\"rgb(36,36,36)\"},\"type\":\"carpet\"}],\"choropleth\":[{\"colorbar\":{\"outlinewidth\":1,\"tickcolor\":\"rgb(36,36,36)\",\"ticks\":\"outside\"},\"type\":\"choropleth\"}],\"contour\":[{\"colorbar\":{\"outlinewidth\":1,\"tickcolor\":\"rgb(36,36,36)\",\"ticks\":\"outside\"},\"colorscale\":[[0.0,\"#440154\"],[0.1111111111111111,\"#482878\"],[0.2222222222222222,\"#3e4989\"],[0.3333333333333333,\"#31688e\"],[0.4444444444444444,\"#26828e\"],[0.5555555555555556,\"#1f9e89\"],[0.6666666666666666,\"#35b779\"],[0.7777777777777778,\"#6ece58\"],[0.8888888888888888,\"#b5de2b\"],[1.0,\"#fde725\"]],\"type\":\"contour\"}],\"contourcarpet\":[{\"colorbar\":{\"outlinewidth\":1,\"tickcolor\":\"rgb(36,36,36)\",\"ticks\":\"outside\"},\"type\":\"contourcarpet\"}],\"heatmap\":[{\"colorbar\":{\"outlinewidth\":1,\"tickcolor\":\"rgb(36,36,36)\",\"ticks\":\"outside\"},\"colorscale\":[[0.0,\"#440154\"],[0.1111111111111111,\"#482878\"],[0.2222222222222222,\"#3e4989\"],[0.3333333333333333,\"#31688e\"],[0.4444444444444444,\"#26828e\"],[0.5555555555555556,\"#1f9e89\"],[0.6666666666666666,\"#35b779\"],[0.7777777777777778,\"#6ece58\"],[0.8888888888888888,\"#b5de2b\"],[1.0,\"#fde725\"]],\"type\":\"heatmap\"}],\"heatmapgl\":[{\"colorbar\":{\"outlinewidth\":1,\"tickcolor\":\"rgb(36,36,36)\",\"ticks\":\"outside\"},\"colorscale\":[[0.0,\"#440154\"],[0.1111111111111111,\"#482878\"],[0.2222222222222222,\"#3e4989\"],[0.3333333333333333,\"#31688e\"],[0.4444444444444444,\"#26828e\"],[0.5555555555555556,\"#1f9e89\"],[0.6666666666666666,\"#35b779\"],[0.7777777777777778,\"#6ece58\"],[0.8888888888888888,\"#b5de2b\"],[1.0,\"#fde725\"]],\"type\":\"heatmapgl\"}],\"histogram\":[{\"marker\":{\"line\":{\"color\":\"white\",\"width\":0.6}},\"type\":\"histogram\"}],\"histogram2d\":[{\"colorbar\":{\"outlinewidth\":1,\"tickcolor\":\"rgb(36,36,36)\",\"ticks\":\"outside\"},\"colorscale\":[[0.0,\"#440154\"],[0.1111111111111111,\"#482878\"],[0.2222222222222222,\"#3e4989\"],[0.3333333333333333,\"#31688e\"],[0.4444444444444444,\"#26828e\"],[0.5555555555555556,\"#1f9e89\"],[0.6666666666666666,\"#35b779\"],[0.7777777777777778,\"#6ece58\"],[0.8888888888888888,\"#b5de2b\"],[1.0,\"#fde725\"]],\"type\":\"histogram2d\"}],\"histogram2dcontour\":[{\"colorbar\":{\"outlinewidth\":1,\"tickcolor\":\"rgb(36,36,36)\",\"ticks\":\"outside\"},\"colorscale\":[[0.0,\"#440154\"],[0.1111111111111111,\"#482878\"],[0.2222222222222222,\"#3e4989\"],[0.3333333333333333,\"#31688e\"],[0.4444444444444444,\"#26828e\"],[0.5555555555555556,\"#1f9e89\"],[0.6666666666666666,\"#35b779\"],[0.7777777777777778,\"#6ece58\"],[0.8888888888888888,\"#b5de2b\"],[1.0,\"#fde725\"]],\"type\":\"histogram2dcontour\"}],\"mesh3d\":[{\"colorbar\":{\"outlinewidth\":1,\"tickcolor\":\"rgb(36,36,36)\",\"ticks\":\"outside\"},\"type\":\"mesh3d\"}],\"parcoords\":[{\"line\":{\"colorbar\":{\"outlinewidth\":1,\"tickcolor\":\"rgb(36,36,36)\",\"ticks\":\"outside\"}},\"type\":\"parcoords\"}],\"pie\":[{\"automargin\":true,\"type\":\"pie\"}],\"scatter\":[{\"marker\":{\"colorbar\":{\"outlinewidth\":1,\"tickcolor\":\"rgb(36,36,36)\",\"ticks\":\"outside\"}},\"type\":\"scatter\"}],\"scatter3d\":[{\"line\":{\"colorbar\":{\"outlinewidth\":1,\"tickcolor\":\"rgb(36,36,36)\",\"ticks\":\"outside\"}},\"marker\":{\"colorbar\":{\"outlinewidth\":1,\"tickcolor\":\"rgb(36,36,36)\",\"ticks\":\"outside\"}},\"type\":\"scatter3d\"}],\"scattercarpet\":[{\"marker\":{\"colorbar\":{\"outlinewidth\":1,\"tickcolor\":\"rgb(36,36,36)\",\"ticks\":\"outside\"}},\"type\":\"scattercarpet\"}],\"scattergeo\":[{\"marker\":{\"colorbar\":{\"outlinewidth\":1,\"tickcolor\":\"rgb(36,36,36)\",\"ticks\":\"outside\"}},\"type\":\"scattergeo\"}],\"scattergl\":[{\"marker\":{\"colorbar\":{\"outlinewidth\":1,\"tickcolor\":\"rgb(36,36,36)\",\"ticks\":\"outside\"}},\"type\":\"scattergl\"}],\"scattermapbox\":[{\"marker\":{\"colorbar\":{\"outlinewidth\":1,\"tickcolor\":\"rgb(36,36,36)\",\"ticks\":\"outside\"}},\"type\":\"scattermapbox\"}],\"scatterpolar\":[{\"marker\":{\"colorbar\":{\"outlinewidth\":1,\"tickcolor\":\"rgb(36,36,36)\",\"ticks\":\"outside\"}},\"type\":\"scatterpolar\"}],\"scatterpolargl\":[{\"marker\":{\"colorbar\":{\"outlinewidth\":1,\"tickcolor\":\"rgb(36,36,36)\",\"ticks\":\"outside\"}},\"type\":\"scatterpolargl\"}],\"scatterternary\":[{\"marker\":{\"colorbar\":{\"outlinewidth\":1,\"tickcolor\":\"rgb(36,36,36)\",\"ticks\":\"outside\"}},\"type\":\"scatterternary\"}],\"surface\":[{\"colorbar\":{\"outlinewidth\":1,\"tickcolor\":\"rgb(36,36,36)\",\"ticks\":\"outside\"},\"colorscale\":[[0.0,\"#440154\"],[0.1111111111111111,\"#482878\"],[0.2222222222222222,\"#3e4989\"],[0.3333333333333333,\"#31688e\"],[0.4444444444444444,\"#26828e\"],[0.5555555555555556,\"#1f9e89\"],[0.6666666666666666,\"#35b779\"],[0.7777777777777778,\"#6ece58\"],[0.8888888888888888,\"#b5de2b\"],[1.0,\"#fde725\"]],\"type\":\"surface\"}],\"table\":[{\"cells\":{\"fill\":{\"color\":\"rgb(237,237,237)\"},\"line\":{\"color\":\"white\"}},\"header\":{\"fill\":{\"color\":\"rgb(217,217,217)\"},\"line\":{\"color\":\"white\"}},\"type\":\"table\"}]},\"layout\":{\"annotationdefaults\":{\"arrowhead\":0,\"arrowwidth\":1},\"autotypenumbers\":\"strict\",\"coloraxis\":{\"colorbar\":{\"outlinewidth\":1,\"tickcolor\":\"rgb(36,36,36)\",\"ticks\":\"outside\"}},\"colorscale\":{\"diverging\":[[0.0,\"rgb(103,0,31)\"],[0.1,\"rgb(178,24,43)\"],[0.2,\"rgb(214,96,77)\"],[0.3,\"rgb(244,165,130)\"],[0.4,\"rgb(253,219,199)\"],[0.5,\"rgb(247,247,247)\"],[0.6,\"rgb(209,229,240)\"],[0.7,\"rgb(146,197,222)\"],[0.8,\"rgb(67,147,195)\"],[0.9,\"rgb(33,102,172)\"],[1.0,\"rgb(5,48,97)\"]],\"sequential\":[[0.0,\"#440154\"],[0.1111111111111111,\"#482878\"],[0.2222222222222222,\"#3e4989\"],[0.3333333333333333,\"#31688e\"],[0.4444444444444444,\"#26828e\"],[0.5555555555555556,\"#1f9e89\"],[0.6666666666666666,\"#35b779\"],[0.7777777777777778,\"#6ece58\"],[0.8888888888888888,\"#b5de2b\"],[1.0,\"#fde725\"]],\"sequentialminus\":[[0.0,\"#440154\"],[0.1111111111111111,\"#482878\"],[0.2222222222222222,\"#3e4989\"],[0.3333333333333333,\"#31688e\"],[0.4444444444444444,\"#26828e\"],[0.5555555555555556,\"#1f9e89\"],[0.6666666666666666,\"#35b779\"],[0.7777777777777778,\"#6ece58\"],[0.8888888888888888,\"#b5de2b\"],[1.0,\"#fde725\"]]},\"colorway\":[\"#1F77B4\",\"#FF7F0E\",\"#2CA02C\",\"#D62728\",\"#9467BD\",\"#8C564B\",\"#E377C2\",\"#7F7F7F\",\"#BCBD22\",\"#17BECF\"],\"font\":{\"color\":\"rgb(36,36,36)\"},\"geo\":{\"bgcolor\":\"white\",\"lakecolor\":\"white\",\"landcolor\":\"white\",\"showlakes\":true,\"showland\":true,\"subunitcolor\":\"white\"},\"hoverlabel\":{\"align\":\"left\"},\"hovermode\":\"closest\",\"mapbox\":{\"style\":\"light\"},\"paper_bgcolor\":\"white\",\"plot_bgcolor\":\"white\",\"polar\":{\"angularaxis\":{\"gridcolor\":\"rgb(232,232,232)\",\"linecolor\":\"rgb(36,36,36)\",\"showgrid\":false,\"showline\":true,\"ticks\":\"outside\"},\"bgcolor\":\"white\",\"radialaxis\":{\"gridcolor\":\"rgb(232,232,232)\",\"linecolor\":\"rgb(36,36,36)\",\"showgrid\":false,\"showline\":true,\"ticks\":\"outside\"}},\"scene\":{\"xaxis\":{\"backgroundcolor\":\"white\",\"gridcolor\":\"rgb(232,232,232)\",\"gridwidth\":2,\"linecolor\":\"rgb(36,36,36)\",\"showbackground\":true,\"showgrid\":false,\"showline\":true,\"ticks\":\"outside\",\"zeroline\":false,\"zerolinecolor\":\"rgb(36,36,36)\"},\"yaxis\":{\"backgroundcolor\":\"white\",\"gridcolor\":\"rgb(232,232,232)\",\"gridwidth\":2,\"linecolor\":\"rgb(36,36,36)\",\"showbackground\":true,\"showgrid\":false,\"showline\":true,\"ticks\":\"outside\",\"zeroline\":false,\"zerolinecolor\":\"rgb(36,36,36)\"},\"zaxis\":{\"backgroundcolor\":\"white\",\"gridcolor\":\"rgb(232,232,232)\",\"gridwidth\":2,\"linecolor\":\"rgb(36,36,36)\",\"showbackground\":true,\"showgrid\":false,\"showline\":true,\"ticks\":\"outside\",\"zeroline\":false,\"zerolinecolor\":\"rgb(36,36,36)\"}},\"shapedefaults\":{\"fillcolor\":\"black\",\"line\":{\"width\":0},\"opacity\":0.3},\"ternary\":{\"aaxis\":{\"gridcolor\":\"rgb(232,232,232)\",\"linecolor\":\"rgb(36,36,36)\",\"showgrid\":false,\"showline\":true,\"ticks\":\"outside\"},\"baxis\":{\"gridcolor\":\"rgb(232,232,232)\",\"linecolor\":\"rgb(36,36,36)\",\"showgrid\":false,\"showline\":true,\"ticks\":\"outside\"},\"bgcolor\":\"white\",\"caxis\":{\"gridcolor\":\"rgb(232,232,232)\",\"linecolor\":\"rgb(36,36,36)\",\"showgrid\":false,\"showline\":true,\"ticks\":\"outside\"}},\"title\":{\"x\":0.05},\"xaxis\":{\"automargin\":true,\"gridcolor\":\"rgb(232,232,232)\",\"linecolor\":\"rgb(36,36,36)\",\"showgrid\":false,\"showline\":true,\"ticks\":\"outside\",\"title\":{\"standoff\":15},\"zeroline\":false,\"zerolinecolor\":\"rgb(36,36,36)\"},\"yaxis\":{\"automargin\":true,\"gridcolor\":\"rgb(232,232,232)\",\"linecolor\":\"rgb(36,36,36)\",\"showgrid\":false,\"showline\":true,\"ticks\":\"outside\",\"title\":{\"standoff\":15},\"zeroline\":false,\"zerolinecolor\":\"rgb(36,36,36)\"}}},\"title\":{\"text\":\"Seasonality in Demand\"},\"xaxis\":{\"anchor\":\"y\",\"domain\":[0.0,1.0],\"showgrid\":true,\"title\":{\"text\":\"\"}},\"yaxis\":{\"anchor\":\"x\",\"domain\":[0.0,1.0],\"title\":{\"text\":\"Avg Number of Reviews across Months\"}}},                        {\"responsive\": true}                    ).then(function(){\n",
       "                            \n",
       "var gd = document.getElementById('3d5a7a40-30a3-4fc8-9c9d-ea98e0d4f18a');\n",
       "var x = new MutationObserver(function (mutations, observer) {{\n",
       "        var display = window.getComputedStyle(gd).display;\n",
       "        if (!display || display === 'none') {{\n",
       "            console.log([gd, 'removed!']);\n",
       "            Plotly.purge(gd);\n",
       "            observer.disconnect();\n",
       "        }}\n",
       "}});\n",
       "\n",
       "// Listen for the removal of the full notebook cells\n",
       "var notebookContainer = gd.closest('#notebook-container');\n",
       "if (notebookContainer) {{\n",
       "    x.observe(notebookContainer, {childList: true});\n",
       "}}\n",
       "\n",
       "// Listen for the clearing of the current output cell\n",
       "var outputEl = gd.closest('.output');\n",
       "if (outputEl) {{\n",
       "    x.observe(outputEl, {childList: true});\n",
       "}}\n",
       "\n",
       "                        })                };                });            </script>        </div>"
      ]
     },
     "metadata": {},
     "output_type": "display_data"
    }
   ],
   "source": [
    "# Count reviews by month and year\n",
    "df_m_y = df_reviews.groupby([df_reviews['date'].dt.month,df_reviews['date'].dt.year]).count()\n",
    "# Rename multiindex\n",
    "df_m_y.index.rename(['month','year'],inplace=True)\n",
    "\n",
    "# Find average reviews by month\n",
    "df_reviews_month = df_m_y.groupby(level=['month'])[['comments']].mean()\n",
    "\n",
    "# Rename months from numeric to categorical\n",
    "df_reviews_month = df_reviews_month.rename(index={1:'Jan',2:'Feb',3:'Mar',4:'Apr',5:'May',\n",
    "                              6:'Jun',7:'Jul',8:'Aug',9:'Sept',\n",
    "                              10:'Oct',11:'Nov',12:'Dec'})\n",
    "\n",
    "\n",
    "# Plot using plotly\n",
    "fig = px.line(df_reviews_month, x=df_reviews_month.index, y=\"comments\", title='Seasonality in Demand',\n",
    "             template = \"simple_white\",color_discrete_sequence=['#00509d'])\n",
    "\n",
    "# Update Layout\n",
    "fig.update_layout(\n",
    "    xaxis=dict(title=''),\n",
    "    yaxis=dict(\n",
    "        title='Avg Number of Reviews across Months' )\n",
    ")\n",
    "\n",
    "fig.update_xaxes(showgrid=True)\n",
    "fig.show()\n",
    "\n"
   ]
  },
  {
   "cell_type": "markdown",
   "metadata": {},
   "source": [
    "#### vii) Characteristics of high-priced listings"
   ]
  },
  {
   "cell_type": "code",
   "execution_count": 37,
   "metadata": {},
   "outputs": [
    {
     "name": "stdout",
     "output_type": "stream",
     "text": [
      "5807\n",
      "5807\n"
     ]
    }
   ],
   "source": [
    "# Take only relevant data\n",
    "data = df_listings.drop(['id','price','price_z-score'\n",
    "                     ],axis=1)\n",
    "\n",
    "\n",
    "# Define response column\n",
    "response_col = \"price_per_person\"\n",
    "\n",
    "# 1. Drop all the rows with no salaries\n",
    "data  = data.dropna(subset=[response_col], axis=0)\n",
    " \n",
    "# 2. Drop any na values as in this context we can't impute so we drop the whole column\n",
    "print(len(data))\n",
    "data = data.dropna(axis=1,how=\"any\")\n",
    "print(len(data))\n",
    "\n",
    "\n",
    "# 3. Define X,Y\n",
    "X = data.drop(response_col, axis=1)\n",
    "y = data[response_col]\n",
    "\n",
    "# 4. Create dummy columns for all the categorical variables in X, drop the original columns\n",
    "cat_df = X.select_dtypes(include=['object'])\n",
    "cat_cols = cat_df.columns\n",
    "\n",
    "for col in  cat_cols:\n",
    "    X = pd.concat([X.drop(col, axis=1), pd.get_dummies(X[col], prefix=col, prefix_sep='_', drop_first=True, dummy_na=False)], axis=1)\n",
    "\n"
   ]
  },
  {
   "cell_type": "code",
   "execution_count": 38,
   "metadata": {},
   "outputs": [
    {
     "name": "stderr",
     "output_type": "stream",
     "text": [
      "/Users/vproto/opt/anaconda3/lib/python3.7/site-packages/statsmodels/stats/outliers_influence.py:193: RuntimeWarning:\n",
      "\n",
      "divide by zero encountered in double_scalars\n",
      "\n"
     ]
    },
    {
     "name": "stdout",
     "output_type": "stream",
     "text": [
      "dropping 'room_type_Shared room' at index: 22\n",
      "dropping 'review_scores_rating' at index: 5\n",
      "dropping 'review_scores_checkin' at index: 7\n",
      "dropping 'review_scores_communication' at index: 7\n",
      "dropping 'review_scores_value' at index: 8\n",
      "dropping 'review_scores_cleanliness' at index: 6\n",
      "dropping 'review_scores_location' at index: 6\n",
      "dropping 'review_scores_accuracy' at index: 5\n",
      "dropping 'room_type_Private room' at index: 14\n",
      "dropping 'accommodates' at index: 0\n",
      "Remaining variables:\n",
      "Index(['instant_bookable', 'number_of_reviews', 'number_of_reviews_ltm',\n",
      "       'number_of_reviews_l30d', 'reviews_per_month', 'host_is_superhost',\n",
      "       'neighbourhood_group_Chania', 'neighbourhood_group_Gaudos',\n",
      "       'neighbourhood_group_Kandanos', 'neighbourhood_group_Kissamos',\n",
      "       'neighbourhood_group_Platanias', 'neighbourhood_group_Sfakia',\n",
      "       'room_type_Hotel room', 'property_type_Boat', 'property_type_Camper/RV',\n",
      "       'property_type_Castle', 'property_type_Cave',\n",
      "       'property_type_Cycladic house (Greece)', 'property_type_Dome house',\n",
      "       'property_type_Earth house', 'property_type_Entire apartment',\n",
      "       'property_type_Entire bed and breakfast',\n",
      "       'property_type_Entire bungalow', 'property_type_Entire cabin',\n",
      "       'property_type_Entire chalet', 'property_type_Entire condominium',\n",
      "       'property_type_Entire cottage', 'property_type_Entire guest suite',\n",
      "       'property_type_Entire guesthouse', 'property_type_Entire home/apt',\n",
      "       'property_type_Entire house', 'property_type_Entire loft',\n",
      "       'property_type_Entire place', 'property_type_Entire serviced apartment',\n",
      "       'property_type_Entire townhouse', 'property_type_Entire vacation home',\n",
      "       'property_type_Entire villa', 'property_type_Farm stay',\n",
      "       'property_type_Hut', 'property_type_Island', 'property_type_Lighthouse',\n",
      "       'property_type_Private room', 'property_type_Private room in apartment',\n",
      "       'property_type_Private room in bed and breakfast',\n",
      "       'property_type_Private room in bungalow',\n",
      "       'property_type_Private room in cabin',\n",
      "       'property_type_Private room in camper/rv',\n",
      "       'property_type_Private room in condominium',\n",
      "       'property_type_Private room in cottage',\n",
      "       'property_type_Private room in earth house',\n",
      "       'property_type_Private room in guest suite',\n",
      "       'property_type_Private room in guesthouse',\n",
      "       'property_type_Private room in hostel',\n",
      "       'property_type_Private room in house',\n",
      "       'property_type_Private room in loft',\n",
      "       'property_type_Private room in nature lodge',\n",
      "       'property_type_Private room in pension',\n",
      "       'property_type_Private room in serviced apartment',\n",
      "       'property_type_Private room in tent',\n",
      "       'property_type_Private room in tiny house',\n",
      "       'property_type_Private room in townhouse',\n",
      "       'property_type_Private room in villa',\n",
      "       'property_type_Room in aparthotel', 'property_type_Room in apartment',\n",
      "       'property_type_Room in bed and breakfast',\n",
      "       'property_type_Room in boutique hotel', 'property_type_Room in hostel',\n",
      "       'property_type_Room in hotel', 'property_type_Room in nature lodge',\n",
      "       'property_type_Room in serviced apartment',\n",
      "       'property_type_Shared room in guest suite',\n",
      "       'property_type_Shared room in hostel', 'property_type_Tent',\n",
      "       'property_type_Tiny house'],\n",
      "      dtype='object')\n"
     ]
    }
   ],
   "source": [
    "\n",
    "def calculate_vif_(X, thresh=6.0):\n",
    "    '''\n",
    "    Drops features that are collinear above a threashold\n",
    "    Source: https://towardsdatascience.com/how-to-remove-multicollinearity-using-python-4da8d9d8abb2\n",
    "\n",
    "    Args: \n",
    "        X: Dataframe that we want to remove\n",
    "        thresh: threshold above which drops features\n",
    "    \n",
    "    '''\n",
    "    variables = list(range(X.shape[1]))\n",
    "    dropped = True\n",
    "    while dropped:\n",
    "        dropped = False\n",
    "        vif = [variance_inflation_factor(X.iloc[:, variables].values, ix)\n",
    "               for ix in range(X.iloc[:, variables].shape[1])]\n",
    "\n",
    "        maxloc = vif.index(max(vif))\n",
    "        if max(vif) > thresh:\n",
    "            print('dropping \\'' + X.iloc[:, variables].columns[maxloc] +\n",
    "                  '\\' at index: ' + str(maxloc))\n",
    "            del variables[maxloc]\n",
    "            dropped = True\n",
    "\n",
    "    print('Remaining variables:')\n",
    "    print(X.columns[variables])\n",
    "    return X.iloc[:, variables]\n",
    "\n",
    "X  = calculate_vif_(X)\n",
    "\n"
   ]
  },
  {
   "cell_type": "code",
   "execution_count": 39,
   "metadata": {},
   "outputs": [
    {
     "data": {
      "image/png": "[encoded data removed]",
      "text/plain": [
       "<Figure size 432x288 with 1 Axes>"
      ]
     },
     "metadata": {
      "needs_background": "light"
     },
     "output_type": "display_data"
    }
   ],
   "source": [
    "def find_optimal_lm_mod(X, y, cutoffs, test_size = .30, random_state=42, plot=True):\n",
    "    '''\n",
    "    INPUT\n",
    "    X - pandas dataframe, X matrix\n",
    "    y - pandas dataframe, response variable\n",
    "    cutoffs - list of ints, cutoff for number of non-zero values in dummy categorical vars\n",
    "    test_size - float between 0 and 1, default 0.3, determines the proportion of data as test data\n",
    "    random_state - int, default 42, controls random state for train_test_split\n",
    "    plot - boolean, default 0.3, True to plot result\n",
    "\n",
    "    OUTPUT\n",
    "    r2_scores_test - list of floats of r2 scores on the test data\n",
    "    r2_scores_train - list of floats of r2 scores on the train data\n",
    "    lm_model - model object from sklearn\n",
    "    X_train, X_test, y_train, y_test - output from sklearn train test split used for optimal model\n",
    "    '''\n",
    "    r2_scores_test, r2_scores_train, num_feats, results = [], [], [], dict()\n",
    "    for cutoff in cutoffs:\n",
    "\n",
    "        #reduce X matrix\n",
    "        reduce_X = X.iloc[:, np.where((X.sum() > cutoff) == True)[0]]\n",
    "        num_feats.append(reduce_X.shape[1])\n",
    "        #print(reduce_X.shape[1])\n",
    "\n",
    "        #split the data into train and test\n",
    "        X_train, X_test, y_train, y_test = train_test_split(reduce_X, y, test_size = test_size, random_state=random_state)\n",
    "\n",
    "        #fit the model and obtain pred response\n",
    "        lm_model = LinearRegression(normalize=True)\n",
    "        lm_model.fit(X_train, y_train)\n",
    "        y_test_preds = lm_model.predict(X_test)\n",
    "        y_train_preds = lm_model.predict(X_train)\n",
    "\n",
    "        #append the r2 value from the test set\n",
    "        r2_scores_test.append(r2_score(y_test, y_test_preds))\n",
    "        r2_scores_train.append(r2_score(y_train, y_train_preds))\n",
    "        results[str(cutoff)] = r2_score(y_test, y_test_preds)\n",
    "\n",
    "    if plot:\n",
    "        plt.plot(num_feats, r2_scores_test, label=\"Test\", alpha=.5)\n",
    "        plt.plot(num_feats, r2_scores_train, label=\"Train\", alpha=.5)\n",
    "        plt.xlabel('Number of Features')\n",
    "        plt.ylabel('Rsquared')\n",
    "        plt.title('Rsquared by Number of Features')\n",
    "        plt.legend(loc=1)\n",
    "        plt.show()\n",
    "\n",
    "    best_cutoff = max(results, key=results.get)\n",
    "\n",
    "    #reduce X matrix\n",
    "    reduce_X = X.iloc[:, np.where((X.sum() > int(best_cutoff)) == True)[0]]\n",
    "    num_feats.append(reduce_X.shape[1])\n",
    "\n",
    "    #split the data into train and test\n",
    "    X_train, X_test, y_train, y_test = train_test_split(reduce_X, y, test_size = test_size, random_state=random_state)\n",
    "\n",
    "    #fit the model\n",
    "    lm_model = LinearRegression(normalize=True)\n",
    "    lm_model.fit(X_train, y_train)\n",
    "\n",
    "    return r2_scores_test, r2_scores_train, lm_model, X_train, X_test, y_train, y_test\n",
    "\n",
    "\n",
    "#cutoffs here pertains to the number of missing values allowed in the used columns.\n",
    "#Therefore, lower values for the cutoff provides more predictors in the model.\n",
    "cutoffs = [5000, 3500, 2500, 1000, 100, 50, 30, 25]\n",
    "\n",
    "#Run this cell to pass your X and y to the model for testing\n",
    "r2_scores_test, r2_scores_train, lm_model, X_train, X_test, y_train, y_test = find_optimal_lm_mod(X, y, cutoffs)"
   ]
  },
  {
   "cell_type": "code",
   "execution_count": 40,
   "metadata": {},
   "outputs": [
    {
     "data": {
      "text/html": [
       "<div>\n",
       "<style scoped>\n",
       "    .dataframe tbody tr th:only-of-type {\n",
       "        vertical-align: middle;\n",
       "    }\n",
       "\n",
       "    .dataframe tbody tr th {\n",
       "        vertical-align: top;\n",
       "    }\n",
       "\n",
       "    .dataframe thead th {\n",
       "        text-align: right;\n",
       "    }\n",
       "</style>\n",
       "<table border=\"1\" class=\"dataframe\">\n",
       "  <thead>\n",
       "    <tr style=\"text-align: right;\">\n",
       "      <th></th>\n",
       "      <th>est_int</th>\n",
       "      <th>coefs</th>\n",
       "      <th>abs_coefs</th>\n",
       "    </tr>\n",
       "  </thead>\n",
       "  <tbody>\n",
       "    <tr>\n",
       "      <th>17</th>\n",
       "      <td>property_type_Entire villa</td>\n",
       "      <td>21.223668</td>\n",
       "      <td>21.223668</td>\n",
       "    </tr>\n",
       "    <tr>\n",
       "      <th>19</th>\n",
       "      <td>property_type_Room in boutique hotel</td>\n",
       "      <td>13.167668</td>\n",
       "      <td>13.167668</td>\n",
       "    </tr>\n",
       "    <tr>\n",
       "      <th>6</th>\n",
       "      <td>neighbourhood_group_Chania</td>\n",
       "      <td>6.043113</td>\n",
       "      <td>6.043113</td>\n",
       "    </tr>\n",
       "    <tr>\n",
       "      <th>14</th>\n",
       "      <td>property_type_Entire cottage</td>\n",
       "      <td>-5.643958</td>\n",
       "      <td>5.643958</td>\n",
       "    </tr>\n",
       "    <tr>\n",
       "      <th>13</th>\n",
       "      <td>property_type_Entire condominium</td>\n",
       "      <td>-4.983026</td>\n",
       "      <td>4.983026</td>\n",
       "    </tr>\n",
       "    <tr>\n",
       "      <th>5</th>\n",
       "      <td>host_is_superhost</td>\n",
       "      <td>4.173688</td>\n",
       "      <td>4.173688</td>\n",
       "    </tr>\n",
       "    <tr>\n",
       "      <th>12</th>\n",
       "      <td>property_type_Entire apartment</td>\n",
       "      <td>-3.841289</td>\n",
       "      <td>3.841289</td>\n",
       "    </tr>\n",
       "    <tr>\n",
       "      <th>9</th>\n",
       "      <td>neighbourhood_group_Platanias</td>\n",
       "      <td>3.033902</td>\n",
       "      <td>3.033902</td>\n",
       "    </tr>\n",
       "    <tr>\n",
       "      <th>8</th>\n",
       "      <td>neighbourhood_group_Kissamos</td>\n",
       "      <td>2.989340</td>\n",
       "      <td>2.989340</td>\n",
       "    </tr>\n",
       "    <tr>\n",
       "      <th>10</th>\n",
       "      <td>neighbourhood_group_Sfakia</td>\n",
       "      <td>-2.418169</td>\n",
       "      <td>2.418169</td>\n",
       "    </tr>\n",
       "  </tbody>\n",
       "</table>\n",
       "</div>"
      ],
      "text/plain": [
       "                                 est_int      coefs  abs_coefs\n",
       "17            property_type_Entire villa  21.223668  21.223668\n",
       "19  property_type_Room in boutique hotel  13.167668  13.167668\n",
       "6             neighbourhood_group_Chania   6.043113   6.043113\n",
       "14          property_type_Entire cottage  -5.643958   5.643958\n",
       "13      property_type_Entire condominium  -4.983026   4.983026\n",
       "5                      host_is_superhost   4.173688   4.173688\n",
       "12        property_type_Entire apartment  -3.841289   3.841289\n",
       "9          neighbourhood_group_Platanias   3.033902   3.033902\n",
       "8           neighbourhood_group_Kissamos   2.989340   2.989340\n",
       "10            neighbourhood_group_Sfakia  -2.418169   2.418169"
      ]
     },
     "execution_count": 40,
     "metadata": {},
     "output_type": "execute_result"
    }
   ],
   "source": [
    "def coef_weights(coefficients, X_train):\n",
    "    '''\n",
    "    INPUT:\n",
    "    coefficients - the coefficients of the linear model \n",
    "    X_train - the training data, so the column names can be used\n",
    "    OUTPUT:\n",
    "    coefs_df - a dataframe holding the coefficient, estimate, and abs(estimate)\n",
    "    \n",
    "    Provides a dataframe that can be used to understand the most influential coefficients\n",
    "    in a linear model by providing the coefficient estimates along with the name of the \n",
    "    variable attached to the coefficient.\n",
    "    '''\n",
    "    coefs_df = pd.DataFrame()\n",
    "    coefs_df['est_int'] = X_train.columns\n",
    "    coefs_df['coefs'] = lm_model.coef_\n",
    "    coefs_df['abs_coefs'] = np.abs(lm_model.coef_)\n",
    "    #coefs_df = coefs_df.sort_values('abs_coefs', ascending=False)\n",
    "    coefs_df = coefs_df.sort_values('abs_coefs', ascending=False)\n",
    "    return coefs_df\n",
    "\n",
    "#Use the function\n",
    "coef_df = coef_weights(lm_model.coef_, X_train)\n",
    "\n",
    "#A quick look at the top results\n",
    "coef_df.head(10)"
   ]
  },
  {
   "cell_type": "code",
   "execution_count": 45,
   "metadata": {},
   "outputs": [
    {
     "name": "stderr",
     "output_type": "stream",
     "text": [
      "/Users/vproto/opt/anaconda3/lib/python3.7/site-packages/ipykernel_launcher.py:7: SettingWithCopyWarning:\n",
      "\n",
      "\n",
      "A value is trying to be set on a copy of a slice from a DataFrame.\n",
      "Try using .loc[row_indexer,col_indexer] = value instead\n",
      "\n",
      "See the caveats in the documentation: https://pandas.pydata.org/pandas-docs/stable/user_guide/indexing.html#returning-a-view-versus-a-copy\n",
      "\n"
     ]
    },
    {
     "data": {
      "application/vnd.plotly.v1+json": {
       "config": {
        "plotlyServerURL": "https://plot.ly"
       },
       "data": [
        {
         "marker": {
          "color": "#00509d",
          "line": {
           "color": "rgb(8,48,107)",
           "width": 1.5
          }
         },
         "opacity": 0.6,
         "type": "bar",
         "x": [
          "Entire Villa",
          "Room in Boutique Hotel",
          "Chania City",
          "Entire Cottage",
          "Entire Condo",
          "Superhost",
          "Entire Apartment",
          "Platanias City",
          "Kissamos City",
          "Sfakia city"
         ],
         "y": [
          21.223667879363198,
          13.167667692462661,
          6.043112868257959,
          -5.643957633246406,
          -4.983025520605353,
          4.173688119905947,
          -3.8412886087216522,
          3.0339022305157046,
          2.9893404799092935,
          -2.4181686550806414
         ]
        }
       ],
       "layout": {
        "annotations": [
         {
          "showarrow": false,
          "text": "Test R-squared: 27.05%",
          "x": 8.5,
          "y": 20
         }
        ],
        "barmode": "stack",
        "paper_bgcolor": "rgba(0,0,0,0)",
        "plot_bgcolor": "rgba(0,0,0,0)",
        "template": {
         "data": {
          "bar": [
           {
            "error_x": {
             "color": "#2a3f5f"
            },
            "error_y": {
             "color": "#2a3f5f"
            },
            "marker": {
             "line": {
              "color": "#E5ECF6",
              "width": 0.5
             },
             "pattern": {
              "fillmode": "overlay",
              "size": 10,
              "solidity": 0.2
             }
            },
            "type": "bar"
           }
          ],
          "barpolar": [
           {
            "marker": {
             "line": {
              "color": "#E5ECF6",
              "width": 0.5
             },
             "pattern": {
              "fillmode": "overlay",
              "size": 10,
              "solidity": 0.2
             }
            },
            "type": "barpolar"
           }
          ],
          "carpet": [
           {
            "aaxis": {
             "endlinecolor": "#2a3f5f",
             "gridcolor": "white",
             "linecolor": "white",
             "minorgridcolor": "white",
             "startlinecolor": "#2a3f5f"
            },
            "baxis": {
             "endlinecolor": "#2a3f5f",
             "gridcolor": "white",
             "linecolor": "white",
             "minorgridcolor": "white",
             "startlinecolor": "#2a3f5f"
            },
            "type": "carpet"
           }
          ],
          "choropleth": [
           {
            "colorbar": {
             "outlinewidth": 0,
             "ticks": ""
            },
            "type": "choropleth"
           }
          ],
          "contour": [
           {
            "colorbar": {
             "outlinewidth": 0,
             "ticks": ""
            },
            "colorscale": [
             [
              0,
              "#0d0887"
             ],
             [
              0.1111111111111111,
              "#46039f"
             ],
             [
              0.2222222222222222,
              "#7201a8"
             ],
             [
              0.3333333333333333,
              "#9c179e"
             ],
             [
              0.4444444444444444,
              "#bd3786"
             ],
             [
              0.5555555555555556,
              "#d8576b"
             ],
             [
              0.6666666666666666,
              "#ed7953"
             ],
             [
              0.7777777777777778,
              "#fb9f3a"
             ],
             [
              0.8888888888888888,
              "#fdca26"
             ],
             [
              1,
              "#f0f921"
             ]
            ],
            "type": "contour"
           }
          ],
          "contourcarpet": [
           {
            "colorbar": {
             "outlinewidth": 0,
             "ticks": ""
            },
            "type": "contourcarpet"
           }
          ],
          "heatmap": [
           {
            "colorbar": {
             "outlinewidth": 0,
             "ticks": ""
            },
            "colorscale": [
             [
              0,
              "#0d0887"
             ],
             [
              0.1111111111111111,
              "#46039f"
             ],
             [
              0.2222222222222222,
              "#7201a8"
             ],
             [
              0.3333333333333333,
              "#9c179e"
             ],
             [
              0.4444444444444444,
              "#bd3786"
             ],
             [
              0.5555555555555556,
              "#d8576b"
             ],
             [
              0.6666666666666666,
              "#ed7953"
             ],
             [
              0.7777777777777778,
              "#fb9f3a"
             ],
             [
              0.8888888888888888,
              "#fdca26"
             ],
             [
              1,
              "#f0f921"
             ]
            ],
            "type": "heatmap"
           }
          ],
          "heatmapgl": [
           {
            "colorbar": {
             "outlinewidth": 0,
             "ticks": ""
            },
            "colorscale": [
             [
              0,
              "#0d0887"
             ],
             [
              0.1111111111111111,
              "#46039f"
             ],
             [
              0.2222222222222222,
              "#7201a8"
             ],
             [
              0.3333333333333333,
              "#9c179e"
             ],
             [
              0.4444444444444444,
              "#bd3786"
             ],
             [
              0.5555555555555556,
              "#d8576b"
             ],
             [
              0.6666666666666666,
              "#ed7953"
             ],
             [
              0.7777777777777778,
              "#fb9f3a"
             ],
             [
              0.8888888888888888,
              "#fdca26"
             ],
             [
              1,
              "#f0f921"
             ]
            ],
            "type": "heatmapgl"
           }
          ],
          "histogram": [
           {
            "marker": {
             "pattern": {
              "fillmode": "overlay",
              "size": 10,
              "solidity": 0.2
             }
            },
            "type": "histogram"
           }
          ],
          "histogram2d": [
           {
            "colorbar": {
             "outlinewidth": 0,
             "ticks": ""
            },
            "colorscale": [
             [
              0,
              "#0d0887"
             ],
             [
              0.1111111111111111,
              "#46039f"
             ],
             [
              0.2222222222222222,
              "#7201a8"
             ],
             [
              0.3333333333333333,
              "#9c179e"
             ],
             [
              0.4444444444444444,
              "#bd3786"
             ],
             [
              0.5555555555555556,
              "#d8576b"
             ],
             [
              0.6666666666666666,
              "#ed7953"
             ],
             [
              0.7777777777777778,
              "#fb9f3a"
             ],
             [
              0.8888888888888888,
              "#fdca26"
             ],
             [
              1,
              "#f0f921"
             ]
            ],
            "type": "histogram2d"
           }
          ],
          "histogram2dcontour": [
           {
            "colorbar": {
             "outlinewidth": 0,
             "ticks": ""
            },
            "colorscale": [
             [
              0,
              "#0d0887"
             ],
             [
              0.1111111111111111,
              "#46039f"
             ],
             [
              0.2222222222222222,
              "#7201a8"
             ],
             [
              0.3333333333333333,
              "#9c179e"
             ],
             [
              0.4444444444444444,
              "#bd3786"
             ],
             [
              0.5555555555555556,
              "#d8576b"
             ],
             [
              0.6666666666666666,
              "#ed7953"
             ],
             [
              0.7777777777777778,
              "#fb9f3a"
             ],
             [
              0.8888888888888888,
              "#fdca26"
             ],
             [
              1,
              "#f0f921"
             ]
            ],
            "type": "histogram2dcontour"
           }
          ],
          "mesh3d": [
           {
            "colorbar": {
             "outlinewidth": 0,
             "ticks": ""
            },
            "type": "mesh3d"
           }
          ],
          "parcoords": [
           {
            "line": {
             "colorbar": {
              "outlinewidth": 0,
              "ticks": ""
             }
            },
            "type": "parcoords"
           }
          ],
          "pie": [
           {
            "automargin": true,
            "type": "pie"
           }
          ],
          "scatter": [
           {
            "marker": {
             "colorbar": {
              "outlinewidth": 0,
              "ticks": ""
             }
            },
            "type": "scatter"
           }
          ],
          "scatter3d": [
           {
            "line": {
             "colorbar": {
              "outlinewidth": 0,
              "ticks": ""
             }
            },
            "marker": {
             "colorbar": {
              "outlinewidth": 0,
              "ticks": ""
             }
            },
            "type": "scatter3d"
           }
          ],
          "scattercarpet": [
           {
            "marker": {
             "colorbar": {
              "outlinewidth": 0,
              "ticks": ""
             }
            },
            "type": "scattercarpet"
           }
          ],
          "scattergeo": [
           {
            "marker": {
             "colorbar": {
              "outlinewidth": 0,
              "ticks": ""
             }
            },
            "type": "scattergeo"
           }
          ],
          "scattergl": [
           {
            "marker": {
             "colorbar": {
              "outlinewidth": 0,
              "ticks": ""
             }
            },
            "type": "scattergl"
           }
          ],
          "scattermapbox": [
           {
            "marker": {
             "colorbar": {
              "outlinewidth": 0,
              "ticks": ""
             }
            },
            "type": "scattermapbox"
           }
          ],
          "scatterpolar": [
           {
            "marker": {
             "colorbar": {
              "outlinewidth": 0,
              "ticks": ""
             }
            },
            "type": "scatterpolar"
           }
          ],
          "scatterpolargl": [
           {
            "marker": {
             "colorbar": {
              "outlinewidth": 0,
              "ticks": ""
             }
            },
            "type": "scatterpolargl"
           }
          ],
          "scatterternary": [
           {
            "marker": {
             "colorbar": {
              "outlinewidth": 0,
              "ticks": ""
             }
            },
            "type": "scatterternary"
           }
          ],
          "surface": [
           {
            "colorbar": {
             "outlinewidth": 0,
             "ticks": ""
            },
            "colorscale": [
             [
              0,
              "#0d0887"
             ],
             [
              0.1111111111111111,
              "#46039f"
             ],
             [
              0.2222222222222222,
              "#7201a8"
             ],
             [
              0.3333333333333333,
              "#9c179e"
             ],
             [
              0.4444444444444444,
              "#bd3786"
             ],
             [
              0.5555555555555556,
              "#d8576b"
             ],
             [
              0.6666666666666666,
              "#ed7953"
             ],
             [
              0.7777777777777778,
              "#fb9f3a"
             ],
             [
              0.8888888888888888,
              "#fdca26"
             ],
             [
              1,
              "#f0f921"
             ]
            ],
            "type": "surface"
           }
          ],
          "table": [
           {
            "cells": {
             "fill": {
              "color": "#EBF0F8"
             },
             "line": {
              "color": "white"
             }
            },
            "header": {
             "fill": {
              "color": "#C8D4E3"
             },
             "line": {
              "color": "white"
             }
            },
            "type": "table"
           }
          ]
         },
         "layout": {
          "annotationdefaults": {
           "arrowcolor": "#2a3f5f",
           "arrowhead": 0,
           "arrowwidth": 1
          },
          "autotypenumbers": "strict",
          "coloraxis": {
           "colorbar": {
            "outlinewidth": 0,
            "ticks": ""
           }
          },
          "colorscale": {
           "diverging": [
            [
             0,
             "#8e0152"
            ],
            [
             0.1,
             "#c51b7d"
            ],
            [
             0.2,
             "#de77ae"
            ],
            [
             0.3,
             "#f1b6da"
            ],
            [
             0.4,
             "#fde0ef"
            ],
            [
             0.5,
             "#f7f7f7"
            ],
            [
             0.6,
             "#e6f5d0"
            ],
            [
             0.7,
             "#b8e186"
            ],
            [
             0.8,
             "#7fbc41"
            ],
            [
             0.9,
             "#4d9221"
            ],
            [
             1,
             "#276419"
            ]
           ],
           "sequential": [
            [
             0,
             "#0d0887"
            ],
            [
             0.1111111111111111,
             "#46039f"
            ],
            [
             0.2222222222222222,
             "#7201a8"
            ],
            [
             0.3333333333333333,
             "#9c179e"
            ],
            [
             0.4444444444444444,
             "#bd3786"
            ],
            [
             0.5555555555555556,
             "#d8576b"
            ],
            [
             0.6666666666666666,
             "#ed7953"
            ],
            [
             0.7777777777777778,
             "#fb9f3a"
            ],
            [
             0.8888888888888888,
             "#fdca26"
            ],
            [
             1,
             "#f0f921"
            ]
           ],
           "sequentialminus": [
            [
             0,
             "#0d0887"
            ],
            [
             0.1111111111111111,
             "#46039f"
            ],
            [
             0.2222222222222222,
             "#7201a8"
            ],
            [
             0.3333333333333333,
             "#9c179e"
            ],
            [
             0.4444444444444444,
             "#bd3786"
            ],
            [
             0.5555555555555556,
             "#d8576b"
            ],
            [
             0.6666666666666666,
             "#ed7953"
            ],
            [
             0.7777777777777778,
             "#fb9f3a"
            ],
            [
             0.8888888888888888,
             "#fdca26"
            ],
            [
             1,
             "#f0f921"
            ]
           ]
          },
          "colorway": [
           "#636efa",
           "#EF553B",
           "#00cc96",
           "#ab63fa",
           "#FFA15A",
           "#19d3f3",
           "#FF6692",
           "#B6E880",
           "#FF97FF",
           "#FECB52"
          ],
          "font": {
           "color": "#2a3f5f"
          },
          "geo": {
           "bgcolor": "white",
           "lakecolor": "white",
           "landcolor": "#E5ECF6",
           "showlakes": true,
           "showland": true,
           "subunitcolor": "white"
          },
          "hoverlabel": {
           "align": "left"
          },
          "hovermode": "closest",
          "mapbox": {
           "style": "light"
          },
          "paper_bgcolor": "white",
          "plot_bgcolor": "#E5ECF6",
          "polar": {
           "angularaxis": {
            "gridcolor": "white",
            "linecolor": "white",
            "ticks": ""
           },
           "bgcolor": "#E5ECF6",
           "radialaxis": {
            "gridcolor": "white",
            "linecolor": "white",
            "ticks": ""
           }
          },
          "scene": {
           "xaxis": {
            "backgroundcolor": "#E5ECF6",
            "gridcolor": "white",
            "gridwidth": 2,
            "linecolor": "white",
            "showbackground": true,
            "ticks": "",
            "zerolinecolor": "white"
           },
           "yaxis": {
            "backgroundcolor": "#E5ECF6",
            "gridcolor": "white",
            "gridwidth": 2,
            "linecolor": "white",
            "showbackground": true,
            "ticks": "",
            "zerolinecolor": "white"
           },
           "zaxis": {
            "backgroundcolor": "#E5ECF6",
            "gridcolor": "white",
            "gridwidth": 2,
            "linecolor": "white",
            "showbackground": true,
            "ticks": "",
            "zerolinecolor": "white"
           }
          },
          "shapedefaults": {
           "line": {
            "color": "#2a3f5f"
           }
          },
          "ternary": {
           "aaxis": {
            "gridcolor": "white",
            "linecolor": "white",
            "ticks": ""
           },
           "baxis": {
            "gridcolor": "white",
            "linecolor": "white",
            "ticks": ""
           },
           "bgcolor": "#E5ECF6",
           "caxis": {
            "gridcolor": "white",
            "linecolor": "white",
            "ticks": ""
           }
          },
          "title": {
           "x": 0.05
          },
          "xaxis": {
           "automargin": true,
           "gridcolor": "white",
           "linecolor": "white",
           "ticks": "",
           "title": {
            "standoff": 15
           },
           "zerolinecolor": "white",
           "zerolinewidth": 2
          },
          "yaxis": {
           "automargin": true,
           "gridcolor": "white",
           "linecolor": "white",
           "ticks": "",
           "title": {
            "standoff": 15
           },
           "zerolinecolor": "white",
           "zerolinewidth": 2
          }
         }
        },
        "title": {
         "text": "Most influential factors for Price/Person"
        },
        "xaxis": {
         "categoryorder": "total descending",
         "title": {
          "text": ""
         }
        },
        "yaxis": {
         "ticksuffix": "",
         "title": {
          "text": "Model Coefficient"
         }
        }
       }
      },
      "text/html": [
       "<div>                            <div id=\"4dbd7cd6-63e4-4cbd-9531-6a017aa834da\" class=\"plotly-graph-div\" style=\"height:525px; width:100%;\"></div>            <script type=\"text/javascript\">                require([\"plotly\"], function(Plotly) {                    window.PLOTLYENV=window.PLOTLYENV || {};                                    if (document.getElementById(\"4dbd7cd6-63e4-4cbd-9531-6a017aa834da\")) {                    Plotly.newPlot(                        \"4dbd7cd6-63e4-4cbd-9531-6a017aa834da\",                        [{\"marker\":{\"color\":\"#00509d\",\"line\":{\"color\":\"rgb(8,48,107)\",\"width\":1.5}},\"opacity\":0.6,\"type\":\"bar\",\"x\":[\"Entire Villa\",\"Room in Boutique Hotel\",\"Chania City\",\"Entire Cottage\",\"Entire Condo\",\"Superhost\",\"Entire Apartment\",\"Platanias City\",\"Kissamos City\",\"Sfakia city\"],\"y\":[21.223667879363198,13.167667692462661,6.043112868257959,-5.643957633246406,-4.983025520605353,4.173688119905947,-3.8412886087216522,3.0339022305157046,2.9893404799092935,-2.4181686550806414]}],                        {\"annotations\":[{\"showarrow\":false,\"text\":\"Test R-squared: 27.05%\",\"x\":8.5,\"y\":20}],\"barmode\":\"stack\",\"paper_bgcolor\":\"rgba(0,0,0,0)\",\"plot_bgcolor\":\"rgba(0,0,0,0)\",\"template\":{\"data\":{\"bar\":[{\"error_x\":{\"color\":\"#2a3f5f\"},\"error_y\":{\"color\":\"#2a3f5f\"},\"marker\":{\"line\":{\"color\":\"#E5ECF6\",\"width\":0.5},\"pattern\":{\"fillmode\":\"overlay\",\"size\":10,\"solidity\":0.2}},\"type\":\"bar\"}],\"barpolar\":[{\"marker\":{\"line\":{\"color\":\"#E5ECF6\",\"width\":0.5},\"pattern\":{\"fillmode\":\"overlay\",\"size\":10,\"solidity\":0.2}},\"type\":\"barpolar\"}],\"carpet\":[{\"aaxis\":{\"endlinecolor\":\"#2a3f5f\",\"gridcolor\":\"white\",\"linecolor\":\"white\",\"minorgridcolor\":\"white\",\"startlinecolor\":\"#2a3f5f\"},\"baxis\":{\"endlinecolor\":\"#2a3f5f\",\"gridcolor\":\"white\",\"linecolor\":\"white\",\"minorgridcolor\":\"white\",\"startlinecolor\":\"#2a3f5f\"},\"type\":\"carpet\"}],\"choropleth\":[{\"colorbar\":{\"outlinewidth\":0,\"ticks\":\"\"},\"type\":\"choropleth\"}],\"contour\":[{\"colorbar\":{\"outlinewidth\":0,\"ticks\":\"\"},\"colorscale\":[[0.0,\"#0d0887\"],[0.1111111111111111,\"#46039f\"],[0.2222222222222222,\"#7201a8\"],[0.3333333333333333,\"#9c179e\"],[0.4444444444444444,\"#bd3786\"],[0.5555555555555556,\"#d8576b\"],[0.6666666666666666,\"#ed7953\"],[0.7777777777777778,\"#fb9f3a\"],[0.8888888888888888,\"#fdca26\"],[1.0,\"#f0f921\"]],\"type\":\"contour\"}],\"contourcarpet\":[{\"colorbar\":{\"outlinewidth\":0,\"ticks\":\"\"},\"type\":\"contourcarpet\"}],\"heatmap\":[{\"colorbar\":{\"outlinewidth\":0,\"ticks\":\"\"},\"colorscale\":[[0.0,\"#0d0887\"],[0.1111111111111111,\"#46039f\"],[0.2222222222222222,\"#7201a8\"],[0.3333333333333333,\"#9c179e\"],[0.4444444444444444,\"#bd3786\"],[0.5555555555555556,\"#d8576b\"],[0.6666666666666666,\"#ed7953\"],[0.7777777777777778,\"#fb9f3a\"],[0.8888888888888888,\"#fdca26\"],[1.0,\"#f0f921\"]],\"type\":\"heatmap\"}],\"heatmapgl\":[{\"colorbar\":{\"outlinewidth\":0,\"ticks\":\"\"},\"colorscale\":[[0.0,\"#0d0887\"],[0.1111111111111111,\"#46039f\"],[0.2222222222222222,\"#7201a8\"],[0.3333333333333333,\"#9c179e\"],[0.4444444444444444,\"#bd3786\"],[0.5555555555555556,\"#d8576b\"],[0.6666666666666666,\"#ed7953\"],[0.7777777777777778,\"#fb9f3a\"],[0.8888888888888888,\"#fdca26\"],[1.0,\"#f0f921\"]],\"type\":\"heatmapgl\"}],\"histogram\":[{\"marker\":{\"pattern\":{\"fillmode\":\"overlay\",\"size\":10,\"solidity\":0.2}},\"type\":\"histogram\"}],\"histogram2d\":[{\"colorbar\":{\"outlinewidth\":0,\"ticks\":\"\"},\"colorscale\":[[0.0,\"#0d0887\"],[0.1111111111111111,\"#46039f\"],[0.2222222222222222,\"#7201a8\"],[0.3333333333333333,\"#9c179e\"],[0.4444444444444444,\"#bd3786\"],[0.5555555555555556,\"#d8576b\"],[0.6666666666666666,\"#ed7953\"],[0.7777777777777778,\"#fb9f3a\"],[0.8888888888888888,\"#fdca26\"],[1.0,\"#f0f921\"]],\"type\":\"histogram2d\"}],\"histogram2dcontour\":[{\"colorbar\":{\"outlinewidth\":0,\"ticks\":\"\"},\"colorscale\":[[0.0,\"#0d0887\"],[0.1111111111111111,\"#46039f\"],[0.2222222222222222,\"#7201a8\"],[0.3333333333333333,\"#9c179e\"],[0.4444444444444444,\"#bd3786\"],[0.5555555555555556,\"#d8576b\"],[0.6666666666666666,\"#ed7953\"],[0.7777777777777778,\"#fb9f3a\"],[0.8888888888888888,\"#fdca26\"],[1.0,\"#f0f921\"]],\"type\":\"histogram2dcontour\"}],\"mesh3d\":[{\"colorbar\":{\"outlinewidth\":0,\"ticks\":\"\"},\"type\":\"mesh3d\"}],\"parcoords\":[{\"line\":{\"colorbar\":{\"outlinewidth\":0,\"ticks\":\"\"}},\"type\":\"parcoords\"}],\"pie\":[{\"automargin\":true,\"type\":\"pie\"}],\"scatter\":[{\"marker\":{\"colorbar\":{\"outlinewidth\":0,\"ticks\":\"\"}},\"type\":\"scatter\"}],\"scatter3d\":[{\"line\":{\"colorbar\":{\"outlinewidth\":0,\"ticks\":\"\"}},\"marker\":{\"colorbar\":{\"outlinewidth\":0,\"ticks\":\"\"}},\"type\":\"scatter3d\"}],\"scattercarpet\":[{\"marker\":{\"colorbar\":{\"outlinewidth\":0,\"ticks\":\"\"}},\"type\":\"scattercarpet\"}],\"scattergeo\":[{\"marker\":{\"colorbar\":{\"outlinewidth\":0,\"ticks\":\"\"}},\"type\":\"scattergeo\"}],\"scattergl\":[{\"marker\":{\"colorbar\":{\"outlinewidth\":0,\"ticks\":\"\"}},\"type\":\"scattergl\"}],\"scattermapbox\":[{\"marker\":{\"colorbar\":{\"outlinewidth\":0,\"ticks\":\"\"}},\"type\":\"scattermapbox\"}],\"scatterpolar\":[{\"marker\":{\"colorbar\":{\"outlinewidth\":0,\"ticks\":\"\"}},\"type\":\"scatterpolar\"}],\"scatterpolargl\":[{\"marker\":{\"colorbar\":{\"outlinewidth\":0,\"ticks\":\"\"}},\"type\":\"scatterpolargl\"}],\"scatterternary\":[{\"marker\":{\"colorbar\":{\"outlinewidth\":0,\"ticks\":\"\"}},\"type\":\"scatterternary\"}],\"surface\":[{\"colorbar\":{\"outlinewidth\":0,\"ticks\":\"\"},\"colorscale\":[[0.0,\"#0d0887\"],[0.1111111111111111,\"#46039f\"],[0.2222222222222222,\"#7201a8\"],[0.3333333333333333,\"#9c179e\"],[0.4444444444444444,\"#bd3786\"],[0.5555555555555556,\"#d8576b\"],[0.6666666666666666,\"#ed7953\"],[0.7777777777777778,\"#fb9f3a\"],[0.8888888888888888,\"#fdca26\"],[1.0,\"#f0f921\"]],\"type\":\"surface\"}],\"table\":[{\"cells\":{\"fill\":{\"color\":\"#EBF0F8\"},\"line\":{\"color\":\"white\"}},\"header\":{\"fill\":{\"color\":\"#C8D4E3\"},\"line\":{\"color\":\"white\"}},\"type\":\"table\"}]},\"layout\":{\"annotationdefaults\":{\"arrowcolor\":\"#2a3f5f\",\"arrowhead\":0,\"arrowwidth\":1},\"autotypenumbers\":\"strict\",\"coloraxis\":{\"colorbar\":{\"outlinewidth\":0,\"ticks\":\"\"}},\"colorscale\":{\"diverging\":[[0,\"#8e0152\"],[0.1,\"#c51b7d\"],[0.2,\"#de77ae\"],[0.3,\"#f1b6da\"],[0.4,\"#fde0ef\"],[0.5,\"#f7f7f7\"],[0.6,\"#e6f5d0\"],[0.7,\"#b8e186\"],[0.8,\"#7fbc41\"],[0.9,\"#4d9221\"],[1,\"#276419\"]],\"sequential\":[[0.0,\"#0d0887\"],[0.1111111111111111,\"#46039f\"],[0.2222222222222222,\"#7201a8\"],[0.3333333333333333,\"#9c179e\"],[0.4444444444444444,\"#bd3786\"],[0.5555555555555556,\"#d8576b\"],[0.6666666666666666,\"#ed7953\"],[0.7777777777777778,\"#fb9f3a\"],[0.8888888888888888,\"#fdca26\"],[1.0,\"#f0f921\"]],\"sequentialminus\":[[0.0,\"#0d0887\"],[0.1111111111111111,\"#46039f\"],[0.2222222222222222,\"#7201a8\"],[0.3333333333333333,\"#9c179e\"],[0.4444444444444444,\"#bd3786\"],[0.5555555555555556,\"#d8576b\"],[0.6666666666666666,\"#ed7953\"],[0.7777777777777778,\"#fb9f3a\"],[0.8888888888888888,\"#fdca26\"],[1.0,\"#f0f921\"]]},\"colorway\":[\"#636efa\",\"#EF553B\",\"#00cc96\",\"#ab63fa\",\"#FFA15A\",\"#19d3f3\",\"#FF6692\",\"#B6E880\",\"#FF97FF\",\"#FECB52\"],\"font\":{\"color\":\"#2a3f5f\"},\"geo\":{\"bgcolor\":\"white\",\"lakecolor\":\"white\",\"landcolor\":\"#E5ECF6\",\"showlakes\":true,\"showland\":true,\"subunitcolor\":\"white\"},\"hoverlabel\":{\"align\":\"left\"},\"hovermode\":\"closest\",\"mapbox\":{\"style\":\"light\"},\"paper_bgcolor\":\"white\",\"plot_bgcolor\":\"#E5ECF6\",\"polar\":{\"angularaxis\":{\"gridcolor\":\"white\",\"linecolor\":\"white\",\"ticks\":\"\"},\"bgcolor\":\"#E5ECF6\",\"radialaxis\":{\"gridcolor\":\"white\",\"linecolor\":\"white\",\"ticks\":\"\"}},\"scene\":{\"xaxis\":{\"backgroundcolor\":\"#E5ECF6\",\"gridcolor\":\"white\",\"gridwidth\":2,\"linecolor\":\"white\",\"showbackground\":true,\"ticks\":\"\",\"zerolinecolor\":\"white\"},\"yaxis\":{\"backgroundcolor\":\"#E5ECF6\",\"gridcolor\":\"white\",\"gridwidth\":2,\"linecolor\":\"white\",\"showbackground\":true,\"ticks\":\"\",\"zerolinecolor\":\"white\"},\"zaxis\":{\"backgroundcolor\":\"#E5ECF6\",\"gridcolor\":\"white\",\"gridwidth\":2,\"linecolor\":\"white\",\"showbackground\":true,\"ticks\":\"\",\"zerolinecolor\":\"white\"}},\"shapedefaults\":{\"line\":{\"color\":\"#2a3f5f\"}},\"ternary\":{\"aaxis\":{\"gridcolor\":\"white\",\"linecolor\":\"white\",\"ticks\":\"\"},\"baxis\":{\"gridcolor\":\"white\",\"linecolor\":\"white\",\"ticks\":\"\"},\"bgcolor\":\"#E5ECF6\",\"caxis\":{\"gridcolor\":\"white\",\"linecolor\":\"white\",\"ticks\":\"\"}},\"title\":{\"x\":0.05},\"xaxis\":{\"automargin\":true,\"gridcolor\":\"white\",\"linecolor\":\"white\",\"ticks\":\"\",\"title\":{\"standoff\":15},\"zerolinecolor\":\"white\",\"zerolinewidth\":2},\"yaxis\":{\"automargin\":true,\"gridcolor\":\"white\",\"linecolor\":\"white\",\"ticks\":\"\",\"title\":{\"standoff\":15},\"zerolinecolor\":\"white\",\"zerolinewidth\":2}}},\"title\":{\"text\":\"Most influential factors for Price/Person\"},\"xaxis\":{\"categoryorder\":\"total descending\",\"title\":{\"text\":\"\"}},\"yaxis\":{\"ticksuffix\":\"\",\"title\":{\"text\":\"Model Coefficient\"}}},                        {\"responsive\": true}                    ).then(function(){\n",
       "                            \n",
       "var gd = document.getElementById('4dbd7cd6-63e4-4cbd-9531-6a017aa834da');\n",
       "var x = new MutationObserver(function (mutations, observer) {{\n",
       "        var display = window.getComputedStyle(gd).display;\n",
       "        if (!display || display === 'none') {{\n",
       "            console.log([gd, 'removed!']);\n",
       "            Plotly.purge(gd);\n",
       "            observer.disconnect();\n",
       "        }}\n",
       "}});\n",
       "\n",
       "// Listen for the removal of the full notebook cells\n",
       "var notebookContainer = gd.closest('#notebook-container');\n",
       "if (notebookContainer) {{\n",
       "    x.observe(notebookContainer, {childList: true});\n",
       "}}\n",
       "\n",
       "// Listen for the clearing of the current output cell\n",
       "var outputEl = gd.closest('.output');\n",
       "if (outputEl) {{\n",
       "    x.observe(outputEl, {childList: true});\n",
       "}}\n",
       "\n",
       "                        })                };                });            </script>        </div>"
      ]
     },
     "metadata": {},
     "output_type": "display_data"
    }
   ],
   "source": [
    "# Take the 10 most significant factors\n",
    "data =  coef_df.head(10)\n",
    "\n",
    "# Rename the plot better looking\n",
    "data['est_int'] = ['Entire Villa','Room in Boutique Hotel','Chania City','Entire Cottage',\n",
    "                 'Entire Condo','Superhost','Entire Apartment','Platanias City',\n",
    "                  'Kissamos City','Sfakia city']\n",
    "\n",
    "x =data['est_int']\n",
    "y = data['coefs']\n",
    "fig= go.Figure(data=go.Bar(x=x,y=y))\n",
    "\n",
    "\n",
    "fig.update_traces(marker_color='#00509d', marker_line_color='rgb(8,48,107)',\n",
    "                  marker_line_width=1.5, opacity=0.6)\n",
    "# Update Layout\n",
    "fig.update_layout(\n",
    "    title={'text':'Most influential factors for Price/Person' },\n",
    "    xaxis=dict(\n",
    "        title='',\n",
    "    ),\n",
    "    yaxis=dict(\n",
    "        title='Model Coefficient',\n",
    "         ticksuffix=\"\"\n",
    "    ),\n",
    "\n",
    "\n",
    "    paper_bgcolor='rgba(0,0,0,0)',\n",
    "    plot_bgcolor='rgba(0,0,0,0)',\n",
    ")\n",
    "fig.update_layout(barmode='stack', xaxis={'categoryorder':'total descending'})\n",
    "\n",
    "text = \"Test R-squared: \" + str(np.round(100*max(r2_scores_test),2)) +\"%\"\n",
    "fig.add_annotation(x=8.5, y=20,\n",
    "            text=text,showarrow=False\n",
    "        )"
   ]
  },
  {
   "cell_type": "markdown",
   "metadata": {},
   "source": [
    "#### viii) Factors that correlate with Superhosts"
   ]
  },
  {
   "cell_type": "code",
   "execution_count": 43,
   "metadata": {},
   "outputs": [
    {
     "data": {
      "text/html": [
       "<div>\n",
       "<style scoped>\n",
       "    .dataframe tbody tr th:only-of-type {\n",
       "        vertical-align: middle;\n",
       "    }\n",
       "\n",
       "    .dataframe tbody tr th {\n",
       "        vertical-align: top;\n",
       "    }\n",
       "\n",
       "    .dataframe thead th {\n",
       "        text-align: right;\n",
       "    }\n",
       "</style>\n",
       "<table border=\"1\" class=\"dataframe\">\n",
       "  <thead>\n",
       "    <tr style=\"text-align: right;\">\n",
       "      <th></th>\n",
       "      <th>host_is_superhost</th>\n",
       "    </tr>\n",
       "  </thead>\n",
       "  <tbody>\n",
       "    <tr>\n",
       "      <th>number_of_reviews_ltm</th>\n",
       "      <td>0.320663</td>\n",
       "    </tr>\n",
       "    <tr>\n",
       "      <th>review_scores_rating</th>\n",
       "      <td>0.157614</td>\n",
       "    </tr>\n",
       "    <tr>\n",
       "      <th>host_acceptance_rate</th>\n",
       "      <td>0.156650</td>\n",
       "    </tr>\n",
       "    <tr>\n",
       "      <th>instant_bookable</th>\n",
       "      <td>0.144767</td>\n",
       "    </tr>\n",
       "    <tr>\n",
       "      <th>review_scores_cleanliness</th>\n",
       "      <td>0.131126</td>\n",
       "    </tr>\n",
       "    <tr>\n",
       "      <th>review_scores_accuracy</th>\n",
       "      <td>0.123559</td>\n",
       "    </tr>\n",
       "    <tr>\n",
       "      <th>review_scores_value</th>\n",
       "      <td>0.111291</td>\n",
       "    </tr>\n",
       "    <tr>\n",
       "      <th>review_scores_communication</th>\n",
       "      <td>0.105476</td>\n",
       "    </tr>\n",
       "    <tr>\n",
       "      <th>price_per_person</th>\n",
       "      <td>0.101905</td>\n",
       "    </tr>\n",
       "    <tr>\n",
       "      <th>review_scores_checkin</th>\n",
       "      <td>0.096391</td>\n",
       "    </tr>\n",
       "    <tr>\n",
       "      <th>review_scores_location</th>\n",
       "      <td>0.065695</td>\n",
       "    </tr>\n",
       "    <tr>\n",
       "      <th>accommodates</th>\n",
       "      <td>0.030248</td>\n",
       "    </tr>\n",
       "  </tbody>\n",
       "</table>\n",
       "</div>"
      ],
      "text/plain": [
       "                             host_is_superhost\n",
       "number_of_reviews_ltm                 0.320663\n",
       "review_scores_rating                  0.157614\n",
       "host_acceptance_rate                  0.156650\n",
       "instant_bookable                      0.144767\n",
       "review_scores_cleanliness             0.131126\n",
       "review_scores_accuracy                0.123559\n",
       "review_scores_value                   0.111291\n",
       "review_scores_communication           0.105476\n",
       "price_per_person                      0.101905\n",
       "review_scores_checkin                 0.096391\n",
       "review_scores_location                0.065695\n",
       "accommodates                          0.030248"
      ]
     },
     "execution_count": 43,
     "metadata": {},
     "output_type": "execute_result"
    }
   ],
   "source": [
    "# Find correlations\n",
    "df_shost_corr = df_listings.corr()\n",
    "\n",
    "# Sort values by highest\n",
    "df_shost_corr[['host_is_superhost']].sort_values(by=\"host_is_superhost\",ascending=False)\n",
    "\n",
    "# Lets clean it a little bit (too many factors of the same characteristic)\n",
    "\n",
    "# Dropping duplications or uneccessary\n",
    "df_shost_corr = df_shost_corr.drop(['host_is_superhost','number_of_reviews_l30d','number_of_reviews',\n",
    "                   'reviews_per_month','price_z-score','price','id'])\n",
    "\n",
    "# Sort Values\n",
    "df_shost_corr[['host_is_superhost']].sort_values(by=\"host_is_superhost\",ascending=False)"
   ]
  },
  {
   "cell_type": "code",
   "execution_count": 44,
   "metadata": {},
   "outputs": [
    {
     "data": {
      "application/vnd.plotly.v1+json": {
       "config": {
        "plotlyServerURL": "https://plot.ly"
       },
       "data": [
        {
         "marker": {
          "color": "#c70505",
          "line": {
           "color": "rgb(8,48,107)",
           "width": 1.5
          }
         },
         "opacity": 0.6,
         "type": "bar",
         "x": [
          "Number of Reviews (LTM)",
          "Response Rate",
          "Review Scores Rating",
          "Acceptance Rate",
          "Instant Bookable",
          "Review Score Cleanliness",
          "Review Score Accuracy",
          "Review Score Value",
          "Review Score Communication",
          "Price/Person"
         ],
         "y": [
          0.3206626298256371,
          0.1576140148693871,
          0.1566504994663785,
          0.1447670993255074,
          0.13112604162097938,
          0.12355916062964789,
          0.11129082036974254,
          0.10547638846590426,
          0.10190533751793049,
          0.09639073314370049
         ]
        }
       ],
       "layout": {
        "barmode": "stack",
        "paper_bgcolor": "rgba(0,0,0,0)",
        "plot_bgcolor": "rgba(0,0,0,0)",
        "template": {
         "data": {
          "bar": [
           {
            "error_x": {
             "color": "#2a3f5f"
            },
            "error_y": {
             "color": "#2a3f5f"
            },
            "marker": {
             "line": {
              "color": "#E5ECF6",
              "width": 0.5
             },
             "pattern": {
              "fillmode": "overlay",
              "size": 10,
              "solidity": 0.2
             }
            },
            "type": "bar"
           }
          ],
          "barpolar": [
           {
            "marker": {
             "line": {
              "color": "#E5ECF6",
              "width": 0.5
             },
             "pattern": {
              "fillmode": "overlay",
              "size": 10,
              "solidity": 0.2
             }
            },
            "type": "barpolar"
           }
          ],
          "carpet": [
           {
            "aaxis": {
             "endlinecolor": "#2a3f5f",
             "gridcolor": "white",
             "linecolor": "white",
             "minorgridcolor": "white",
             "startlinecolor": "#2a3f5f"
            },
            "baxis": {
             "endlinecolor": "#2a3f5f",
             "gridcolor": "white",
             "linecolor": "white",
             "minorgridcolor": "white",
             "startlinecolor": "#2a3f5f"
            },
            "type": "carpet"
           }
          ],
          "choropleth": [
           {
            "colorbar": {
             "outlinewidth": 0,
             "ticks": ""
            },
            "type": "choropleth"
           }
          ],
          "contour": [
           {
            "colorbar": {
             "outlinewidth": 0,
             "ticks": ""
            },
            "colorscale": [
             [
              0,
              "#0d0887"
             ],
             [
              0.1111111111111111,
              "#46039f"
             ],
             [
              0.2222222222222222,
              "#7201a8"
             ],
             [
              0.3333333333333333,
              "#9c179e"
             ],
             [
              0.4444444444444444,
              "#bd3786"
             ],
             [
              0.5555555555555556,
              "#d8576b"
             ],
             [
              0.6666666666666666,
              "#ed7953"
             ],
             [
              0.7777777777777778,
              "#fb9f3a"
             ],
             [
              0.8888888888888888,
              "#fdca26"
             ],
             [
              1,
              "#f0f921"
             ]
            ],
            "type": "contour"
           }
          ],
          "contourcarpet": [
           {
            "colorbar": {
             "outlinewidth": 0,
             "ticks": ""
            },
            "type": "contourcarpet"
           }
          ],
          "heatmap": [
           {
            "colorbar": {
             "outlinewidth": 0,
             "ticks": ""
            },
            "colorscale": [
             [
              0,
              "#0d0887"
             ],
             [
              0.1111111111111111,
              "#46039f"
             ],
             [
              0.2222222222222222,
              "#7201a8"
             ],
             [
              0.3333333333333333,
              "#9c179e"
             ],
             [
              0.4444444444444444,
              "#bd3786"
             ],
             [
              0.5555555555555556,
              "#d8576b"
             ],
             [
              0.6666666666666666,
              "#ed7953"
             ],
             [
              0.7777777777777778,
              "#fb9f3a"
             ],
             [
              0.8888888888888888,
              "#fdca26"
             ],
             [
              1,
              "#f0f921"
             ]
            ],
            "type": "heatmap"
           }
          ],
          "heatmapgl": [
           {
            "colorbar": {
             "outlinewidth": 0,
             "ticks": ""
            },
            "colorscale": [
             [
              0,
              "#0d0887"
             ],
             [
              0.1111111111111111,
              "#46039f"
             ],
             [
              0.2222222222222222,
              "#7201a8"
             ],
             [
              0.3333333333333333,
              "#9c179e"
             ],
             [
              0.4444444444444444,
              "#bd3786"
             ],
             [
              0.5555555555555556,
              "#d8576b"
             ],
             [
              0.6666666666666666,
              "#ed7953"
             ],
             [
              0.7777777777777778,
              "#fb9f3a"
             ],
             [
              0.8888888888888888,
              "#fdca26"
             ],
             [
              1,
              "#f0f921"
             ]
            ],
            "type": "heatmapgl"
           }
          ],
          "histogram": [
           {
            "marker": {
             "pattern": {
              "fillmode": "overlay",
              "size": 10,
              "solidity": 0.2
             }
            },
            "type": "histogram"
           }
          ],
          "histogram2d": [
           {
            "colorbar": {
             "outlinewidth": 0,
             "ticks": ""
            },
            "colorscale": [
             [
              0,
              "#0d0887"
             ],
             [
              0.1111111111111111,
              "#46039f"
             ],
             [
              0.2222222222222222,
              "#7201a8"
             ],
             [
              0.3333333333333333,
              "#9c179e"
             ],
             [
              0.4444444444444444,
              "#bd3786"
             ],
             [
              0.5555555555555556,
              "#d8576b"
             ],
             [
              0.6666666666666666,
              "#ed7953"
             ],
             [
              0.7777777777777778,
              "#fb9f3a"
             ],
             [
              0.8888888888888888,
              "#fdca26"
             ],
             [
              1,
              "#f0f921"
             ]
            ],
            "type": "histogram2d"
           }
          ],
          "histogram2dcontour": [
           {
            "colorbar": {
             "outlinewidth": 0,
             "ticks": ""
            },
            "colorscale": [
             [
              0,
              "#0d0887"
             ],
             [
              0.1111111111111111,
              "#46039f"
             ],
             [
              0.2222222222222222,
              "#7201a8"
             ],
             [
              0.3333333333333333,
              "#9c179e"
             ],
             [
              0.4444444444444444,
              "#bd3786"
             ],
             [
              0.5555555555555556,
              "#d8576b"
             ],
             [
              0.6666666666666666,
              "#ed7953"
             ],
             [
              0.7777777777777778,
              "#fb9f3a"
             ],
             [
              0.8888888888888888,
              "#fdca26"
             ],
             [
              1,
              "#f0f921"
             ]
            ],
            "type": "histogram2dcontour"
           }
          ],
          "mesh3d": [
           {
            "colorbar": {
             "outlinewidth": 0,
             "ticks": ""
            },
            "type": "mesh3d"
           }
          ],
          "parcoords": [
           {
            "line": {
             "colorbar": {
              "outlinewidth": 0,
              "ticks": ""
             }
            },
            "type": "parcoords"
           }
          ],
          "pie": [
           {
            "automargin": true,
            "type": "pie"
           }
          ],
          "scatter": [
           {
            "marker": {
             "colorbar": {
              "outlinewidth": 0,
              "ticks": ""
             }
            },
            "type": "scatter"
           }
          ],
          "scatter3d": [
           {
            "line": {
             "colorbar": {
              "outlinewidth": 0,
              "ticks": ""
             }
            },
            "marker": {
             "colorbar": {
              "outlinewidth": 0,
              "ticks": ""
             }
            },
            "type": "scatter3d"
           }
          ],
          "scattercarpet": [
           {
            "marker": {
             "colorbar": {
              "outlinewidth": 0,
              "ticks": ""
             }
            },
            "type": "scattercarpet"
           }
          ],
          "scattergeo": [
           {
            "marker": {
             "colorbar": {
              "outlinewidth": 0,
              "ticks": ""
             }
            },
            "type": "scattergeo"
           }
          ],
          "scattergl": [
           {
            "marker": {
             "colorbar": {
              "outlinewidth": 0,
              "ticks": ""
             }
            },
            "type": "scattergl"
           }
          ],
          "scattermapbox": [
           {
            "marker": {
             "colorbar": {
              "outlinewidth": 0,
              "ticks": ""
             }
            },
            "type": "scattermapbox"
           }
          ],
          "scatterpolar": [
           {
            "marker": {
             "colorbar": {
              "outlinewidth": 0,
              "ticks": ""
             }
            },
            "type": "scatterpolar"
           }
          ],
          "scatterpolargl": [
           {
            "marker": {
             "colorbar": {
              "outlinewidth": 0,
              "ticks": ""
             }
            },
            "type": "scatterpolargl"
           }
          ],
          "scatterternary": [
           {
            "marker": {
             "colorbar": {
              "outlinewidth": 0,
              "ticks": ""
             }
            },
            "type": "scatterternary"
           }
          ],
          "surface": [
           {
            "colorbar": {
             "outlinewidth": 0,
             "ticks": ""
            },
            "colorscale": [
             [
              0,
              "#0d0887"
             ],
             [
              0.1111111111111111,
              "#46039f"
             ],
             [
              0.2222222222222222,
              "#7201a8"
             ],
             [
              0.3333333333333333,
              "#9c179e"
             ],
             [
              0.4444444444444444,
              "#bd3786"
             ],
             [
              0.5555555555555556,
              "#d8576b"
             ],
             [
              0.6666666666666666,
              "#ed7953"
             ],
             [
              0.7777777777777778,
              "#fb9f3a"
             ],
             [
              0.8888888888888888,
              "#fdca26"
             ],
             [
              1,
              "#f0f921"
             ]
            ],
            "type": "surface"
           }
          ],
          "table": [
           {
            "cells": {
             "fill": {
              "color": "#EBF0F8"
             },
             "line": {
              "color": "white"
             }
            },
            "header": {
             "fill": {
              "color": "#C8D4E3"
             },
             "line": {
              "color": "white"
             }
            },
            "type": "table"
           }
          ]
         },
         "layout": {
          "annotationdefaults": {
           "arrowcolor": "#2a3f5f",
           "arrowhead": 0,
           "arrowwidth": 1
          },
          "autotypenumbers": "strict",
          "coloraxis": {
           "colorbar": {
            "outlinewidth": 0,
            "ticks": ""
           }
          },
          "colorscale": {
           "diverging": [
            [
             0,
             "#8e0152"
            ],
            [
             0.1,
             "#c51b7d"
            ],
            [
             0.2,
             "#de77ae"
            ],
            [
             0.3,
             "#f1b6da"
            ],
            [
             0.4,
             "#fde0ef"
            ],
            [
             0.5,
             "#f7f7f7"
            ],
            [
             0.6,
             "#e6f5d0"
            ],
            [
             0.7,
             "#b8e186"
            ],
            [
             0.8,
             "#7fbc41"
            ],
            [
             0.9,
             "#4d9221"
            ],
            [
             1,
             "#276419"
            ]
           ],
           "sequential": [
            [
             0,
             "#0d0887"
            ],
            [
             0.1111111111111111,
             "#46039f"
            ],
            [
             0.2222222222222222,
             "#7201a8"
            ],
            [
             0.3333333333333333,
             "#9c179e"
            ],
            [
             0.4444444444444444,
             "#bd3786"
            ],
            [
             0.5555555555555556,
             "#d8576b"
            ],
            [
             0.6666666666666666,
             "#ed7953"
            ],
            [
             0.7777777777777778,
             "#fb9f3a"
            ],
            [
             0.8888888888888888,
             "#fdca26"
            ],
            [
             1,
             "#f0f921"
            ]
           ],
           "sequentialminus": [
            [
             0,
             "#0d0887"
            ],
            [
             0.1111111111111111,
             "#46039f"
            ],
            [
             0.2222222222222222,
             "#7201a8"
            ],
            [
             0.3333333333333333,
             "#9c179e"
            ],
            [
             0.4444444444444444,
             "#bd3786"
            ],
            [
             0.5555555555555556,
             "#d8576b"
            ],
            [
             0.6666666666666666,
             "#ed7953"
            ],
            [
             0.7777777777777778,
             "#fb9f3a"
            ],
            [
             0.8888888888888888,
             "#fdca26"
            ],
            [
             1,
             "#f0f921"
            ]
           ]
          },
          "colorway": [
           "#636efa",
           "#EF553B",
           "#00cc96",
           "#ab63fa",
           "#FFA15A",
           "#19d3f3",
           "#FF6692",
           "#B6E880",
           "#FF97FF",
           "#FECB52"
          ],
          "font": {
           "color": "#2a3f5f"
          },
          "geo": {
           "bgcolor": "white",
           "lakecolor": "white",
           "landcolor": "#E5ECF6",
           "showlakes": true,
           "showland": true,
           "subunitcolor": "white"
          },
          "hoverlabel": {
           "align": "left"
          },
          "hovermode": "closest",
          "mapbox": {
           "style": "light"
          },
          "paper_bgcolor": "white",
          "plot_bgcolor": "#E5ECF6",
          "polar": {
           "angularaxis": {
            "gridcolor": "white",
            "linecolor": "white",
            "ticks": ""
           },
           "bgcolor": "#E5ECF6",
           "radialaxis": {
            "gridcolor": "white",
            "linecolor": "white",
            "ticks": ""
           }
          },
          "scene": {
           "xaxis": {
            "backgroundcolor": "#E5ECF6",
            "gridcolor": "white",
            "gridwidth": 2,
            "linecolor": "white",
            "showbackground": true,
            "ticks": "",
            "zerolinecolor": "white"
           },
           "yaxis": {
            "backgroundcolor": "#E5ECF6",
            "gridcolor": "white",
            "gridwidth": 2,
            "linecolor": "white",
            "showbackground": true,
            "ticks": "",
            "zerolinecolor": "white"
           },
           "zaxis": {
            "backgroundcolor": "#E5ECF6",
            "gridcolor": "white",
            "gridwidth": 2,
            "linecolor": "white",
            "showbackground": true,
            "ticks": "",
            "zerolinecolor": "white"
           }
          },
          "shapedefaults": {
           "line": {
            "color": "#2a3f5f"
           }
          },
          "ternary": {
           "aaxis": {
            "gridcolor": "white",
            "linecolor": "white",
            "ticks": ""
           },
           "baxis": {
            "gridcolor": "white",
            "linecolor": "white",
            "ticks": ""
           },
           "bgcolor": "#E5ECF6",
           "caxis": {
            "gridcolor": "white",
            "linecolor": "white",
            "ticks": ""
           }
          },
          "title": {
           "x": 0.05
          },
          "xaxis": {
           "automargin": true,
           "gridcolor": "white",
           "linecolor": "white",
           "ticks": "",
           "title": {
            "standoff": 15
           },
           "zerolinecolor": "white",
           "zerolinewidth": 2
          },
          "yaxis": {
           "automargin": true,
           "gridcolor": "white",
           "linecolor": "white",
           "ticks": "",
           "title": {
            "standoff": 15
           },
           "zerolinecolor": "white",
           "zerolinewidth": 2
          }
         }
        },
        "title": {
         "text": "Attributes correlated to Superhosts"
        },
        "xaxis": {
         "categoryorder": "total descending",
         "title": {
          "text": ""
         }
        },
        "yaxis": {
         "ticksuffix": "",
         "title": {
          "text": "Correlation"
         }
        }
       }
      },
      "text/html": [
       "<div>                            <div id=\"ece1f210-1619-4790-adb2-0b91e33fa7ba\" class=\"plotly-graph-div\" style=\"height:525px; width:100%;\"></div>            <script type=\"text/javascript\">                require([\"plotly\"], function(Plotly) {                    window.PLOTLYENV=window.PLOTLYENV || {};                                    if (document.getElementById(\"ece1f210-1619-4790-adb2-0b91e33fa7ba\")) {                    Plotly.newPlot(                        \"ece1f210-1619-4790-adb2-0b91e33fa7ba\",                        [{\"marker\":{\"color\":\"#c70505\",\"line\":{\"color\":\"rgb(8,48,107)\",\"width\":1.5}},\"opacity\":0.6,\"type\":\"bar\",\"x\":[\"Number of Reviews (LTM)\",\"Response Rate\",\"Review Scores Rating\",\"Acceptance Rate\",\"Instant Bookable\",\"Review Score Cleanliness\",\"Review Score Accuracy\",\"Review Score Value\",\"Review Score Communication\",\"Price/Person\"],\"y\":[0.3206626298256371,0.1576140148693871,0.1566504994663785,0.1447670993255074,0.13112604162097938,0.12355916062964789,0.11129082036974254,0.10547638846590426,0.10190533751793049,0.09639073314370049]}],                        {\"barmode\":\"stack\",\"paper_bgcolor\":\"rgba(0,0,0,0)\",\"plot_bgcolor\":\"rgba(0,0,0,0)\",\"template\":{\"data\":{\"bar\":[{\"error_x\":{\"color\":\"#2a3f5f\"},\"error_y\":{\"color\":\"#2a3f5f\"},\"marker\":{\"line\":{\"color\":\"#E5ECF6\",\"width\":0.5},\"pattern\":{\"fillmode\":\"overlay\",\"size\":10,\"solidity\":0.2}},\"type\":\"bar\"}],\"barpolar\":[{\"marker\":{\"line\":{\"color\":\"#E5ECF6\",\"width\":0.5},\"pattern\":{\"fillmode\":\"overlay\",\"size\":10,\"solidity\":0.2}},\"type\":\"barpolar\"}],\"carpet\":[{\"aaxis\":{\"endlinecolor\":\"#2a3f5f\",\"gridcolor\":\"white\",\"linecolor\":\"white\",\"minorgridcolor\":\"white\",\"startlinecolor\":\"#2a3f5f\"},\"baxis\":{\"endlinecolor\":\"#2a3f5f\",\"gridcolor\":\"white\",\"linecolor\":\"white\",\"minorgridcolor\":\"white\",\"startlinecolor\":\"#2a3f5f\"},\"type\":\"carpet\"}],\"choropleth\":[{\"colorbar\":{\"outlinewidth\":0,\"ticks\":\"\"},\"type\":\"choropleth\"}],\"contour\":[{\"colorbar\":{\"outlinewidth\":0,\"ticks\":\"\"},\"colorscale\":[[0.0,\"#0d0887\"],[0.1111111111111111,\"#46039f\"],[0.2222222222222222,\"#7201a8\"],[0.3333333333333333,\"#9c179e\"],[0.4444444444444444,\"#bd3786\"],[0.5555555555555556,\"#d8576b\"],[0.6666666666666666,\"#ed7953\"],[0.7777777777777778,\"#fb9f3a\"],[0.8888888888888888,\"#fdca26\"],[1.0,\"#f0f921\"]],\"type\":\"contour\"}],\"contourcarpet\":[{\"colorbar\":{\"outlinewidth\":0,\"ticks\":\"\"},\"type\":\"contourcarpet\"}],\"heatmap\":[{\"colorbar\":{\"outlinewidth\":0,\"ticks\":\"\"},\"colorscale\":[[0.0,\"#0d0887\"],[0.1111111111111111,\"#46039f\"],[0.2222222222222222,\"#7201a8\"],[0.3333333333333333,\"#9c179e\"],[0.4444444444444444,\"#bd3786\"],[0.5555555555555556,\"#d8576b\"],[0.6666666666666666,\"#ed7953\"],[0.7777777777777778,\"#fb9f3a\"],[0.8888888888888888,\"#fdca26\"],[1.0,\"#f0f921\"]],\"type\":\"heatmap\"}],\"heatmapgl\":[{\"colorbar\":{\"outlinewidth\":0,\"ticks\":\"\"},\"colorscale\":[[0.0,\"#0d0887\"],[0.1111111111111111,\"#46039f\"],[0.2222222222222222,\"#7201a8\"],[0.3333333333333333,\"#9c179e\"],[0.4444444444444444,\"#bd3786\"],[0.5555555555555556,\"#d8576b\"],[0.6666666666666666,\"#ed7953\"],[0.7777777777777778,\"#fb9f3a\"],[0.8888888888888888,\"#fdca26\"],[1.0,\"#f0f921\"]],\"type\":\"heatmapgl\"}],\"histogram\":[{\"marker\":{\"pattern\":{\"fillmode\":\"overlay\",\"size\":10,\"solidity\":0.2}},\"type\":\"histogram\"}],\"histogram2d\":[{\"colorbar\":{\"outlinewidth\":0,\"ticks\":\"\"},\"colorscale\":[[0.0,\"#0d0887\"],[0.1111111111111111,\"#46039f\"],[0.2222222222222222,\"#7201a8\"],[0.3333333333333333,\"#9c179e\"],[0.4444444444444444,\"#bd3786\"],[0.5555555555555556,\"#d8576b\"],[0.6666666666666666,\"#ed7953\"],[0.7777777777777778,\"#fb9f3a\"],[0.8888888888888888,\"#fdca26\"],[1.0,\"#f0f921\"]],\"type\":\"histogram2d\"}],\"histogram2dcontour\":[{\"colorbar\":{\"outlinewidth\":0,\"ticks\":\"\"},\"colorscale\":[[0.0,\"#0d0887\"],[0.1111111111111111,\"#46039f\"],[0.2222222222222222,\"#7201a8\"],[0.3333333333333333,\"#9c179e\"],[0.4444444444444444,\"#bd3786\"],[0.5555555555555556,\"#d8576b\"],[0.6666666666666666,\"#ed7953\"],[0.7777777777777778,\"#fb9f3a\"],[0.8888888888888888,\"#fdca26\"],[1.0,\"#f0f921\"]],\"type\":\"histogram2dcontour\"}],\"mesh3d\":[{\"colorbar\":{\"outlinewidth\":0,\"ticks\":\"\"},\"type\":\"mesh3d\"}],\"parcoords\":[{\"line\":{\"colorbar\":{\"outlinewidth\":0,\"ticks\":\"\"}},\"type\":\"parcoords\"}],\"pie\":[{\"automargin\":true,\"type\":\"pie\"}],\"scatter\":[{\"marker\":{\"colorbar\":{\"outlinewidth\":0,\"ticks\":\"\"}},\"type\":\"scatter\"}],\"scatter3d\":[{\"line\":{\"colorbar\":{\"outlinewidth\":0,\"ticks\":\"\"}},\"marker\":{\"colorbar\":{\"outlinewidth\":0,\"ticks\":\"\"}},\"type\":\"scatter3d\"}],\"scattercarpet\":[{\"marker\":{\"colorbar\":{\"outlinewidth\":0,\"ticks\":\"\"}},\"type\":\"scattercarpet\"}],\"scattergeo\":[{\"marker\":{\"colorbar\":{\"outlinewidth\":0,\"ticks\":\"\"}},\"type\":\"scattergeo\"}],\"scattergl\":[{\"marker\":{\"colorbar\":{\"outlinewidth\":0,\"ticks\":\"\"}},\"type\":\"scattergl\"}],\"scattermapbox\":[{\"marker\":{\"colorbar\":{\"outlinewidth\":0,\"ticks\":\"\"}},\"type\":\"scattermapbox\"}],\"scatterpolar\":[{\"marker\":{\"colorbar\":{\"outlinewidth\":0,\"ticks\":\"\"}},\"type\":\"scatterpolar\"}],\"scatterpolargl\":[{\"marker\":{\"colorbar\":{\"outlinewidth\":0,\"ticks\":\"\"}},\"type\":\"scatterpolargl\"}],\"scatterternary\":[{\"marker\":{\"colorbar\":{\"outlinewidth\":0,\"ticks\":\"\"}},\"type\":\"scatterternary\"}],\"surface\":[{\"colorbar\":{\"outlinewidth\":0,\"ticks\":\"\"},\"colorscale\":[[0.0,\"#0d0887\"],[0.1111111111111111,\"#46039f\"],[0.2222222222222222,\"#7201a8\"],[0.3333333333333333,\"#9c179e\"],[0.4444444444444444,\"#bd3786\"],[0.5555555555555556,\"#d8576b\"],[0.6666666666666666,\"#ed7953\"],[0.7777777777777778,\"#fb9f3a\"],[0.8888888888888888,\"#fdca26\"],[1.0,\"#f0f921\"]],\"type\":\"surface\"}],\"table\":[{\"cells\":{\"fill\":{\"color\":\"#EBF0F8\"},\"line\":{\"color\":\"white\"}},\"header\":{\"fill\":{\"color\":\"#C8D4E3\"},\"line\":{\"color\":\"white\"}},\"type\":\"table\"}]},\"layout\":{\"annotationdefaults\":{\"arrowcolor\":\"#2a3f5f\",\"arrowhead\":0,\"arrowwidth\":1},\"autotypenumbers\":\"strict\",\"coloraxis\":{\"colorbar\":{\"outlinewidth\":0,\"ticks\":\"\"}},\"colorscale\":{\"diverging\":[[0,\"#8e0152\"],[0.1,\"#c51b7d\"],[0.2,\"#de77ae\"],[0.3,\"#f1b6da\"],[0.4,\"#fde0ef\"],[0.5,\"#f7f7f7\"],[0.6,\"#e6f5d0\"],[0.7,\"#b8e186\"],[0.8,\"#7fbc41\"],[0.9,\"#4d9221\"],[1,\"#276419\"]],\"sequential\":[[0.0,\"#0d0887\"],[0.1111111111111111,\"#46039f\"],[0.2222222222222222,\"#7201a8\"],[0.3333333333333333,\"#9c179e\"],[0.4444444444444444,\"#bd3786\"],[0.5555555555555556,\"#d8576b\"],[0.6666666666666666,\"#ed7953\"],[0.7777777777777778,\"#fb9f3a\"],[0.8888888888888888,\"#fdca26\"],[1.0,\"#f0f921\"]],\"sequentialminus\":[[0.0,\"#0d0887\"],[0.1111111111111111,\"#46039f\"],[0.2222222222222222,\"#7201a8\"],[0.3333333333333333,\"#9c179e\"],[0.4444444444444444,\"#bd3786\"],[0.5555555555555556,\"#d8576b\"],[0.6666666666666666,\"#ed7953\"],[0.7777777777777778,\"#fb9f3a\"],[0.8888888888888888,\"#fdca26\"],[1.0,\"#f0f921\"]]},\"colorway\":[\"#636efa\",\"#EF553B\",\"#00cc96\",\"#ab63fa\",\"#FFA15A\",\"#19d3f3\",\"#FF6692\",\"#B6E880\",\"#FF97FF\",\"#FECB52\"],\"font\":{\"color\":\"#2a3f5f\"},\"geo\":{\"bgcolor\":\"white\",\"lakecolor\":\"white\",\"landcolor\":\"#E5ECF6\",\"showlakes\":true,\"showland\":true,\"subunitcolor\":\"white\"},\"hoverlabel\":{\"align\":\"left\"},\"hovermode\":\"closest\",\"mapbox\":{\"style\":\"light\"},\"paper_bgcolor\":\"white\",\"plot_bgcolor\":\"#E5ECF6\",\"polar\":{\"angularaxis\":{\"gridcolor\":\"white\",\"linecolor\":\"white\",\"ticks\":\"\"},\"bgcolor\":\"#E5ECF6\",\"radialaxis\":{\"gridcolor\":\"white\",\"linecolor\":\"white\",\"ticks\":\"\"}},\"scene\":{\"xaxis\":{\"backgroundcolor\":\"#E5ECF6\",\"gridcolor\":\"white\",\"gridwidth\":2,\"linecolor\":\"white\",\"showbackground\":true,\"ticks\":\"\",\"zerolinecolor\":\"white\"},\"yaxis\":{\"backgroundcolor\":\"#E5ECF6\",\"gridcolor\":\"white\",\"gridwidth\":2,\"linecolor\":\"white\",\"showbackground\":true,\"ticks\":\"\",\"zerolinecolor\":\"white\"},\"zaxis\":{\"backgroundcolor\":\"#E5ECF6\",\"gridcolor\":\"white\",\"gridwidth\":2,\"linecolor\":\"white\",\"showbackground\":true,\"ticks\":\"\",\"zerolinecolor\":\"white\"}},\"shapedefaults\":{\"line\":{\"color\":\"#2a3f5f\"}},\"ternary\":{\"aaxis\":{\"gridcolor\":\"white\",\"linecolor\":\"white\",\"ticks\":\"\"},\"baxis\":{\"gridcolor\":\"white\",\"linecolor\":\"white\",\"ticks\":\"\"},\"bgcolor\":\"#E5ECF6\",\"caxis\":{\"gridcolor\":\"white\",\"linecolor\":\"white\",\"ticks\":\"\"}},\"title\":{\"x\":0.05},\"xaxis\":{\"automargin\":true,\"gridcolor\":\"white\",\"linecolor\":\"white\",\"ticks\":\"\",\"title\":{\"standoff\":15},\"zerolinecolor\":\"white\",\"zerolinewidth\":2},\"yaxis\":{\"automargin\":true,\"gridcolor\":\"white\",\"linecolor\":\"white\",\"ticks\":\"\",\"title\":{\"standoff\":15},\"zerolinecolor\":\"white\",\"zerolinewidth\":2}}},\"title\":{\"text\":\"Attributes correlated to Superhosts\"},\"xaxis\":{\"categoryorder\":\"total descending\",\"title\":{\"text\":\"\"}},\"yaxis\":{\"ticksuffix\":\"\",\"title\":{\"text\":\"Correlation\"}}},                        {\"responsive\": true}                    ).then(function(){\n",
       "                            \n",
       "var gd = document.getElementById('ece1f210-1619-4790-adb2-0b91e33fa7ba');\n",
       "var x = new MutationObserver(function (mutations, observer) {{\n",
       "        var display = window.getComputedStyle(gd).display;\n",
       "        if (!display || display === 'none') {{\n",
       "            console.log([gd, 'removed!']);\n",
       "            Plotly.purge(gd);\n",
       "            observer.disconnect();\n",
       "        }}\n",
       "}});\n",
       "\n",
       "// Listen for the removal of the full notebook cells\n",
       "var notebookContainer = gd.closest('#notebook-container');\n",
       "if (notebookContainer) {{\n",
       "    x.observe(notebookContainer, {childList: true});\n",
       "}}\n",
       "\n",
       "// Listen for the clearing of the current output cell\n",
       "var outputEl = gd.closest('.output');\n",
       "if (outputEl) {{\n",
       "    x.observe(outputEl, {childList: true});\n",
       "}}\n",
       "\n",
       "                        })                };                });            </script>        </div>"
      ]
     },
     "metadata": {},
     "output_type": "display_data"
    }
   ],
   "source": [
    "# Take the first 10 factors\n",
    "df_superhost = df_shost_corr[['host_is_superhost']].sort_values(by=\"host_is_superhost\",ascending=False).head(10)\n",
    "\n",
    "# Rename them\n",
    "df_superhost.index = ['Number of Reviews (LTM)','Response Rate',\n",
    "                                     'Review Scores Rating','Acceptance Rate','Instant Bookable',\n",
    "                     'Review Score Cleanliness','Review Score Accuracy','Review Score Value',\n",
    "                      'Review Score Communication',\n",
    "                      'Price/Person']\n",
    "\n",
    "# Plot them using plotly\n",
    "x =df_superhost.index\n",
    "y = df_superhost['host_is_superhost']\n",
    "fig= go.Figure(data=go.Bar(x=x,y=y))\n",
    "\n",
    "fig.update_traces(marker_color='#c70505', marker_line_color='rgb(8,48,107)',\n",
    "                  marker_line_width=1.5, opacity=0.6)\n",
    "# Update Layout\n",
    "fig.update_layout(\n",
    "    title={'text':'Attributes correlated to Superhosts' },\n",
    "    xaxis=dict(\n",
    "        title='',\n",
    "    ),\n",
    "    yaxis=dict(\n",
    "        title='Correlation',\n",
    "         ticksuffix=\"\"\n",
    "    ),\n",
    "\n",
    "\n",
    "    paper_bgcolor='rgba(0,0,0,0)',\n",
    "    plot_bgcolor='rgba(0,0,0,0)',\n",
    ")\n",
    "fig.update_layout(barmode='stack', xaxis={'categoryorder':'total descending'})"
   ]
  },
  {
   "cell_type": "code",
   "execution_count": null,
   "metadata": {},
   "outputs": [],
   "source": []
  }
 ],
 "metadata": {
  "kernelspec": {
   "display_name": "Python 3",
   "language": "python",
   "name": "python3"
  },
  "language_info": {
   "codemirror_mode": {
    "name": "ipython",
    "version": 3
   },
   "file_extension": ".py",
   "mimetype": "text/x-python",
   "name": "python",
   "nbconvert_exporter": "python",
   "pygments_lexer": "ipython3",
   "version": "3.7.6"
  }
 },
 "nbformat": 4,
 "nbformat_minor": 4
}

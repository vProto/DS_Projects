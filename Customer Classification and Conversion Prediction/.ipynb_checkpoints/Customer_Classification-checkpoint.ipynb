{
 "cells": [
  {
   "cell_type": "markdown",
   "metadata": {},
   "source": [
    "# Capstone Project: Create a Customer Segmentation Report for Arvato Financial Services\n",
    "\n",
    "In this project, you will analyze demographics data for customers of a mail-order sales company in Germany, comparing it against demographics information for the general population. You'll use unsupervised learning techniques to perform customer segmentation, identifying the parts of the population that best describe the core customer base of the company. Then, you'll apply what you've learned on a third dataset with demographics information for targets of a marketing campaign for the company, and use a model to predict which individuals are most likely to convert into becoming customers for the company. The data that you will use has been provided by our partners at Bertelsmann Arvato Analytics, and represents a real-life data science task.\n",
    "\n",
    "If you completed the first term of this program, you will be familiar with the first part of this project, from the unsupervised learning project. The versions of those two datasets used in this project will include many more features and has not been pre-cleaned. You are also free to choose whatever approach you'd like to analyzing the data rather than follow pre-determined steps. In your work on this project, make sure that you carefully document your steps and decisions, since your main deliverable for this project will be a blog post reporting your findings."
   ]
  },
  {
   "cell_type": "code",
   "execution_count": 1,
   "metadata": {},
   "outputs": [],
   "source": [
    "import os\n",
    "import numpy as np\n",
    "import pandas as pd\n",
    "import matplotlib.pyplot as plt\n",
    "import plotly.graph_objects as go\n",
    "from sklearn import metrics\n",
    "from sklearn.model_selection import train_test_split\n",
    "from sklearn.ensemble import RandomForestClassifier\n",
    "from sklearn.preprocessing import StandardScaler\n",
    "from sklearn.cluster import KMeans\n",
    "from xgboost import XGBClassifier\n",
    "from sklearn.metrics import roc_auc_score\n",
    "from sklearn.feature_selection import SelectFromModel\n",
    "from xgboost import plot_importance\n",
    "import pickle\n",
    "\n",
    "import warnings\n",
    "warnings.filterwarnings('ignore')"
   ]
  },
  {
   "cell_type": "markdown",
   "metadata": {},
   "source": [
    "## Part 0: Get to Know the Data\n",
    "\n",
    "There are four data files associated with this project:\n",
    "\n",
    "- `Udacity_AZDIAS_052018.csv`: Demographics data for the general population of Germany; 891 211 persons (rows) x 366 features (columns).\n",
    "- `Udacity_CUSTOMERS_052018.csv`: Demographics data for customers of a mail-order company; 191 652 persons (rows) x 369 features (columns).\n",
    "- `Udacity_MAILOUT_052018_TRAIN.csv`: Demographics data for individuals who were targets of a marketing campaign; 42 982 persons (rows) x 367 (columns).\n",
    "- `Udacity_MAILOUT_052018_TEST.csv`: Demographics data for individuals who were targets of a marketing campaign; 42 833 persons (rows) x 366 (columns).\n",
    "\n",
    "Each row of the demographics files represents a single person, but also includes information outside of individuals, including information about their household, building, and neighborhood. Use the information from the first two files to figure out how customers (\"CUSTOMERS\") are similar to or differ from the general population at large (\"AZDIAS\"), then use your analysis to make predictions on the other two files (\"MAILOUT\"), predicting which recipients are most likely to become a customer for the mail-order company.\n",
    "\n",
    "The \"CUSTOMERS\" file contains three extra columns ('CUSTOMER_GROUP', 'ONLINE_PURCHASE', and 'PRODUCT_GROUP'), which provide broad information about the customers depicted in the file. The original \"MAILOUT\" file included one additional column, \"RESPONSE\", which indicated whether or not each recipient became a customer of the company. For the \"TRAIN\" subset, this column has been retained, but in the \"TEST\" subset it has been removed; it is against that withheld column that your final predictions will be assessed in the Kaggle competition.\n",
    "\n",
    "Otherwise, all of the remaining columns are the same between the three data files. For more information about the columns depicted in the files, you can refer to two Excel spreadsheets provided in the workspace. [One of them](./DIAS Information Levels - Attributes 2017.xlsx) is a top-level list of attributes and descriptions, organized by informational category. [The other](./DIAS Attributes - Values 2017.xlsx) is a detailed mapping of data values for each feature in alphabetical order.\n",
    "\n",
    "In the below cell, we've provided some initial code to load in the first two datasets. Note for all of the `.csv` data files in this project that they're semicolon (`;`) delimited, so an additional argument in the [`read_csv()`](https://pandas.pydata.org/pandas-docs/stable/generated/pandas.read_csv.html) call has been included to read in the data properly. Also, considering the size of the datasets, it may take some time for them to load completely.\n",
    "\n",
    "You'll notice when the data is loaded in that a warning message will immediately pop up. Before you really start digging into the modeling and analysis, you're going to need to perform some cleaning. Take some time to browse the structure of the data and look over the informational spreadsheets to understand the data values. Make some decisions on which features to keep, which features to drop, and if any revisions need to be made on data formats. It'll be a good idea to create a function with pre-processing steps, since you'll need to clean all of the datasets before you work with them."
   ]
  },
  {
   "cell_type": "markdown",
   "metadata": {},
   "source": [
    "### Data Preparation "
   ]
  },
  {
   "cell_type": "code",
   "execution_count": 2,
   "metadata": {},
   "outputs": [],
   "source": [
    "\n",
    "# Attributes Values\n",
    "data_root = 'data'\n",
    "\n",
    "# import attributes files and forward fill attribute names\n",
    "attr_val = pd.read_excel(os.path.join(data_root, 'DIAS Attributes - Values 2017.xlsx'), usecols='B:E', dtype='str').fillna(method='ffill')\n",
    "attr_val.columns = attr_val.iloc[0]\n",
    "attr_val = attr_val.iloc[1:]\n",
    "attr_val = attr_val.drop(['Description'], axis=1)\n",
    "\n",
    "# Remove _RZ from the dataframe as it creates inconsistencies with the azdias data\n",
    "attr_val['Attribute'] = attr_val['Attribute'].str.replace('_RZ', '')\n"
   ]
  },
  {
   "cell_type": "markdown",
   "metadata": {},
   "source": [
    "#### Function used:"
   ]
  },
  {
   "cell_type": "code",
   "execution_count": 3,
   "metadata": {},
   "outputs": [],
   "source": [
    "\n",
    "def convertUnknownToNan(df, attr_val):\n",
    "    '''\n",
    "    Converts unknown values (based on the attribute file given by Arvato) to NaN.\n",
    "    \n",
    "    Input:\n",
    "        - df: DataFrame we want to replace the unknown values\n",
    "        - attr_val: DataFrame from the attribute file with Meaning and Attribute columns\n",
    "        \n",
    "    Output:\n",
    "        - df: DataFrame with NaN values instead of unknown\n",
    "    '''\n",
    "    for _, row in attr_val[attr_val['Meaning'].isin(['unknown', 'unknown / no main age detectable'])].iterrows():\n",
    "        \n",
    "        key, val = row['Attribute'], dict()\n",
    "        for x in row['Value'].split(', '):\n",
    "            val[int(x)] = np.nan\n",
    "\n",
    "        if key in df.columns:\n",
    "            df = df.replace({key: val})\n",
    "    return df\n",
    "\n",
    "\n",
    "def removeNan(df, col_null_names=['ALTER_KIND1', 'ALTER_KIND2', 'ALTER_KIND3', 'ALTER_KIND4', 'KBA05_BAUMAX', 'KK_KUNDENTYP', 'TITEL_KZ', 'EINGEFUEGT_AM']):\n",
    "\n",
    "    '''\n",
    "    Removes columns with high percent of NaN values\n",
    "    \n",
    "    Input:\n",
    "        - df: DataFrame we want to remove NaN columns\n",
    "        - col_null_names: Columns with high percent of NaN values\n",
    "    \n",
    "    Output:\n",
    "        - df: DataFrame without the NaN columns\n",
    "    '''\n",
    "    \n",
    "    return df.drop(col_null_names, axis=1)\n",
    "\n",
    "\n",
    "def cleanCategorical(df, modes, create_modes=False):\n",
    "    '''\n",
    "    Fixes categorical variables by using one-hot encoding, and converting string values to numerical. \n",
    "    Detailed description is provided in the \"Data Understanding\" section below\n",
    "    \n",
    "    Input:\n",
    "        - df: \n",
    "    \n",
    "    '''\n",
    "    # replace 'X' to NaN\n",
    "    replace_dict = {'CAMEO_DEU_2015': {'XX': np.nan}, 'CAMEO_DEUG_2015': {'X': np.nan}, 'CAMEO_INTL_2015': {'XX': np.nan}}\n",
    "    for key, val in replace_dict.items():\n",
    "        if key in df.columns:\n",
    "            df = df.replace({key: val})\n",
    "\n",
    "    # CAMEO_DEU_2015\n",
    "    # Encode get dumies column\n",
    "    cam = pd.get_dummies(df['CAMEO_DEU_2015'], prefix='CAMEO_DEU_2015', dummy_na=False).astype('int64')\n",
    "    df = pd.concat([df, cam], axis=1)\n",
    "\n",
    "    # CAMEO_DEUG_2015\n",
    "    df['CAMEO_DEUG_2015'] = df['CAMEO_DEUG_2015'].map(lambda x: int(x), na_action='ignore')\n",
    "    # find modes to fill NA\n",
    "    if create_modes:\n",
    "        modes['CAMEO_DEUG_2015'] = df['CAMEO_DEUG_2015'].mode().values[0]\n",
    "        \n",
    "    # Fill NA with modes\n",
    "    df['CAMEO_DEUG_2015'] = df['CAMEO_DEUG_2015'].fillna(modes['CAMEO_DEUG_2015'])\n",
    "    df['CAMEO_DEUG_2015'] = df['CAMEO_DEUG_2015'].astype('int64')\n",
    "\n",
    "    # CAMEO_INTL_2015 will be split in two features\n",
    "    df['CAMEO_INTL_2015_1'] = df['CAMEO_INTL_2015'].map(\n",
    "        lambda x: int(int(x)/10), na_action='ignore')\n",
    "    if create_modes:\n",
    "        modes['CAMEO_INTL_2015_1'] = df['CAMEO_INTL_2015_1'].mode().values[0]\n",
    "    df['CAMEO_INTL_2015_1'] = df['CAMEO_INTL_2015_1'].fillna(modes['CAMEO_INTL_2015_1'])\n",
    "    df['CAMEO_INTL_2015_1'] = df['CAMEO_INTL_2015_1'].astype('int64')\n",
    "\n",
    "    df['CAMEO_INTL_2015_2'] = df['CAMEO_INTL_2015'].map(lambda x: int(x) % 10, na_action='ignore')\n",
    "    if create_modes:\n",
    "        modes['CAMEO_INTL_2015_2'] = df['CAMEO_INTL_2015_2'].mode().values[0]\n",
    "    df['CAMEO_INTL_2015_2'] = df['CAMEO_INTL_2015_2'].fillna(modes['CAMEO_INTL_2015_2'])\n",
    "    df['CAMEO_INTL_2015_2'] = df['CAMEO_INTL_2015_2'].astype('int64')\n",
    "\n",
    "    # D19_LETZTER_KAUF_BRANCHE\n",
    "    d19 = pd.get_dummies(df['D19_LETZTER_KAUF_BRANCHE'], prefix='D19_LETZTER_KAUF_BRANCHE', dummy_na=False)\n",
    "    d19 = d19.astype('int64')\n",
    "    df = pd.concat([df, d19], axis=1)\n",
    "\n",
    "    # OST_WEST_KZ\n",
    "    if create_modes:\n",
    "        modes['OST_WEST_KZ'] = df['OST_WEST_KZ'].mode().values[0]\n",
    "    df['OST_WEST_KZ'] = df['OST_WEST_KZ'].fillna(modes['OST_WEST_KZ'])\n",
    "    df = pd.concat([df, pd.get_dummies(df['OST_WEST_KZ'], prefix='OST_WEST_KZ', dummy_na=False)], axis=1)\n",
    "    df['OST_WEST_KZ_W'] = df['OST_WEST_KZ_W'].astype('int64')\n",
    "\n",
    "    df.drop(['CAMEO_DEU_2015', 'CAMEO_INTL_2015', 'OST_WEST_KZ','OST_WEST_KZ_O', 'D19_LETZTER_KAUF_BRANCHE'], axis=1, inplace=True)\n",
    "\n",
    "    return df, modes\n",
    "\n",
    "\n",
    "def cleanNumerical(df, modes, create_modes=False):\n",
    "    '''\n",
    "    Convert values to integers and fill NAs with modes computed by the azdias (population) data.\n",
    "    \n",
    "    Input:\n",
    "        - df: DataFrame we want to clean the numerical values\n",
    "        - modes: Dictionary with the mode of each column we want to fill\n",
    "        - create_modes: If True, create the modes dictionary. True only for the population data.\n",
    "    \n",
    "    '''\n",
    "    for col in df.select_dtypes(['int64']):\n",
    "        if col == 'RESPONSE':\n",
    "            continue\n",
    "\n",
    "        if create_modes:\n",
    "            \n",
    "            modes[col] = df[col].mode().values[0]\n",
    "        df[col] = df[col].fillna(modes[col])\n",
    "\n",
    "    for col in df.select_dtypes(['float64']):\n",
    "        if create_modes:\n",
    "            modes[col] = df[col].mode().values[0]\n",
    "        df[col] = df[col].fillna(modes[col])\n",
    "        df[col] = df[col].astype('int64')\n",
    "\n",
    "    return df, modes\n",
    "\n",
    "\n",
    "def cleanData(data_root, input_file_name, attr_val, modes, create_modes, is_customer=False):\n",
    "    '''\n",
    "    Function for data cleaning. Can be applied to all datasets.\n",
    "    \n",
    "    Input:\n",
    "        - data_root: Path of input files\n",
    "        - input_file_name: Name of file\n",
    "        - attr_val: DataFrame of attributes file provided by Arvato\n",
    "        - modes: Dictionary of modes to fill NA values\n",
    "        - create_modes: Boolean which if True will create the modes dictionary. True only for azdias (population) data\n",
    "        - is_customer: Boolean which if True specifies that the dataset is Arvato Customer specific data.\n",
    "    \n",
    "    Output:\n",
    "        - df: DataFrame which is ready for ML models\n",
    "        - modes: Dictionary with modes created if create_modes is True\n",
    "    \n",
    "    '''\n",
    "    print(\"Cleaning \"+input_file_name,\"...\")\n",
    "    # read data\n",
    "    print(\"-Importing file...\")\n",
    "    df = pd.read_csv(os.path.join(data_root, input_file_name), sep=';')\n",
    "    # set LNR to index\n",
    "    df = df.set_index(['LNR'])\n",
    "    \n",
    "    # if customer data, drop columns that do not exist in the population data\n",
    "    if is_customer:\n",
    "        df.drop(['CUSTOMER_GROUP', 'ONLINE_PURCHASE', 'PRODUCT_GROUP'], axis=1, inplace=True)\n",
    "    \n",
    "    # Convert unknown to Nan\n",
    "    print(\"-Converting Unknown to NaN...\")\n",
    "    df = convertUnknownToNan(df, attr_val)\n",
    "    \n",
    "    # Remove NaN column\n",
    "    print(\"-Removing NaN values...\")\n",
    "    df = removeNan(df)\n",
    "    \n",
    "    # Clean numerical and categorical columns\n",
    "    print(\"-Clean Numerical values\")\n",
    "    df, modes = cleanNumerical(df, modes, create_modes)\n",
    "    print(\"-Clean Categorical values\")\n",
    "    df, modes = cleanCategorical(df, modes, create_modes)\n",
    "\n",
    "    return df, modes\n",
    "\n",
    "\n",
    "\n",
    "def plot_null_counts(df,num_features_to_show=25):\n",
    "    '''\n",
    "    Plots the % of NaN values in the dataframe's columns\n",
    "    \n",
    "    Input:\n",
    "        - df: DataFrame we want to plot % of NaN values by colun\n",
    "        - num_features_to_show: Max number of columns to show\n",
    "    '''\n",
    "    \n",
    "    fe_with_null = df.columns[df.isnull().any()]\n",
    "    null_counts = df[fe_with_null].isnull().sum()\n",
    "    null_counts_perc = np.floor((null_counts*100)/len(df.index))\n",
    "    \n",
    "    (null_counts_perc.sort_values(ascending=False)[:num_features_to_show].plot(kind='bar', figsize=(20,8),fontsize=13))\n",
    "    plt.show()\n",
    "    \n",
    "\n",
    "def kmeans(df,n):\n",
    "    '''\n",
    "    kmeans algorithm for different number of clusters and plots the inertia of each cluster.\n",
    "    \n",
    "    Input:\n",
    "        - df: DataFrame we want to apply kmeans\n",
    "        - n: number of clusters\n",
    "    \n",
    "    Output:\n",
    "        - Shows plot of inertia by cluster\n",
    "        - Returns frame: DataFrame with clusters and inertia\n",
    "\n",
    "    \n",
    "    \n",
    "    '''\n",
    "    SSE = []\n",
    "\n",
    "    for cluster in range(1,n):\n",
    "        print(\"Cluster:\",cluster)\n",
    "        kmeans = KMeans( n_clusters = cluster, init='k-means++')\n",
    "        kmeans.fit(df)\n",
    "        SSE.append(kmeans.inertia_)\n",
    "\n",
    "    # converting the results into a dataframe and plotting them\n",
    "    frame = pd.DataFrame({'Cluster':range(1,n), 'SSE':SSE})\n",
    "    plt.figure(figsize=(12,6))\n",
    "    plt.plot(frame['Cluster'], frame['SSE'], marker='o')\n",
    "    plt.xlabel('Number of clusters')\n",
    "    plt.ylabel('Inertia')\n",
    "    plt.show()\n",
    "    return frame\n",
    "\n",
    "def standardize(df):\n",
    "    '''\n",
    "    Standardize features by removing the mean and scaling to unit variance.\n",
    "    \n",
    "    Input: \n",
    "        - df: DataFrame we want to standardize\n",
    "    \n",
    "    Output: \n",
    "        - df: DataFrame with standardized features\n",
    "    \n",
    "    '''\n",
    "    print(\"Standardizing values...\")\n",
    "    cols = df.columns\n",
    "    scaler = StandardScaler()\n",
    "    X = scaler.fit_transform(df)\n",
    "    df = pd.DataFrame(X,columns=cols)\n",
    "    return df"
   ]
  },
  {
   "cell_type": "markdown",
   "metadata": {},
   "source": [
    "## Data Understanding"
   ]
  },
  {
   "cell_type": "code",
   "execution_count": 4,
   "metadata": {},
   "outputs": [],
   "source": [
    "azdias = pd.read_csv(os.path.join(data_root,\"Udacity_AZDIAS_052018.csv\"),delimiter=\";\")"
   ]
  },
  {
   "cell_type": "code",
   "execution_count": 5,
   "metadata": {},
   "outputs": [],
   "source": [
    "azdias = convertUnknownToNan(azdias,attr_val)"
   ]
  },
  {
   "cell_type": "markdown",
   "metadata": {},
   "source": [
    "### Columns with NA values:\n",
    "\n",
    "As shown below there are columns that are very sparse with high % of missing values. We decide to drop the below:\n",
    "\n",
    "['ALTER_KIND1', 'ALTER_KIND2', 'ALTER_KIND3', 'ALTER_KIND4', 'KBA05_BAUMAX', 'KK_KUNDENTYP', 'TITEL_KZ']\n",
    "\n",
    "\n",
    "Also, there is a column 'EINGEFUEGT_AM' which has dates but no description in the attribute file. This column would be difficult to standardize or to encode and we think that it won't provide much information as we already have age specific columns (e.g. ALTER_HH). So we decide to drop this as well.\n",
    "\n",
    "Columns to drop:\n",
    "\n",
    "['ALTER_KIND1', 'ALTER_KIND2', 'ALTER_KIND3', 'ALTER_KIND4', 'KBA05_BAUMAX', 'KK_KUNDENTYP', 'TITEL_KZ', 'EINGEFUEGT_AM']"
   ]
  },
  {
   "cell_type": "code",
   "execution_count": 6,
   "metadata": {},
   "outputs": [
    {
     "data": {
      "image/png": "[encoded data removed]",
      "text/plain": [
       "<Figure size 1440x576 with 1 Axes>"
      ]
     },
     "metadata": {
      "needs_background": "light"
     },
     "output_type": "display_data"
    }
   ],
   "source": [
    "plot_null_counts(azdias)"
   ]
  },
  {
   "cell_type": "markdown",
   "metadata": {},
   "source": [
    "### Fixing Categorical data\n",
    "\n",
    "There are various categorical data in the dataset that we need to fix before fitting our model.\n",
    "\n",
    "\n",
    "##### CAMEO_DEU_2015\n",
    "The 'CAMEO_DEU_2015' column which specifies the family classification of the person has XX and X values.\n",
    "Because there is no specification what those columns mean, we would replace them with NaN values.\n",
    "\n",
    "Then we will one-hot encode the column with binary variables given that the order of the current values is not meaningful.\n",
    "\n",
    "##### CAMEO_DEUG_2015\n",
    "This column had numerical values but in string format. We decided to convert them to integers. There is no description provided by Arvato but we decided to keep it as we don't want to have any information loss.\n",
    "\n",
    "##### CAMEO_INTL_2015\n",
    "\n",
    "The 'CAMEO_INTL_2015' feature is a ranked numerical feature that combines two categories Wealth (Wealthy, Prosperous, etc) and Life Stage (Pre-Family, Young Family, etc). We decided to split this feature into two features. To do so, we observed that the first value specifies the Wealth and the second specifies the Life Stage.\n",
    "\n",
    "##### D19_LETZTER_KAUF_BRANCHE \n",
    "We one-hot encoded this categorical variable as well.\n",
    "\n",
    "##### OST_WEST_KZ\n",
    "Defines East/West so we converted it to binary."
   ]
  },
  {
   "cell_type": "code",
   "execution_count": 7,
   "metadata": {},
   "outputs": [
    {
     "data": {
      "text/html": [
       "<div>\n",
       "<style scoped>\n",
       "    .dataframe tbody tr th:only-of-type {\n",
       "        vertical-align: middle;\n",
       "    }\n",
       "\n",
       "    .dataframe tbody tr th {\n",
       "        vertical-align: top;\n",
       "    }\n",
       "\n",
       "    .dataframe thead th {\n",
       "        text-align: right;\n",
       "    }\n",
       "</style>\n",
       "<table border=\"1\" class=\"dataframe\">\n",
       "  <thead>\n",
       "    <tr style=\"text-align: right;\">\n",
       "      <th></th>\n",
       "      <th>CAMEO_DEU_2015</th>\n",
       "      <th>CAMEO_DEUG_2015</th>\n",
       "      <th>CAMEO_INTL_2015</th>\n",
       "      <th>D19_LETZTER_KAUF_BRANCHE</th>\n",
       "      <th>EINGEFUEGT_AM</th>\n",
       "      <th>OST_WEST_KZ</th>\n",
       "    </tr>\n",
       "  </thead>\n",
       "  <tbody>\n",
       "    <tr>\n",
       "      <th>0</th>\n",
       "      <td>NaN</td>\n",
       "      <td>NaN</td>\n",
       "      <td>NaN</td>\n",
       "      <td>NaN</td>\n",
       "      <td>NaN</td>\n",
       "      <td>NaN</td>\n",
       "    </tr>\n",
       "    <tr>\n",
       "      <th>1</th>\n",
       "      <td>8A</td>\n",
       "      <td>8.0</td>\n",
       "      <td>51.0</td>\n",
       "      <td>NaN</td>\n",
       "      <td>1992-02-10 00:00:00</td>\n",
       "      <td>W</td>\n",
       "    </tr>\n",
       "  </tbody>\n",
       "</table>\n",
       "</div>"
      ],
      "text/plain": [
       "  CAMEO_DEU_2015 CAMEO_DEUG_2015 CAMEO_INTL_2015 D19_LETZTER_KAUF_BRANCHE  \\\n",
       "0            NaN             NaN             NaN                      NaN   \n",
       "1             8A             8.0            51.0                      NaN   \n",
       "\n",
       "         EINGEFUEGT_AM OST_WEST_KZ  \n",
       "0                  NaN         NaN  \n",
       "1  1992-02-10 00:00:00           W  "
      ]
     },
     "execution_count": 7,
     "metadata": {},
     "output_type": "execute_result"
    }
   ],
   "source": [
    "# Find categorical columns\n",
    "azdias.select_dtypes(\"object\").head(2)"
   ]
  },
  {
   "cell_type": "code",
   "execution_count": 8,
   "metadata": {},
   "outputs": [],
   "source": [
    "# Explore those columns from the attribute file\n",
    "#attr_val[attr_val[\"Attribute\"] == \"CAMEO_DEU_2015\"]\n",
    "#attr_val[attr_val[\"Attribute\"] == \"CAMEO_DEUINTL_2015\"]"
   ]
  },
  {
   "cell_type": "markdown",
   "metadata": {},
   "source": [
    "### Fixing Numerical data and Imputing missing values\n",
    "\n",
    "We used modes of the population data (azdias) to fill missing values in the numerical columns of the DataFrame\n"
   ]
  },
  {
   "cell_type": "markdown",
   "metadata": {},
   "source": [
    "## Cleaning the datasets"
   ]
  },
  {
   "cell_type": "code",
   "execution_count": null,
   "metadata": {},
   "outputs": [
    {
     "name": "stdout",
     "output_type": "stream",
     "text": [
      "Cleaning Udacity_AZDIAS_052018.csv ...\n",
      "-Importing file...\n",
      "-Converting Unknown to NaN...\n",
      "-Removing NaN values...\n",
      "-Clean Numerical values\n",
      "-Calculating modes...\n",
      "-Calculating modes...\n",
      "-Calculating modes...\n",
      "-Calculating modes...\n",
      "-Calculating modes...\n",
      "-Calculating modes...\n",
      "-Calculating modes...\n",
      "-Calculating modes...\n",
      "-Calculating modes...\n",
      "-Calculating modes...\n",
      "-Calculating modes...\n",
      "-Calculating modes...\n",
      "-Calculating modes...\n",
      "-Calculating modes...\n",
      "-Calculating modes...\n",
      "-Calculating modes...\n",
      "-Calculating modes...\n",
      "-Calculating modes...\n",
      "-Calculating modes...\n",
      "-Calculating modes...\n",
      "-Calculating modes...\n",
      "-Calculating modes...\n",
      "-Calculating modes...\n",
      "-Calculating modes...\n",
      "-Calculating modes...\n",
      "-Calculating modes...\n",
      "-Calculating modes...\n",
      "-Calculating modes...\n",
      "-Calculating modes...\n",
      "-Calculating modes...\n",
      "-Calculating modes...\n",
      "-Calculating modes...\n",
      "-Calculating modes...\n",
      "-Calculating modes...\n",
      "-Calculating modes...\n",
      "-Calculating modes...\n",
      "-Calculating modes...\n",
      "-Calculating modes...\n",
      "-Calculating modes...\n",
      "-Calculating modes...\n",
      "-Calculating modes...\n",
      "-Calculating modes...\n",
      "-Calculating modes...\n",
      "-Calculating modes...\n",
      "-Calculating modes...\n",
      "-Calculating modes...\n",
      "-Calculating modes...\n",
      "-Calculating modes...\n",
      "-Calculating modes...\n",
      "-Calculating modes...\n",
      "-Calculating modes...\n",
      "-Calculating modes...\n",
      "-Calculating modes...\n",
      "-Calculating modes...\n",
      "-Calculating modes...\n",
      "-Calculating modes...\n",
      "-Calculating modes...\n",
      "-Calculating modes...\n",
      "-Calculating modes...\n",
      "-Calculating modes...\n",
      "-Calculating modes...\n",
      "-Calculating modes...\n",
      "-Calculating modes...\n",
      "-Calculating modes...\n",
      "-Calculating modes...\n",
      "-Calculating modes...\n",
      "-Calculating modes...\n",
      "-Calculating modes...\n",
      "-Calculating modes...\n",
      "-Calculating modes...\n",
      "-Calculating modes...\n",
      "-Calculating modes...\n",
      "-Calculating modes...\n",
      "-Calculating modes...\n",
      "-Calculating modes...\n",
      "-Calculating modes...\n",
      "-Calculating modes...\n",
      "-Calculating modes...\n",
      "-Calculating modes...\n",
      "-Calculating modes...\n",
      "-Calculating modes...\n",
      "-Calculating modes...\n",
      "-Calculating modes...\n",
      "-Calculating modes...\n",
      "-Calculating modes...\n",
      "-Calculating modes...\n"
     ]
    }
   ],
   "source": [
    "# Create the clean datasets\n",
    "\n",
    "modes = dict()\n",
    "azdias, modes = cleanData(data_root, 'Udacity_AZDIAS_052018.csv', attr_val, modes, create_modes=True, is_customer= False)\n",
    "customers, _ = cleanData(data_root, 'Udacity_CUSTOMERS_052018.csv', attr_val, modes, create_modes=False, is_customer=True)\n",
    "mailout_train, _ = cleanData(data_root, 'Udacity_MAILOUT_052018_TRAIN.csv', attr_val, modes, create_modes=False,is_customer= False)\n",
    "mailout_test, _ = cleanData(data_root, 'Udacity_MAILOUT_052018_TEST.csv', attr_val, modes, create_modes=False, is_customer=False)\n",
    "print(\"Clean datasets ready!\")\n"
   ]
  },
  {
   "cell_type": "markdown",
   "metadata": {},
   "source": [
    "## Part 1: Customer Segmentation Report\n",
    "\n",
    "The main bulk of your analysis will come in this part of the project. Here, you should use unsupervised learning techniques to describe the relationship between the demographics of the company's existing customers and the general population of Germany. By the end of this part, you should be able to describe parts of the general population that are more likely to be part of the mail-order company's main customer base, and which parts of the general population are less so."
   ]
  },
  {
   "cell_type": "markdown",
   "metadata": {},
   "source": [
    "### Feature Selection"
   ]
  },
  {
   "cell_type": "markdown",
   "metadata": {},
   "source": [
    "Working backwards, I want to classify the customers population. To do so I will build an unsupervised model using KMeans clustering which should be able to cluster my dataset and I should be able to see that a number of clusters significantly represents the customer population.\n",
    " \n",
    "In order to build this unsupervised model I need to reduce the dimensionality of the original dataset. The higher the number of dimensions, the less able the KMeans model is able to cluster features. Known as the ‘curse of dimensionality’. In low dimensional datasets, the closest points tend to be much closer than average, but two points are only close if they’re close in every dimension. So when there are lots of dimensions, it’s more likely that the closest points aren’t on average much closer than average.\n",
    "\n",
    "\n",
    "To reduce the number of features, I will train an xgboost classifier and leverage the feature importance instance method to identify the features between the general population and customers that explain most of the variance.\n",
    "\n",
    "To do so, I assumed that everyone in the azdias dataset is not a customer (RESPONSE=0) while we added a column in the customers dataset with RESPONSE=1. \n",
    "\n"
   ]
  },
  {
   "cell_type": "code",
   "execution_count": null,
   "metadata": {},
   "outputs": [],
   "source": [
    "# Add response columns\n",
    "azdias['RESPONSE'] = 0\n",
    "customers['RESPONSE'] = 1"
   ]
  },
  {
   "cell_type": "code",
   "execution_count": null,
   "metadata": {},
   "outputs": [],
   "source": [
    "# Concatenate the dataset\n",
    "labeled_azdias_and_customers = pd.concat([azdias,customers])\n",
    "\n",
    "y = labeled_azdias_and_customers['RESPONSE']\n",
    "X = labeled_azdias_and_customers.drop('RESPONSE',axis=1)\n",
    "\n",
    "# split data into train and test sets\n",
    "X_train, X_test, y_train, y_test = train_test_split(X, y, test_size=0.33, random_state=7)\n",
    "\n",
    "del labeled_azdias_and_customers"
   ]
  },
  {
   "cell_type": "code",
   "execution_count": null,
   "metadata": {},
   "outputs": [],
   "source": [
    "# Train an xgboost classifier\n",
    "try:\n",
    "    model = pickle.load(open(\"models/xgboost.pkl\", 'rb'))\n",
    "    print(\"Model loaded\")\n",
    "except:\n",
    "    model = XGBClassifier(use_label_encoder =False,eval_metric='logloss')\n",
    "    print(\"Fitting model\")\n",
    "    model.fit(X_train,y_train)\n",
    "    pickle.dump(model, open('models/xgboost.pkl','wb'))\n",
    "    print(\"model fit!\")\n",
    "\n"
   ]
  },
  {
   "cell_type": "code",
   "execution_count": null,
   "metadata": {},
   "outputs": [],
   "source": [
    "# Use the test set\n",
    "y_pred_prob = model.predict_proba(X_test)[:,1]\n",
    "predictions = [round(value) for value in y_pred_prob]\n",
    "auc = roc_auc_score(y_test, predictions)\n",
    "print(\"AUC: %.2f%%\" % (auc * 100.0))\n",
    "\n",
    "plot_importance(model)"
   ]
  },
  {
   "cell_type": "code",
   "execution_count": null,
   "metadata": {},
   "outputs": [],
   "source": [
    "# Get the booster from the xgbmodel\n",
    "booster = model.get_booster()\n",
    "\n",
    "# Get the importance dictionary (by gain) from the booster\n",
    "importance = booster.get_score(importance_type=\"gain\")\n",
    "\n",
    "\n",
    "# Rank by importance\n",
    "importance = {k: v for k, v in sorted(importance.items(), key=lambda item: item[1],reverse=True)}"
   ]
  },
  {
   "cell_type": "code",
   "execution_count": null,
   "metadata": {},
   "outputs": [],
   "source": [
    "# XGBOOST - Feature Selection\n",
    "# Identify the 20 most significant features\n",
    "feature_selection = list(importance.keys())[0:20]"
   ]
  },
  {
   "cell_type": "code",
   "execution_count": null,
   "metadata": {},
   "outputs": [],
   "source": [
    "# Try to refine using random forest\n",
    "try:\n",
    "    rf_feature = pickle.load(open(\"models/rf_feature.pkl\", 'rb'))\n",
    "    print(\"Model loaded\")\n",
    "except:\n",
    "    rf_feature = RandomForestClassifier()\n",
    "    print(\"Fitting model\")\n",
    "    rf_feature.fit(X_train, y_train)\n",
    "    pickle.dump(rf_feature, open('models/rf_feature.pkl','wb'))\n",
    "\n",
    "\n"
   ]
  },
  {
   "cell_type": "code",
   "execution_count": null,
   "metadata": {},
   "outputs": [],
   "source": [
    "# Test AUC score\n",
    "y_pred_prob = rf_feature.predict_proba(X_test)[:,1]\n",
    "predictions = [round(value) for value in y_pred_prob]\n",
    "auc = roc_auc_score(y_test, predictions)\n",
    "print(\"AUC: %.2f%%\" % (auc * 100.0))"
   ]
  },
  {
   "cell_type": "code",
   "execution_count": null,
   "metadata": {},
   "outputs": [],
   "source": [
    "# Find features \n",
    "embeded_rf_selector = SelectFromModel(rf_feature, max_features=20,prefit=True)\n",
    "embeded_rf_support = embeded_rf_selector.get_support()\n",
    "embeded_rf_feature = X.loc[:,embeded_rf_support].columns.tolist()\n",
    "print(str(len(embeded_rf_feature)), 'selected features')\n",
    "\n",
    "\n",
    "# Random Forest - Feature Selection\n",
    "embeded_rf_feature"
   ]
  },
  {
   "cell_type": "markdown",
   "metadata": {},
   "source": [
    "The xgboost classifier performed better in the test set compared to the random forest. So we will use this to identify the most important features. In any case, both models identified similar significant features."
   ]
  },
  {
   "cell_type": "code",
   "execution_count": null,
   "metadata": {},
   "outputs": [],
   "source": [
    "# Filter by important features to reduce dimensionality for the kmeans algorithm\n",
    "azdias_sel = azdias[feature_selection]\n",
    "customers_sel = customers[feature_selection]"
   ]
  },
  {
   "cell_type": "markdown",
   "metadata": {},
   "source": [
    "### Kmeans data preparation\n",
    "\n",
    "Kmeans needs the data to be standardized so we will leverage the StandardScaler function of sklearn for datapreprocessing.\n"
   ]
  },
  {
   "cell_type": "code",
   "execution_count": null,
   "metadata": {},
   "outputs": [],
   "source": [
    "# Standardize values to prepare for kmeans\n",
    "azdias_sel = standardize(azdias_sel)\n",
    "customers_sel = standardize(customers_sel)"
   ]
  },
  {
   "cell_type": "markdown",
   "metadata": {},
   "source": [
    "### Kmeans - optimal number of clusters\n",
    "\n",
    "To find an optimal number of clusters I used the inertia criterion and Elbow method. The inertia decreases as a function of the number of clusters and plotting the inertia against number of clusters shows the rate of change of inertia. The optimal cluster can be found at an inflection point where the rate of change sharply decreases.\n",
    "\n",
    "As shown below, there is no clear inflection point, but the most differentation between the population and the customers is seen using 6 clusters. "
   ]
  },
  {
   "cell_type": "code",
   "execution_count": null,
   "metadata": {},
   "outputs": [],
   "source": [
    "kmeans_res = kmeans(azdias_sel,10)"
   ]
  },
  {
   "cell_type": "code",
   "execution_count": null,
   "metadata": {
    "scrolled": false
   },
   "outputs": [],
   "source": [
    "# Based on the above the optimal number of clusters seem to be 6\n",
    "num_clusters =6\n",
    "kmeans = KMeans( n_clusters =num_clusters , init='k-means++')\n",
    "kmeans.fit(azdias_sel)\n"
   ]
  },
  {
   "cell_type": "code",
   "execution_count": null,
   "metadata": {},
   "outputs": [],
   "source": [
    "# Predict clusters using KMEANS\n",
    "azdias_clusters = kmeans.predict(azdias_sel)\n",
    "customer_clusters = kmeans.predict(customers_sel)"
   ]
  },
  {
   "cell_type": "code",
   "execution_count": null,
   "metadata": {},
   "outputs": [],
   "source": [
    "# Add clusters to azdias data\n",
    "azdias_sel = pd.concat([azdias_sel.reset_index(),pd.DataFrame({\"cluster\":azdias_clusters+1})],axis=1)\n",
    "azdias_sel.drop(\"index\",inplace=True,axis=1)\n",
    "\n",
    "# Add clusters to customers data\n",
    "customers_sel = pd.concat([customers_sel.reset_index(),pd.DataFrame({\"cluster\":customer_clusters+1})],axis=1)\n",
    "customers_sel.drop(\"index\",inplace=True,axis=1)\n"
   ]
  },
  {
   "cell_type": "code",
   "execution_count": null,
   "metadata": {},
   "outputs": [],
   "source": [
    "\n",
    "\n",
    "azdias_var = pd.DataFrame( {\"azdias\": (azdias_sel[\"cluster\"].value_counts()/azdias_sel.shape[0])})\n",
    "customers_var = pd.DataFrame( {\"customers\": (customers_sel[\"cluster\"].value_counts()/customers_sel.shape[0])})\n",
    "\n",
    "counts = azdias_var.join(customers_var).sort_index()\n",
    "\n",
    "del azdias_var\n",
    "del customers_var\n",
    "\n",
    "fig = go.Figure(data=[\n",
    "    go.Bar(name='azdias', x=counts.index, y=counts.azdias*100,marker_color='darkblue'),\n",
    "    go.Bar(name='customers', x=counts.index, y=counts.customers*100,marker_color='crimson'),\n",
    "    \n",
    "])\n",
    "\n",
    "fig.update_layout(barmode='group',title_text='% explained by cluster',\n",
    "                 paper_bgcolor='rgba(0,0,0,0)',\n",
    "    plot_bgcolor='rgba(0,0,0,0)',\n",
    "                 yaxis=dict(ticksuffix=\"%\"))\n",
    "\n",
    "fig.show()"
   ]
  },
  {
   "cell_type": "code",
   "execution_count": null,
   "metadata": {},
   "outputs": [],
   "source": [
    "# Add descriptions from attribute file\n",
    "descs = pd.read_excel(os.path.join(data_root, 'DIAS Attributes - Values 2017.xlsx'), usecols='B:E', dtype='str')\n",
    "descs.columns = descs.iloc[0]\n",
    "descs = descs.iloc[1:]\n",
    "descs = descs[[\"Attribute\",\"Description\"]].dropna()\n",
    "descs.head()"
   ]
  },
  {
   "cell_type": "code",
   "execution_count": null,
   "metadata": {},
   "outputs": [],
   "source": [
    "# Export comparison table of the clusters that explain the most variance\n",
    "\n",
    "# More variance explained by cluster 1,4 and 5\n",
    "dt = azdias_sel\n",
    "dt1 = customers_sel\n",
    "# Cluster 1\n",
    "comparison1 = pd.DataFrame(data={\"Population\":dt[dt.cluster==1].mean(),\n",
    "\"Customers\":dt1[dt1.cluster==1].mean()})\n",
    "comparison1 = comparison1.join(descs.set_index(\"Attribute\"))\n",
    "comparison1[\"diff\"] = comparison1[\"Customers\"]-comparison1[\"Population\"]\n",
    "comparison1 = comparison1.sort_values(\"diff\",ascending=False)\n",
    "comparison1.to_csv(\"cluster1.csv\")\n",
    "\n",
    "# Cluster 2\n",
    "comparison2 = pd.DataFrame(data={\"Population\":dt[dt.cluster==4].mean(),\n",
    "\"Customers\":dt1[dt1.cluster==4].mean()})\n",
    "comparison2 = comparison2.join(descs.set_index(\"Attribute\"))\n",
    "comparison2[\"diff\"] = comparison2[\"Customers\"]-comparison2[\"Population\"]\n",
    "comparison2 = comparison2.sort_values(\"diff\",ascending=False)\n",
    "comparison2.to_csv(\"cluster4.csv\")\n",
    "\n",
    "# Cluster 5\n",
    "comparison5 = pd.DataFrame(data={\"Population\":dt[dt.cluster==5].mean(),\n",
    "\"Customers\":dt1[dt1.cluster==5].mean()})\n",
    "comparison5 = comparison5.join(descs.set_index(\"Attribute\"))\n",
    "comparison5[\"diff\"] = comparison5[\"Customers\"]-comparison5[\"Population\"]\n",
    "comparison5 = comparison5.sort_values(\"diff\",ascending=False)\n",
    "comparison5.to_csv(\"cluster5.csv\")"
   ]
  },
  {
   "cell_type": "code",
   "execution_count": null,
   "metadata": {},
   "outputs": [],
   "source": [
    "del dt\n",
    "del dt1\n",
    "del azdias_sel\n",
    "del customers_sel"
   ]
  },
  {
   "cell_type": "markdown",
   "metadata": {},
   "source": [
    "# ADD CUSTOMER SEGMENTATION CONCLUSION"
   ]
  },
  {
   "cell_type": "markdown",
   "metadata": {},
   "source": [
    "## Part 2: Supervised Learning Model\n",
    "\n",
    "Now that you've found which parts of the population are more likely to be customers of the mail-order company, it's time to build a prediction model. Each of the rows in the \"MAILOUT\" data files represents an individual that was targeted for a mailout campaign. Ideally, we should be able to use the demographic information from each individual to decide whether or not it will be worth it to include that person in the campaign.\n",
    "\n",
    "The \"MAILOUT\" data has been split into two approximately equal parts, each with almost 43 000 data rows. In this part, you can verify your model with the \"TRAIN\" partition, which includes a column, \"RESPONSE\", that states whether or not a person became a customer of the company following the campaign. In the next part, you'll need to create predictions on the \"TEST\" partition, where the \"RESPONSE\" column has been withheld."
   ]
  },
  {
   "cell_type": "markdown",
   "metadata": {},
   "source": [
    "### Model Selection\n",
    "\n",
    "After using various iterations with different ML algorithms (xgboost classifier, random forest) we observed that training a Random Forest algorithm on the whole dataset (mailout_train and customers) gave superior prediction as it had the higher AUC score. \n",
    "\n",
    "Below we will use our final model for supervised learning and to create the Kaggle submission dataset."
   ]
  },
  {
   "cell_type": "code",
   "execution_count": null,
   "metadata": {},
   "outputs": [],
   "source": [
    "# Create training dataset\n",
    "df = pd.concat([azdias, customers], axis=0)\n",
    "del azdias\n",
    "del customers\n",
    "\n",
    "# Add the mailout_train \n",
    "df = pd.concat([df, mailout_train], axis=0)\n",
    "\n",
    "# Create X and y\n",
    "X = df.drop(['RESPONSE'], axis=1)\n",
    "y = df['RESPONSE']\n",
    "del df\n",
    "\n"
   ]
  },
  {
   "cell_type": "code",
   "execution_count": null,
   "metadata": {},
   "outputs": [],
   "source": [
    "# Train a random forest classifier\n",
    "try:\n",
    "    model_rf = pickle.load(open(\"models/rf.pkl\", 'rb'))\n",
    "    print(\"Model loaded\")\n",
    "except:\n",
    "    model_rf = RandomForestClassifier()\n",
    "    print(\"Fitting model\")\n",
    "    model_rf.fit(X, y)\n",
    "    pickle.dump(model_rf, open('models/rf.pkl','wb'))\n",
    "\n",
    "\n",
    "\n",
    "del X\n",
    "del y"
   ]
  },
  {
   "cell_type": "markdown",
   "metadata": {},
   "source": [
    "## Part 3: Kaggle Competition\n",
    "\n",
    "Now that you've created a model to predict which individuals are most likely to respond to a mailout campaign, it's time to test that model in competition through Kaggle. If you click on the link [here](http://www.kaggle.com/t/21e6d45d4c574c7fa2d868f0e8c83140), you'll be taken to the competition page where, if you have a Kaggle account, you can enter.\n",
    "\n",
    "Your entry to the competition should be a CSV file with two columns. The first column should be a copy of \"LNR\", which acts as an ID number for each individual in the \"TEST\" partition. The second column, \"RESPONSE\", should be some measure of how likely each individual became a customer – this might not be a straightforward probability. As you should have found in Part 2, there is a large output class imbalance, where most individuals did not respond to the mailout. Thus, predicting individual classes and using accuracy does not seem to be an appropriate performance evaluation method. Instead, the competition will be using AUC to evaluate performance. The exact values of the \"RESPONSE\" column do not matter as much: only that the higher values try to capture as many of the actual customers as possible, early in the ROC curve sweep."
   ]
  },
  {
   "cell_type": "code",
   "execution_count": null,
   "metadata": {},
   "outputs": [],
   "source": [
    "# Use trained model to predict response of the test data\n",
    "y_pred = model_rf.predict(mailout_test)\n",
    "y_predprob = model_rf.predict_proba(mailout_test)[:, 1]\n",
    "\n",
    "# Store in a dataframe\n",
    "result = mailout_test.index.to_frame()\n",
    "result['RESPONSE'] = y_predprob\n",
    "\n",
    "# export result\n",
    "result.to_csv(\"result.csv\",index=False)"
   ]
  },
  {
   "cell_type": "markdown",
   "metadata": {},
   "source": [
    "### Kaggle Submission \n",
    "\n",
    "As shown below the submission ranks as first out of 438 entries as of 12/26/2021.\n",
    "\n",
    "Unfortunately, the competition is closed so we cannot be featured in the leaderboard.\n",
    "\n",
    "![Kaggle Leaderboard](img/kaggle_leaderboard.png)"
   ]
  }
 ],
 "metadata": {
  "kernelspec": {
   "display_name": "Python 3 (ipykernel)",
   "language": "python",
   "name": "python3"
  },
  "language_info": {
   "codemirror_mode": {
    "name": "ipython",
    "version": 3
   },
   "file_extension": ".py",
   "mimetype": "text/x-python",
   "name": "python",
   "nbconvert_exporter": "python",
   "pygments_lexer": "ipython3",
   "version": "3.9.1"
  }
 },
 "nbformat": 4,
 "nbformat_minor": 2
}
